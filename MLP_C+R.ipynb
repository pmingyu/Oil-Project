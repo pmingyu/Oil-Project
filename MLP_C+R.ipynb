{
 "cells": [
  {
   "cell_type": "code",
   "execution_count": 1,
   "id": "b759ae38",
   "metadata": {
    "ExecuteTime": {
     "end_time": "2022-11-23T15:50:28.042151Z",
     "start_time": "2022-11-23T15:50:27.176950Z"
    }
   },
   "outputs": [
    {
     "name": "stdout",
     "output_type": "stream",
     "text": [
      "Wed Nov 23 15:50:27 2022       \n",
      "+-----------------------------------------------------------------------------+\n",
      "| NVIDIA-SMI 460.27.04    Driver Version: 460.27.04    CUDA Version: 11.2     |\n",
      "|-------------------------------+----------------------+----------------------+\n",
      "| GPU  Name        Persistence-M| Bus-Id        Disp.A | Volatile Uncorr. ECC |\n",
      "| Fan  Temp  Perf  Pwr:Usage/Cap|         Memory-Usage | GPU-Util  Compute M. |\n",
      "|                               |                      |               MIG M. |\n",
      "|===============================+======================+======================|\n",
      "|   0  GeForce RTX 208...  Off  | 00000000:3B:00.0 Off |                  N/A |\n",
      "| 30%   25C    P8     4W / 250W |   6681MiB / 11019MiB |      0%      Default |\n",
      "|                               |                      |                  N/A |\n",
      "+-------------------------------+----------------------+----------------------+\n",
      "|   1  GeForce RTX 208...  Off  | 00000000:5E:00.0 Off |                  N/A |\n",
      "| 30%   23C    P8     1W / 250W |   7809MiB / 11019MiB |      0%      Default |\n",
      "|                               |                      |                  N/A |\n",
      "+-------------------------------+----------------------+----------------------+\n",
      "|   2  GeForce RTX 208...  Off  | 00000000:AF:00.0 Off |                  N/A |\n",
      "| 30%   25C    P8    20W / 250W |   7811MiB / 11019MiB |      0%      Default |\n",
      "|                               |                      |                  N/A |\n",
      "+-------------------------------+----------------------+----------------------+\n",
      "|   3  GeForce RTX 208...  Off  | 00000000:D8:00.0 Off |                  N/A |\n",
      "| 30%   26C    P8     5W / 250W |   7498MiB / 11019MiB |      0%      Default |\n",
      "|                               |                      |                  N/A |\n",
      "+-------------------------------+----------------------+----------------------+\n",
      "                                                                               \n",
      "+-----------------------------------------------------------------------------+\n",
      "| Processes:                                                                  |\n",
      "|  GPU   GI   CI        PID   Type   Process name                  GPU Memory |\n",
      "|        ID   ID                                                   Usage      |\n",
      "|=============================================================================|\n",
      "|    1   N/A  N/A       601      C   /usr/libexec/gvfsd-metadata      1353MiB |\n",
      "+-----------------------------------------------------------------------------+\n"
     ]
    }
   ],
   "source": [
    "!nvidia-smi"
   ]
  },
  {
   "cell_type": "code",
   "execution_count": 2,
   "id": "837d18c4",
   "metadata": {
    "ExecuteTime": {
     "end_time": "2022-11-23T15:50:28.049005Z",
     "start_time": "2022-11-23T15:50:28.044776Z"
    }
   },
   "outputs": [],
   "source": [
    "import os\n",
    "os.environ[\"CUDA_VISIBLE_DEVICES\"] = \"3\""
   ]
  },
  {
   "cell_type": "code",
   "execution_count": 3,
   "id": "71052037",
   "metadata": {
    "ExecuteTime": {
     "end_time": "2022-11-23T15:50:31.498331Z",
     "start_time": "2022-11-23T15:50:28.051325Z"
    }
   },
   "outputs": [],
   "source": [
    "import tensorflow as tf\n",
    "from tensorflow import keras\n",
    "from keras.wrappers.scikit_learn import KerasClassifier, KerasRegressor\n",
    "from tensorflow.keras import layers\n",
    "from keras.layers import LeakyReLU, Dense, BatchNormalization\n",
    "\n",
    "from sklearn.metrics import f1_score, classification_report\n",
    "from sklearn.preprocessing import StandardScaler\n",
    "from sklearn.preprocessing import LabelEncoder\n",
    "from sklearn.model_selection import train_test_split\n",
    "\n",
    "import os\n",
    "import pandas as pd\n",
    "import numpy as np\n",
    "# from tqdm.auto import tqdm\n",
    "from tqdm import tqdm\n",
    "import random\n",
    "\n",
    "import warnings\n",
    "warnings.filterwarnings(action='ignore') \n",
    "\n",
    "pd.set_option('max_columns',100)\n",
    "\n",
    "# device = torch.device('cuda') if torch.cuda.is_available() else torch.device('cpu')\n",
    "# print(device)\n",
    "# print(torch.cuda.device_count())"
   ]
  },
  {
   "cell_type": "code",
   "execution_count": 4,
   "id": "05d4dacf",
   "metadata": {
    "ExecuteTime": {
     "end_time": "2022-11-23T15:50:31.502884Z",
     "start_time": "2022-11-23T15:50:31.500048Z"
    }
   },
   "outputs": [],
   "source": [
    "CONFIG = {\n",
    "    'EPOCHS': 50,\n",
    "    'LEARNING_RATE':1e-3,\n",
    "    'BATCH_SIZE':512,\n",
    "    'SEED':101\n",
    "}"
   ]
  },
  {
   "cell_type": "code",
   "execution_count": 5,
   "id": "17e24b6c",
   "metadata": {
    "ExecuteTime": {
     "end_time": "2022-11-23T15:50:31.510982Z",
     "start_time": "2022-11-23T15:50:31.504181Z"
    }
   },
   "outputs": [],
   "source": [
    "random.seed(CONFIG['SEED'])\n",
    "np.random.seed(CONFIG['SEED'])\n",
    "tf.random.set_seed(CONFIG['SEED'])"
   ]
  },
  {
   "cell_type": "code",
   "execution_count": 6,
   "id": "d3dd21bc",
   "metadata": {
    "ExecuteTime": {
     "end_time": "2022-11-23T15:50:31.617668Z",
     "start_time": "2022-11-23T15:50:31.512343Z"
    }
   },
   "outputs": [],
   "source": [
    "train = pd.read_csv('data/train.csv')\n",
    "test = pd.read_csv('data/test.csv')"
   ]
  },
  {
   "cell_type": "code",
   "execution_count": 7,
   "id": "be211f2b",
   "metadata": {
    "ExecuteTime": {
     "end_time": "2022-11-23T15:50:31.814398Z",
     "start_time": "2022-11-23T15:50:31.648721Z"
    }
   },
   "outputs": [],
   "source": [
    "def check_info(df):\n",
    "    # show dataframe for each features that we have\n",
    "    dataFeatures = []\n",
    "    dataType     = []\n",
    "    null         = []\n",
    "    nullPCT      = []\n",
    "    unique       = []\n",
    "    minValue     = []\n",
    "    maxValue     = []\n",
    "    uniqueSample = []\n",
    "\n",
    "\n",
    "    for item in list(df):\n",
    "        dataFeatures.append(item)\n",
    "\n",
    "    for item in dataFeatures:\n",
    "        dataType.append(df[item].dtype.name)\n",
    "\n",
    "    for item in dataFeatures:\n",
    "        null.append(len(df[df[item].isnull() == True]))\n",
    "\n",
    "    for item in dataFeatures:\n",
    "        nullPCT.append(round(len(df[df[item].isnull() == True])/len(df[item])*100,2))\n",
    "\n",
    "    for item in dataFeatures:\n",
    "        minValue.append(df[item].min())\n",
    "\n",
    "    for item in dataFeatures:\n",
    "        maxValue.append(df[item].max())\n",
    "\n",
    "    for item in dataFeatures:\n",
    "        unique.append(df[item].nunique())\n",
    "\n",
    "    for item in dataFeatures:\n",
    "        uniqueSample.append(df[item].unique()[0:2])\n",
    "\n",
    "    df_info = pd.DataFrame({\n",
    "        'dataFeatures' : dataFeatures,\n",
    "        'dataType' : dataType,\n",
    "        'null' : null,\n",
    "        'nullPCT':nullPCT,\n",
    "        'unique' : unique,\n",
    "        'minValue' : minValue,\n",
    "        'maxValue' : maxValue,\n",
    "        'uniqueSample':uniqueSample\n",
    "    })\n",
    "    \n",
    "    return df_info\n",
    "\n",
    "df_info = check_info(train)"
   ]
  },
  {
   "cell_type": "code",
   "execution_count": 8,
   "id": "7cfb396c",
   "metadata": {
    "ExecuteTime": {
     "end_time": "2022-11-23T15:50:31.823224Z",
     "start_time": "2022-11-23T15:50:31.816271Z"
    }
   },
   "outputs": [
    {
     "data": {
      "text/plain": [
       "['FH2O',\n",
       " 'FNOX',\n",
       " 'FOPTIMETHGLY',\n",
       " 'FOXID',\n",
       " 'FSO4',\n",
       " 'FTBN',\n",
       " 'FUEL',\n",
       " 'SOOTPERCENTAGE',\n",
       " 'U100',\n",
       " 'U75',\n",
       " 'U50',\n",
       " 'U25',\n",
       " 'U20',\n",
       " 'U14',\n",
       " 'U6',\n",
       " 'U4',\n",
       " 'V100']"
      ]
     },
     "execution_count": 8,
     "metadata": {},
     "output_type": "execute_result"
    }
   ],
   "source": [
    "percent20UP = list(df_info[df_info['nullPCT'] >= 20.0]['dataFeatures'])\n",
    "percent20UP"
   ]
  },
  {
   "cell_type": "code",
   "execution_count": 9,
   "id": "c563aa88",
   "metadata": {
    "ExecuteTime": {
     "end_time": "2022-11-23T15:50:31.850481Z",
     "start_time": "2022-11-23T15:50:31.824800Z"
    }
   },
   "outputs": [],
   "source": [
    "# get dummies\n",
    "dff = train.drop(percent20UP,axis=1)\n",
    "dff = dff.fillna(0)\n",
    "dff = pd.get_dummies(dff,columns=['COMPONENT_ARBITRARY'])\n",
    "\n",
    "\n",
    "# data split\n",
    "target = 'Y_LABEL'\n",
    "features_for_model = [f for f in list(dff) if f not in [target,'ID']]\n",
    "\n",
    "X = dff[features_for_model]\n",
    "y = dff[target]\n",
    "\n",
    "# data split\n",
    "\n",
    "X_train, X_test, y_train, y_test = train_test_split(X, y, \n",
    "                                                 test_size=0.2, \n",
    "                                                 random_state=101)"
   ]
  },
  {
   "cell_type": "code",
   "execution_count": 10,
   "id": "bdb1eba7",
   "metadata": {
    "ExecuteTime": {
     "end_time": "2022-11-23T15:50:31.855779Z",
     "start_time": "2022-11-23T15:50:31.852115Z"
    }
   },
   "outputs": [
    {
     "data": {
      "text/plain": [
       "(11276, 38)"
      ]
     },
     "execution_count": 10,
     "metadata": {},
     "output_type": "execute_result"
    }
   ],
   "source": [
    "X_train.shape"
   ]
  },
  {
   "cell_type": "code",
   "execution_count": 11,
   "id": "d64e9c66",
   "metadata": {
    "ExecuteTime": {
     "end_time": "2022-11-23T15:50:31.863777Z",
     "start_time": "2022-11-23T15:50:31.857320Z"
    }
   },
   "outputs": [],
   "source": [
    "### 함수를 이용하여 모델 만들기\n",
    "def create_baseline():\n",
    "    model = tf.keras.Sequential()\n",
    "    model.add(Dense(256,input_shape=[X_train.shape[1]], activation = 'relu'))\n",
    "    model.add(BatchNormalization())\n",
    "    model.add(Dense(512,activation='relu'))\n",
    "    model.add(BatchNormalization())\n",
    "    model.add(Dense(1024,activation='relu'))\n",
    "    model.add(BatchNormalization())\n",
    "    model.add(Dense(512,activation='relu'))\n",
    "    model.add(BatchNormalization())\n",
    "    model.add(Dense(256,activation='relu'))\n",
    "    model.add(BatchNormalization())\n",
    "    model.add(Dense(1,activation='sigmoid'))\n",
    "    model.compile(loss='binary_crossentropy', optimizer=keras.optimizers.Adam(learning_rate=CONFIG['LEARNING_RATE'])\n",
    "                  ,metrics=['accuracy'])\n",
    "    return model"
   ]
  },
  {
   "cell_type": "code",
   "execution_count": 12,
   "id": "bede4772",
   "metadata": {
    "ExecuteTime": {
     "end_time": "2022-11-23T15:50:31.869907Z",
     "start_time": "2022-11-23T15:50:31.865284Z"
    }
   },
   "outputs": [],
   "source": [
    "clf = KerasClassifier(build_fn=create_baseline, epochs=CONFIG['EPOCHS'], batch_size=CONFIG['BATCH_SIZE'], verbose=True)"
   ]
  },
  {
   "cell_type": "code",
   "execution_count": 13,
   "id": "9073c5ab",
   "metadata": {
    "ExecuteTime": {
     "end_time": "2022-11-23T15:50:31.891124Z",
     "start_time": "2022-11-23T15:50:31.871484Z"
    }
   },
   "outputs": [],
   "source": [
    "early_stop = keras.callbacks.EarlyStopping(monitor='val_loss', patience=10)"
   ]
  },
  {
   "cell_type": "code",
   "execution_count": 14,
   "id": "0518ecc3",
   "metadata": {
    "ExecuteTime": {
     "end_time": "2022-11-23T15:50:49.980791Z",
     "start_time": "2022-11-23T15:50:31.892255Z"
    }
   },
   "outputs": [
    {
     "name": "stdout",
     "output_type": "stream",
     "text": [
      "Epoch 1/50\n",
      "23/23 [==============================] - 4s 27ms/step - loss: 0.7650 - accuracy: 0.6431 - val_loss: 0.9020 - val_accuracy: 0.3512\n",
      "Epoch 2/50\n",
      "23/23 [==============================] - 0s 11ms/step - loss: 0.4838 - accuracy: 0.8599 - val_loss: 0.3470 - val_accuracy: 0.9166\n",
      "Epoch 3/50\n",
      "23/23 [==============================] - 0s 20ms/step - loss: 0.3807 - accuracy: 0.9077 - val_loss: 0.3475 - val_accuracy: 0.9106\n",
      "Epoch 4/50\n",
      "23/23 [==============================] - 0s 15ms/step - loss: 0.3098 - accuracy: 0.9198 - val_loss: 0.3290 - val_accuracy: 0.9138\n",
      "Epoch 5/50\n",
      "23/23 [==============================] - 0s 12ms/step - loss: 0.2631 - accuracy: 0.9287 - val_loss: 0.2615 - val_accuracy: 0.9198\n",
      "Epoch 6/50\n",
      "23/23 [==============================] - 0s 10ms/step - loss: 0.2392 - accuracy: 0.9331 - val_loss: 0.2502 - val_accuracy: 0.9266\n",
      "Epoch 7/50\n",
      "23/23 [==============================] - 0s 9ms/step - loss: 0.2286 - accuracy: 0.9323 - val_loss: 0.2660 - val_accuracy: 0.9273\n",
      "Epoch 8/50\n",
      "23/23 [==============================] - 0s 11ms/step - loss: 0.2160 - accuracy: 0.9371 - val_loss: 0.3503 - val_accuracy: 0.9042\n",
      "Epoch 9/50\n",
      "23/23 [==============================] - 0s 12ms/step - loss: 0.2369 - accuracy: 0.9296 - val_loss: 0.2953 - val_accuracy: 0.8890\n",
      "Epoch 10/50\n",
      "23/23 [==============================] - 0s 11ms/step - loss: 0.2065 - accuracy: 0.9410 - val_loss: 0.2753 - val_accuracy: 0.9376\n",
      "Epoch 11/50\n",
      "23/23 [==============================] - 0s 16ms/step - loss: 0.2051 - accuracy: 0.9435 - val_loss: 0.2451 - val_accuracy: 0.9369\n",
      "Epoch 12/50\n",
      "23/23 [==============================] - 0s 19ms/step - loss: 0.2122 - accuracy: 0.9401 - val_loss: 0.5815 - val_accuracy: 0.9301\n",
      "Epoch 13/50\n",
      "23/23 [==============================] - 0s 13ms/step - loss: 0.2142 - accuracy: 0.9408 - val_loss: 0.4789 - val_accuracy: 0.7921\n",
      "Epoch 14/50\n",
      "23/23 [==============================] - 1s 27ms/step - loss: 0.2094 - accuracy: 0.9393 - val_loss: 0.3095 - val_accuracy: 0.9063\n",
      "Epoch 15/50\n",
      "23/23 [==============================] - 1s 28ms/step - loss: 0.1848 - accuracy: 0.9473 - val_loss: 0.2047 - val_accuracy: 0.9454\n",
      "Epoch 16/50\n",
      "23/23 [==============================] - 0s 11ms/step - loss: 0.1940 - accuracy: 0.9440 - val_loss: 1.1505 - val_accuracy: 0.6797\n",
      "Epoch 17/50\n",
      "23/23 [==============================] - 0s 10ms/step - loss: 0.1993 - accuracy: 0.9440 - val_loss: 0.2210 - val_accuracy: 0.9411\n",
      "Epoch 18/50\n",
      "23/23 [==============================] - 0s 15ms/step - loss: 0.1832 - accuracy: 0.9487 - val_loss: 0.2133 - val_accuracy: 0.9503\n",
      "Epoch 19/50\n",
      "23/23 [==============================] - 0s 18ms/step - loss: 0.1874 - accuracy: 0.9480 - val_loss: 1.0708 - val_accuracy: 0.5520\n",
      "Epoch 20/50\n",
      "23/23 [==============================] - 0s 11ms/step - loss: 0.1942 - accuracy: 0.9426 - val_loss: 0.3340 - val_accuracy: 0.8918\n",
      "Epoch 21/50\n",
      "23/23 [==============================] - 0s 21ms/step - loss: 0.1830 - accuracy: 0.9487 - val_loss: 0.2751 - val_accuracy: 0.9081\n",
      "Epoch 22/50\n",
      "23/23 [==============================] - 0s 11ms/step - loss: 0.1795 - accuracy: 0.9487 - val_loss: 0.5933 - val_accuracy: 0.7442\n",
      "Epoch 23/50\n",
      "23/23 [==============================] - 0s 11ms/step - loss: 0.1750 - accuracy: 0.9501 - val_loss: 0.1786 - val_accuracy: 0.9539\n",
      "Epoch 24/50\n",
      "23/23 [==============================] - 0s 10ms/step - loss: 0.1746 - accuracy: 0.9500 - val_loss: 0.1901 - val_accuracy: 0.9535\n",
      "Epoch 25/50\n",
      "23/23 [==============================] - 0s 13ms/step - loss: 0.1706 - accuracy: 0.9510 - val_loss: 0.2120 - val_accuracy: 0.9330\n",
      "Epoch 26/50\n",
      "23/23 [==============================] - 0s 10ms/step - loss: 0.1860 - accuracy: 0.9458 - val_loss: 0.8773 - val_accuracy: 0.6740\n",
      "Epoch 27/50\n",
      "23/23 [==============================] - 0s 12ms/step - loss: 0.1714 - accuracy: 0.9506 - val_loss: 0.1799 - val_accuracy: 0.9525\n",
      "Epoch 28/50\n",
      "23/23 [==============================] - 0s 12ms/step - loss: 0.1785 - accuracy: 0.9496 - val_loss: 0.3755 - val_accuracy: 0.9471\n",
      "Epoch 29/50\n",
      "23/23 [==============================] - 0s 14ms/step - loss: 0.1686 - accuracy: 0.9510 - val_loss: 0.2427 - val_accuracy: 0.9436\n",
      "Epoch 30/50\n",
      "23/23 [==============================] - 0s 19ms/step - loss: 0.1747 - accuracy: 0.9487 - val_loss: 0.1931 - val_accuracy: 0.9525\n",
      "Epoch 31/50\n",
      "23/23 [==============================] - 0s 18ms/step - loss: 0.1677 - accuracy: 0.9524 - val_loss: 0.2066 - val_accuracy: 0.9528\n",
      "Epoch 32/50\n",
      "23/23 [==============================] - 0s 15ms/step - loss: 0.1736 - accuracy: 0.9502 - val_loss: 0.2098 - val_accuracy: 0.9496\n",
      "Epoch 33/50\n",
      "23/23 [==============================] - 0s 10ms/step - loss: 0.1674 - accuracy: 0.9521 - val_loss: 0.1999 - val_accuracy: 0.9510\n"
     ]
    }
   ],
   "source": [
    "history = clf.fit(X_train, y_train, epochs=CONFIG['EPOCHS'], batch_size=CONFIG['BATCH_SIZE'], validation_data=(X_test, y_test), callbacks=early_stop)"
   ]
  },
  {
   "cell_type": "code",
   "execution_count": 15,
   "id": "4cd810fa",
   "metadata": {
    "ExecuteTime": {
     "end_time": "2022-11-23T15:50:49.989818Z",
     "start_time": "2022-11-23T15:50:49.982723Z"
    }
   },
   "outputs": [],
   "source": [
    "history = history.history"
   ]
  },
  {
   "cell_type": "code",
   "execution_count": 16,
   "id": "446fa9d0",
   "metadata": {
    "ExecuteTime": {
     "end_time": "2022-11-23T15:50:50.398661Z",
     "start_time": "2022-11-23T15:50:49.991378Z"
    }
   },
   "outputs": [
    {
     "data": {
      "text/plain": [
       "(0.0, 100.0)"
      ]
     },
     "execution_count": 16,
     "metadata": {},
     "output_type": "execute_result"
    },
    {
     "data": {
      "image/png": "[encoded data removed]",
      "text/plain": [
       "<Figure size 864x576 with 1 Axes>"
      ]
     },
     "metadata": {
      "needs_background": "light"
     },
     "output_type": "display_data"
    }
   ],
   "source": [
    "import matplotlib.pyplot as plt\n",
    "\n",
    "plt.figure(figsize=(12,8))\n",
    "plt.plot(history['loss'], label = 'train_loss')\n",
    "plt.plot(history['val_loss'], label = 'test_loss')\n",
    "plt.legend()\n",
    "plt.xlim(0,100)"
   ]
  },
  {
   "cell_type": "code",
   "execution_count": 17,
   "id": "92909eae",
   "metadata": {
    "ExecuteTime": {
     "end_time": "2022-11-23T15:51:12.821109Z",
     "start_time": "2022-11-23T15:50:50.400041Z"
    }
   },
   "outputs": [
    {
     "name": "stdout",
     "output_type": "stream",
     "text": [
      "Epoch 1/50\n",
      "21/28 [=====================>........] - ETA: 0s - loss: 0.7364 - accuracy: 0.6491WARNING:tensorflow:Early stopping conditioned on metric `val_loss` which is not available. Available metrics are: loss,accuracy\n",
      "28/28 [==============================] - 2s 8ms/step - loss: 0.6878 - accuracy: 0.7011\n",
      "Epoch 2/50\n",
      "23/28 [=======================>......] - ETA: 0s - loss: 0.4480 - accuracy: 0.9020WARNING:tensorflow:Early stopping conditioned on metric `val_loss` which is not available. Available metrics are: loss,accuracy\n",
      "28/28 [==============================] - 0s 8ms/step - loss: 0.4397 - accuracy: 0.9024\n",
      "Epoch 3/50\n",
      "24/28 [========================>.....] - ETA: 0s - loss: 0.3382 - accuracy: 0.9176WARNING:tensorflow:Early stopping conditioned on metric `val_loss` which is not available. Available metrics are: loss,accuracy\n",
      "28/28 [==============================] - 0s 9ms/step - loss: 0.3319 - accuracy: 0.9190\n",
      "Epoch 4/50\n",
      "24/28 [========================>.....] - ETA: 0s - loss: 0.2720 - accuracy: 0.9291WARNING:tensorflow:Early stopping conditioned on metric `val_loss` which is not available. Available metrics are: loss,accuracy\n",
      "28/28 [==============================] - 0s 7ms/step - loss: 0.2700 - accuracy: 0.9286\n",
      "Epoch 5/50\n",
      "21/28 [=====================>........] - ETA: 0s - loss: 0.2356 - accuracy: 0.9339WARNING:tensorflow:Early stopping conditioned on metric `val_loss` which is not available. Available metrics are: loss,accuracy\n",
      "28/28 [==============================] - 0s 8ms/step - loss: 0.2331 - accuracy: 0.9335\n",
      "Epoch 6/50\n",
      "25/28 [=========================>....] - ETA: 0s - loss: 0.2111 - accuracy: 0.9389WARNING:tensorflow:Early stopping conditioned on metric `val_loss` which is not available. Available metrics are: loss,accuracy\n",
      "28/28 [==============================] - 0s 7ms/step - loss: 0.2123 - accuracy: 0.9381\n",
      "Epoch 7/50\n",
      "23/28 [=======================>......] - ETA: 0s - loss: 0.2100 - accuracy: 0.9405WARNING:tensorflow:Early stopping conditioned on metric `val_loss` which is not available. Available metrics are: loss,accuracy\n",
      "28/28 [==============================] - 0s 7ms/step - loss: 0.2076 - accuracy: 0.9413\n",
      "Epoch 8/50\n",
      "24/28 [========================>.....] - ETA: 0s - loss: 0.1927 - accuracy: 0.9453WARNING:tensorflow:Early stopping conditioned on metric `val_loss` which is not available. Available metrics are: loss,accuracy\n",
      "28/28 [==============================] - 0s 7ms/step - loss: 0.1932 - accuracy: 0.9449\n",
      "Epoch 9/50\n",
      "23/28 [=======================>......] - ETA: 0s - loss: 0.1863 - accuracy: 0.9472WARNING:tensorflow:Early stopping conditioned on metric `val_loss` which is not available. Available metrics are: loss,accuracy\n",
      "28/28 [==============================] - 0s 8ms/step - loss: 0.1846 - accuracy: 0.9486\n",
      "Epoch 10/50\n",
      "24/28 [========================>.....] - ETA: 0s - loss: 0.1816 - accuracy: 0.9490WARNING:tensorflow:Early stopping conditioned on metric `val_loss` which is not available. Available metrics are: loss,accuracy\n",
      "28/28 [==============================] - 0s 7ms/step - loss: 0.1795 - accuracy: 0.9500\n",
      "Epoch 11/50\n",
      "23/28 [=======================>......] - ETA: 0s - loss: 0.1772 - accuracy: 0.9505WARNING:tensorflow:Early stopping conditioned on metric `val_loss` which is not available. Available metrics are: loss,accuracy\n",
      "28/28 [==============================] - 0s 7ms/step - loss: 0.1791 - accuracy: 0.9503\n",
      "Epoch 12/50\n",
      "23/28 [=======================>......] - ETA: 0s - loss: 0.1793 - accuracy: 0.9490WARNING:tensorflow:Early stopping conditioned on metric `val_loss` which is not available. Available metrics are: loss,accuracy\n",
      "28/28 [==============================] - 0s 7ms/step - loss: 0.1807 - accuracy: 0.9486\n",
      "Epoch 13/50\n",
      "23/28 [=======================>......] - ETA: 0s - loss: 0.1800 - accuracy: 0.9490WARNING:tensorflow:Early stopping conditioned on metric `val_loss` which is not available. Available metrics are: loss,accuracy\n",
      "28/28 [==============================] - 0s 7ms/step - loss: 0.1802 - accuracy: 0.9491\n",
      "Epoch 14/50\n",
      "25/28 [=========================>....] - ETA: 0s - loss: 0.1769 - accuracy: 0.9502WARNING:tensorflow:Early stopping conditioned on metric `val_loss` which is not available. Available metrics are: loss,accuracy\n",
      "28/28 [==============================] - 0s 7ms/step - loss: 0.1810 - accuracy: 0.9489\n",
      "Epoch 15/50\n",
      "24/28 [========================>.....] - ETA: 0s - loss: 0.1800 - accuracy: 0.9495WARNING:tensorflow:Early stopping conditioned on metric `val_loss` which is not available. Available metrics are: loss,accuracy\n",
      "28/28 [==============================] - 0s 8ms/step - loss: 0.1774 - accuracy: 0.9504\n",
      "Epoch 16/50\n",
      "22/28 [======================>.......] - ETA: 0s - loss: 0.1736 - accuracy: 0.9508WARNING:tensorflow:Early stopping conditioned on metric `val_loss` which is not available. Available metrics are: loss,accuracy\n",
      "28/28 [==============================] - 0s 7ms/step - loss: 0.1732 - accuracy: 0.9503\n",
      "Epoch 17/50\n",
      "25/28 [=========================>....] - ETA: 0s - loss: 0.1715 - accuracy: 0.9513WARNING:tensorflow:Early stopping conditioned on metric `val_loss` which is not available. Available metrics are: loss,accuracy\n",
      "28/28 [==============================] - 0s 7ms/step - loss: 0.1720 - accuracy: 0.9512\n",
      "Epoch 18/50\n",
      "23/28 [=======================>......] - ETA: 0s - loss: 0.1645 - accuracy: 0.9536WARNING:tensorflow:Early stopping conditioned on metric `val_loss` which is not available. Available metrics are: loss,accuracy\n",
      "28/28 [==============================] - 0s 7ms/step - loss: 0.1656 - accuracy: 0.9532\n",
      "Epoch 19/50\n",
      "21/28 [=====================>........] - ETA: 0s - loss: 0.1632 - accuracy: 0.9529WARNING:tensorflow:Early stopping conditioned on metric `val_loss` which is not available. Available metrics are: loss,accuracy\n",
      "28/28 [==============================] - 0s 8ms/step - loss: 0.1655 - accuracy: 0.9524\n",
      "Epoch 20/50\n",
      "24/28 [========================>.....] - ETA: 0s - loss: 0.1642 - accuracy: 0.9524WARNING:tensorflow:Early stopping conditioned on metric `val_loss` which is not available. Available metrics are: loss,accuracy\n",
      "28/28 [==============================] - 0s 7ms/step - loss: 0.1624 - accuracy: 0.9530\n",
      "Epoch 21/50\n",
      "24/28 [========================>.....] - ETA: 0s - loss: 0.1622 - accuracy: 0.9530WARNING:tensorflow:Early stopping conditioned on metric `val_loss` which is not available. Available metrics are: loss,accuracy\n",
      "28/28 [==============================] - 0s 10ms/step - loss: 0.1633 - accuracy: 0.9525\n",
      "Epoch 22/50\n",
      "28/28 [==============================] - ETA: 0s - loss: 0.1601 - accuracy: 0.9549WARNING:tensorflow:Early stopping conditioned on metric `val_loss` which is not available. Available metrics are: loss,accuracy\n",
      "28/28 [==============================] - 0s 8ms/step - loss: 0.1601 - accuracy: 0.9549\n",
      "Epoch 23/50\n",
      "21/28 [=====================>........] - ETA: 0s - loss: 0.1586 - accuracy: 0.9539WARNING:tensorflow:Early stopping conditioned on metric `val_loss` which is not available. Available metrics are: loss,accuracy\n",
      "28/28 [==============================] - 0s 8ms/step - loss: 0.1618 - accuracy: 0.9529\n",
      "Epoch 24/50\n",
      "23/28 [=======================>......] - ETA: 0s - loss: 0.1635 - accuracy: 0.9531WARNING:tensorflow:Early stopping conditioned on metric `val_loss` which is not available. Available metrics are: loss,accuracy\n",
      "28/28 [==============================] - 0s 7ms/step - loss: 0.1639 - accuracy: 0.9532\n",
      "Epoch 25/50\n",
      "24/28 [========================>.....] - ETA: 0s - loss: 0.1626 - accuracy: 0.9519WARNING:tensorflow:Early stopping conditioned on metric `val_loss` which is not available. Available metrics are: loss,accuracy\n",
      "28/28 [==============================] - 0s 7ms/step - loss: 0.1593 - accuracy: 0.9532\n",
      "Epoch 26/50\n",
      "26/28 [==========================>...] - ETA: 0s - loss: 0.1576 - accuracy: 0.9549WARNING:tensorflow:Early stopping conditioned on metric `val_loss` which is not available. Available metrics are: loss,accuracy\n",
      "28/28 [==============================] - 0s 8ms/step - loss: 0.1579 - accuracy: 0.9549\n",
      "Epoch 27/50\n",
      "22/28 [======================>.......] - ETA: 0s - loss: 0.1538 - accuracy: 0.9559WARNING:tensorflow:Early stopping conditioned on metric `val_loss` which is not available. Available metrics are: loss,accuracy\n"
     ]
    },
    {
     "name": "stdout",
     "output_type": "stream",
     "text": [
      "28/28 [==============================] - 0s 8ms/step - loss: 0.1546 - accuracy: 0.9549\n",
      "Epoch 28/50\n",
      "22/28 [======================>.......] - ETA: 0s - loss: 0.1520 - accuracy: 0.9568WARNING:tensorflow:Early stopping conditioned on metric `val_loss` which is not available. Available metrics are: loss,accuracy\n",
      "28/28 [==============================] - 0s 8ms/step - loss: 0.1536 - accuracy: 0.9557\n",
      "Epoch 29/50\n",
      "24/28 [========================>.....] - ETA: 0s - loss: 0.1529 - accuracy: 0.9547WARNING:tensorflow:Early stopping conditioned on metric `val_loss` which is not available. Available metrics are: loss,accuracy\n",
      "28/28 [==============================] - 0s 7ms/step - loss: 0.1557 - accuracy: 0.9538\n",
      "Epoch 30/50\n",
      "23/28 [=======================>......] - ETA: 0s - loss: 0.1501 - accuracy: 0.9573WARNING:tensorflow:Early stopping conditioned on metric `val_loss` which is not available. Available metrics are: loss,accuracy\n",
      "28/28 [==============================] - 0s 7ms/step - loss: 0.1557 - accuracy: 0.9553\n",
      "Epoch 31/50\n",
      "22/28 [======================>.......] - ETA: 0s - loss: 0.1596 - accuracy: 0.9541WARNING:tensorflow:Early stopping conditioned on metric `val_loss` which is not available. Available metrics are: loss,accuracy\n",
      "28/28 [==============================] - 0s 7ms/step - loss: 0.1593 - accuracy: 0.9539\n",
      "Epoch 32/50\n",
      "28/28 [==============================] - ETA: 0s - loss: 0.1534 - accuracy: 0.9553WARNING:tensorflow:Early stopping conditioned on metric `val_loss` which is not available. Available metrics are: loss,accuracy\n",
      "28/28 [==============================] - 0s 8ms/step - loss: 0.1534 - accuracy: 0.9553\n",
      "Epoch 33/50\n",
      "25/28 [=========================>....] - ETA: 0s - loss: 0.1556 - accuracy: 0.9535WARNING:tensorflow:Early stopping conditioned on metric `val_loss` which is not available. Available metrics are: loss,accuracy\n",
      "28/28 [==============================] - 0s 9ms/step - loss: 0.1528 - accuracy: 0.9545\n",
      "Epoch 34/50\n",
      "26/28 [==========================>...] - ETA: 0s - loss: 0.1482 - accuracy: 0.9561WARNING:tensorflow:Early stopping conditioned on metric `val_loss` which is not available. Available metrics are: loss,accuracy\n",
      "28/28 [==============================] - 0s 9ms/step - loss: 0.1495 - accuracy: 0.9557\n",
      "Epoch 35/50\n",
      "28/28 [==============================] - ETA: 0s - loss: 0.1506 - accuracy: 0.9555WARNING:tensorflow:Early stopping conditioned on metric `val_loss` which is not available. Available metrics are: loss,accuracy\n",
      "28/28 [==============================] - 0s 8ms/step - loss: 0.1506 - accuracy: 0.9555\n",
      "Epoch 36/50\n",
      "21/28 [=====================>........] - ETA: 0s - loss: 0.1443 - accuracy: 0.9563WARNING:tensorflow:Early stopping conditioned on metric `val_loss` which is not available. Available metrics are: loss,accuracy\n",
      "28/28 [==============================] - 0s 8ms/step - loss: 0.1472 - accuracy: 0.9555\n",
      "Epoch 37/50\n",
      "24/28 [========================>.....] - ETA: 0s - loss: 0.1474 - accuracy: 0.9565WARNING:tensorflow:Early stopping conditioned on metric `val_loss` which is not available. Available metrics are: loss,accuracy\n",
      "28/28 [==============================] - 0s 7ms/step - loss: 0.1504 - accuracy: 0.9554\n",
      "Epoch 38/50\n",
      "22/28 [======================>.......] - ETA: 0s - loss: 0.1512 - accuracy: 0.9548WARNING:tensorflow:Early stopping conditioned on metric `val_loss` which is not available. Available metrics are: loss,accuracy\n",
      "28/28 [==============================] - 0s 8ms/step - loss: 0.1514 - accuracy: 0.9550\n",
      "Epoch 39/50\n",
      "23/28 [=======================>......] - ETA: 0s - loss: 0.1457 - accuracy: 0.9563WARNING:tensorflow:Early stopping conditioned on metric `val_loss` which is not available. Available metrics are: loss,accuracy\n",
      "28/28 [==============================] - 0s 7ms/step - loss: 0.1452 - accuracy: 0.9565\n",
      "Epoch 40/50\n",
      "28/28 [==============================] - ETA: 0s - loss: 0.1465 - accuracy: 0.9571WARNING:tensorflow:Early stopping conditioned on metric `val_loss` which is not available. Available metrics are: loss,accuracy\n",
      "28/28 [==============================] - 0s 8ms/step - loss: 0.1465 - accuracy: 0.9571\n",
      "Epoch 41/50\n",
      "23/28 [=======================>......] - ETA: 0s - loss: 0.1520 - accuracy: 0.9535WARNING:tensorflow:Early stopping conditioned on metric `val_loss` which is not available. Available metrics are: loss,accuracy\n",
      "28/28 [==============================] - 0s 8ms/step - loss: 0.1482 - accuracy: 0.9550\n",
      "Epoch 42/50\n",
      "24/28 [========================>.....] - ETA: 0s - loss: 0.1445 - accuracy: 0.9564WARNING:tensorflow:Early stopping conditioned on metric `val_loss` which is not available. Available metrics are: loss,accuracy\n",
      "28/28 [==============================] - 0s 9ms/step - loss: 0.1445 - accuracy: 0.9565\n",
      "Epoch 43/50\n",
      "23/28 [=======================>......] - ETA: 0s - loss: 0.1456 - accuracy: 0.9557WARNING:tensorflow:Early stopping conditioned on metric `val_loss` which is not available. Available metrics are: loss,accuracy\n",
      "28/28 [==============================] - 0s 7ms/step - loss: 0.1462 - accuracy: 0.9550\n",
      "Epoch 44/50\n",
      "24/28 [========================>.....] - ETA: 0s - loss: 0.1404 - accuracy: 0.9574WARNING:tensorflow:Early stopping conditioned on metric `val_loss` which is not available. Available metrics are: loss,accuracy\n",
      "28/28 [==============================] - 0s 7ms/step - loss: 0.1418 - accuracy: 0.9573\n",
      "Epoch 45/50\n",
      "26/28 [==========================>...] - ETA: 0s - loss: 0.1445 - accuracy: 0.9564WARNING:tensorflow:Early stopping conditioned on metric `val_loss` which is not available. Available metrics are: loss,accuracy\n",
      "28/28 [==============================] - 0s 9ms/step - loss: 0.1440 - accuracy: 0.9566\n",
      "Epoch 46/50\n",
      "28/28 [==============================] - ETA: 0s - loss: 0.1400 - accuracy: 0.9576WARNING:tensorflow:Early stopping conditioned on metric `val_loss` which is not available. Available metrics are: loss,accuracy\n",
      "28/28 [==============================] - 0s 8ms/step - loss: 0.1400 - accuracy: 0.9576\n",
      "Epoch 47/50\n",
      "23/28 [=======================>......] - ETA: 0s - loss: 0.1433 - accuracy: 0.9559WARNING:tensorflow:Early stopping conditioned on metric `val_loss` which is not available. Available metrics are: loss,accuracy\n",
      "28/28 [==============================] - 0s 7ms/step - loss: 0.1400 - accuracy: 0.9569\n",
      "Epoch 48/50\n",
      "24/28 [========================>.....] - ETA: 0s - loss: 0.1398 - accuracy: 0.9573WARNING:tensorflow:Early stopping conditioned on metric `val_loss` which is not available. Available metrics are: loss,accuracy\n",
      "28/28 [==============================] - 0s 7ms/step - loss: 0.1407 - accuracy: 0.9571\n",
      "Epoch 49/50\n",
      "22/28 [======================>.......] - ETA: 0s - loss: 0.1357 - accuracy: 0.9583WARNING:tensorflow:Early stopping conditioned on metric `val_loss` which is not available. Available metrics are: loss,accuracy\n",
      "28/28 [==============================] - 0s 8ms/step - loss: 0.1363 - accuracy: 0.9587\n",
      "Epoch 50/50\n",
      "23/28 [=======================>......] - ETA: 0s - loss: 0.1350 - accuracy: 0.9584WARNING:tensorflow:Early stopping conditioned on metric `val_loss` which is not available. Available metrics are: loss,accuracy\n",
      "28/28 [==============================] - 0s 7ms/step - loss: 0.1366 - accuracy: 0.9580\n"
     ]
    },
    {
     "data": {
      "text/plain": [
       "<keras.callbacks.History at 0x7fdd9c12a430>"
      ]
     },
     "execution_count": 17,
     "metadata": {},
     "output_type": "execute_result"
    }
   ],
   "source": [
    "clf.fit(X, y, epochs=CONFIG['EPOCHS'], batch_size=CONFIG['BATCH_SIZE'], callbacks=early_stop)"
   ]
  },
  {
   "cell_type": "code",
   "execution_count": 18,
   "id": "e46c716b",
   "metadata": {
    "ExecuteTime": {
     "end_time": "2022-11-23T15:51:14.246847Z",
     "start_time": "2022-11-23T15:51:12.828069Z"
    }
   },
   "outputs": [],
   "source": [
    "prediction_proba = clf.predict_proba(X)"
   ]
  },
  {
   "cell_type": "code",
   "execution_count": 19,
   "id": "b401d071",
   "metadata": {
    "ExecuteTime": {
     "end_time": "2022-11-23T15:51:14.255959Z",
     "start_time": "2022-11-23T15:51:14.248678Z"
    }
   },
   "outputs": [],
   "source": [
    "X2 = X.copy()\n",
    "y2 = y.copy()\n",
    "\n",
    "X2['proba'] = prediction_proba[:,0]"
   ]
  },
  {
   "cell_type": "code",
   "execution_count": 20,
   "id": "8d993e71",
   "metadata": {
    "ExecuteTime": {
     "end_time": "2022-11-23T15:51:14.272339Z",
     "start_time": "2022-11-23T15:51:14.258109Z"
    }
   },
   "outputs": [],
   "source": [
    "dft = test[:]\n",
    "dft = dft.fillna(0)\n",
    "dft = pd.get_dummies(dft,columns=['COMPONENT_ARBITRARY']).drop('ID',axis=1)"
   ]
  },
  {
   "cell_type": "code",
   "execution_count": 21,
   "id": "c44a08df",
   "metadata": {
    "ExecuteTime": {
     "end_time": "2022-11-23T15:51:14.275947Z",
     "start_time": "2022-11-23T15:51:14.273703Z"
    }
   },
   "outputs": [],
   "source": [
    "list_test_cols = dft.columns"
   ]
  },
  {
   "cell_type": "code",
   "execution_count": 22,
   "id": "3fda9b29",
   "metadata": {
    "ExecuteTime": {
     "end_time": "2022-11-23T15:51:14.295698Z",
     "start_time": "2022-11-23T15:51:14.284503Z"
    }
   },
   "outputs": [],
   "source": [
    "X2 = X2[list_test_cols]\n",
    "y2 = y2\n",
    "\n",
    "# data split\n",
    "from sklearn.model_selection import train_test_split\n",
    "X_train2, X_test2, y_train2, y_test2 = train_test_split(X2, y2, \n",
    "                                                 test_size=0.2, \n",
    "                                                 random_state=101)"
   ]
  },
  {
   "cell_type": "code",
   "execution_count": 23,
   "id": "a00fa8f6",
   "metadata": {
    "ExecuteTime": {
     "end_time": "2022-11-23T15:51:14.302099Z",
     "start_time": "2022-11-23T15:51:14.297283Z"
    }
   },
   "outputs": [
    {
     "data": {
      "text/plain": [
       "(11276, 21)"
      ]
     },
     "execution_count": 23,
     "metadata": {},
     "output_type": "execute_result"
    }
   ],
   "source": [
    "X_train2.shape"
   ]
  },
  {
   "cell_type": "code",
   "execution_count": 24,
   "id": "d262b629",
   "metadata": {
    "ExecuteTime": {
     "end_time": "2022-11-23T15:51:14.316380Z",
     "start_time": "2022-11-23T15:51:14.305044Z"
    }
   },
   "outputs": [],
   "source": [
    "### 함수를 이용하여 모델 만들기\n",
    "def create_baseline2():\n",
    "    model = tf.keras.Sequential()\n",
    "    model.add(Dense(128,input_shape=[X_train2.shape[1]], activation = 'relu'))\n",
    "    model.add(BatchNormalization())\n",
    "    model.add(Dense(256,activation='relu'))\n",
    "    model.add(BatchNormalization())\n",
    "    model.add(Dense(128,activation='relu'))\n",
    "    model.add(BatchNormalization())\n",
    "    model.add(Dense(1,activation='sigmoid'))\n",
    "\n",
    "    model.compile(loss='binary_crossentropy', optimizer=keras.optimizers.Adam(learning_rate=CONFIG['LEARNING_RATE'])\n",
    "                  ,metrics=['accuracy'])\n",
    "    return model"
   ]
  },
  {
   "cell_type": "code",
   "execution_count": 25,
   "id": "01924f4a",
   "metadata": {
    "ExecuteTime": {
     "end_time": "2022-11-23T15:51:23.627543Z",
     "start_time": "2022-11-23T15:51:14.318011Z"
    }
   },
   "outputs": [
    {
     "name": "stdout",
     "output_type": "stream",
     "text": [
      "Epoch 1/50\n",
      "23/23 [==============================] - 2s 23ms/step - loss: 0.6698 - accuracy: 0.6362 - val_loss: 0.8332 - val_accuracy: 0.6339\n",
      "Epoch 2/50\n",
      "23/23 [==============================] - 1s 24ms/step - loss: 0.5352 - accuracy: 0.8692 - val_loss: 0.5097 - val_accuracy: 0.7801\n",
      "Epoch 3/50\n",
      "23/23 [==============================] - 0s 17ms/step - loss: 0.4403 - accuracy: 0.9056 - val_loss: 0.4186 - val_accuracy: 0.9142\n",
      "Epoch 4/50\n",
      "23/23 [==============================] - 0s 15ms/step - loss: 0.3731 - accuracy: 0.9108 - val_loss: 0.3499 - val_accuracy: 0.9120\n",
      "Epoch 5/50\n",
      "23/23 [==============================] - 0s 9ms/step - loss: 0.3269 - accuracy: 0.9144 - val_loss: 0.3244 - val_accuracy: 0.9117\n",
      "Epoch 6/50\n",
      "23/23 [==============================] - 0s 9ms/step - loss: 0.3054 - accuracy: 0.9126 - val_loss: 0.2948 - val_accuracy: 0.9149\n",
      "Epoch 7/50\n",
      "23/23 [==============================] - 0s 10ms/step - loss: 0.2909 - accuracy: 0.9138 - val_loss: 0.2926 - val_accuracy: 0.9131\n",
      "Epoch 8/50\n",
      "23/23 [==============================] - 0s 8ms/step - loss: 0.2845 - accuracy: 0.9148 - val_loss: 0.2942 - val_accuracy: 0.9159\n",
      "Epoch 9/50\n",
      "23/23 [==============================] - 0s 7ms/step - loss: 0.2892 - accuracy: 0.9144 - val_loss: 0.3026 - val_accuracy: 0.9159\n",
      "Epoch 10/50\n",
      "23/23 [==============================] - 0s 14ms/step - loss: 0.2859 - accuracy: 0.9140 - val_loss: 0.2956 - val_accuracy: 0.9163\n",
      "Epoch 11/50\n",
      "23/23 [==============================] - 0s 11ms/step - loss: 0.2889 - accuracy: 0.9141 - val_loss: 0.3083 - val_accuracy: 0.9163\n",
      "Epoch 12/50\n",
      "23/23 [==============================] - 0s 12ms/step - loss: 0.2833 - accuracy: 0.9142 - val_loss: 0.3028 - val_accuracy: 0.9142\n",
      "Epoch 13/50\n",
      "23/23 [==============================] - 0s 15ms/step - loss: 0.2924 - accuracy: 0.9102 - val_loss: 0.3091 - val_accuracy: 0.9163\n",
      "Epoch 14/50\n",
      "23/23 [==============================] - 0s 16ms/step - loss: 0.2888 - accuracy: 0.9138 - val_loss: 0.2959 - val_accuracy: 0.9163\n",
      "Epoch 15/50\n",
      "23/23 [==============================] - 0s 11ms/step - loss: 0.2801 - accuracy: 0.9145 - val_loss: 0.2939 - val_accuracy: 0.9163\n",
      "Epoch 16/50\n",
      "23/23 [==============================] - 0s 9ms/step - loss: 0.2805 - accuracy: 0.9142 - val_loss: 0.2961 - val_accuracy: 0.9163\n",
      "Epoch 17/50\n",
      "23/23 [==============================] - 0s 8ms/step - loss: 0.2791 - accuracy: 0.9143 - val_loss: 0.2917 - val_accuracy: 0.9163\n",
      "Epoch 18/50\n",
      "23/23 [==============================] - 0s 12ms/step - loss: 0.2773 - accuracy: 0.9150 - val_loss: 0.2957 - val_accuracy: 0.9163\n",
      "Epoch 19/50\n",
      "23/23 [==============================] - 0s 13ms/step - loss: 0.2766 - accuracy: 0.9151 - val_loss: 0.2948 - val_accuracy: 0.9166\n",
      "Epoch 20/50\n",
      "23/23 [==============================] - 0s 13ms/step - loss: 0.2773 - accuracy: 0.9150 - val_loss: 0.2925 - val_accuracy: 0.9159\n",
      "Epoch 21/50\n",
      "23/23 [==============================] - 0s 18ms/step - loss: 0.2761 - accuracy: 0.9148 - val_loss: 0.2930 - val_accuracy: 0.9166\n",
      "Epoch 22/50\n",
      "23/23 [==============================] - 0s 16ms/step - loss: 0.2754 - accuracy: 0.9152 - val_loss: 0.2981 - val_accuracy: 0.9166\n",
      "Epoch 23/50\n",
      "23/23 [==============================] - 0s 11ms/step - loss: 0.2767 - accuracy: 0.9151 - val_loss: 0.2933 - val_accuracy: 0.9163\n",
      "Epoch 24/50\n",
      "23/23 [==============================] - 0s 10ms/step - loss: 0.2782 - accuracy: 0.9147 - val_loss: 0.2952 - val_accuracy: 0.9163\n",
      "Epoch 25/50\n",
      "23/23 [==============================] - 0s 9ms/step - loss: 0.2786 - accuracy: 0.9146 - val_loss: 0.2965 - val_accuracy: 0.9145\n",
      "Epoch 26/50\n",
      "23/23 [==============================] - 0s 13ms/step - loss: 0.2767 - accuracy: 0.9141 - val_loss: 0.3016 - val_accuracy: 0.9163\n",
      "Epoch 27/50\n",
      "23/23 [==============================] - 0s 18ms/step - loss: 0.2779 - accuracy: 0.9150 - val_loss: 0.2969 - val_accuracy: 0.9149\n"
     ]
    }
   ],
   "source": [
    "rg = KerasRegressor(build_fn=create_baseline2, epochs=CONFIG['EPOCHS'], batch_size=CONFIG['BATCH_SIZE'], verbose=True)\n",
    "early_stop = keras.callbacks.EarlyStopping(monitor='val_loss', patience=10)\n",
    "history = rg.fit(X_train2, y_train2, epochs=CONFIG['EPOCHS'], batch_size=CONFIG['BATCH_SIZE'], validation_data=(X_test2, y_test2), callbacks=early_stop)"
   ]
  },
  {
   "cell_type": "code",
   "execution_count": 26,
   "id": "0836f90c",
   "metadata": {
    "ExecuteTime": {
     "end_time": "2022-11-23T15:51:35.245586Z",
     "start_time": "2022-11-23T15:51:23.630000Z"
    }
   },
   "outputs": [
    {
     "name": "stdout",
     "output_type": "stream",
     "text": [
      "Epoch 1/50\n",
      "27/28 [===========================>..] - ETA: 0s - loss: 0.6504 - accuracy: 0.6876WARNING:tensorflow:Early stopping conditioned on metric `val_loss` which is not available. Available metrics are: loss,accuracy\n",
      "28/28 [==============================] - 1s 6ms/step - loss: 0.6483 - accuracy: 0.6917\n",
      "Epoch 2/50\n",
      "20/28 [====================>.........] - ETA: 0s - loss: 0.5057 - accuracy: 0.8943WARNING:tensorflow:Early stopping conditioned on metric `val_loss` which is not available. Available metrics are: loss,accuracy\n",
      "28/28 [==============================] - 0s 5ms/step - loss: 0.4916 - accuracy: 0.8966\n",
      "Epoch 3/50\n",
      "22/28 [======================>.......] - ETA: 0s - loss: 0.4031 - accuracy: 0.9073WARNING:tensorflow:Early stopping conditioned on metric `val_loss` which is not available. Available metrics are: loss,accuracy\n",
      "28/28 [==============================] - 0s 5ms/step - loss: 0.3951 - accuracy: 0.9093\n",
      "Epoch 4/50\n",
      "21/28 [=====================>........] - ETA: 0s - loss: 0.3367 - accuracy: 0.9133WARNING:tensorflow:Early stopping conditioned on metric `val_loss` which is not available. Available metrics are: loss,accuracy\n",
      "28/28 [==============================] - 0s 5ms/step - loss: 0.3325 - accuracy: 0.9127\n",
      "Epoch 5/50\n",
      "23/28 [=======================>......] - ETA: 0s - loss: 0.3030 - accuracy: 0.9146WARNING:tensorflow:Early stopping conditioned on metric `val_loss` which is not available. Available metrics are: loss,accuracy\n",
      "28/28 [==============================] - 0s 5ms/step - loss: 0.3027 - accuracy: 0.9142\n",
      "Epoch 6/50\n",
      "24/28 [========================>.....] - ETA: 0s - loss: 0.2884 - accuracy: 0.9151WARNING:tensorflow:Early stopping conditioned on metric `val_loss` which is not available. Available metrics are: loss,accuracy\n",
      "28/28 [==============================] - 0s 5ms/step - loss: 0.2893 - accuracy: 0.9142\n",
      "Epoch 7/50\n",
      "22/28 [======================>.......] - ETA: 0s - loss: 0.2869 - accuracy: 0.9136WARNING:tensorflow:Early stopping conditioned on metric `val_loss` which is not available. Available metrics are: loss,accuracy\n",
      "28/28 [==============================] - 0s 5ms/step - loss: 0.2850 - accuracy: 0.9146\n",
      "Epoch 8/50\n",
      "22/28 [======================>.......] - ETA: 0s - loss: 0.2830 - accuracy: 0.9144WARNING:tensorflow:Early stopping conditioned on metric `val_loss` which is not available. Available metrics are: loss,accuracy\n",
      "28/28 [==============================] - 0s 5ms/step - loss: 0.2819 - accuracy: 0.9147\n",
      "Epoch 9/50\n",
      "23/28 [=======================>......] - ETA: 0s - loss: 0.2791 - accuracy: 0.9147WARNING:tensorflow:Early stopping conditioned on metric `val_loss` which is not available. Available metrics are: loss,accuracy\n",
      "28/28 [==============================] - 0s 5ms/step - loss: 0.2813 - accuracy: 0.9145\n",
      "Epoch 10/50\n",
      "24/28 [========================>.....] - ETA: 0s - loss: 0.2826 - accuracy: 0.9143WARNING:tensorflow:Early stopping conditioned on metric `val_loss` which is not available. Available metrics are: loss,accuracy\n",
      "28/28 [==============================] - 0s 5ms/step - loss: 0.2811 - accuracy: 0.9151\n",
      "Epoch 11/50\n",
      "23/28 [=======================>......] - ETA: 0s - loss: 0.2800 - accuracy: 0.9148WARNING:tensorflow:Early stopping conditioned on metric `val_loss` which is not available. Available metrics are: loss,accuracy\n",
      "28/28 [==============================] - 0s 5ms/step - loss: 0.2809 - accuracy: 0.9145\n",
      "Epoch 12/50\n",
      "25/28 [=========================>....] - ETA: 0s - loss: 0.2764 - accuracy: 0.9159WARNING:tensorflow:Early stopping conditioned on metric `val_loss` which is not available. Available metrics are: loss,accuracy\n",
      "28/28 [==============================] - 0s 4ms/step - loss: 0.2780 - accuracy: 0.9154\n",
      "Epoch 13/50\n",
      "23/28 [=======================>......] - ETA: 0s - loss: 0.2788 - accuracy: 0.9143WARNING:tensorflow:Early stopping conditioned on metric `val_loss` which is not available. Available metrics are: loss,accuracy\n",
      "28/28 [==============================] - 0s 5ms/step - loss: 0.2784 - accuracy: 0.9150\n",
      "Epoch 14/50\n",
      "23/28 [=======================>......] - ETA: 0s - loss: 0.2777 - accuracy: 0.9159WARNING:tensorflow:Early stopping conditioned on metric `val_loss` which is not available. Available metrics are: loss,accuracy\n",
      "28/28 [==============================] - 0s 5ms/step - loss: 0.2812 - accuracy: 0.9144\n",
      "Epoch 15/50\n",
      "21/28 [=====================>........] - ETA: 0s - loss: 0.2779 - accuracy: 0.9144WARNING:tensorflow:Early stopping conditioned on metric `val_loss` which is not available. Available metrics are: loss,accuracy\n",
      "28/28 [==============================] - 0s 5ms/step - loss: 0.2791 - accuracy: 0.9145\n",
      "Epoch 16/50\n",
      "28/28 [==============================] - ETA: 0s - loss: 0.2797 - accuracy: 0.9148WARNING:tensorflow:Early stopping conditioned on metric `val_loss` which is not available. Available metrics are: loss,accuracy\n",
      "28/28 [==============================] - 0s 6ms/step - loss: 0.2797 - accuracy: 0.9148\n",
      "Epoch 17/50\n",
      "22/28 [======================>.......] - ETA: 0s - loss: 0.2735 - accuracy: 0.9165WARNING:tensorflow:Early stopping conditioned on metric `val_loss` which is not available. Available metrics are: loss,accuracy\n",
      "28/28 [==============================] - 0s 5ms/step - loss: 0.2778 - accuracy: 0.9149\n",
      "Epoch 18/50\n",
      "23/28 [=======================>......] - ETA: 0s - loss: 0.2787 - accuracy: 0.9144WARNING:tensorflow:Early stopping conditioned on metric `val_loss` which is not available. Available metrics are: loss,accuracy\n",
      "28/28 [==============================] - 0s 5ms/step - loss: 0.2766 - accuracy: 0.9149\n",
      "Epoch 19/50\n",
      "21/28 [=====================>........] - ETA: 0s - loss: 0.2755 - accuracy: 0.9153WARNING:tensorflow:Early stopping conditioned on metric `val_loss` which is not available. Available metrics are: loss,accuracy\n",
      "28/28 [==============================] - 0s 5ms/step - loss: 0.2766 - accuracy: 0.9151\n",
      "Epoch 20/50\n",
      "21/28 [=====================>........] - ETA: 0s - loss: 0.2754 - accuracy: 0.9153WARNING:tensorflow:Early stopping conditioned on metric `val_loss` which is not available. Available metrics are: loss,accuracy\n",
      "28/28 [==============================] - 0s 5ms/step - loss: 0.2757 - accuracy: 0.9154\n",
      "Epoch 21/50\n",
      "23/28 [=======================>......] - ETA: 0s - loss: 0.2748 - accuracy: 0.9155WARNING:tensorflow:Early stopping conditioned on metric `val_loss` which is not available. Available metrics are: loss,accuracy\n",
      "28/28 [==============================] - 0s 5ms/step - loss: 0.2768 - accuracy: 0.9149\n",
      "Epoch 22/50\n",
      "23/28 [=======================>......] - ETA: 0s - loss: 0.2756 - accuracy: 0.9150WARNING:tensorflow:Early stopping conditioned on metric `val_loss` which is not available. Available metrics are: loss,accuracy\n",
      "28/28 [==============================] - 0s 5ms/step - loss: 0.2761 - accuracy: 0.9147\n",
      "Epoch 23/50\n",
      "24/28 [========================>.....] - ETA: 0s - loss: 0.2734 - accuracy: 0.9166WARNING:tensorflow:Early stopping conditioned on metric `val_loss` which is not available. Available metrics are: loss,accuracy\n",
      "28/28 [==============================] - 0s 5ms/step - loss: 0.2757 - accuracy: 0.9156\n",
      "Epoch 24/50\n",
      "19/28 [===================>..........] - ETA: 0s - loss: 0.2759 - accuracy: 0.9156WARNING:tensorflow:Early stopping conditioned on metric `val_loss` which is not available. Available metrics are: loss,accuracy\n",
      "28/28 [==============================] - 0s 6ms/step - loss: 0.2791 - accuracy: 0.9143\n",
      "Epoch 25/50\n",
      "19/28 [===================>..........] - ETA: 0s - loss: 0.2785 - accuracy: 0.9134WARNING:tensorflow:Early stopping conditioned on metric `val_loss` which is not available. Available metrics are: loss,accuracy\n",
      "28/28 [==============================] - 0s 6ms/step - loss: 0.2754 - accuracy: 0.9152\n",
      "Epoch 26/50\n",
      "21/28 [=====================>........] - ETA: 0s - loss: 0.2795 - accuracy: 0.9136WARNING:tensorflow:Early stopping conditioned on metric `val_loss` which is not available. Available metrics are: loss,accuracy\n",
      "28/28 [==============================] - 0s 5ms/step - loss: 0.2759 - accuracy: 0.9149\n",
      "Epoch 27/50\n",
      "18/28 [==================>...........] - ETA: 0s - loss: 0.2695 - accuracy: 0.9176WARNING:tensorflow:Early stopping conditioned on metric `val_loss` which is not available. Available metrics are: loss,accuracy\n"
     ]
    },
    {
     "name": "stdout",
     "output_type": "stream",
     "text": [
      "28/28 [==============================] - 0s 6ms/step - loss: 0.2753 - accuracy: 0.9156\n",
      "Epoch 28/50\n",
      "27/28 [===========================>..] - ETA: 0s - loss: 0.2772 - accuracy: 0.9146WARNING:tensorflow:Early stopping conditioned on metric `val_loss` which is not available. Available metrics are: loss,accuracy\n",
      "28/28 [==============================] - 0s 6ms/step - loss: 0.2759 - accuracy: 0.9151\n",
      "Epoch 29/50\n",
      "26/28 [==========================>...] - ETA: 0s - loss: 0.2734 - accuracy: 0.9155WARNING:tensorflow:Early stopping conditioned on metric `val_loss` which is not available. Available metrics are: loss,accuracy\n",
      "28/28 [==============================] - 0s 6ms/step - loss: 0.2744 - accuracy: 0.9151\n",
      "Epoch 30/50\n",
      "21/28 [=====================>........] - ETA: 0s - loss: 0.2767 - accuracy: 0.9144WARNING:tensorflow:Early stopping conditioned on metric `val_loss` which is not available. Available metrics are: loss,accuracy\n",
      "28/28 [==============================] - 0s 6ms/step - loss: 0.2758 - accuracy: 0.9151\n",
      "Epoch 31/50\n",
      "28/28 [==============================] - ETA: 0s - loss: 0.2734 - accuracy: 0.9154WARNING:tensorflow:Early stopping conditioned on metric `val_loss` which is not available. Available metrics are: loss,accuracy\n",
      "28/28 [==============================] - 0s 6ms/step - loss: 0.2734 - accuracy: 0.9154\n",
      "Epoch 32/50\n",
      "19/28 [===================>..........] - ETA: 0s - loss: 0.2667 - accuracy: 0.9191WARNING:tensorflow:Early stopping conditioned on metric `val_loss` which is not available. Available metrics are: loss,accuracy\n",
      "28/28 [==============================] - 0s 6ms/step - loss: 0.2746 - accuracy: 0.9156\n",
      "Epoch 33/50\n",
      "20/28 [====================>.........] - ETA: 0s - loss: 0.2693 - accuracy: 0.9177WARNING:tensorflow:Early stopping conditioned on metric `val_loss` which is not available. Available metrics are: loss,accuracy\n",
      "28/28 [==============================] - 0s 6ms/step - loss: 0.2730 - accuracy: 0.9156\n",
      "Epoch 34/50\n",
      "25/28 [=========================>....] - ETA: 0s - loss: 0.2731 - accuracy: 0.9155WARNING:tensorflow:Early stopping conditioned on metric `val_loss` which is not available. Available metrics are: loss,accuracy\n",
      "28/28 [==============================] - 0s 7ms/step - loss: 0.2728 - accuracy: 0.9156\n",
      "Epoch 35/50\n",
      "28/28 [==============================] - ETA: 0s - loss: 0.2724 - accuracy: 0.9156WARNING:tensorflow:Early stopping conditioned on metric `val_loss` which is not available. Available metrics are: loss,accuracy\n",
      "28/28 [==============================] - 0s 6ms/step - loss: 0.2724 - accuracy: 0.9156\n",
      "Epoch 36/50\n",
      "21/28 [=====================>........] - ETA: 0s - loss: 0.2773 - accuracy: 0.9138WARNING:tensorflow:Early stopping conditioned on metric `val_loss` which is not available. Available metrics are: loss,accuracy\n",
      "28/28 [==============================] - 0s 5ms/step - loss: 0.2737 - accuracy: 0.9156\n",
      "Epoch 37/50\n",
      "27/28 [===========================>..] - ETA: 0s - loss: 0.2710 - accuracy: 0.9152WARNING:tensorflow:Early stopping conditioned on metric `val_loss` which is not available. Available metrics are: loss,accuracy\n",
      "28/28 [==============================] - 0s 8ms/step - loss: 0.2711 - accuracy: 0.9151\n",
      "Epoch 38/50\n",
      "26/28 [==========================>...] - ETA: 0s - loss: 0.2710 - accuracy: 0.9156WARNING:tensorflow:Early stopping conditioned on metric `val_loss` which is not available. Available metrics are: loss,accuracy\n",
      "28/28 [==============================] - 0s 7ms/step - loss: 0.2728 - accuracy: 0.9151\n",
      "Epoch 39/50\n",
      "25/28 [=========================>....] - ETA: 0s - loss: 0.2714 - accuracy: 0.9153WARNING:tensorflow:Early stopping conditioned on metric `val_loss` which is not available. Available metrics are: loss,accuracy\n",
      "28/28 [==============================] - 0s 7ms/step - loss: 0.2724 - accuracy: 0.9152\n",
      "Epoch 40/50\n",
      "28/28 [==============================] - ETA: 0s - loss: 0.2711 - accuracy: 0.9156WARNING:tensorflow:Early stopping conditioned on metric `val_loss` which is not available. Available metrics are: loss,accuracy\n",
      "28/28 [==============================] - 0s 7ms/step - loss: 0.2711 - accuracy: 0.9156\n",
      "Epoch 41/50\n",
      "22/28 [======================>.......] - ETA: 0s - loss: 0.2776 - accuracy: 0.9138WARNING:tensorflow:Early stopping conditioned on metric `val_loss` which is not available. Available metrics are: loss,accuracy\n",
      "28/28 [==============================] - 0s 5ms/step - loss: 0.2727 - accuracy: 0.9156\n",
      "Epoch 42/50\n",
      "21/28 [=====================>........] - ETA: 0s - loss: 0.2714 - accuracy: 0.9151WARNING:tensorflow:Early stopping conditioned on metric `val_loss` which is not available. Available metrics are: loss,accuracy\n",
      "28/28 [==============================] - 0s 5ms/step - loss: 0.2698 - accuracy: 0.9158\n",
      "Epoch 43/50\n",
      "21/28 [=====================>........] - ETA: 0s - loss: 0.2734 - accuracy: 0.9150WARNING:tensorflow:Early stopping conditioned on metric `val_loss` which is not available. Available metrics are: loss,accuracy\n",
      "28/28 [==============================] - 0s 6ms/step - loss: 0.2712 - accuracy: 0.9160\n",
      "Epoch 44/50\n",
      "21/28 [=====================>........] - ETA: 0s - loss: 0.2701 - accuracy: 0.9156WARNING:tensorflow:Early stopping conditioned on metric `val_loss` which is not available. Available metrics are: loss,accuracy\n",
      "28/28 [==============================] - 0s 6ms/step - loss: 0.2701 - accuracy: 0.9163\n",
      "Epoch 45/50\n",
      "22/28 [======================>.......] - ETA: 0s - loss: 0.2727 - accuracy: 0.9148WARNING:tensorflow:Early stopping conditioned on metric `val_loss` which is not available. Available metrics are: loss,accuracy\n",
      "28/28 [==============================] - 0s 5ms/step - loss: 0.2722 - accuracy: 0.9153\n",
      "Epoch 46/50\n",
      "28/28 [==============================] - ETA: 0s - loss: 0.2698 - accuracy: 0.9162WARNING:tensorflow:Early stopping conditioned on metric `val_loss` which is not available. Available metrics are: loss,accuracy\n",
      "28/28 [==============================] - 0s 6ms/step - loss: 0.2698 - accuracy: 0.9162\n",
      "Epoch 47/50\n",
      "26/28 [==========================>...] - ETA: 0s - loss: 0.2716 - accuracy: 0.9152WARNING:tensorflow:Early stopping conditioned on metric `val_loss` which is not available. Available metrics are: loss,accuracy\n",
      "28/28 [==============================] - 0s 7ms/step - loss: 0.2696 - accuracy: 0.9159\n",
      "Epoch 48/50\n",
      "28/28 [==============================] - ETA: 0s - loss: 0.2689 - accuracy: 0.9166WARNING:tensorflow:Early stopping conditioned on metric `val_loss` which is not available. Available metrics are: loss,accuracy\n",
      "28/28 [==============================] - 0s 6ms/step - loss: 0.2689 - accuracy: 0.9166\n",
      "Epoch 49/50\n",
      "24/28 [========================>.....] - ETA: 0s - loss: 0.2665 - accuracy: 0.9160WARNING:tensorflow:Early stopping conditioned on metric `val_loss` which is not available. Available metrics are: loss,accuracy\n",
      "28/28 [==============================] - 0s 5ms/step - loss: 0.2679 - accuracy: 0.9156\n",
      "Epoch 50/50\n",
      "24/28 [========================>.....] - ETA: 0s - loss: 0.2661 - accuracy: 0.9163WARNING:tensorflow:Early stopping conditioned on metric `val_loss` which is not available. Available metrics are: loss,accuracy\n",
      "28/28 [==============================] - 0s 5ms/step - loss: 0.2673 - accuracy: 0.9163\n"
     ]
    },
    {
     "data": {
      "text/plain": [
       "<keras.callbacks.History at 0x7fdd444cfa30>"
      ]
     },
     "execution_count": 26,
     "metadata": {},
     "output_type": "execute_result"
    }
   ],
   "source": [
    "rg.fit(X2, y2, epochs=CONFIG['EPOCHS'], batch_size=CONFIG['BATCH_SIZE'], callbacks=early_stop)"
   ]
  },
  {
   "cell_type": "code",
   "execution_count": 27,
   "id": "c0d545ac",
   "metadata": {
    "ExecuteTime": {
     "end_time": "2022-11-23T15:51:35.742527Z",
     "start_time": "2022-11-23T15:51:35.249548Z"
    }
   },
   "outputs": [
    {
     "name": "stdout",
     "output_type": "stream",
     "text": [
      "28/28 [==============================] - 0s 2ms/step\n"
     ]
    }
   ],
   "source": [
    "prediction_proba2 = rg.predict(X2)"
   ]
  },
  {
   "cell_type": "code",
   "execution_count": 70,
   "id": "7d6ecccd",
   "metadata": {
    "ExecuteTime": {
     "end_time": "2022-11-23T16:34:09.994184Z",
     "start_time": "2022-11-23T16:34:09.015900Z"
    }
   },
   "outputs": [
    {
     "data": {
      "text/plain": [
       "<seaborn.axisgrid.FacetGrid at 0x7fdd3c6838b0>"
      ]
     },
     "execution_count": 70,
     "metadata": {},
     "output_type": "execute_result"
    },
    {
     "data": {
      "image/png": "[encoded data removed]",
      "text/plain": [
       "<Figure size 360x360 with 1 Axes>"
      ]
     },
     "metadata": {
      "needs_background": "light"
     },
     "output_type": "display_data"
    }
   ],
   "source": [
    "import seaborn as sns\n",
    "\n",
    "plt.rcParams[\"figure.figsize\"] = (12,9)\n",
    "sns.displot(prediction_proba2,kde=True)"
   ]
  },
  {
   "cell_type": "code",
   "execution_count": 92,
   "id": "5cf43ab3",
   "metadata": {
    "ExecuteTime": {
     "end_time": "2022-11-23T16:35:15.371791Z",
     "start_time": "2022-11-23T16:35:15.364814Z"
    }
   },
   "outputs": [],
   "source": [
    "threshold = 0.15\n",
    "pred_labels = np.where(np.array(prediction_proba2) > threshold, 1, 0)"
   ]
  },
  {
   "cell_type": "code",
   "execution_count": 93,
   "id": "7fbf28c8",
   "metadata": {
    "ExecuteTime": {
     "end_time": "2022-11-23T16:35:15.654448Z",
     "start_time": "2022-11-23T16:35:15.646129Z"
    }
   },
   "outputs": [
    {
     "data": {
      "text/plain": [
       "507"
      ]
     },
     "execution_count": 93,
     "metadata": {},
     "output_type": "execute_result"
    }
   ],
   "source": [
    "len(prediction_proba2[pred_labels==1])"
   ]
  },
  {
   "cell_type": "code",
   "execution_count": 94,
   "id": "35db3824",
   "metadata": {
    "ExecuteTime": {
     "end_time": "2022-11-23T16:35:15.989657Z",
     "start_time": "2022-11-23T16:35:15.981798Z"
    }
   },
   "outputs": [
    {
     "data": {
      "text/plain": [
       "13588"
      ]
     },
     "execution_count": 94,
     "metadata": {},
     "output_type": "execute_result"
    }
   ],
   "source": [
    "len(prediction_proba2[pred_labels==0])"
   ]
  },
  {
   "cell_type": "code",
   "execution_count": 95,
   "id": "acb96079",
   "metadata": {
    "ExecuteTime": {
     "end_time": "2022-11-23T16:35:16.410357Z",
     "start_time": "2022-11-23T16:35:16.374404Z"
    }
   },
   "outputs": [
    {
     "name": "stdout",
     "output_type": "stream",
     "text": [
      "              precision    recall  f1-score   support\n",
      "\n",
      "           0       0.92      0.97      0.95     12892\n",
      "           1       0.32      0.14      0.19      1203\n",
      "\n",
      "    accuracy                           0.90     14095\n",
      "   macro avg       0.62      0.55      0.57     14095\n",
      "weighted avg       0.87      0.90      0.88     14095\n",
      "\n"
     ]
    }
   ],
   "source": [
    "print(classification_report(y,pred_labels))"
   ]
  },
  {
   "cell_type": "code",
   "execution_count": 96,
   "id": "36b28a1e",
   "metadata": {
    "ExecuteTime": {
     "end_time": "2022-11-23T16:35:17.609750Z",
     "start_time": "2022-11-23T16:35:17.496380Z"
    }
   },
   "outputs": [
    {
     "name": "stdout",
     "output_type": "stream",
     "text": [
      "12/12 [==============================] - 0s 2ms/step\n"
     ]
    }
   ],
   "source": [
    "result = rg.predict(dft)"
   ]
  },
  {
   "cell_type": "code",
   "execution_count": 97,
   "id": "d9a35b7b",
   "metadata": {
    "ExecuteTime": {
     "end_time": "2022-11-23T16:35:18.480592Z",
     "start_time": "2022-11-23T16:35:18.474710Z"
    }
   },
   "outputs": [],
   "source": [
    "result_labels = np.where(np.array(result) > threshold, 1, 0)"
   ]
  },
  {
   "cell_type": "code",
   "execution_count": 98,
   "id": "9a4b91fb",
   "metadata": {
    "ExecuteTime": {
     "end_time": "2022-11-23T16:35:19.337173Z",
     "start_time": "2022-11-23T16:35:19.313524Z"
    }
   },
   "outputs": [
    {
     "data": {
      "text/html": [
       "<div>\n",
       "<style scoped>\n",
       "    .dataframe tbody tr th:only-of-type {\n",
       "        vertical-align: middle;\n",
       "    }\n",
       "\n",
       "    .dataframe tbody tr th {\n",
       "        vertical-align: top;\n",
       "    }\n",
       "\n",
       "    .dataframe thead th {\n",
       "        text-align: right;\n",
       "    }\n",
       "</style>\n",
       "<table border=\"1\" class=\"dataframe\">\n",
       "  <thead>\n",
       "    <tr style=\"text-align: right;\">\n",
       "      <th></th>\n",
       "      <th>ID</th>\n",
       "      <th>Y_LABEL</th>\n",
       "    </tr>\n",
       "  </thead>\n",
       "  <tbody>\n",
       "    <tr>\n",
       "      <th>0</th>\n",
       "      <td>TEST_0000</td>\n",
       "      <td>0</td>\n",
       "    </tr>\n",
       "    <tr>\n",
       "      <th>1</th>\n",
       "      <td>TEST_0001</td>\n",
       "      <td>0</td>\n",
       "    </tr>\n",
       "    <tr>\n",
       "      <th>2</th>\n",
       "      <td>TEST_0002</td>\n",
       "      <td>0</td>\n",
       "    </tr>\n",
       "    <tr>\n",
       "      <th>3</th>\n",
       "      <td>TEST_0003</td>\n",
       "      <td>0</td>\n",
       "    </tr>\n",
       "    <tr>\n",
       "      <th>4</th>\n",
       "      <td>TEST_0004</td>\n",
       "      <td>0</td>\n",
       "    </tr>\n",
       "  </tbody>\n",
       "</table>\n",
       "</div>"
      ],
      "text/plain": [
       "          ID  Y_LABEL\n",
       "0  TEST_0000        0\n",
       "1  TEST_0001        0\n",
       "2  TEST_0002        0\n",
       "3  TEST_0003        0\n",
       "4  TEST_0004        0"
      ]
     },
     "execution_count": 98,
     "metadata": {},
     "output_type": "execute_result"
    }
   ],
   "source": [
    "submit = pd.read_csv('data/sample_submission.csv')\n",
    "submit['Y_LABEL'] = result_labels\n",
    "submit.head()"
   ]
  },
  {
   "cell_type": "code",
   "execution_count": 99,
   "id": "89fdc821",
   "metadata": {
    "ExecuteTime": {
     "end_time": "2022-11-23T16:35:21.494520Z",
     "start_time": "2022-11-23T16:35:21.470304Z"
    }
   },
   "outputs": [
    {
     "data": {
      "text/html": [
       "<div>\n",
       "<style scoped>\n",
       "    .dataframe tbody tr th:only-of-type {\n",
       "        vertical-align: middle;\n",
       "    }\n",
       "\n",
       "    .dataframe tbody tr th {\n",
       "        vertical-align: top;\n",
       "    }\n",
       "\n",
       "    .dataframe thead th {\n",
       "        text-align: right;\n",
       "    }\n",
       "</style>\n",
       "<table border=\"1\" class=\"dataframe\">\n",
       "  <thead>\n",
       "    <tr style=\"text-align: right;\">\n",
       "      <th></th>\n",
       "      <th>ID</th>\n",
       "      <th>Y_LABEL</th>\n",
       "    </tr>\n",
       "  </thead>\n",
       "  <tbody>\n",
       "    <tr>\n",
       "      <th>0</th>\n",
       "      <td>TEST_0000</td>\n",
       "      <td>0</td>\n",
       "    </tr>\n",
       "    <tr>\n",
       "      <th>1</th>\n",
       "      <td>TEST_0001</td>\n",
       "      <td>0</td>\n",
       "    </tr>\n",
       "    <tr>\n",
       "      <th>2</th>\n",
       "      <td>TEST_0002</td>\n",
       "      <td>0</td>\n",
       "    </tr>\n",
       "    <tr>\n",
       "      <th>3</th>\n",
       "      <td>TEST_0003</td>\n",
       "      <td>0</td>\n",
       "    </tr>\n",
       "    <tr>\n",
       "      <th>4</th>\n",
       "      <td>TEST_0004</td>\n",
       "      <td>0</td>\n",
       "    </tr>\n",
       "    <tr>\n",
       "      <th>...</th>\n",
       "      <td>...</td>\n",
       "      <td>...</td>\n",
       "    </tr>\n",
       "    <tr>\n",
       "      <th>6035</th>\n",
       "      <td>TEST_6035</td>\n",
       "      <td>0</td>\n",
       "    </tr>\n",
       "    <tr>\n",
       "      <th>6036</th>\n",
       "      <td>TEST_6036</td>\n",
       "      <td>0</td>\n",
       "    </tr>\n",
       "    <tr>\n",
       "      <th>6037</th>\n",
       "      <td>TEST_6037</td>\n",
       "      <td>0</td>\n",
       "    </tr>\n",
       "    <tr>\n",
       "      <th>6039</th>\n",
       "      <td>TEST_6039</td>\n",
       "      <td>0</td>\n",
       "    </tr>\n",
       "    <tr>\n",
       "      <th>6040</th>\n",
       "      <td>TEST_6040</td>\n",
       "      <td>0</td>\n",
       "    </tr>\n",
       "  </tbody>\n",
       "</table>\n",
       "<p>5799 rows × 2 columns</p>\n",
       "</div>"
      ],
      "text/plain": [
       "             ID  Y_LABEL\n",
       "0     TEST_0000        0\n",
       "1     TEST_0001        0\n",
       "2     TEST_0002        0\n",
       "3     TEST_0003        0\n",
       "4     TEST_0004        0\n",
       "...         ...      ...\n",
       "6035  TEST_6035        0\n",
       "6036  TEST_6036        0\n",
       "6037  TEST_6037        0\n",
       "6039  TEST_6039        0\n",
       "6040  TEST_6040        0\n",
       "\n",
       "[5799 rows x 2 columns]"
      ]
     },
     "execution_count": 99,
     "metadata": {},
     "output_type": "execute_result"
    }
   ],
   "source": [
    "submit[submit['Y_LABEL']==0]"
   ]
  },
  {
   "cell_type": "code",
   "execution_count": 100,
   "id": "25257023",
   "metadata": {
    "ExecuteTime": {
     "end_time": "2022-11-23T16:35:22.663024Z",
     "start_time": "2022-11-23T16:35:22.642105Z"
    }
   },
   "outputs": [
    {
     "data": {
      "text/html": [
       "<div>\n",
       "<style scoped>\n",
       "    .dataframe tbody tr th:only-of-type {\n",
       "        vertical-align: middle;\n",
       "    }\n",
       "\n",
       "    .dataframe tbody tr th {\n",
       "        vertical-align: top;\n",
       "    }\n",
       "\n",
       "    .dataframe thead th {\n",
       "        text-align: right;\n",
       "    }\n",
       "</style>\n",
       "<table border=\"1\" class=\"dataframe\">\n",
       "  <thead>\n",
       "    <tr style=\"text-align: right;\">\n",
       "      <th></th>\n",
       "      <th>ID</th>\n",
       "      <th>Y_LABEL</th>\n",
       "    </tr>\n",
       "  </thead>\n",
       "  <tbody>\n",
       "    <tr>\n",
       "      <th>5</th>\n",
       "      <td>TEST_0005</td>\n",
       "      <td>1</td>\n",
       "    </tr>\n",
       "    <tr>\n",
       "      <th>8</th>\n",
       "      <td>TEST_0008</td>\n",
       "      <td>1</td>\n",
       "    </tr>\n",
       "    <tr>\n",
       "      <th>16</th>\n",
       "      <td>TEST_0016</td>\n",
       "      <td>1</td>\n",
       "    </tr>\n",
       "    <tr>\n",
       "      <th>32</th>\n",
       "      <td>TEST_0032</td>\n",
       "      <td>1</td>\n",
       "    </tr>\n",
       "    <tr>\n",
       "      <th>45</th>\n",
       "      <td>TEST_0045</td>\n",
       "      <td>1</td>\n",
       "    </tr>\n",
       "    <tr>\n",
       "      <th>...</th>\n",
       "      <td>...</td>\n",
       "      <td>...</td>\n",
       "    </tr>\n",
       "    <tr>\n",
       "      <th>5884</th>\n",
       "      <td>TEST_5884</td>\n",
       "      <td>1</td>\n",
       "    </tr>\n",
       "    <tr>\n",
       "      <th>5942</th>\n",
       "      <td>TEST_5942</td>\n",
       "      <td>1</td>\n",
       "    </tr>\n",
       "    <tr>\n",
       "      <th>5961</th>\n",
       "      <td>TEST_5961</td>\n",
       "      <td>1</td>\n",
       "    </tr>\n",
       "    <tr>\n",
       "      <th>5996</th>\n",
       "      <td>TEST_5996</td>\n",
       "      <td>1</td>\n",
       "    </tr>\n",
       "    <tr>\n",
       "      <th>6038</th>\n",
       "      <td>TEST_6038</td>\n",
       "      <td>1</td>\n",
       "    </tr>\n",
       "  </tbody>\n",
       "</table>\n",
       "<p>242 rows × 2 columns</p>\n",
       "</div>"
      ],
      "text/plain": [
       "             ID  Y_LABEL\n",
       "5     TEST_0005        1\n",
       "8     TEST_0008        1\n",
       "16    TEST_0016        1\n",
       "32    TEST_0032        1\n",
       "45    TEST_0045        1\n",
       "...         ...      ...\n",
       "5884  TEST_5884        1\n",
       "5942  TEST_5942        1\n",
       "5961  TEST_5961        1\n",
       "5996  TEST_5996        1\n",
       "6038  TEST_6038        1\n",
       "\n",
       "[242 rows x 2 columns]"
      ]
     },
     "execution_count": 100,
     "metadata": {},
     "output_type": "execute_result"
    }
   ],
   "source": [
    "submit[submit['Y_LABEL']==1]"
   ]
  },
  {
   "cell_type": "code",
   "execution_count": null,
   "id": "3a1ccd23",
   "metadata": {},
   "outputs": [],
   "source": []
  }
 ],
 "metadata": {
  "kernelspec": {
   "display_name": "Python 3",
   "language": "python",
   "name": "python3"
  },
  "language_info": {
   "codemirror_mode": {
    "name": "ipython",
    "version": 3
   },
   "file_extension": ".py",
   "mimetype": "text/x-python",
   "name": "python",
   "nbconvert_exporter": "python",
   "pygments_lexer": "ipython3",
   "version": "3.8.10"
  },
  "toc": {
   "base_numbering": 1,
   "nav_menu": {},
   "number_sections": false,
   "sideBar": true,
   "skip_h1_title": false,
   "title_cell": "Table of Contents",
   "title_sidebar": "Contents",
   "toc_cell": false,
   "toc_position": {},
   "toc_section_display": true,
   "toc_window_display": false
  }
 },
 "nbformat": 4,
 "nbformat_minor": 5
}
