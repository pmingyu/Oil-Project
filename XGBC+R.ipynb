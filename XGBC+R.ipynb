{
 "cells": [
  {
   "cell_type": "code",
   "execution_count": 1,
   "id": "bed9dd52",
   "metadata": {
    "ExecuteTime": {
     "end_time": "2022-11-23T16:07:19.102842Z",
     "start_time": "2022-11-23T16:07:18.426187Z"
    }
   },
   "outputs": [],
   "source": [
    "import pandas as pd\n",
    "import numpy as np\n",
    "import matplotlib.pyplot as plt\n",
    "import seaborn as sns\n",
    "\n",
    "from sklearn.metrics import classification_report\n",
    "from sklearn.preprocessing import StandardScaler\n",
    "from sklearn.preprocessing import LabelEncoder\n",
    "from sklearn.model_selection import train_test_split\n",
    "\n",
    "pd.set_option('max_columns',100)"
   ]
  },
  {
   "cell_type": "code",
   "execution_count": 2,
   "id": "a00cc9cd",
   "metadata": {
    "ExecuteTime": {
     "end_time": "2022-11-23T16:07:19.197258Z",
     "start_time": "2022-11-23T16:07:19.104439Z"
    }
   },
   "outputs": [],
   "source": [
    "train = pd.read_csv('data/train.csv')\n",
    "test = pd.read_csv('data/test.csv')"
   ]
  },
  {
   "cell_type": "code",
   "execution_count": 3,
   "id": "e91eeb87",
   "metadata": {
    "ExecuteTime": {
     "end_time": "2022-11-23T16:07:19.331458Z",
     "start_time": "2022-11-23T16:07:19.199594Z"
    }
   },
   "outputs": [],
   "source": [
    "def check_info(df):\n",
    "    # show dataframe for each features that we have\n",
    "    dataFeatures = []\n",
    "    dataType     = []\n",
    "    null         = []\n",
    "    nullPCT      = []\n",
    "    unique       = []\n",
    "    minValue     = []\n",
    "    maxValue     = []\n",
    "    uniqueSample = []\n",
    "\n",
    "\n",
    "    for item in list(df):\n",
    "        dataFeatures.append(item)\n",
    "\n",
    "    for item in dataFeatures:\n",
    "        dataType.append(df[item].dtype.name)\n",
    "\n",
    "    for item in dataFeatures:\n",
    "        null.append(len(df[df[item].isnull() == True]))\n",
    "\n",
    "    for item in dataFeatures:\n",
    "        nullPCT.append(round(len(df[df[item].isnull() == True])/len(df[item])*100,2))\n",
    "\n",
    "    for item in dataFeatures:\n",
    "        minValue.append(df[item].min())\n",
    "\n",
    "    for item in dataFeatures:\n",
    "        maxValue.append(df[item].max())\n",
    "\n",
    "    for item in dataFeatures:\n",
    "        unique.append(df[item].nunique())\n",
    "\n",
    "    for item in dataFeatures:\n",
    "        uniqueSample.append(df[item].unique()[0:2])\n",
    "\n",
    "    df_info = pd.DataFrame({\n",
    "        'dataFeatures' : dataFeatures,\n",
    "        'dataType' : dataType,\n",
    "        'null' : null,\n",
    "        'nullPCT':nullPCT,\n",
    "        'unique' : unique,\n",
    "        'minValue' : minValue,\n",
    "        'maxValue' : maxValue,\n",
    "        'uniqueSample':uniqueSample\n",
    "    })\n",
    "    \n",
    "    return df_info\n",
    "\n",
    "df_info = check_info(train)"
   ]
  },
  {
   "cell_type": "code",
   "execution_count": 4,
   "id": "cc43733b",
   "metadata": {
    "ExecuteTime": {
     "end_time": "2022-11-23T16:07:19.339936Z",
     "start_time": "2022-11-23T16:07:19.333153Z"
    }
   },
   "outputs": [
    {
     "data": {
      "text/plain": [
       "['FH2O',\n",
       " 'FNOX',\n",
       " 'FOPTIMETHGLY',\n",
       " 'FOXID',\n",
       " 'FSO4',\n",
       " 'FTBN',\n",
       " 'FUEL',\n",
       " 'SOOTPERCENTAGE',\n",
       " 'U100',\n",
       " 'U75',\n",
       " 'U50',\n",
       " 'U25',\n",
       " 'U20',\n",
       " 'U14',\n",
       " 'U6',\n",
       " 'U4',\n",
       " 'V100']"
      ]
     },
     "execution_count": 4,
     "metadata": {},
     "output_type": "execute_result"
    }
   ],
   "source": [
    "percent20UP = list(df_info[df_info['nullPCT'] >= 20.0]['dataFeatures'])\n",
    "percent20UP"
   ]
  },
  {
   "cell_type": "code",
   "execution_count": 5,
   "id": "56139d6c",
   "metadata": {
    "ExecuteTime": {
     "end_time": "2022-11-23T16:07:19.366528Z",
     "start_time": "2022-11-23T16:07:19.341173Z"
    }
   },
   "outputs": [],
   "source": [
    "# get dummies\n",
    "dff = train.drop(percent20UP,axis=1)\n",
    "dff = dff.fillna(0)\n",
    "dff = pd.get_dummies(dff,columns=['COMPONENT_ARBITRARY'])\n",
    "\n",
    "\n",
    "# data split\n",
    "target = 'Y_LABEL'\n",
    "features_for_model = [f for f in list(dff) if f not in [target,'ID']]\n",
    "\n",
    "X = dff[features_for_model]\n",
    "y = dff[target]\n",
    "\n",
    "# data split\n",
    "from sklearn.model_selection import train_test_split\n",
    "X_train, X_test, y_train, y_test = train_test_split(X, y, \n",
    "                                                 test_size=0.2, \n",
    "                                                 random_state=101)"
   ]
  },
  {
   "cell_type": "code",
   "execution_count": 6,
   "id": "97cfaa17",
   "metadata": {
    "ExecuteTime": {
     "end_time": "2022-11-23T16:07:26.796127Z",
     "start_time": "2022-11-23T16:07:19.368009Z"
    }
   },
   "outputs": [
    {
     "name": "stderr",
     "output_type": "stream",
     "text": [
      "/opt/conda/lib/python3.8/site-packages/xgboost/sklearn.py:1224: UserWarning: The use of label encoder in XGBClassifier is deprecated and will be removed in a future release. To remove this warning, do the following: 1) Pass option use_label_encoder=False when constructing XGBClassifier object; and 2) Encode your labels (y) as integers starting with 0, i.e. 0, 1, 2, ..., [num_class - 1].\n",
      "  warnings.warn(label_encoder_deprecation_msg, UserWarning)\n"
     ]
    },
    {
     "name": "stdout",
     "output_type": "stream",
     "text": [
      "[16:07:21] WARNING: ../src/learner.cc:1115: Starting in XGBoost 1.3.0, the default evaluation metric used with the objective 'binary:logistic' was changed from 'error' to 'logloss'. Explicitly set eval_metric if you'd like to restore the old behavior.\n",
      "              precision    recall  f1-score   support\n",
      "\n",
      "           0       1.00      1.00      1.00     10309\n",
      "           1       1.00      0.97      0.98       967\n",
      "\n",
      "    accuracy                           1.00     11276\n",
      "   macro avg       1.00      0.98      0.99     11276\n",
      "weighted avg       1.00      1.00      1.00     11276\n",
      "\n",
      "              precision    recall  f1-score   support\n",
      "\n",
      "           0       0.96      1.00      0.98      2583\n",
      "           1       0.92      0.56      0.69       236\n",
      "\n",
      "    accuracy                           0.96      2819\n",
      "   macro avg       0.94      0.78      0.84      2819\n",
      "weighted avg       0.96      0.96      0.95      2819\n",
      "\n"
     ]
    }
   ],
   "source": [
    "from xgboost import XGBClassifier\n",
    "\n",
    "modelC = XGBClassifier(random_state=101)\n",
    "modelC.fit(X_train,y_train)\n",
    "\n",
    "prediction_train = modelC.predict(X_train)\n",
    "prediction_test  = modelC.predict(X_test)\n",
    "\n",
    "print(classification_report(y_train,prediction_train))\n",
    "print(classification_report(y_test,prediction_test))"
   ]
  },
  {
   "cell_type": "code",
   "execution_count": 7,
   "id": "140be7b1",
   "metadata": {
    "ExecuteTime": {
     "end_time": "2022-11-23T16:07:27.852949Z",
     "start_time": "2022-11-23T16:07:26.797885Z"
    }
   },
   "outputs": [
    {
     "name": "stdout",
     "output_type": "stream",
     "text": [
      "[16:07:26] WARNING: ../src/learner.cc:1115: Starting in XGBoost 1.3.0, the default evaluation metric used with the objective 'binary:logistic' was changed from 'error' to 'logloss'. Explicitly set eval_metric if you'd like to restore the old behavior.\n"
     ]
    },
    {
     "name": "stderr",
     "output_type": "stream",
     "text": [
      "/opt/conda/lib/python3.8/site-packages/xgboost/sklearn.py:1224: UserWarning: The use of label encoder in XGBClassifier is deprecated and will be removed in a future release. To remove this warning, do the following: 1) Pass option use_label_encoder=False when constructing XGBClassifier object; and 2) Encode your labels (y) as integers starting with 0, i.e. 0, 1, 2, ..., [num_class - 1].\n",
      "  warnings.warn(label_encoder_deprecation_msg, UserWarning)\n"
     ]
    }
   ],
   "source": [
    "# Model Deployment\n",
    "\n",
    "modelCD = XGBClassifier(random_state=101)\n",
    "modelCD.fit(X,y)\n",
    "\n",
    "prediction_proba = modelC.predict_proba(X)"
   ]
  },
  {
   "cell_type": "code",
   "execution_count": 8,
   "id": "6be09d79",
   "metadata": {
    "ExecuteTime": {
     "end_time": "2022-11-23T16:07:27.858290Z",
     "start_time": "2022-11-23T16:07:27.854359Z"
    }
   },
   "outputs": [],
   "source": [
    "X2 = X.copy()\n",
    "y2 = y.copy()\n",
    "\n",
    "X2['proba'] = prediction_proba[:,0]"
   ]
  },
  {
   "cell_type": "code",
   "execution_count": 9,
   "id": "d72126de",
   "metadata": {
    "ExecuteTime": {
     "end_time": "2022-11-23T16:07:27.872638Z",
     "start_time": "2022-11-23T16:07:27.860700Z"
    }
   },
   "outputs": [],
   "source": [
    "dft = test[:]\n",
    "dft = dft.fillna(0)\n",
    "dft = pd.get_dummies(dft,columns=['COMPONENT_ARBITRARY']).drop('ID',axis=1)"
   ]
  },
  {
   "cell_type": "code",
   "execution_count": 10,
   "id": "d713f07f",
   "metadata": {
    "ExecuteTime": {
     "end_time": "2022-11-23T16:07:27.876174Z",
     "start_time": "2022-11-23T16:07:27.874045Z"
    }
   },
   "outputs": [],
   "source": [
    "list_test_cols = dft.columns"
   ]
  },
  {
   "cell_type": "code",
   "execution_count": 11,
   "id": "c6474579",
   "metadata": {
    "ExecuteTime": {
     "end_time": "2022-11-23T16:07:27.887097Z",
     "start_time": "2022-11-23T16:07:27.877442Z"
    }
   },
   "outputs": [],
   "source": [
    "X2 = X2[list_test_cols]\n",
    "y2 = y2\n",
    "\n",
    "# data split\n",
    "from sklearn.model_selection import train_test_split\n",
    "X_train2, X_test2, y_train2, y_test2 = train_test_split(X2, y2, \n",
    "                                                 test_size=0.2, \n",
    "                                                 random_state=101)"
   ]
  },
  {
   "cell_type": "code",
   "execution_count": 12,
   "id": "a24d5b73",
   "metadata": {
    "ExecuteTime": {
     "end_time": "2022-11-23T16:07:59.963491Z",
     "start_time": "2022-11-23T16:07:27.888498Z"
    }
   },
   "outputs": [
    {
     "name": "stdout",
     "output_type": "stream",
     "text": [
      "0.6408182219760779\n",
      "-0.07442646689254473\n"
     ]
    }
   ],
   "source": [
    "import xgboost as xgb\n",
    "from sklearn.metrics import mean_absolute_error, mean_squared_error, r2_score\n",
    "\n",
    "\n",
    "modelR = xgb.XGBRegressor(random_state=101)\n",
    "modelR.fit(X_train2, y_train2)\n",
    "\n",
    "prediction_train2 = modelR.predict(X_train2)\n",
    "prediction_test2  = modelR.predict(X_test2)\n",
    "\n",
    "print(r2_score(y_train2, prediction_train2))\n",
    "print(r2_score(y_test2, prediction_test2))"
   ]
  },
  {
   "cell_type": "code",
   "execution_count": 13,
   "id": "8c4e2b1d",
   "metadata": {
    "ExecuteTime": {
     "end_time": "2022-11-23T16:09:29.242661Z",
     "start_time": "2022-11-23T16:07:59.965688Z"
    }
   },
   "outputs": [],
   "source": [
    "# Model Deployment\n",
    "\n",
    "modelRD = xgb.XGBRegressor(random_state=101)\n",
    "modelRD.fit(X2, y2)\n",
    "\n",
    "prediction_proba2 = modelRD.predict(X2)"
   ]
  },
  {
   "cell_type": "code",
   "execution_count": 139,
   "id": "3161426b",
   "metadata": {
    "ExecuteTime": {
     "end_time": "2022-11-23T16:35:41.432546Z",
     "start_time": "2022-11-23T16:35:41.426314Z"
    }
   },
   "outputs": [],
   "source": [
    "threshold = 0.25\n",
    "pred_labels = np.where(np.array(prediction_proba2) > threshold, 1, 0)"
   ]
  },
  {
   "cell_type": "code",
   "execution_count": 140,
   "id": "dcf40e36",
   "metadata": {
    "ExecuteTime": {
     "end_time": "2022-11-23T16:35:41.695033Z",
     "start_time": "2022-11-23T16:35:41.686681Z"
    }
   },
   "outputs": [
    {
     "data": {
      "text/plain": [
       "1033"
      ]
     },
     "execution_count": 140,
     "metadata": {},
     "output_type": "execute_result"
    }
   ],
   "source": [
    "len(pred_labels[pred_labels==1])"
   ]
  },
  {
   "cell_type": "code",
   "execution_count": 141,
   "id": "ccef234d",
   "metadata": {
    "ExecuteTime": {
     "end_time": "2022-11-23T16:35:41.956794Z",
     "start_time": "2022-11-23T16:35:41.948559Z"
    }
   },
   "outputs": [
    {
     "data": {
      "text/plain": [
       "13062"
      ]
     },
     "execution_count": 141,
     "metadata": {},
     "output_type": "execute_result"
    }
   ],
   "source": [
    "len(pred_labels[pred_labels==0])"
   ]
  },
  {
   "cell_type": "code",
   "execution_count": 142,
   "id": "b68f2e5f",
   "metadata": {
    "ExecuteTime": {
     "end_time": "2022-11-23T16:35:42.221899Z",
     "start_time": "2022-11-23T16:35:42.185543Z"
    }
   },
   "outputs": [
    {
     "name": "stdout",
     "output_type": "stream",
     "text": [
      "              precision    recall  f1-score   support\n",
      "\n",
      "           0       0.98      0.99      0.99     12892\n",
      "           1       0.92      0.79      0.85      1203\n",
      "\n",
      "    accuracy                           0.98     14095\n",
      "   macro avg       0.95      0.89      0.92     14095\n",
      "weighted avg       0.98      0.98      0.98     14095\n",
      "\n"
     ]
    }
   ],
   "source": [
    "print(classification_report(y,pred_labels))"
   ]
  },
  {
   "cell_type": "code",
   "execution_count": 143,
   "id": "4f8c2a17",
   "metadata": {
    "ExecuteTime": {
     "end_time": "2022-11-23T16:35:42.521059Z",
     "start_time": "2022-11-23T16:35:42.485266Z"
    }
   },
   "outputs": [
    {
     "name": "stdout",
     "output_type": "stream",
     "text": [
      "              precision    recall  f1-score   support\n",
      "\n",
      "           0       0.98      0.99      0.99     12892\n",
      "           1       0.92      0.79      0.85      1203\n",
      "\n",
      "    accuracy                           0.98     14095\n",
      "   macro avg       0.95      0.89      0.92     14095\n",
      "weighted avg       0.98      0.98      0.98     14095\n",
      "\n"
     ]
    }
   ],
   "source": [
    "print(classification_report(y,pred_labels))"
   ]
  },
  {
   "cell_type": "code",
   "execution_count": 144,
   "id": "360125bb",
   "metadata": {
    "ExecuteTime": {
     "end_time": "2022-11-23T16:35:44.228127Z",
     "start_time": "2022-11-23T16:35:44.157974Z"
    }
   },
   "outputs": [],
   "source": [
    "result = modelRD.predict(dft)"
   ]
  },
  {
   "cell_type": "code",
   "execution_count": 145,
   "id": "c368cf61",
   "metadata": {
    "ExecuteTime": {
     "end_time": "2022-11-23T16:35:44.495400Z",
     "start_time": "2022-11-23T16:35:44.489021Z"
    }
   },
   "outputs": [],
   "source": [
    "result_labels = np.where(np.array(result) > threshold, 1, 0)"
   ]
  },
  {
   "cell_type": "code",
   "execution_count": 146,
   "id": "c69b71e5",
   "metadata": {
    "ExecuteTime": {
     "end_time": "2022-11-23T16:35:45.428783Z",
     "start_time": "2022-11-23T16:35:44.865219Z"
    }
   },
   "outputs": [
    {
     "data": {
      "text/plain": [
       "<seaborn.axisgrid.FacetGrid at 0x7fe5548a5880>"
      ]
     },
     "execution_count": 146,
     "metadata": {},
     "output_type": "execute_result"
    },
    {
     "data": {
      "image/png": "[encoded data removed]",
      "text/plain": [
       "<Figure size 360x360 with 1 Axes>"
      ]
     },
     "metadata": {
      "needs_background": "light"
     },
     "output_type": "display_data"
    }
   ],
   "source": [
    "plt.rcParams[\"figure.figsize\"] = (12,9)\n",
    "sns.displot(result,kde=True)"
   ]
  },
  {
   "cell_type": "code",
   "execution_count": 147,
   "id": "e8905048",
   "metadata": {
    "ExecuteTime": {
     "end_time": "2022-11-23T16:35:45.772188Z",
     "start_time": "2022-11-23T16:35:45.747782Z"
    }
   },
   "outputs": [
    {
     "data": {
      "text/html": [
       "<div>\n",
       "<style scoped>\n",
       "    .dataframe tbody tr th:only-of-type {\n",
       "        vertical-align: middle;\n",
       "    }\n",
       "\n",
       "    .dataframe tbody tr th {\n",
       "        vertical-align: top;\n",
       "    }\n",
       "\n",
       "    .dataframe thead th {\n",
       "        text-align: right;\n",
       "    }\n",
       "</style>\n",
       "<table border=\"1\" class=\"dataframe\">\n",
       "  <thead>\n",
       "    <tr style=\"text-align: right;\">\n",
       "      <th></th>\n",
       "      <th>ID</th>\n",
       "      <th>Y_LABEL</th>\n",
       "    </tr>\n",
       "  </thead>\n",
       "  <tbody>\n",
       "    <tr>\n",
       "      <th>0</th>\n",
       "      <td>TEST_0000</td>\n",
       "      <td>0</td>\n",
       "    </tr>\n",
       "    <tr>\n",
       "      <th>1</th>\n",
       "      <td>TEST_0001</td>\n",
       "      <td>0</td>\n",
       "    </tr>\n",
       "    <tr>\n",
       "      <th>2</th>\n",
       "      <td>TEST_0002</td>\n",
       "      <td>0</td>\n",
       "    </tr>\n",
       "    <tr>\n",
       "      <th>3</th>\n",
       "      <td>TEST_0003</td>\n",
       "      <td>0</td>\n",
       "    </tr>\n",
       "    <tr>\n",
       "      <th>4</th>\n",
       "      <td>TEST_0004</td>\n",
       "      <td>1</td>\n",
       "    </tr>\n",
       "  </tbody>\n",
       "</table>\n",
       "</div>"
      ],
      "text/plain": [
       "          ID  Y_LABEL\n",
       "0  TEST_0000        0\n",
       "1  TEST_0001        0\n",
       "2  TEST_0002        0\n",
       "3  TEST_0003        0\n",
       "4  TEST_0004        1"
      ]
     },
     "execution_count": 147,
     "metadata": {},
     "output_type": "execute_result"
    }
   ],
   "source": [
    "submit = pd.read_csv('data/sample_submission.csv')\n",
    "submit['Y_LABEL'] = result_labels\n",
    "submit.head()"
   ]
  },
  {
   "cell_type": "code",
   "execution_count": 148,
   "id": "842a4ac0",
   "metadata": {
    "ExecuteTime": {
     "end_time": "2022-11-23T16:35:47.161603Z",
     "start_time": "2022-11-23T16:35:47.141196Z"
    }
   },
   "outputs": [
    {
     "data": {
      "text/html": [
       "<div>\n",
       "<style scoped>\n",
       "    .dataframe tbody tr th:only-of-type {\n",
       "        vertical-align: middle;\n",
       "    }\n",
       "\n",
       "    .dataframe tbody tr th {\n",
       "        vertical-align: top;\n",
       "    }\n",
       "\n",
       "    .dataframe thead th {\n",
       "        text-align: right;\n",
       "    }\n",
       "</style>\n",
       "<table border=\"1\" class=\"dataframe\">\n",
       "  <thead>\n",
       "    <tr style=\"text-align: right;\">\n",
       "      <th></th>\n",
       "      <th>ID</th>\n",
       "      <th>Y_LABEL</th>\n",
       "    </tr>\n",
       "  </thead>\n",
       "  <tbody>\n",
       "    <tr>\n",
       "      <th>0</th>\n",
       "      <td>TEST_0000</td>\n",
       "      <td>0</td>\n",
       "    </tr>\n",
       "    <tr>\n",
       "      <th>1</th>\n",
       "      <td>TEST_0001</td>\n",
       "      <td>0</td>\n",
       "    </tr>\n",
       "    <tr>\n",
       "      <th>2</th>\n",
       "      <td>TEST_0002</td>\n",
       "      <td>0</td>\n",
       "    </tr>\n",
       "    <tr>\n",
       "      <th>3</th>\n",
       "      <td>TEST_0003</td>\n",
       "      <td>0</td>\n",
       "    </tr>\n",
       "    <tr>\n",
       "      <th>6</th>\n",
       "      <td>TEST_0006</td>\n",
       "      <td>0</td>\n",
       "    </tr>\n",
       "    <tr>\n",
       "      <th>...</th>\n",
       "      <td>...</td>\n",
       "      <td>...</td>\n",
       "    </tr>\n",
       "    <tr>\n",
       "      <th>6034</th>\n",
       "      <td>TEST_6034</td>\n",
       "      <td>0</td>\n",
       "    </tr>\n",
       "    <tr>\n",
       "      <th>6035</th>\n",
       "      <td>TEST_6035</td>\n",
       "      <td>0</td>\n",
       "    </tr>\n",
       "    <tr>\n",
       "      <th>6036</th>\n",
       "      <td>TEST_6036</td>\n",
       "      <td>0</td>\n",
       "    </tr>\n",
       "    <tr>\n",
       "      <th>6039</th>\n",
       "      <td>TEST_6039</td>\n",
       "      <td>0</td>\n",
       "    </tr>\n",
       "    <tr>\n",
       "      <th>6040</th>\n",
       "      <td>TEST_6040</td>\n",
       "      <td>0</td>\n",
       "    </tr>\n",
       "  </tbody>\n",
       "</table>\n",
       "<p>5588 rows × 2 columns</p>\n",
       "</div>"
      ],
      "text/plain": [
       "             ID  Y_LABEL\n",
       "0     TEST_0000        0\n",
       "1     TEST_0001        0\n",
       "2     TEST_0002        0\n",
       "3     TEST_0003        0\n",
       "6     TEST_0006        0\n",
       "...         ...      ...\n",
       "6034  TEST_6034        0\n",
       "6035  TEST_6035        0\n",
       "6036  TEST_6036        0\n",
       "6039  TEST_6039        0\n",
       "6040  TEST_6040        0\n",
       "\n",
       "[5588 rows x 2 columns]"
      ]
     },
     "execution_count": 148,
     "metadata": {},
     "output_type": "execute_result"
    }
   ],
   "source": [
    "submit[submit['Y_LABEL']==0]"
   ]
  },
  {
   "cell_type": "code",
   "execution_count": 149,
   "id": "0c56e140",
   "metadata": {
    "ExecuteTime": {
     "end_time": "2022-11-23T16:35:47.403121Z",
     "start_time": "2022-11-23T16:35:47.382087Z"
    }
   },
   "outputs": [
    {
     "data": {
      "text/html": [
       "<div>\n",
       "<style scoped>\n",
       "    .dataframe tbody tr th:only-of-type {\n",
       "        vertical-align: middle;\n",
       "    }\n",
       "\n",
       "    .dataframe tbody tr th {\n",
       "        vertical-align: top;\n",
       "    }\n",
       "\n",
       "    .dataframe thead th {\n",
       "        text-align: right;\n",
       "    }\n",
       "</style>\n",
       "<table border=\"1\" class=\"dataframe\">\n",
       "  <thead>\n",
       "    <tr style=\"text-align: right;\">\n",
       "      <th></th>\n",
       "      <th>ID</th>\n",
       "      <th>Y_LABEL</th>\n",
       "    </tr>\n",
       "  </thead>\n",
       "  <tbody>\n",
       "    <tr>\n",
       "      <th>4</th>\n",
       "      <td>TEST_0004</td>\n",
       "      <td>1</td>\n",
       "    </tr>\n",
       "    <tr>\n",
       "      <th>5</th>\n",
       "      <td>TEST_0005</td>\n",
       "      <td>1</td>\n",
       "    </tr>\n",
       "    <tr>\n",
       "      <th>32</th>\n",
       "      <td>TEST_0032</td>\n",
       "      <td>1</td>\n",
       "    </tr>\n",
       "    <tr>\n",
       "      <th>34</th>\n",
       "      <td>TEST_0034</td>\n",
       "      <td>1</td>\n",
       "    </tr>\n",
       "    <tr>\n",
       "      <th>51</th>\n",
       "      <td>TEST_0051</td>\n",
       "      <td>1</td>\n",
       "    </tr>\n",
       "    <tr>\n",
       "      <th>...</th>\n",
       "      <td>...</td>\n",
       "      <td>...</td>\n",
       "    </tr>\n",
       "    <tr>\n",
       "      <th>5978</th>\n",
       "      <td>TEST_5978</td>\n",
       "      <td>1</td>\n",
       "    </tr>\n",
       "    <tr>\n",
       "      <th>5987</th>\n",
       "      <td>TEST_5987</td>\n",
       "      <td>1</td>\n",
       "    </tr>\n",
       "    <tr>\n",
       "      <th>5997</th>\n",
       "      <td>TEST_5997</td>\n",
       "      <td>1</td>\n",
       "    </tr>\n",
       "    <tr>\n",
       "      <th>6037</th>\n",
       "      <td>TEST_6037</td>\n",
       "      <td>1</td>\n",
       "    </tr>\n",
       "    <tr>\n",
       "      <th>6038</th>\n",
       "      <td>TEST_6038</td>\n",
       "      <td>1</td>\n",
       "    </tr>\n",
       "  </tbody>\n",
       "</table>\n",
       "<p>453 rows × 2 columns</p>\n",
       "</div>"
      ],
      "text/plain": [
       "             ID  Y_LABEL\n",
       "4     TEST_0004        1\n",
       "5     TEST_0005        1\n",
       "32    TEST_0032        1\n",
       "34    TEST_0034        1\n",
       "51    TEST_0051        1\n",
       "...         ...      ...\n",
       "5978  TEST_5978        1\n",
       "5987  TEST_5987        1\n",
       "5997  TEST_5997        1\n",
       "6037  TEST_6037        1\n",
       "6038  TEST_6038        1\n",
       "\n",
       "[453 rows x 2 columns]"
      ]
     },
     "execution_count": 149,
     "metadata": {},
     "output_type": "execute_result"
    }
   ],
   "source": [
    "submit[submit['Y_LABEL']==1]"
   ]
  },
  {
   "cell_type": "code",
   "execution_count": 71,
   "id": "887ec3cf",
   "metadata": {
    "ExecuteTime": {
     "end_time": "2022-11-23T15:58:21.358145Z",
     "start_time": "2022-11-23T15:58:21.325329Z"
    }
   },
   "outputs": [],
   "source": [
    "# submit.to_csv('submit_xgbdistilation.csv', index=False)"
   ]
  }
 ],
 "metadata": {
  "kernelspec": {
   "display_name": "Python 3",
   "language": "python",
   "name": "python3"
  },
  "language_info": {
   "codemirror_mode": {
    "name": "ipython",
    "version": 3
   },
   "file_extension": ".py",
   "mimetype": "text/x-python",
   "name": "python",
   "nbconvert_exporter": "python",
   "pygments_lexer": "ipython3",
   "version": "3.8.10"
  },
  "toc": {
   "base_numbering": 1,
   "nav_menu": {},
   "number_sections": false,
   "sideBar": true,
   "skip_h1_title": false,
   "title_cell": "Table of Contents",
   "title_sidebar": "Contents",
   "toc_cell": false,
   "toc_position": {},
   "toc_section_display": true,
   "toc_window_display": false
  }
 },
 "nbformat": 4,
 "nbformat_minor": 5
}
