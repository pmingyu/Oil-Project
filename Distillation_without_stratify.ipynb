{
 "cells": [
  {
   "cell_type": "code",
   "execution_count": 1,
   "id": "db8b1e7a",
   "metadata": {
    "ExecuteTime": {
     "end_time": "2022-11-22T10:14:38.262046Z",
     "start_time": "2022-11-22T10:14:37.565695Z"
    }
   },
   "outputs": [
    {
     "name": "stdout",
     "output_type": "stream",
     "text": [
      "Tue Nov 22 10:14:38 2022       \n",
      "+-----------------------------------------------------------------------------+\n",
      "| NVIDIA-SMI 460.27.04    Driver Version: 460.27.04    CUDA Version: 11.2     |\n",
      "|-------------------------------+----------------------+----------------------+\n",
      "| GPU  Name        Persistence-M| Bus-Id        Disp.A | Volatile Uncorr. ECC |\n",
      "| Fan  Temp  Perf  Pwr:Usage/Cap|         Memory-Usage | GPU-Util  Compute M. |\n",
      "|                               |                      |               MIG M. |\n",
      "|===============================+======================+======================|\n",
      "|   0  GeForce RTX 208...  Off  | 00000000:3B:00.0 Off |                  N/A |\n",
      "| 30%   26C    P8     3W / 250W |   6761MiB / 11019MiB |      0%      Default |\n",
      "|                               |                      |                  N/A |\n",
      "+-------------------------------+----------------------+----------------------+\n",
      "|   1  GeForce RTX 208...  Off  | 00000000:5E:00.0 Off |                  N/A |\n",
      "| 30%   23C    P8     1W / 250W |   7809MiB / 11019MiB |      0%      Default |\n",
      "|                               |                      |                  N/A |\n",
      "+-------------------------------+----------------------+----------------------+\n",
      "|   2  GeForce RTX 208...  Off  | 00000000:AF:00.0 Off |                  N/A |\n",
      "| 30%   25C    P8    20W / 250W |   7811MiB / 11019MiB |      0%      Default |\n",
      "|                               |                      |                  N/A |\n",
      "+-------------------------------+----------------------+----------------------+\n",
      "|   3  GeForce RTX 208...  Off  | 00000000:D8:00.0 Off |                  N/A |\n",
      "| 30%   26C    P8     3W / 250W |   6235MiB / 11019MiB |      0%      Default |\n",
      "|                               |                      |                  N/A |\n",
      "+-------------------------------+----------------------+----------------------+\n",
      "                                                                               \n",
      "+-----------------------------------------------------------------------------+\n",
      "| Processes:                                                                  |\n",
      "|  GPU   GI   CI        PID   Type   Process name                  GPU Memory |\n",
      "|        ID   ID                                                   Usage      |\n",
      "|=============================================================================|\n",
      "|    1   N/A  N/A       601      C   /usr/libexec/gvfsd-metadata      1353MiB |\n",
      "+-----------------------------------------------------------------------------+\n"
     ]
    }
   ],
   "source": [
    "!nvidia-smi"
   ]
  },
  {
   "cell_type": "code",
   "execution_count": 2,
   "id": "e96a1d9a",
   "metadata": {
    "ExecuteTime": {
     "end_time": "2022-11-22T10:14:38.272117Z",
     "start_time": "2022-11-22T10:14:38.266680Z"
    }
   },
   "outputs": [],
   "source": [
    "import os\n",
    "os.environ[\"CUDA_VISIBLE_DEVICES\"] = \"3\""
   ]
  },
  {
   "cell_type": "code",
   "execution_count": 3,
   "id": "68d175d6",
   "metadata": {
    "ExecuteTime": {
     "end_time": "2022-11-22T10:14:39.627249Z",
     "start_time": "2022-11-22T10:14:38.276092Z"
    }
   },
   "outputs": [
    {
     "name": "stdout",
     "output_type": "stream",
     "text": [
      "cuda\n",
      "1\n"
     ]
    }
   ],
   "source": [
    "import torch\n",
    "import torch.nn as nn\n",
    "import torch.nn.functional as F\n",
    "import torch.optim as optim\n",
    "from torch.utils.data import DataLoader, Dataset\n",
    "\n",
    "from sklearn.metrics import f1_score\n",
    "from sklearn.preprocessing import StandardScaler\n",
    "from sklearn.preprocessing import LabelEncoder\n",
    "from sklearn.model_selection import train_test_split\n",
    "\n",
    "import os\n",
    "import pandas as pd\n",
    "import numpy as np\n",
    "# from tqdm.auto import tqdm\n",
    "from tqdm import tqdm\n",
    "import random\n",
    "\n",
    "import warnings\n",
    "warnings.filterwarnings(action='ignore') \n",
    "\n",
    "device = torch.device('cuda') if torch.cuda.is_available() else torch.device('cpu')\n",
    "print(device)\n",
    "print(torch.cuda.device_count())"
   ]
  },
  {
   "cell_type": "code",
   "execution_count": 4,
   "id": "ed8c8d66",
   "metadata": {
    "ExecuteTime": {
     "end_time": "2022-11-22T10:14:39.632959Z",
     "start_time": "2022-11-22T10:14:39.629792Z"
    }
   },
   "outputs": [],
   "source": [
    "CONFIG = {\n",
    "    'EPOCHS': 100,\n",
    "    'LEARNING_RATE':1e-3,\n",
    "    'BATCH_SIZE':512,\n",
    "    'SEED':101\n",
    "}"
   ]
  },
  {
   "cell_type": "code",
   "execution_count": 5,
   "id": "07855720",
   "metadata": {
    "ExecuteTime": {
     "end_time": "2022-11-22T10:14:39.645253Z",
     "start_time": "2022-11-22T10:14:39.634522Z"
    }
   },
   "outputs": [],
   "source": [
    "def seed_everything(seed):\n",
    "    random.seed(seed)\n",
    "    os.environ['PYTHONHASHSEED'] = str(seed)\n",
    "    np.random.seed(seed)\n",
    "    torch.manual_seed(seed)\n",
    "    torch.cuda.manual_seed(seed)\n",
    "    torch.backends.cudnn.deterministic = True\n",
    "    torch.backends.cudnn.benchmark = True\n",
    "\n",
    "seed_everything(CONFIG['SEED'])"
   ]
  },
  {
   "cell_type": "code",
   "execution_count": 6,
   "id": "831138a2",
   "metadata": {
    "ExecuteTime": {
     "end_time": "2022-11-22T10:14:39.746512Z",
     "start_time": "2022-11-22T10:14:39.647231Z"
    }
   },
   "outputs": [],
   "source": [
    "train = pd.read_csv('data/train.csv')\n",
    "test = pd.read_csv('data/test.csv')"
   ]
  },
  {
   "cell_type": "markdown",
   "id": "87ef951a",
   "metadata": {},
   "source": [
    "# Preprocessing"
   ]
  },
  {
   "cell_type": "code",
   "execution_count": 7,
   "id": "9cdeaad7",
   "metadata": {
    "ExecuteTime": {
     "end_time": "2022-11-22T10:14:39.751562Z",
     "start_time": "2022-11-22T10:14:39.747910Z"
    }
   },
   "outputs": [],
   "source": [
    "categorical_features = ['COMPONENT_ARBITRARY', 'YEAR']\n",
    "# Inference(실제 진단 환경)에 사용하는 컬럼\n",
    "test_stage_features = ['COMPONENT_ARBITRARY', 'ANONYMOUS_1', 'YEAR' , 'ANONYMOUS_2', 'AG', 'CO', 'CR', 'CU', 'FE', 'H2O', 'MN', 'MO', 'NI', 'PQINDEX', 'TI', 'V', 'V40', 'ZN']"
   ]
  },
  {
   "cell_type": "code",
   "execution_count": 8,
   "id": "70198b02",
   "metadata": {
    "ExecuteTime": {
     "end_time": "2022-11-22T10:14:39.769250Z",
     "start_time": "2022-11-22T10:14:39.754122Z"
    }
   },
   "outputs": [],
   "source": [
    "train = train.fillna(0)\n",
    "test = test.fillna(0)"
   ]
  },
  {
   "cell_type": "code",
   "execution_count": 9,
   "id": "224f146c",
   "metadata": {
    "ExecuteTime": {
     "end_time": "2022-11-22T10:14:39.787386Z",
     "start_time": "2022-11-22T10:14:39.771087Z"
    }
   },
   "outputs": [],
   "source": [
    "all_X = train.drop(['ID', 'Y_LABEL'], axis = 1)\n",
    "all_y = train['Y_LABEL']\n",
    "\n",
    "test = test.drop(['ID'], axis = 1)\n",
    "\n",
    "train_X, val_X, train_y, val_y = train_test_split(all_X, all_y, test_size=0.2, random_state=CONFIG['SEED']) #, stratify=all_y)"
   ]
  },
  {
   "cell_type": "code",
   "execution_count": 10,
   "id": "99f9a057",
   "metadata": {
    "ExecuteTime": {
     "end_time": "2022-11-22T10:14:39.858593Z",
     "start_time": "2022-11-22T10:14:39.788709Z"
    }
   },
   "outputs": [],
   "source": [
    "# ---------------------------\n",
    "# Handling Numerical\n",
    "# ---------------------------\n",
    "def get_values(value):\n",
    "    return value.values.reshape(-1, 1)\n",
    "\n",
    "for col in train_X.columns:\n",
    "    if col not in categorical_features:\n",
    "        scaler = StandardScaler()\n",
    "        train_X[col] = scaler.fit_transform(get_values(train_X[col]))\n",
    "        val_X[col] = scaler.transform(get_values(val_X[col]))\n",
    "        if col in test.columns:\n",
    "            test[col] = scaler.transform(get_values(test[col]))\n",
    "            \n",
    "            \n",
    "# ---------------------------\n",
    "# Handling Categorical\n",
    "# ---------------------------\n",
    "le = LabelEncoder()\n",
    "for col in categorical_features:    \n",
    "    train_X[col] = le.fit_transform(train_X[col])\n",
    "    val_X[col] = le.transform(val_X[col])\n",
    "    if col in test.columns:\n",
    "        test[col] = le.transform(test[col])"
   ]
  },
  {
   "cell_type": "markdown",
   "id": "46ea4e21",
   "metadata": {},
   "source": [
    "# Large Model (teacher)"
   ]
  },
  {
   "cell_type": "code",
   "execution_count": 11,
   "id": "db92cef5",
   "metadata": {
    "ExecuteTime": {
     "end_time": "2022-11-22T10:14:39.868164Z",
     "start_time": "2022-11-22T10:14:39.860041Z"
    }
   },
   "outputs": [],
   "source": [
    "# ---------------------------\n",
    "# Custom Dataset\n",
    "# ---------------------------\n",
    "class CustomDataset(Dataset):\n",
    "    def __init__(self, data_X, data_y, distillation=False):\n",
    "        super(CustomDataset, self).__init__()\n",
    "        self.data_X = data_X\n",
    "        self.data_y = data_y\n",
    "        self.distillation = distillation\n",
    "        \n",
    "    def __len__(self):\n",
    "        return len(self.data_X)\n",
    "    \n",
    "    def __getitem__(self, index):\n",
    "        if self.distillation:\n",
    "            #------------------------------------\n",
    "            # When Learing with distillation\n",
    "            #------------------------------------\n",
    "            teacher_X = torch.Tensor(self.data_X.iloc[index])\n",
    "            student_X = torch.Tensor(self.data_X[test_stage_features].iloc[index])\n",
    "            label_y   = torch.Tensor([self.data_y.iloc[index]])\n",
    "            return teacher_X.to(device), \\\n",
    "                   student_X.to(device), \\\n",
    "                   label_y.to(device)\n",
    "        else:\n",
    "            #------------------------------------\n",
    "            # When Learing with Normal Data\n",
    "            #------------------------------------\n",
    "            if self.data_y is None: # for submission dataset\n",
    "                test_X = torch.Tensor(self.data_X.iloc[index])\n",
    "                return test_X.to(device)\n",
    "            \n",
    "            else:\n",
    "                teacher_X = torch.Tensor(self.data_X.iloc[index])\n",
    "                label_y   = torch.Tensor([self.data_y.iloc[index]])\n",
    "                return teacher_X.to(device), \\\n",
    "                       label_y.to(device)"
   ]
  },
  {
   "cell_type": "code",
   "execution_count": 12,
   "id": "c4737eaa",
   "metadata": {
    "ExecuteTime": {
     "end_time": "2022-11-22T10:14:39.875811Z",
     "start_time": "2022-11-22T10:14:39.869371Z"
    }
   },
   "outputs": [],
   "source": [
    "# ---------------------------\n",
    "# Dataset for Teacher Model\n",
    "# ---------------------------\n",
    "train_dataset = CustomDataset(train_X, train_y, False)\n",
    "val_dataset = CustomDataset(val_X, val_y, False)\n",
    "\n",
    "# ---------------------------\n",
    "# Dataloader for Teacher Model\n",
    "# ---------------------------\n",
    "train_loader = DataLoader(train_dataset, batch_size = CONFIG['BATCH_SIZE'], shuffle=True)\n",
    "val_loader   = DataLoader(val_dataset, batch_size = CONFIG['BATCH_SIZE'], shuffle=False)"
   ]
  },
  {
   "cell_type": "code",
   "execution_count": 13,
   "id": "7c40edc3",
   "metadata": {
    "ExecuteTime": {
     "end_time": "2022-11-22T10:14:47.854212Z",
     "start_time": "2022-11-22T10:14:39.877024Z"
    }
   },
   "outputs": [
    {
     "data": {
      "text/plain": [
       "(tensor([ 0.0000e+00,  2.7493e-04,  8.0000e+00, -3.9161e-01, -3.4112e-01,\n",
       "         -1.4855e-01, -1.0477e-01,  2.4425e+00, -3.0059e-01, -3.7119e-02,\n",
       "          8.3046e-01, -6.7052e-02, -1.2607e-01, -1.1260e-01, -2.6032e-01,\n",
       "          4.9347e-01,  1.1905e+00, -3.6082e-01,  7.6335e-01,  1.1156e+00,\n",
       "          1.3627e+00, -3.6135e-01, -1.0803e-01, -3.9834e-02, -7.1962e-02,\n",
       "         -1.0763e-01, -1.9431e-01, -3.3823e-01, -4.0253e-01, -4.1215e-04,\n",
       "         -1.9460e-01,  8.8570e-02, -1.6250e-01, -2.6765e-01, -8.3927e-01,\n",
       "         -1.9846e-01, -1.6062e-01, -2.4240e-01,  5.1207e-01, -1.0670e-01,\n",
       "         -7.8102e-02, -1.0621e-01, -7.1571e-02, -1.1962e-01, -1.2277e-01,\n",
       "         -1.3725e-01, -1.5107e-01, -1.9664e-01, -1.0860e-01,  1.6066e+00,\n",
       "         -1.4155e-01,  9.7597e-01], device='cuda:0'),\n",
       " tensor([1.], device='cuda:0'))"
      ]
     },
     "execution_count": 13,
     "metadata": {},
     "output_type": "execute_result"
    }
   ],
   "source": [
    "val_dataset[0]"
   ]
  },
  {
   "cell_type": "code",
   "execution_count": 14,
   "id": "8805f519",
   "metadata": {
    "ExecuteTime": {
     "end_time": "2022-11-22T10:14:47.863919Z",
     "start_time": "2022-11-22T10:14:47.856469Z"
    }
   },
   "outputs": [],
   "source": [
    "# ---------------------------\n",
    "# Teacher Model\n",
    "# ---------------------------\n",
    "class Teacher(nn.Module):\n",
    "    def __init__(self):\n",
    "        super(Teacher, self).__init__()\n",
    "        self.classifier = nn.Sequential(\n",
    "            nn.Linear(in_features=52, out_features=256),\n",
    "            nn.BatchNorm1d(256),\n",
    "            nn.GELU(),\n",
    "            nn.Linear(in_features=256, out_features=512),\n",
    "            nn.BatchNorm1d(512),\n",
    "            nn.GELU(),\n",
    "            nn.Linear(in_features=512, out_features=1024),\n",
    "            nn.BatchNorm1d(1024),\n",
    "            nn.GELU(),\n",
    "            nn.Linear(in_features=1024, out_features=1024),\n",
    "            nn.BatchNorm1d(1024),\n",
    "            nn.GELU(),\n",
    "            nn.Linear(in_features=1024, out_features=512),\n",
    "            nn.BatchNorm1d(512),\n",
    "            nn.GELU(),\n",
    "            nn.Linear(in_features=512, out_features=256),\n",
    "            nn.BatchNorm1d(256),\n",
    "            nn.GELU(),\n",
    "            nn.Linear(in_features=256, out_features=1),\n",
    "            nn.Sigmoid()\n",
    "        )\n",
    "        \n",
    "    def forward(self, x):\n",
    "        output = self.classifier(x)\n",
    "        return output"
   ]
  },
  {
   "cell_type": "code",
   "execution_count": 15,
   "id": "af25ba45",
   "metadata": {
    "ExecuteTime": {
     "end_time": "2022-11-22T10:14:47.875744Z",
     "start_time": "2022-11-22T10:14:47.865820Z"
    }
   },
   "outputs": [],
   "source": [
    "#--------------------------------------------------------------------------------\n",
    "# Metrics\n",
    "#--------------------------------------------------------------------------------\n",
    "def competition_metric(true, pred):\n",
    "    return f1_score(true, pred, average=\"macro\")\n",
    "\n",
    "\n",
    "#--------------------------------------------------------------------------------\n",
    "# Training Teacher\n",
    "#--------------------------------------------------------------------------------\n",
    "def teacher_train(model, optimizer, train_loader, val_loader, scheduler):\n",
    "    model.to(device)\n",
    "\n",
    "    best_score = 0\n",
    "    best_model = None\n",
    "    criterion = nn.BCELoss().to(device)\n",
    "\n",
    "    for epoch in range(CONFIG[\"EPOCHS\"]):\n",
    "        train_loss = []\n",
    "        \n",
    "        # ACTIVATE TRAINING MODE\n",
    "        # --- normalisation layers1 use per-batch statistics\n",
    "        # --- activates Dropout layers2\n",
    "        model.train()\n",
    "    \n",
    "        for i,(X, y) in tqdm(enumerate(train_loader)):\n",
    "            \n",
    "            # ZERO GRADIENT\n",
    "            optimizer.zero_grad()\n",
    "            \n",
    "            # FORWARD\n",
    "            y_pred = model(X)\n",
    "            loss = criterion(y_pred, y)\n",
    "            \n",
    "            # BACKWARD\n",
    "            loss.backward()\n",
    "            \n",
    "            # UPDATE\n",
    "            optimizer.step()\n",
    "\n",
    "            train_loss.append(loss.item())\n",
    "\n",
    "        val_loss, val_score = validation_teacher(model, val_loader, criterion)\n",
    "        print(f'Epoch [{epoch}], Train Loss : [{np.mean(train_loss) :.5f}] Val Loss : [{np.mean(val_loss) :.5f}] Val F1 Score : [{val_score:.5f}]')\n",
    "\n",
    "        if scheduler is not None:\n",
    "            scheduler.step(val_score)\n",
    "            \n",
    "        if best_score < val_score:\n",
    "            best_model = model\n",
    "            best_score = val_score\n",
    "        \n",
    "    return best_model \n",
    "\n",
    "\n",
    "#--------------------------------------------------------------------------------\n",
    "# Validation Teacher\n",
    "#--------------------------------------------------------------------------------\n",
    "def validation_teacher(model, val_loader, criterion):\n",
    "    # ACTIVATE EVALUATION MODE\n",
    "    # --- normalisation layers use running statistics\n",
    "    # --- de-activates Dropout layers\n",
    "    model.eval()\n",
    "\n",
    "    val_loss = []\n",
    "    pred_labels = []\n",
    "    true_labels = []\n",
    "    threshold = 0.4\n",
    "    \n",
    "    with torch.no_grad():\n",
    "        for i,(X, y) in tqdm(enumerate(val_loader)):\n",
    "            \n",
    "            model_pred = model(X)\n",
    "            \n",
    "            loss = criterion(model_pred,y)\n",
    "            val_loss.append(loss.item())\n",
    "            \n",
    "            model_pred = model_pred.squeeze(1)#.to('cpu')  \n",
    "            pred_labels += model_pred.tolist()\n",
    "            true_labels += y.tolist()\n",
    "        \n",
    "        pred_labels = np.where(np.array(pred_labels) > threshold, 1, 0)\n",
    "        val_f1 = competition_metric(true_labels, pred_labels)\n",
    "    return val_loss, val_f1"
   ]
  },
  {
   "cell_type": "code",
   "execution_count": 16,
   "id": "bf095728",
   "metadata": {
    "ExecuteTime": {
     "end_time": "2022-11-22T10:21:59.135837Z",
     "start_time": "2022-11-22T10:14:47.877218Z"
    },
    "scrolled": true
   },
   "outputs": [
    {
     "name": "stderr",
     "output_type": "stream",
     "text": [
      "23it [00:03,  6.43it/s]\n",
      "6it [00:00,  7.27it/s]\n"
     ]
    },
    {
     "name": "stdout",
     "output_type": "stream",
     "text": [
      "Epoch [0], Train Loss : [0.35824] Val Loss : [0.21550] Val F1 Score : [0.75216]\n"
     ]
    },
    {
     "name": "stderr",
     "output_type": "stream",
     "text": [
      "23it [00:03,  6.64it/s]\n",
      "6it [00:00,  6.99it/s]\n"
     ]
    },
    {
     "name": "stdout",
     "output_type": "stream",
     "text": [
      "Epoch [1], Train Loss : [0.22545] Val Loss : [0.21751] Val F1 Score : [0.73621]\n"
     ]
    },
    {
     "name": "stderr",
     "output_type": "stream",
     "text": [
      "23it [00:03,  6.63it/s]\n",
      "6it [00:00,  6.91it/s]\n"
     ]
    },
    {
     "name": "stdout",
     "output_type": "stream",
     "text": [
      "Epoch [2], Train Loss : [0.21008] Val Loss : [0.19335] Val F1 Score : [0.75297]\n"
     ]
    },
    {
     "name": "stderr",
     "output_type": "stream",
     "text": [
      "23it [00:03,  6.58it/s]\n",
      "6it [00:00,  7.28it/s]\n"
     ]
    },
    {
     "name": "stdout",
     "output_type": "stream",
     "text": [
      "Epoch [3], Train Loss : [0.23614] Val Loss : [0.18490] Val F1 Score : [0.79203]\n"
     ]
    },
    {
     "name": "stderr",
     "output_type": "stream",
     "text": [
      "23it [00:03,  6.79it/s]\n",
      "6it [00:00,  7.25it/s]\n"
     ]
    },
    {
     "name": "stdout",
     "output_type": "stream",
     "text": [
      "Epoch [4], Train Loss : [0.19685] Val Loss : [0.17712] Val F1 Score : [0.79526]\n"
     ]
    },
    {
     "name": "stderr",
     "output_type": "stream",
     "text": [
      "23it [00:03,  6.73it/s]\n",
      "6it [00:00,  7.28it/s]\n"
     ]
    },
    {
     "name": "stdout",
     "output_type": "stream",
     "text": [
      "Epoch [5], Train Loss : [0.18623] Val Loss : [0.17154] Val F1 Score : [0.80058]\n"
     ]
    },
    {
     "name": "stderr",
     "output_type": "stream",
     "text": [
      "23it [00:03,  6.72it/s]\n",
      "6it [00:00,  7.34it/s]\n"
     ]
    },
    {
     "name": "stdout",
     "output_type": "stream",
     "text": [
      "Epoch [6], Train Loss : [0.18636] Val Loss : [0.17272] Val F1 Score : [0.79601]\n"
     ]
    },
    {
     "name": "stderr",
     "output_type": "stream",
     "text": [
      "23it [00:03,  6.51it/s]\n",
      "6it [00:00,  7.41it/s]\n"
     ]
    },
    {
     "name": "stdout",
     "output_type": "stream",
     "text": [
      "Epoch [7], Train Loss : [0.18700] Val Loss : [0.16798] Val F1 Score : [0.80618]\n"
     ]
    },
    {
     "name": "stderr",
     "output_type": "stream",
     "text": [
      "23it [00:03,  6.55it/s]\n",
      "6it [00:00,  7.38it/s]\n"
     ]
    },
    {
     "name": "stdout",
     "output_type": "stream",
     "text": [
      "Epoch [8], Train Loss : [0.17807] Val Loss : [0.17103] Val F1 Score : [0.80432]\n"
     ]
    },
    {
     "name": "stderr",
     "output_type": "stream",
     "text": [
      "23it [00:03,  6.46it/s]\n",
      "6it [00:00,  7.38it/s]\n"
     ]
    },
    {
     "name": "stdout",
     "output_type": "stream",
     "text": [
      "Epoch [9], Train Loss : [0.18309] Val Loss : [0.16718] Val F1 Score : [0.80522]\n"
     ]
    },
    {
     "name": "stderr",
     "output_type": "stream",
     "text": [
      "23it [00:03,  6.55it/s]\n",
      "6it [00:00,  7.26it/s]\n"
     ]
    },
    {
     "name": "stdout",
     "output_type": "stream",
     "text": [
      "Epoch [10], Train Loss : [0.18637] Val Loss : [0.16638] Val F1 Score : [0.82038]\n"
     ]
    },
    {
     "name": "stderr",
     "output_type": "stream",
     "text": [
      "23it [00:03,  6.66it/s]\n",
      "6it [00:00,  7.20it/s]\n"
     ]
    },
    {
     "name": "stdout",
     "output_type": "stream",
     "text": [
      "Epoch [11], Train Loss : [0.18906] Val Loss : [0.16736] Val F1 Score : [0.81488]\n"
     ]
    },
    {
     "name": "stderr",
     "output_type": "stream",
     "text": [
      "23it [00:03,  6.50it/s]\n",
      "6it [00:00,  6.77it/s]\n"
     ]
    },
    {
     "name": "stdout",
     "output_type": "stream",
     "text": [
      "Epoch [12], Train Loss : [0.16518] Val Loss : [0.17097] Val F1 Score : [0.80532]\n"
     ]
    },
    {
     "name": "stderr",
     "output_type": "stream",
     "text": [
      "23it [00:03,  6.69it/s]\n",
      "6it [00:00,  6.87it/s]\n"
     ]
    },
    {
     "name": "stdout",
     "output_type": "stream",
     "text": [
      "Epoch [13], Train Loss : [0.17267] Val Loss : [0.16507] Val F1 Score : [0.81204]\n"
     ]
    },
    {
     "name": "stderr",
     "output_type": "stream",
     "text": [
      "23it [00:03,  6.29it/s]\n",
      "6it [00:00,  7.05it/s]\n"
     ]
    },
    {
     "name": "stdout",
     "output_type": "stream",
     "text": [
      "Epoch [14], Train Loss : [0.17428] Val Loss : [0.16655] Val F1 Score : [0.81467]\n"
     ]
    },
    {
     "name": "stderr",
     "output_type": "stream",
     "text": [
      "23it [00:03,  6.43it/s]\n",
      "6it [00:00,  7.10it/s]\n"
     ]
    },
    {
     "name": "stdout",
     "output_type": "stream",
     "text": [
      "Epoch [15], Train Loss : [0.16131] Val Loss : [0.16267] Val F1 Score : [0.80911]\n"
     ]
    },
    {
     "name": "stderr",
     "output_type": "stream",
     "text": [
      "23it [00:03,  6.48it/s]\n",
      "6it [00:00,  7.14it/s]\n"
     ]
    },
    {
     "name": "stdout",
     "output_type": "stream",
     "text": [
      "Epoch [16], Train Loss : [0.17180] Val Loss : [0.17150] Val F1 Score : [0.79483]\n",
      "Epoch    17: reducing learning rate of group 0 to 5.0000e-04.\n"
     ]
    },
    {
     "name": "stderr",
     "output_type": "stream",
     "text": [
      "23it [00:03,  6.68it/s]\n",
      "6it [00:00,  7.24it/s]\n"
     ]
    },
    {
     "name": "stdout",
     "output_type": "stream",
     "text": [
      "Epoch [17], Train Loss : [0.15907] Val Loss : [0.16491] Val F1 Score : [0.81199]\n"
     ]
    },
    {
     "name": "stderr",
     "output_type": "stream",
     "text": [
      "23it [00:03,  6.70it/s]\n",
      "6it [00:00,  7.14it/s]\n"
     ]
    },
    {
     "name": "stdout",
     "output_type": "stream",
     "text": [
      "Epoch [18], Train Loss : [0.14956] Val Loss : [0.16141] Val F1 Score : [0.81477]\n"
     ]
    },
    {
     "name": "stderr",
     "output_type": "stream",
     "text": [
      "23it [00:03,  6.69it/s]\n",
      "6it [00:00,  7.33it/s]\n"
     ]
    },
    {
     "name": "stdout",
     "output_type": "stream",
     "text": [
      "Epoch [19], Train Loss : [0.14808] Val Loss : [0.15904] Val F1 Score : [0.81762]\n"
     ]
    },
    {
     "name": "stderr",
     "output_type": "stream",
     "text": [
      "23it [00:03,  6.72it/s]\n",
      "6it [00:00,  7.35it/s]\n"
     ]
    },
    {
     "name": "stdout",
     "output_type": "stream",
     "text": [
      "Epoch [20], Train Loss : [0.14201] Val Loss : [0.15917] Val F1 Score : [0.80995]\n"
     ]
    },
    {
     "name": "stderr",
     "output_type": "stream",
     "text": [
      "23it [00:03,  6.46it/s]\n",
      "6it [00:00,  7.27it/s]\n"
     ]
    },
    {
     "name": "stdout",
     "output_type": "stream",
     "text": [
      "Epoch [21], Train Loss : [0.14210] Val Loss : [0.16135] Val F1 Score : [0.81079]\n"
     ]
    },
    {
     "name": "stderr",
     "output_type": "stream",
     "text": [
      "23it [00:03,  6.19it/s]\n",
      "6it [00:00,  6.82it/s]\n"
     ]
    },
    {
     "name": "stdout",
     "output_type": "stream",
     "text": [
      "Epoch [22], Train Loss : [0.14390] Val Loss : [0.15677] Val F1 Score : [0.81958]\n",
      "Epoch    23: reducing learning rate of group 0 to 2.5000e-04.\n"
     ]
    },
    {
     "name": "stderr",
     "output_type": "stream",
     "text": [
      "23it [00:03,  6.25it/s]\n",
      "6it [00:00,  7.22it/s]\n"
     ]
    },
    {
     "name": "stdout",
     "output_type": "stream",
     "text": [
      "Epoch [23], Train Loss : [0.13496] Val Loss : [0.16003] Val F1 Score : [0.81844]\n"
     ]
    },
    {
     "name": "stderr",
     "output_type": "stream",
     "text": [
      "23it [00:03,  6.51it/s]\n",
      "6it [00:00,  7.23it/s]\n"
     ]
    },
    {
     "name": "stdout",
     "output_type": "stream",
     "text": [
      "Epoch [24], Train Loss : [0.13624] Val Loss : [0.15845] Val F1 Score : [0.82407]\n"
     ]
    },
    {
     "name": "stderr",
     "output_type": "stream",
     "text": [
      "23it [00:03,  6.57it/s]\n",
      "6it [00:00,  7.30it/s]\n"
     ]
    },
    {
     "name": "stdout",
     "output_type": "stream",
     "text": [
      "Epoch [25], Train Loss : [0.13118] Val Loss : [0.16141] Val F1 Score : [0.82309]\n"
     ]
    },
    {
     "name": "stderr",
     "output_type": "stream",
     "text": [
      "23it [00:03,  6.56it/s]\n",
      "6it [00:00,  7.36it/s]\n"
     ]
    },
    {
     "name": "stdout",
     "output_type": "stream",
     "text": [
      "Epoch [26], Train Loss : [0.13070] Val Loss : [0.16023] Val F1 Score : [0.82479]\n"
     ]
    },
    {
     "name": "stderr",
     "output_type": "stream",
     "text": [
      "23it [00:03,  6.55it/s]\n",
      "6it [00:00,  7.36it/s]\n"
     ]
    },
    {
     "name": "stdout",
     "output_type": "stream",
     "text": [
      "Epoch [27], Train Loss : [0.15570] Val Loss : [0.16183] Val F1 Score : [0.81617]\n"
     ]
    },
    {
     "name": "stderr",
     "output_type": "stream",
     "text": [
      "23it [00:03,  6.38it/s]\n",
      "6it [00:00,  7.40it/s]\n"
     ]
    },
    {
     "name": "stdout",
     "output_type": "stream",
     "text": [
      "Epoch [28], Train Loss : [0.13075] Val Loss : [0.16771] Val F1 Score : [0.81725]\n"
     ]
    },
    {
     "name": "stderr",
     "output_type": "stream",
     "text": [
      "23it [00:03,  6.72it/s]\n",
      "6it [00:00,  7.31it/s]\n"
     ]
    },
    {
     "name": "stdout",
     "output_type": "stream",
     "text": [
      "Epoch [29], Train Loss : [0.12689] Val Loss : [0.15931] Val F1 Score : [0.82201]\n"
     ]
    },
    {
     "name": "stderr",
     "output_type": "stream",
     "text": [
      "23it [00:03,  6.69it/s]\n",
      "6it [00:00,  7.10it/s]\n"
     ]
    },
    {
     "name": "stdout",
     "output_type": "stream",
     "text": [
      "Epoch [30], Train Loss : [0.12414] Val Loss : [0.16031] Val F1 Score : [0.81905]\n"
     ]
    },
    {
     "name": "stderr",
     "output_type": "stream",
     "text": [
      "23it [00:03,  6.69it/s]\n",
      "6it [00:00,  7.24it/s]\n"
     ]
    },
    {
     "name": "stdout",
     "output_type": "stream",
     "text": [
      "Epoch [31], Train Loss : [0.12180] Val Loss : [0.16420] Val F1 Score : [0.82064]\n"
     ]
    },
    {
     "name": "stderr",
     "output_type": "stream",
     "text": [
      "23it [00:03,  6.77it/s]\n",
      "6it [00:00,  7.01it/s]\n"
     ]
    },
    {
     "name": "stdout",
     "output_type": "stream",
     "text": [
      "Epoch [32], Train Loss : [0.12049] Val Loss : [0.16103] Val F1 Score : [0.82234]\n",
      "Epoch    33: reducing learning rate of group 0 to 1.2500e-04.\n"
     ]
    },
    {
     "name": "stderr",
     "output_type": "stream",
     "text": [
      "23it [00:03,  6.77it/s]\n",
      "6it [00:00,  7.34it/s]\n"
     ]
    },
    {
     "name": "stdout",
     "output_type": "stream",
     "text": [
      "Epoch [33], Train Loss : [0.12308] Val Loss : [0.16352] Val F1 Score : [0.82263]\n"
     ]
    },
    {
     "name": "stderr",
     "output_type": "stream",
     "text": [
      "23it [00:03,  6.66it/s]\n",
      "6it [00:00,  7.38it/s]\n"
     ]
    },
    {
     "name": "stdout",
     "output_type": "stream",
     "text": [
      "Epoch [34], Train Loss : [0.12781] Val Loss : [0.16787] Val F1 Score : [0.81971]\n"
     ]
    },
    {
     "name": "stderr",
     "output_type": "stream",
     "text": [
      "23it [00:03,  6.49it/s]\n",
      "6it [00:00,  7.25it/s]\n"
     ]
    },
    {
     "name": "stdout",
     "output_type": "stream",
     "text": [
      "Epoch [35], Train Loss : [0.12022] Val Loss : [0.16850] Val F1 Score : [0.80711]\n"
     ]
    },
    {
     "name": "stderr",
     "output_type": "stream",
     "text": [
      "23it [00:03,  6.61it/s]\n",
      "6it [00:00,  7.37it/s]\n"
     ]
    },
    {
     "name": "stdout",
     "output_type": "stream",
     "text": [
      "Epoch [36], Train Loss : [0.11684] Val Loss : [0.16985] Val F1 Score : [0.80363]\n"
     ]
    },
    {
     "name": "stderr",
     "output_type": "stream",
     "text": [
      "23it [00:03,  6.64it/s]\n",
      "6it [00:00,  7.39it/s]\n"
     ]
    },
    {
     "name": "stdout",
     "output_type": "stream",
     "text": [
      "Epoch [37], Train Loss : [0.11574] Val Loss : [0.16852] Val F1 Score : [0.80866]\n"
     ]
    },
    {
     "name": "stderr",
     "output_type": "stream",
     "text": [
      "23it [00:03,  6.69it/s]\n",
      "6it [00:00,  7.33it/s]\n"
     ]
    },
    {
     "name": "stdout",
     "output_type": "stream",
     "text": [
      "Epoch [38], Train Loss : [0.11859] Val Loss : [0.16617] Val F1 Score : [0.81236]\n",
      "Epoch    39: reducing learning rate of group 0 to 6.2500e-05.\n"
     ]
    },
    {
     "name": "stderr",
     "output_type": "stream",
     "text": [
      "23it [00:03,  6.75it/s]\n",
      "6it [00:00,  7.35it/s]\n"
     ]
    },
    {
     "name": "stdout",
     "output_type": "stream",
     "text": [
      "Epoch [39], Train Loss : [0.13595] Val Loss : [0.16880] Val F1 Score : [0.81389]\n"
     ]
    },
    {
     "name": "stderr",
     "output_type": "stream",
     "text": [
      "23it [00:03,  6.63it/s]\n",
      "6it [00:00,  7.22it/s]\n"
     ]
    },
    {
     "name": "stdout",
     "output_type": "stream",
     "text": [
      "Epoch [40], Train Loss : [0.12907] Val Loss : [0.16441] Val F1 Score : [0.81505]\n"
     ]
    },
    {
     "name": "stderr",
     "output_type": "stream",
     "text": [
      "23it [00:03,  6.69it/s]\n",
      "6it [00:00,  7.31it/s]\n"
     ]
    },
    {
     "name": "stdout",
     "output_type": "stream",
     "text": [
      "Epoch [41], Train Loss : [0.11943] Val Loss : [0.16537] Val F1 Score : [0.82415]\n"
     ]
    },
    {
     "name": "stderr",
     "output_type": "stream",
     "text": [
      "23it [00:03,  6.47it/s]\n",
      "6it [00:00,  7.26it/s]\n"
     ]
    },
    {
     "name": "stdout",
     "output_type": "stream",
     "text": [
      "Epoch [42], Train Loss : [0.11772] Val Loss : [0.16764] Val F1 Score : [0.81133]\n"
     ]
    },
    {
     "name": "stderr",
     "output_type": "stream",
     "text": [
      "23it [00:03,  6.64it/s]\n",
      "6it [00:00,  7.17it/s]\n"
     ]
    },
    {
     "name": "stdout",
     "output_type": "stream",
     "text": [
      "Epoch [43], Train Loss : [0.11392] Val Loss : [0.16603] Val F1 Score : [0.81325]\n"
     ]
    },
    {
     "name": "stderr",
     "output_type": "stream",
     "text": [
      "23it [00:03,  6.69it/s]\n",
      "6it [00:00,  6.99it/s]\n"
     ]
    },
    {
     "name": "stdout",
     "output_type": "stream",
     "text": [
      "Epoch [44], Train Loss : [0.11128] Val Loss : [0.16619] Val F1 Score : [0.81769]\n",
      "Epoch    45: reducing learning rate of group 0 to 3.1250e-05.\n"
     ]
    },
    {
     "name": "stderr",
     "output_type": "stream",
     "text": [
      "23it [00:03,  6.69it/s]\n",
      "6it [00:00,  7.30it/s]\n"
     ]
    },
    {
     "name": "stdout",
     "output_type": "stream",
     "text": [
      "Epoch [45], Train Loss : [0.10957] Val Loss : [0.16799] Val F1 Score : [0.82033]\n"
     ]
    },
    {
     "name": "stderr",
     "output_type": "stream",
     "text": [
      "23it [00:03,  6.59it/s]\n",
      "6it [00:00,  7.32it/s]\n"
     ]
    },
    {
     "name": "stdout",
     "output_type": "stream",
     "text": [
      "Epoch [46], Train Loss : [0.10946] Val Loss : [0.16658] Val F1 Score : [0.81314]\n"
     ]
    },
    {
     "name": "stderr",
     "output_type": "stream",
     "text": [
      "23it [00:03,  6.71it/s]\n",
      "6it [00:00,  7.36it/s]\n"
     ]
    },
    {
     "name": "stdout",
     "output_type": "stream",
     "text": [
      "Epoch [47], Train Loss : [0.10991] Val Loss : [0.16809] Val F1 Score : [0.81573]\n"
     ]
    },
    {
     "name": "stderr",
     "output_type": "stream",
     "text": [
      "23it [00:03,  6.76it/s]\n",
      "6it [00:00,  7.39it/s]\n"
     ]
    },
    {
     "name": "stdout",
     "output_type": "stream",
     "text": [
      "Epoch [48], Train Loss : [0.10916] Val Loss : [0.17105] Val F1 Score : [0.81308]\n"
     ]
    },
    {
     "name": "stderr",
     "output_type": "stream",
     "text": [
      "23it [00:03,  6.47it/s]\n",
      "6it [00:00,  7.35it/s]\n"
     ]
    },
    {
     "name": "stdout",
     "output_type": "stream",
     "text": [
      "Epoch [49], Train Loss : [0.10660] Val Loss : [0.16829] Val F1 Score : [0.81942]\n"
     ]
    },
    {
     "name": "stderr",
     "output_type": "stream",
     "text": [
      "23it [00:03,  6.69it/s]\n",
      "6it [00:00,  7.19it/s]\n"
     ]
    },
    {
     "name": "stdout",
     "output_type": "stream",
     "text": [
      "Epoch [50], Train Loss : [0.13038] Val Loss : [0.16643] Val F1 Score : [0.82873]\n"
     ]
    },
    {
     "name": "stderr",
     "output_type": "stream",
     "text": [
      "23it [00:03,  6.66it/s]\n",
      "6it [00:00,  7.34it/s]\n"
     ]
    },
    {
     "name": "stdout",
     "output_type": "stream",
     "text": [
      "Epoch [51], Train Loss : [0.10788] Val Loss : [0.17024] Val F1 Score : [0.81050]\n"
     ]
    },
    {
     "name": "stderr",
     "output_type": "stream",
     "text": [
      "23it [00:03,  6.78it/s]\n",
      "6it [00:00,  7.37it/s]\n"
     ]
    },
    {
     "name": "stdout",
     "output_type": "stream",
     "text": [
      "Epoch [52], Train Loss : [0.11984] Val Loss : [0.17098] Val F1 Score : [0.80870]\n"
     ]
    },
    {
     "name": "stderr",
     "output_type": "stream",
     "text": [
      "23it [00:03,  6.78it/s]\n",
      "6it [00:00,  7.45it/s]\n"
     ]
    },
    {
     "name": "stdout",
     "output_type": "stream",
     "text": [
      "Epoch [53], Train Loss : [0.10753] Val Loss : [0.16734] Val F1 Score : [0.82824]\n"
     ]
    },
    {
     "name": "stderr",
     "output_type": "stream",
     "text": [
      "23it [00:03,  6.79it/s]\n",
      "6it [00:00,  7.44it/s]\n"
     ]
    },
    {
     "name": "stdout",
     "output_type": "stream",
     "text": [
      "Epoch [54], Train Loss : [0.12889] Val Loss : [0.17311] Val F1 Score : [0.80792]\n"
     ]
    },
    {
     "name": "stderr",
     "output_type": "stream",
     "text": [
      "23it [00:03,  6.54it/s]\n",
      "6it [00:00,  7.29it/s]\n"
     ]
    },
    {
     "name": "stdout",
     "output_type": "stream",
     "text": [
      "Epoch [55], Train Loss : [0.10712] Val Loss : [0.16915] Val F1 Score : [0.81922]\n"
     ]
    },
    {
     "name": "stderr",
     "output_type": "stream",
     "text": [
      "23it [00:03,  6.55it/s]\n",
      "6it [00:00,  7.43it/s]\n"
     ]
    },
    {
     "name": "stdout",
     "output_type": "stream",
     "text": [
      "Epoch [56], Train Loss : [0.10595] Val Loss : [0.17152] Val F1 Score : [0.81396]\n",
      "Epoch    57: reducing learning rate of group 0 to 1.5625e-05.\n"
     ]
    },
    {
     "name": "stderr",
     "output_type": "stream",
     "text": [
      "23it [00:03,  6.73it/s]\n",
      "6it [00:00,  7.32it/s]\n"
     ]
    },
    {
     "name": "stdout",
     "output_type": "stream",
     "text": [
      "Epoch [57], Train Loss : [0.10616] Val Loss : [0.17407] Val F1 Score : [0.80616]\n"
     ]
    },
    {
     "name": "stderr",
     "output_type": "stream",
     "text": [
      "23it [00:03,  6.71it/s]\n",
      "6it [00:00,  7.34it/s]\n"
     ]
    },
    {
     "name": "stdout",
     "output_type": "stream",
     "text": [
      "Epoch [58], Train Loss : [0.10470] Val Loss : [0.17198] Val F1 Score : [0.80959]\n"
     ]
    },
    {
     "name": "stderr",
     "output_type": "stream",
     "text": [
      "23it [00:03,  6.68it/s]\n",
      "6it [00:00,  7.20it/s]\n"
     ]
    },
    {
     "name": "stdout",
     "output_type": "stream",
     "text": [
      "Epoch [59], Train Loss : [0.11009] Val Loss : [0.17358] Val F1 Score : [0.80279]\n"
     ]
    },
    {
     "name": "stderr",
     "output_type": "stream",
     "text": [
      "23it [00:03,  6.78it/s]\n",
      "6it [00:00,  7.31it/s]\n"
     ]
    },
    {
     "name": "stdout",
     "output_type": "stream",
     "text": [
      "Epoch [60], Train Loss : [0.10906] Val Loss : [0.17160] Val F1 Score : [0.81308]\n"
     ]
    },
    {
     "name": "stderr",
     "output_type": "stream",
     "text": [
      "23it [00:03,  6.74it/s]\n",
      "6it [00:00,  7.37it/s]\n"
     ]
    },
    {
     "name": "stdout",
     "output_type": "stream",
     "text": [
      "Epoch [61], Train Loss : [0.11839] Val Loss : [0.17119] Val F1 Score : [0.82114]\n"
     ]
    },
    {
     "name": "stderr",
     "output_type": "stream",
     "text": [
      "23it [00:03,  6.77it/s]\n",
      "6it [00:00,  7.45it/s]\n"
     ]
    },
    {
     "name": "stdout",
     "output_type": "stream",
     "text": [
      "Epoch [62], Train Loss : [0.10642] Val Loss : [0.16987] Val F1 Score : [0.81491]\n",
      "Epoch    63: reducing learning rate of group 0 to 7.8125e-06.\n"
     ]
    },
    {
     "name": "stderr",
     "output_type": "stream",
     "text": [
      "23it [00:03,  6.53it/s]\n",
      "6it [00:00,  7.37it/s]\n"
     ]
    },
    {
     "name": "stdout",
     "output_type": "stream",
     "text": [
      "Epoch [63], Train Loss : [0.10893] Val Loss : [0.17447] Val F1 Score : [0.80279]\n"
     ]
    },
    {
     "name": "stderr",
     "output_type": "stream",
     "text": [
      "23it [00:03,  6.70it/s]\n",
      "6it [00:00,  7.24it/s]\n"
     ]
    },
    {
     "name": "stdout",
     "output_type": "stream",
     "text": [
      "Epoch [64], Train Loss : [0.11042] Val Loss : [0.16921] Val F1 Score : [0.81942]\n"
     ]
    },
    {
     "name": "stderr",
     "output_type": "stream",
     "text": [
      "23it [00:03,  6.71it/s]\n",
      "6it [00:00,  7.08it/s]\n"
     ]
    },
    {
     "name": "stdout",
     "output_type": "stream",
     "text": [
      "Epoch [65], Train Loss : [0.11663] Val Loss : [0.17248] Val F1 Score : [0.81225]\n"
     ]
    },
    {
     "name": "stderr",
     "output_type": "stream",
     "text": [
      "23it [00:03,  6.63it/s]\n",
      "6it [00:00,  7.17it/s]\n"
     ]
    },
    {
     "name": "stdout",
     "output_type": "stream",
     "text": [
      "Epoch [66], Train Loss : [0.11768] Val Loss : [0.17819] Val F1 Score : [0.80114]\n"
     ]
    },
    {
     "name": "stderr",
     "output_type": "stream",
     "text": [
      "23it [00:03,  6.77it/s]\n",
      "6it [00:00,  7.43it/s]\n"
     ]
    },
    {
     "name": "stdout",
     "output_type": "stream",
     "text": [
      "Epoch [67], Train Loss : [0.10399] Val Loss : [0.16978] Val F1 Score : [0.81491]\n"
     ]
    },
    {
     "name": "stderr",
     "output_type": "stream",
     "text": [
      "23it [00:03,  6.81it/s]\n",
      "6it [00:00,  7.37it/s]\n"
     ]
    },
    {
     "name": "stdout",
     "output_type": "stream",
     "text": [
      "Epoch [68], Train Loss : [0.10505] Val Loss : [0.17194] Val F1 Score : [0.81137]\n",
      "Epoch    69: reducing learning rate of group 0 to 3.9063e-06.\n"
     ]
    },
    {
     "name": "stderr",
     "output_type": "stream",
     "text": [
      "23it [00:03,  6.77it/s]\n",
      "6it [00:00,  7.43it/s]\n"
     ]
    },
    {
     "name": "stdout",
     "output_type": "stream",
     "text": [
      "Epoch [69], Train Loss : [0.11831] Val Loss : [0.17255] Val F1 Score : [0.81302]\n"
     ]
    },
    {
     "name": "stderr",
     "output_type": "stream",
     "text": [
      "23it [00:03,  6.60it/s]\n",
      "6it [00:00,  7.36it/s]\n"
     ]
    },
    {
     "name": "stdout",
     "output_type": "stream",
     "text": [
      "Epoch [70], Train Loss : [0.10350] Val Loss : [0.16915] Val F1 Score : [0.81860]\n"
     ]
    },
    {
     "name": "stderr",
     "output_type": "stream",
     "text": [
      "23it [00:03,  6.72it/s]\n",
      "6it [00:00,  7.39it/s]\n"
     ]
    },
    {
     "name": "stdout",
     "output_type": "stream",
     "text": [
      "Epoch [71], Train Loss : [0.10715] Val Loss : [0.17478] Val F1 Score : [0.80870]\n"
     ]
    },
    {
     "name": "stderr",
     "output_type": "stream",
     "text": [
      "23it [00:03,  6.67it/s]\n",
      "6it [00:00,  7.32it/s]\n"
     ]
    },
    {
     "name": "stdout",
     "output_type": "stream",
     "text": [
      "Epoch [72], Train Loss : [0.10319] Val Loss : [0.17178] Val F1 Score : [0.81133]\n"
     ]
    },
    {
     "name": "stderr",
     "output_type": "stream",
     "text": [
      "23it [00:03,  6.73it/s]\n",
      "6it [00:00,  7.43it/s]\n"
     ]
    },
    {
     "name": "stdout",
     "output_type": "stream",
     "text": [
      "Epoch [73], Train Loss : [0.10207] Val Loss : [0.17260] Val F1 Score : [0.80873]\n"
     ]
    },
    {
     "name": "stderr",
     "output_type": "stream",
     "text": [
      "23it [00:03,  6.72it/s]\n",
      "6it [00:00,  7.40it/s]\n"
     ]
    },
    {
     "name": "stdout",
     "output_type": "stream",
     "text": [
      "Epoch [74], Train Loss : [0.10393] Val Loss : [0.17293] Val F1 Score : [0.80787]\n",
      "Epoch    75: reducing learning rate of group 0 to 1.9531e-06.\n"
     ]
    },
    {
     "name": "stderr",
     "output_type": "stream",
     "text": [
      "23it [00:03,  6.77it/s]\n",
      "6it [00:00,  7.49it/s]\n"
     ]
    },
    {
     "name": "stdout",
     "output_type": "stream",
     "text": [
      "Epoch [75], Train Loss : [0.10155] Val Loss : [0.17465] Val F1 Score : [0.81046]\n"
     ]
    },
    {
     "name": "stderr",
     "output_type": "stream",
     "text": [
      "23it [00:03,  6.85it/s]\n",
      "6it [00:00,  7.51it/s]\n"
     ]
    },
    {
     "name": "stdout",
     "output_type": "stream",
     "text": [
      "Epoch [76], Train Loss : [0.13409] Val Loss : [0.17149] Val F1 Score : [0.81670]\n"
     ]
    },
    {
     "name": "stderr",
     "output_type": "stream",
     "text": [
      "23it [00:03,  6.66it/s]\n",
      "6it [00:00,  7.49it/s]\n"
     ]
    },
    {
     "name": "stdout",
     "output_type": "stream",
     "text": [
      "Epoch [77], Train Loss : [0.10386] Val Loss : [0.17260] Val F1 Score : [0.81046]\n"
     ]
    },
    {
     "name": "stderr",
     "output_type": "stream",
     "text": [
      "23it [00:03,  6.73it/s]\n",
      "6it [00:00,  7.46it/s]\n"
     ]
    },
    {
     "name": "stdout",
     "output_type": "stream",
     "text": [
      "Epoch [78], Train Loss : [0.10551] Val Loss : [0.17405] Val F1 Score : [0.80701]\n"
     ]
    },
    {
     "name": "stderr",
     "output_type": "stream",
     "text": [
      "23it [00:03,  6.73it/s]\n",
      "6it [00:00,  7.38it/s]\n"
     ]
    },
    {
     "name": "stdout",
     "output_type": "stream",
     "text": [
      "Epoch [79], Train Loss : [0.10206] Val Loss : [0.17581] Val F1 Score : [0.80870]\n"
     ]
    },
    {
     "name": "stderr",
     "output_type": "stream",
     "text": [
      "23it [00:03,  6.71it/s]\n",
      "6it [00:00,  7.31it/s]\n"
     ]
    },
    {
     "name": "stdout",
     "output_type": "stream",
     "text": [
      "Epoch [80], Train Loss : [0.10339] Val Loss : [0.17501] Val F1 Score : [0.80784]\n",
      "Epoch    81: reducing learning rate of group 0 to 1.0000e-06.\n"
     ]
    },
    {
     "name": "stderr",
     "output_type": "stream",
     "text": [
      "23it [00:03,  6.60it/s]\n",
      "6it [00:00,  7.17it/s]\n"
     ]
    },
    {
     "name": "stdout",
     "output_type": "stream",
     "text": [
      "Epoch [81], Train Loss : [0.11759] Val Loss : [0.17185] Val F1 Score : [0.81133]\n"
     ]
    },
    {
     "name": "stderr",
     "output_type": "stream",
     "text": [
      "23it [00:03,  6.67it/s]\n",
      "6it [00:00,  7.40it/s]\n"
     ]
    },
    {
     "name": "stdout",
     "output_type": "stream",
     "text": [
      "Epoch [82], Train Loss : [0.10799] Val Loss : [0.17278] Val F1 Score : [0.81133]\n"
     ]
    },
    {
     "name": "stderr",
     "output_type": "stream",
     "text": [
      "23it [00:03,  6.82it/s]\n",
      "6it [00:00,  7.47it/s]\n"
     ]
    },
    {
     "name": "stdout",
     "output_type": "stream",
     "text": [
      "Epoch [83], Train Loss : [0.11977] Val Loss : [0.17161] Val F1 Score : [0.81050]\n"
     ]
    },
    {
     "name": "stderr",
     "output_type": "stream",
     "text": [
      "23it [00:03,  6.67it/s]\n",
      "6it [00:00,  7.47it/s]\n"
     ]
    },
    {
     "name": "stdout",
     "output_type": "stream",
     "text": [
      "Epoch [84], Train Loss : [0.10323] Val Loss : [0.17422] Val F1 Score : [0.80876]\n"
     ]
    },
    {
     "name": "stderr",
     "output_type": "stream",
     "text": [
      "23it [00:03,  6.81it/s]\n",
      "6it [00:00,  7.41it/s]\n"
     ]
    },
    {
     "name": "stdout",
     "output_type": "stream",
     "text": [
      "Epoch [85], Train Loss : [0.11235] Val Loss : [0.17534] Val F1 Score : [0.81133]\n"
     ]
    },
    {
     "name": "stderr",
     "output_type": "stream",
     "text": [
      "23it [00:03,  6.81it/s]\n",
      "6it [00:00,  7.44it/s]\n"
     ]
    },
    {
     "name": "stdout",
     "output_type": "stream",
     "text": [
      "Epoch [86], Train Loss : [0.10178] Val Loss : [0.17401] Val F1 Score : [0.81037]\n"
     ]
    },
    {
     "name": "stderr",
     "output_type": "stream",
     "text": [
      "23it [00:03,  6.82it/s]\n",
      "6it [00:00,  7.37it/s]\n"
     ]
    },
    {
     "name": "stdout",
     "output_type": "stream",
     "text": [
      "Epoch [87], Train Loss : [0.10361] Val Loss : [0.17552] Val F1 Score : [0.81041]\n"
     ]
    },
    {
     "name": "stderr",
     "output_type": "stream",
     "text": [
      "23it [00:03,  6.87it/s]\n",
      "6it [00:00,  7.42it/s]\n"
     ]
    },
    {
     "name": "stdout",
     "output_type": "stream",
     "text": [
      "Epoch [88], Train Loss : [0.11442] Val Loss : [0.17459] Val F1 Score : [0.81046]\n"
     ]
    },
    {
     "name": "stderr",
     "output_type": "stream",
     "text": [
      "23it [00:03,  6.80it/s]\n",
      "6it [00:00,  7.37it/s]\n"
     ]
    },
    {
     "name": "stdout",
     "output_type": "stream",
     "text": [
      "Epoch [89], Train Loss : [0.10329] Val Loss : [0.17323] Val F1 Score : [0.80873]\n"
     ]
    },
    {
     "name": "stderr",
     "output_type": "stream",
     "text": [
      "23it [00:03,  6.73it/s]\n",
      "6it [00:00,  6.87it/s]\n"
     ]
    },
    {
     "name": "stdout",
     "output_type": "stream",
     "text": [
      "Epoch [90], Train Loss : [0.10313] Val Loss : [0.17688] Val F1 Score : [0.80447]\n"
     ]
    },
    {
     "name": "stderr",
     "output_type": "stream",
     "text": [
      "23it [00:03,  6.36it/s]\n",
      "6it [00:00,  7.19it/s]\n"
     ]
    },
    {
     "name": "stdout",
     "output_type": "stream",
     "text": [
      "Epoch [91], Train Loss : [0.10356] Val Loss : [0.17413] Val F1 Score : [0.81760]\n"
     ]
    },
    {
     "name": "stderr",
     "output_type": "stream",
     "text": [
      "23it [00:03,  6.42it/s]\n",
      "6it [00:00,  7.04it/s]\n"
     ]
    },
    {
     "name": "stdout",
     "output_type": "stream",
     "text": [
      "Epoch [92], Train Loss : [0.10336] Val Loss : [0.17218] Val F1 Score : [0.81484]\n"
     ]
    },
    {
     "name": "stderr",
     "output_type": "stream",
     "text": [
      "23it [00:03,  6.67it/s]\n",
      "6it [00:00,  7.46it/s]\n"
     ]
    },
    {
     "name": "stdout",
     "output_type": "stream",
     "text": [
      "Epoch [93], Train Loss : [0.10379] Val Loss : [0.17467] Val F1 Score : [0.80873]\n"
     ]
    },
    {
     "name": "stderr",
     "output_type": "stream",
     "text": [
      "23it [00:03,  6.54it/s]\n",
      "6it [00:00,  7.37it/s]\n"
     ]
    },
    {
     "name": "stdout",
     "output_type": "stream",
     "text": [
      "Epoch [94], Train Loss : [0.10697] Val Loss : [0.17496] Val F1 Score : [0.80616]\n"
     ]
    },
    {
     "name": "stderr",
     "output_type": "stream",
     "text": [
      "23it [00:03,  6.78it/s]\n",
      "6it [00:00,  7.36it/s]\n"
     ]
    },
    {
     "name": "stdout",
     "output_type": "stream",
     "text": [
      "Epoch [95], Train Loss : [0.10486] Val Loss : [0.17532] Val F1 Score : [0.80873]\n"
     ]
    },
    {
     "name": "stderr",
     "output_type": "stream",
     "text": [
      "23it [00:03,  6.79it/s]\n",
      "6it [00:00,  7.38it/s]\n"
     ]
    },
    {
     "name": "stdout",
     "output_type": "stream",
     "text": [
      "Epoch [96], Train Loss : [0.11829] Val Loss : [0.17363] Val F1 Score : [0.81484]\n"
     ]
    },
    {
     "name": "stderr",
     "output_type": "stream",
     "text": [
      "23it [00:03,  6.80it/s]\n",
      "6it [00:00,  7.45it/s]\n"
     ]
    },
    {
     "name": "stdout",
     "output_type": "stream",
     "text": [
      "Epoch [97], Train Loss : [0.10353] Val Loss : [0.17731] Val F1 Score : [0.80279]\n"
     ]
    },
    {
     "name": "stderr",
     "output_type": "stream",
     "text": [
      "23it [00:03,  6.60it/s]\n",
      "6it [00:00,  7.33it/s]\n"
     ]
    },
    {
     "name": "stdout",
     "output_type": "stream",
     "text": [
      "Epoch [98], Train Loss : [0.11831] Val Loss : [0.17421] Val F1 Score : [0.80704]\n"
     ]
    },
    {
     "name": "stderr",
     "output_type": "stream",
     "text": [
      "23it [00:03,  6.73it/s]\n",
      "6it [00:00,  7.33it/s]"
     ]
    },
    {
     "name": "stdout",
     "output_type": "stream",
     "text": [
      "Epoch [99], Train Loss : [0.10921] Val Loss : [0.17467] Val F1 Score : [0.81302]\n"
     ]
    },
    {
     "name": "stderr",
     "output_type": "stream",
     "text": [
      "\n"
     ]
    }
   ],
   "source": [
    "#--------------------------------------------------------------------------------\n",
    "# Training Process\n",
    "#--------------------------------------------------------------------------------\n",
    "model = Teacher()\n",
    "optimizer = torch.optim.Adam(model.parameters(), lr=CONFIG['LEARNING_RATE'])\n",
    "scheduler = torch.optim.lr_scheduler.ReduceLROnPlateau(optimizer, mode='max', factor=0.5, patience=5, threshold_mode='abs',min_lr=1e-6, verbose=True)\n",
    "\n",
    "teacher_model = teacher_train(model, optimizer, train_loader, val_loader, scheduler)"
   ]
  },
  {
   "cell_type": "markdown",
   "id": "96423a45",
   "metadata": {},
   "source": [
    "# Small Model (student)"
   ]
  },
  {
   "cell_type": "code",
   "execution_count": 17,
   "id": "8351ecca",
   "metadata": {
    "ExecuteTime": {
     "end_time": "2022-11-22T10:21:59.143304Z",
     "start_time": "2022-11-22T10:21:59.137483Z"
    }
   },
   "outputs": [],
   "source": [
    "# ---------------------------\n",
    "# Student Model\n",
    "# ---------------------------\n",
    "class Student(nn.Module):\n",
    "    def __init__(self):\n",
    "        super(Student, self).__init__()\n",
    "        self.classifier = nn.Sequential(\n",
    "            nn.Linear(in_features=18, out_features=128),\n",
    "            nn.BatchNorm1d(128),\n",
    "            nn.GELU(),\n",
    "            nn.Linear(in_features=128, out_features=256),\n",
    "            nn.BatchNorm1d(256),\n",
    "            nn.GELU(),\n",
    "            nn.Linear(in_features=256, out_features=256),\n",
    "            nn.BatchNorm1d(256),\n",
    "            nn.GELU(),\n",
    "            nn.Linear(in_features=256, out_features=128),\n",
    "            nn.BatchNorm1d(128),\n",
    "            nn.GELU(),\n",
    "            nn.Linear(in_features=128, out_features=1),\n",
    "            nn.Sigmoid()\n",
    "        )\n",
    "        \n",
    "    def forward(self, x):\n",
    "        output = self.classifier(x)\n",
    "        return output"
   ]
  },
  {
   "cell_type": "code",
   "execution_count": 18,
   "id": "0e6963a2",
   "metadata": {
    "ExecuteTime": {
     "end_time": "2022-11-22T10:21:59.152205Z",
     "start_time": "2022-11-22T10:21:59.145023Z"
    }
   },
   "outputs": [],
   "source": [
    "# # ---------------------------\n",
    "# # Distillation Loss with Temperature\n",
    "# # ---------------------------\n",
    "\n",
    "# def distillation(student_logits, labels, teacher_logits, T,alpha):\n",
    "#     distillation_loss = nn.BCELoss()(student_logits/T, teacher_logits/T)\n",
    "#     student_loss = nn.BCELoss()(student_logits, labels.reshape(-1, 1))\n",
    "#     return (1.-alpha) * student_loss +  distillation_loss * (T*T * 2.0 * alpha)\n",
    "\n",
    "# def distill_loss(output, target, teacher_output, loss_fn=distillation, opt=optimizer):\n",
    "#     loss_b = loss_fn(output, target, teacher_output, T=20.0, alpha=0.7)\n",
    "\n",
    "#     if opt is not None:\n",
    "#         # BACKWARD\n",
    "#         loss_b.backward()\n",
    "        \n",
    "#         # UPDATE\n",
    "#         opt.step()\n",
    "\n",
    "#     return loss_b.item()"
   ]
  },
  {
   "cell_type": "code",
   "execution_count": 19,
   "id": "b8b3737e",
   "metadata": {
    "ExecuteTime": {
     "end_time": "2022-11-22T10:21:59.158182Z",
     "start_time": "2022-11-22T10:21:59.153462Z"
    }
   },
   "outputs": [],
   "source": [
    "# ---------------------------\n",
    "# Distillation Loss without Temperature\n",
    "# ---------------------------\n",
    "\n",
    "def distillation(student_logits, labels, teacher_logits, alpha):\n",
    "    distillation_loss = nn.BCELoss()(student_logits, teacher_logits)\n",
    "    student_loss = nn.BCELoss()(student_logits, labels.reshape(-1, 1))\n",
    "    return (1.-alpha) * student_loss +  distillation_loss * alpha\n",
    "\n",
    "def distill_loss(output, target, teacher_output, loss_fn=distillation, opt=optimizer):\n",
    "    loss_b = loss_fn(output, target, teacher_output, alpha=0.7)\n",
    "\n",
    "    if opt is not None:\n",
    "        # BACKWARD\n",
    "        loss_b.backward()\n",
    "        \n",
    "        # UPDATE\n",
    "        opt.step()\n",
    "\n",
    "    return loss_b.item()"
   ]
  },
  {
   "cell_type": "code",
   "execution_count": 20,
   "id": "e9ed51b8",
   "metadata": {
    "ExecuteTime": {
     "end_time": "2022-11-22T10:21:59.172787Z",
     "start_time": "2022-11-22T10:21:59.159954Z"
    }
   },
   "outputs": [],
   "source": [
    "#--------------------------------------------------------------------------------\n",
    "# Training Student\n",
    "#--------------------------------------------------------------------------------\n",
    "\n",
    "def student_train(s_model, t_model, optimizer, train_loader, val_loader, scheduler, device):\n",
    "    \n",
    "    s_model.to(device)\n",
    "    t_model.to(device)\n",
    "    \n",
    "    best_score = 0\n",
    "    best_model = None\n",
    "\n",
    "    for epoch in range(CONFIG[\"EPOCHS\"]):\n",
    "        train_loss = []\n",
    "        s_model.train()\n",
    "        t_model.eval()\n",
    "        \n",
    "        for X_t, X_s, y in tqdm(train_loader):\n",
    "            \n",
    "            # ZERO GRADIENT\n",
    "            optimizer.zero_grad()\n",
    "            \n",
    "            # FORWARD\n",
    "            y_pred_student = s_model(X_s)\n",
    "            with torch.no_grad():\n",
    "                y_pred_teacher = t_model(X_t)\n",
    "                \n",
    "            loss_b = distill_loss(y_pred_student, y, y_pred_teacher, loss_fn=distillation, opt=optimizer)\n",
    "            \n",
    "                \n",
    "            train_loss.append(loss_b)\n",
    "\n",
    "        val_loss, val_score = validation_student(s_model, t_model, val_loader, distill_loss, device)\n",
    "        print(f'Epoch [{epoch}], Train Loss : [{np.mean(train_loss) :.5f}] Val Loss : [{np.mean(val_loss) :.5f}] Val F1 Score : [{val_score:.5f}]')\n",
    "        \n",
    "        if scheduler is not None:\n",
    "            scheduler.step(val_score)\n",
    "            \n",
    "        if best_score < val_score:\n",
    "            best_model = s_model\n",
    "            best_score = val_score\n",
    "        \n",
    "    return best_model\n",
    "\n",
    "\n",
    "#--------------------------------------------------------------------------------\n",
    "# Validation Student\n",
    "#--------------------------------------------------------------------------------\n",
    "\n",
    "def validation_student(s_model, t_model, val_loader, criterion, device):\n",
    "    s_model.eval()\n",
    "    t_model.eval()\n",
    "\n",
    "    val_loss = []\n",
    "    pred_labels = []\n",
    "    true_labels = []\n",
    "    threshold = 0.35\n",
    "    \n",
    "    with torch.no_grad():\n",
    "        for X_t, X_s, y in tqdm(val_loader):\n",
    "            \n",
    "            model_pred     = s_model(X_s)\n",
    "            teacher_output = t_model(X_t)\n",
    "            \n",
    "            loss_b = distill_loss(model_pred, y, teacher_output, loss_fn=distillation, opt=None)\n",
    "            val_loss.append(loss_b)\n",
    "            \n",
    "            model_pred = model_pred.squeeze(1)#.to('cpu')\n",
    "            pred_labels += model_pred.tolist()\n",
    "            true_labels += y.tolist()\n",
    "        \n",
    "        pred_labels = np.where(np.array(pred_labels) > threshold, 1, 0)\n",
    "        val_f1 = competition_metric(true_labels, pred_labels)\n",
    "    return val_loss, val_f1    "
   ]
  },
  {
   "cell_type": "code",
   "execution_count": 21,
   "id": "28eef75b",
   "metadata": {
    "ExecuteTime": {
     "end_time": "2022-11-22T10:21:59.180163Z",
     "start_time": "2022-11-22T10:21:59.174212Z"
    }
   },
   "outputs": [],
   "source": [
    "# ---------------------------\n",
    "# Dataset for Student Model (Distillation True)\n",
    "# ---------------------------\n",
    "train_dataset = CustomDataset(train_X, train_y, True)\n",
    "val_dataset = CustomDataset(val_X, val_y, True)\n",
    "\n",
    "# ---------------------------\n",
    "# Dataloader for Student Model (Distillation True)\n",
    "# ---------------------------\n",
    "train_loader = DataLoader(train_dataset, batch_size = CONFIG['BATCH_SIZE'], shuffle=True)\n",
    "val_loader = DataLoader(val_dataset, batch_size = CONFIG['BATCH_SIZE'], shuffle=False)"
   ]
  },
  {
   "cell_type": "code",
   "execution_count": 22,
   "id": "744cd26b",
   "metadata": {
    "ExecuteTime": {
     "end_time": "2022-11-22T10:48:42.524748Z",
     "start_time": "2022-11-22T10:21:59.181634Z"
    },
    "scrolled": true
   },
   "outputs": [
    {
     "name": "stderr",
     "output_type": "stream",
     "text": [
      "100%|██████████| 23/23 [00:13<00:00,  1.76it/s]\n",
      "100%|██████████| 6/6 [00:02<00:00,  2.06it/s]\n"
     ]
    },
    {
     "name": "stdout",
     "output_type": "stream",
     "text": [
      "Epoch [0], Train Loss : [0.46893] Val Loss : [0.45384] Val F1 Score : [0.49809]\n"
     ]
    },
    {
     "name": "stderr",
     "output_type": "stream",
     "text": [
      "100%|██████████| 23/23 [00:12<00:00,  1.77it/s]\n",
      "100%|██████████| 6/6 [00:02<00:00,  2.05it/s]\n"
     ]
    },
    {
     "name": "stdout",
     "output_type": "stream",
     "text": [
      "Epoch [1], Train Loss : [0.33719] Val Loss : [0.31709] Val F1 Score : [0.48479]\n"
     ]
    },
    {
     "name": "stderr",
     "output_type": "stream",
     "text": [
      "100%|██████████| 23/23 [00:13<00:00,  1.76it/s]\n",
      "100%|██████████| 6/6 [00:02<00:00,  2.06it/s]\n"
     ]
    },
    {
     "name": "stdout",
     "output_type": "stream",
     "text": [
      "Epoch [2], Train Loss : [0.30561] Val Loss : [0.30909] Val F1 Score : [0.49463]\n"
     ]
    },
    {
     "name": "stderr",
     "output_type": "stream",
     "text": [
      "100%|██████████| 23/23 [00:13<00:00,  1.77it/s]\n",
      "100%|██████████| 6/6 [00:02<00:00,  2.03it/s]\n"
     ]
    },
    {
     "name": "stdout",
     "output_type": "stream",
     "text": [
      "Epoch [3], Train Loss : [0.30154] Val Loss : [0.31135] Val F1 Score : [0.48065]\n"
     ]
    },
    {
     "name": "stderr",
     "output_type": "stream",
     "text": [
      "100%|██████████| 23/23 [00:12<00:00,  1.77it/s]\n",
      "100%|██████████| 6/6 [00:02<00:00,  2.07it/s]\n"
     ]
    },
    {
     "name": "stdout",
     "output_type": "stream",
     "text": [
      "Epoch [4], Train Loss : [0.29457] Val Loss : [0.30521] Val F1 Score : [0.49023]\n"
     ]
    },
    {
     "name": "stderr",
     "output_type": "stream",
     "text": [
      "100%|██████████| 23/23 [00:12<00:00,  1.77it/s]\n",
      "100%|██████████| 6/6 [00:02<00:00,  2.06it/s]\n"
     ]
    },
    {
     "name": "stdout",
     "output_type": "stream",
     "text": [
      "Epoch [5], Train Loss : [0.29373] Val Loss : [0.30761] Val F1 Score : [0.49322]\n"
     ]
    },
    {
     "name": "stderr",
     "output_type": "stream",
     "text": [
      "100%|██████████| 23/23 [00:13<00:00,  1.75it/s]\n",
      "100%|██████████| 6/6 [00:02<00:00,  2.06it/s]\n"
     ]
    },
    {
     "name": "stdout",
     "output_type": "stream",
     "text": [
      "Epoch [6], Train Loss : [0.29086] Val Loss : [0.30514] Val F1 Score : [0.48517]\n",
      "Epoch     7: reducing learning rate of group 0 to 5.0000e-04.\n"
     ]
    },
    {
     "name": "stderr",
     "output_type": "stream",
     "text": [
      "100%|██████████| 23/23 [00:12<00:00,  1.77it/s]\n",
      "100%|██████████| 6/6 [00:02<00:00,  2.03it/s]\n"
     ]
    },
    {
     "name": "stdout",
     "output_type": "stream",
     "text": [
      "Epoch [7], Train Loss : [0.29110] Val Loss : [0.30622] Val F1 Score : [0.48835]\n"
     ]
    },
    {
     "name": "stderr",
     "output_type": "stream",
     "text": [
      "100%|██████████| 23/23 [00:12<00:00,  1.78it/s]\n",
      "100%|██████████| 6/6 [00:02<00:00,  2.07it/s]\n"
     ]
    },
    {
     "name": "stdout",
     "output_type": "stream",
     "text": [
      "Epoch [8], Train Loss : [0.28187] Val Loss : [0.30560] Val F1 Score : [0.49250]\n"
     ]
    },
    {
     "name": "stderr",
     "output_type": "stream",
     "text": [
      "100%|██████████| 23/23 [00:12<00:00,  1.77it/s]\n",
      "100%|██████████| 6/6 [00:02<00:00,  2.06it/s]\n"
     ]
    },
    {
     "name": "stdout",
     "output_type": "stream",
     "text": [
      "Epoch [9], Train Loss : [0.29182] Val Loss : [0.30754] Val F1 Score : [0.48921]\n"
     ]
    },
    {
     "name": "stderr",
     "output_type": "stream",
     "text": [
      "100%|██████████| 23/23 [00:13<00:00,  1.76it/s]\n",
      "100%|██████████| 6/6 [00:02<00:00,  2.05it/s]\n"
     ]
    },
    {
     "name": "stdout",
     "output_type": "stream",
     "text": [
      "Epoch [10], Train Loss : [0.28035] Val Loss : [0.31005] Val F1 Score : [0.49259]\n"
     ]
    },
    {
     "name": "stderr",
     "output_type": "stream",
     "text": [
      "100%|██████████| 23/23 [00:12<00:00,  1.77it/s]\n",
      "100%|██████████| 6/6 [00:02<00:00,  2.06it/s]\n"
     ]
    },
    {
     "name": "stdout",
     "output_type": "stream",
     "text": [
      "Epoch [11], Train Loss : [0.28462] Val Loss : [0.30776] Val F1 Score : [0.49290]\n"
     ]
    },
    {
     "name": "stderr",
     "output_type": "stream",
     "text": [
      "100%|██████████| 23/23 [00:12<00:00,  1.78it/s]\n",
      "100%|██████████| 6/6 [00:02<00:00,  2.04it/s]\n"
     ]
    },
    {
     "name": "stdout",
     "output_type": "stream",
     "text": [
      "Epoch [12], Train Loss : [0.28518] Val Loss : [0.30847] Val F1 Score : [0.49837]\n"
     ]
    },
    {
     "name": "stderr",
     "output_type": "stream",
     "text": [
      "100%|██████████| 23/23 [00:12<00:00,  1.78it/s]\n",
      "100%|██████████| 6/6 [00:02<00:00,  2.06it/s]\n"
     ]
    },
    {
     "name": "stdout",
     "output_type": "stream",
     "text": [
      "Epoch [13], Train Loss : [0.28928] Val Loss : [0.31571] Val F1 Score : [0.48849]\n"
     ]
    },
    {
     "name": "stderr",
     "output_type": "stream",
     "text": [
      "100%|██████████| 23/23 [00:13<00:00,  1.76it/s]\n",
      "100%|██████████| 6/6 [00:02<00:00,  2.06it/s]\n"
     ]
    },
    {
     "name": "stdout",
     "output_type": "stream",
     "text": [
      "Epoch [14], Train Loss : [0.28556] Val Loss : [0.31151] Val F1 Score : [0.49514]\n"
     ]
    },
    {
     "name": "stderr",
     "output_type": "stream",
     "text": [
      "100%|██████████| 23/23 [00:12<00:00,  1.77it/s]\n",
      "100%|██████████| 6/6 [00:02<00:00,  2.06it/s]\n"
     ]
    },
    {
     "name": "stdout",
     "output_type": "stream",
     "text": [
      "Epoch [15], Train Loss : [0.30735] Val Loss : [0.31297] Val F1 Score : [0.50968]\n"
     ]
    },
    {
     "name": "stderr",
     "output_type": "stream",
     "text": [
      "100%|██████████| 23/23 [00:13<00:00,  1.76it/s]\n",
      "100%|██████████| 6/6 [00:02<00:00,  2.05it/s]\n"
     ]
    },
    {
     "name": "stdout",
     "output_type": "stream",
     "text": [
      "Epoch [16], Train Loss : [0.29276] Val Loss : [0.30667] Val F1 Score : [0.48792]\n"
     ]
    },
    {
     "name": "stderr",
     "output_type": "stream",
     "text": [
      "100%|██████████| 23/23 [00:12<00:00,  1.77it/s]\n",
      "100%|██████████| 6/6 [00:02<00:00,  2.06it/s]\n"
     ]
    },
    {
     "name": "stdout",
     "output_type": "stream",
     "text": [
      "Epoch [17], Train Loss : [0.28042] Val Loss : [0.30688] Val F1 Score : [0.48807]\n"
     ]
    },
    {
     "name": "stderr",
     "output_type": "stream",
     "text": [
      "100%|██████████| 23/23 [00:12<00:00,  1.77it/s]\n",
      "100%|██████████| 6/6 [00:02<00:00,  2.06it/s]\n"
     ]
    },
    {
     "name": "stdout",
     "output_type": "stream",
     "text": [
      "Epoch [18], Train Loss : [0.27610] Val Loss : [0.30776] Val F1 Score : [0.49837]\n"
     ]
    },
    {
     "name": "stderr",
     "output_type": "stream",
     "text": [
      "100%|██████████| 23/23 [00:12<00:00,  1.77it/s]\n",
      "100%|██████████| 6/6 [00:02<00:00,  2.06it/s]\n"
     ]
    },
    {
     "name": "stdout",
     "output_type": "stream",
     "text": [
      "Epoch [19], Train Loss : [0.28157] Val Loss : [0.30984] Val F1 Score : [0.49497]\n"
     ]
    },
    {
     "name": "stderr",
     "output_type": "stream",
     "text": [
      "100%|██████████| 23/23 [00:12<00:00,  1.78it/s]\n",
      "100%|██████████| 6/6 [00:02<00:00,  2.05it/s]\n"
     ]
    },
    {
     "name": "stdout",
     "output_type": "stream",
     "text": [
      "Epoch [20], Train Loss : [0.28926] Val Loss : [0.30904] Val F1 Score : [0.49892]\n"
     ]
    },
    {
     "name": "stderr",
     "output_type": "stream",
     "text": [
      "100%|██████████| 23/23 [00:12<00:00,  1.79it/s]\n",
      "100%|██████████| 6/6 [00:03<00:00,  1.99it/s]\n"
     ]
    },
    {
     "name": "stdout",
     "output_type": "stream",
     "text": [
      "Epoch [21], Train Loss : [0.27724] Val Loss : [0.31028] Val F1 Score : [0.51011]\n"
     ]
    },
    {
     "name": "stderr",
     "output_type": "stream",
     "text": [
      "100%|██████████| 23/23 [00:12<00:00,  1.77it/s]\n",
      "100%|██████████| 6/6 [00:03<00:00,  1.99it/s]\n"
     ]
    },
    {
     "name": "stdout",
     "output_type": "stream",
     "text": [
      "Epoch [22], Train Loss : [0.29139] Val Loss : [0.31118] Val F1 Score : [0.51056]\n"
     ]
    },
    {
     "name": "stderr",
     "output_type": "stream",
     "text": [
      "100%|██████████| 23/23 [00:13<00:00,  1.74it/s]\n",
      "100%|██████████| 6/6 [00:02<00:00,  2.03it/s]\n"
     ]
    },
    {
     "name": "stdout",
     "output_type": "stream",
     "text": [
      "Epoch [23], Train Loss : [0.28706] Val Loss : [0.31026] Val F1 Score : [0.49946]\n"
     ]
    },
    {
     "name": "stderr",
     "output_type": "stream",
     "text": [
      "100%|██████████| 23/23 [00:13<00:00,  1.73it/s]\n",
      "100%|██████████| 6/6 [00:03<00:00,  1.97it/s]\n"
     ]
    },
    {
     "name": "stdout",
     "output_type": "stream",
     "text": [
      "Epoch [24], Train Loss : [0.28765] Val Loss : [0.31007] Val F1 Score : [0.51056]\n"
     ]
    },
    {
     "name": "stderr",
     "output_type": "stream",
     "text": [
      "100%|██████████| 23/23 [00:13<00:00,  1.74it/s]\n",
      "100%|██████████| 6/6 [00:02<00:00,  2.02it/s]\n"
     ]
    },
    {
     "name": "stdout",
     "output_type": "stream",
     "text": [
      "Epoch [25], Train Loss : [0.27724] Val Loss : [0.31169] Val F1 Score : [0.50294]\n"
     ]
    },
    {
     "name": "stderr",
     "output_type": "stream",
     "text": [
      "100%|██████████| 23/23 [00:13<00:00,  1.73it/s]\n",
      "100%|██████████| 6/6 [00:02<00:00,  2.03it/s]\n"
     ]
    },
    {
     "name": "stdout",
     "output_type": "stream",
     "text": [
      "Epoch [26], Train Loss : [0.27729] Val Loss : [0.31068] Val F1 Score : [0.50227]\n"
     ]
    },
    {
     "name": "stderr",
     "output_type": "stream",
     "text": [
      "100%|██████████| 23/23 [00:13<00:00,  1.75it/s]\n",
      "100%|██████████| 6/6 [00:02<00:00,  2.02it/s]\n"
     ]
    },
    {
     "name": "stdout",
     "output_type": "stream",
     "text": [
      "Epoch [27], Train Loss : [0.27533] Val Loss : [0.30974] Val F1 Score : [0.50474]\n"
     ]
    },
    {
     "name": "stderr",
     "output_type": "stream",
     "text": [
      "100%|██████████| 23/23 [00:13<00:00,  1.73it/s]\n",
      "100%|██████████| 6/6 [00:02<00:00,  2.04it/s]\n"
     ]
    },
    {
     "name": "stdout",
     "output_type": "stream",
     "text": [
      "Epoch [28], Train Loss : [0.27364] Val Loss : [0.31680] Val F1 Score : [0.52369]\n"
     ]
    },
    {
     "name": "stderr",
     "output_type": "stream",
     "text": [
      "100%|██████████| 23/23 [00:13<00:00,  1.75it/s]\n",
      "100%|██████████| 6/6 [00:02<00:00,  2.03it/s]\n"
     ]
    },
    {
     "name": "stdout",
     "output_type": "stream",
     "text": [
      "Epoch [29], Train Loss : [0.29504] Val Loss : [0.31557] Val F1 Score : [0.50989]\n"
     ]
    },
    {
     "name": "stderr",
     "output_type": "stream",
     "text": [
      "100%|██████████| 23/23 [00:13<00:00,  1.74it/s]\n",
      "100%|██████████| 6/6 [00:02<00:00,  2.01it/s]\n"
     ]
    },
    {
     "name": "stdout",
     "output_type": "stream",
     "text": [
      "Epoch [30], Train Loss : [0.28477] Val Loss : [0.31125] Val F1 Score : [0.49397]\n"
     ]
    },
    {
     "name": "stderr",
     "output_type": "stream",
     "text": [
      "100%|██████████| 23/23 [00:13<00:00,  1.74it/s]\n",
      "100%|██████████| 6/6 [00:02<00:00,  2.01it/s]\n"
     ]
    },
    {
     "name": "stdout",
     "output_type": "stream",
     "text": [
      "Epoch [31], Train Loss : [0.28073] Val Loss : [0.31115] Val F1 Score : [0.50494]\n"
     ]
    },
    {
     "name": "stderr",
     "output_type": "stream",
     "text": [
      "100%|██████████| 23/23 [00:13<00:00,  1.73it/s]\n",
      "100%|██████████| 6/6 [00:02<00:00,  2.02it/s]\n"
     ]
    },
    {
     "name": "stdout",
     "output_type": "stream",
     "text": [
      "Epoch [32], Train Loss : [0.27865] Val Loss : [0.31045] Val F1 Score : [0.50986]\n"
     ]
    },
    {
     "name": "stderr",
     "output_type": "stream",
     "text": [
      "100%|██████████| 23/23 [00:13<00:00,  1.74it/s]\n",
      "100%|██████████| 6/6 [00:02<00:00,  2.02it/s]\n"
     ]
    },
    {
     "name": "stdout",
     "output_type": "stream",
     "text": [
      "Epoch [33], Train Loss : [0.27828] Val Loss : [0.31124] Val F1 Score : [0.50986]\n"
     ]
    },
    {
     "name": "stderr",
     "output_type": "stream",
     "text": [
      "100%|██████████| 23/23 [00:13<00:00,  1.73it/s]\n",
      "100%|██████████| 6/6 [00:02<00:00,  2.02it/s]\n"
     ]
    },
    {
     "name": "stdout",
     "output_type": "stream",
     "text": [
      "Epoch [34], Train Loss : [0.28104] Val Loss : [0.31420] Val F1 Score : [0.52797]\n"
     ]
    },
    {
     "name": "stderr",
     "output_type": "stream",
     "text": [
      "100%|██████████| 23/23 [00:13<00:00,  1.74it/s]\n",
      "100%|██████████| 6/6 [00:02<00:00,  2.01it/s]\n"
     ]
    },
    {
     "name": "stdout",
     "output_type": "stream",
     "text": [
      "Epoch [35], Train Loss : [0.27482] Val Loss : [0.31248] Val F1 Score : [0.50618]\n"
     ]
    },
    {
     "name": "stderr",
     "output_type": "stream",
     "text": [
      "100%|██████████| 23/23 [00:13<00:00,  1.73it/s]\n",
      "100%|██████████| 6/6 [00:02<00:00,  2.02it/s]\n"
     ]
    },
    {
     "name": "stdout",
     "output_type": "stream",
     "text": [
      "Epoch [36], Train Loss : [0.27459] Val Loss : [0.31630] Val F1 Score : [0.52768]\n"
     ]
    },
    {
     "name": "stderr",
     "output_type": "stream",
     "text": [
      "100%|██████████| 23/23 [00:13<00:00,  1.74it/s]\n",
      "100%|██████████| 6/6 [00:02<00:00,  2.02it/s]\n"
     ]
    },
    {
     "name": "stdout",
     "output_type": "stream",
     "text": [
      "Epoch [37], Train Loss : [0.27757] Val Loss : [0.31450] Val F1 Score : [0.50748]\n"
     ]
    },
    {
     "name": "stderr",
     "output_type": "stream",
     "text": [
      "100%|██████████| 23/23 [00:13<00:00,  1.73it/s]\n",
      "100%|██████████| 6/6 [00:03<00:00,  2.00it/s]\n"
     ]
    },
    {
     "name": "stdout",
     "output_type": "stream",
     "text": [
      "Epoch [38], Train Loss : [0.27003] Val Loss : [0.31554] Val F1 Score : [0.51694]\n"
     ]
    },
    {
     "name": "stderr",
     "output_type": "stream",
     "text": [
      "100%|██████████| 23/23 [00:13<00:00,  1.74it/s]\n",
      "100%|██████████| 6/6 [00:02<00:00,  2.02it/s]\n"
     ]
    },
    {
     "name": "stdout",
     "output_type": "stream",
     "text": [
      "Epoch [39], Train Loss : [0.27223] Val Loss : [0.31527] Val F1 Score : [0.53666]\n"
     ]
    },
    {
     "name": "stderr",
     "output_type": "stream",
     "text": [
      "100%|██████████| 23/23 [00:13<00:00,  1.74it/s]\n",
      "100%|██████████| 6/6 [00:02<00:00,  2.01it/s]\n"
     ]
    },
    {
     "name": "stdout",
     "output_type": "stream",
     "text": [
      "Epoch [40], Train Loss : [0.27211] Val Loss : [0.31464] Val F1 Score : [0.50706]\n"
     ]
    },
    {
     "name": "stderr",
     "output_type": "stream",
     "text": [
      "100%|██████████| 23/23 [00:13<00:00,  1.74it/s]\n",
      "100%|██████████| 6/6 [00:02<00:00,  2.03it/s]\n"
     ]
    },
    {
     "name": "stdout",
     "output_type": "stream",
     "text": [
      "Epoch [41], Train Loss : [0.26915] Val Loss : [0.31752] Val F1 Score : [0.52168]\n"
     ]
    },
    {
     "name": "stderr",
     "output_type": "stream",
     "text": [
      "100%|██████████| 23/23 [00:13<00:00,  1.75it/s]\n",
      "100%|██████████| 6/6 [00:03<00:00,  1.97it/s]\n"
     ]
    },
    {
     "name": "stdout",
     "output_type": "stream",
     "text": [
      "Epoch [42], Train Loss : [0.26911] Val Loss : [0.32113] Val F1 Score : [0.52142]\n"
     ]
    },
    {
     "name": "stderr",
     "output_type": "stream",
     "text": [
      "100%|██████████| 23/23 [00:13<00:00,  1.75it/s]\n",
      "100%|██████████| 6/6 [00:02<00:00,  2.04it/s]\n"
     ]
    },
    {
     "name": "stdout",
     "output_type": "stream",
     "text": [
      "Epoch [43], Train Loss : [0.28533] Val Loss : [0.31843] Val F1 Score : [0.53192]\n"
     ]
    },
    {
     "name": "stderr",
     "output_type": "stream",
     "text": [
      "100%|██████████| 23/23 [00:13<00:00,  1.74it/s]\n",
      "100%|██████████| 6/6 [00:02<00:00,  2.02it/s]\n"
     ]
    },
    {
     "name": "stdout",
     "output_type": "stream",
     "text": [
      "Epoch [44], Train Loss : [0.26898] Val Loss : [0.31912] Val F1 Score : [0.50989]\n"
     ]
    },
    {
     "name": "stderr",
     "output_type": "stream",
     "text": [
      "100%|██████████| 23/23 [00:13<00:00,  1.75it/s]\n",
      "100%|██████████| 6/6 [00:02<00:00,  2.03it/s]\n"
     ]
    },
    {
     "name": "stdout",
     "output_type": "stream",
     "text": [
      "Epoch [45], Train Loss : [0.26814] Val Loss : [0.32016] Val F1 Score : [0.51922]\n",
      "Epoch    46: reducing learning rate of group 0 to 2.5000e-04.\n"
     ]
    },
    {
     "name": "stderr",
     "output_type": "stream",
     "text": [
      "100%|██████████| 23/23 [00:13<00:00,  1.74it/s]\n",
      "100%|██████████| 6/6 [00:03<00:00,  1.98it/s]\n"
     ]
    },
    {
     "name": "stdout",
     "output_type": "stream",
     "text": [
      "Epoch [46], Train Loss : [0.27894] Val Loss : [0.31870] Val F1 Score : [0.52498]\n"
     ]
    },
    {
     "name": "stderr",
     "output_type": "stream",
     "text": [
      "100%|██████████| 23/23 [00:13<00:00,  1.75it/s]\n",
      "100%|██████████| 6/6 [00:02<00:00,  2.03it/s]\n"
     ]
    },
    {
     "name": "stdout",
     "output_type": "stream",
     "text": [
      "Epoch [47], Train Loss : [0.26703] Val Loss : [0.32160] Val F1 Score : [0.52220]\n"
     ]
    },
    {
     "name": "stderr",
     "output_type": "stream",
     "text": [
      "100%|██████████| 23/23 [00:13<00:00,  1.75it/s]\n",
      "100%|██████████| 6/6 [00:02<00:00,  2.02it/s]\n"
     ]
    },
    {
     "name": "stdout",
     "output_type": "stream",
     "text": [
      "Epoch [48], Train Loss : [0.27602] Val Loss : [0.31940] Val F1 Score : [0.52659]\n"
     ]
    },
    {
     "name": "stderr",
     "output_type": "stream",
     "text": [
      "100%|██████████| 23/23 [00:13<00:00,  1.74it/s]\n",
      "100%|██████████| 6/6 [00:02<00:00,  2.03it/s]\n"
     ]
    },
    {
     "name": "stdout",
     "output_type": "stream",
     "text": [
      "Epoch [49], Train Loss : [0.26711] Val Loss : [0.31686] Val F1 Score : [0.52144]\n"
     ]
    },
    {
     "name": "stderr",
     "output_type": "stream",
     "text": [
      "100%|██████████| 23/23 [00:13<00:00,  1.73it/s]\n",
      "100%|██████████| 6/6 [00:02<00:00,  2.03it/s]\n"
     ]
    },
    {
     "name": "stdout",
     "output_type": "stream",
     "text": [
      "Epoch [50], Train Loss : [0.27434] Val Loss : [0.31911] Val F1 Score : [0.53235]\n"
     ]
    },
    {
     "name": "stderr",
     "output_type": "stream",
     "text": [
      "100%|██████████| 23/23 [00:13<00:00,  1.73it/s]\n",
      "100%|██████████| 6/6 [00:02<00:00,  2.03it/s]\n"
     ]
    },
    {
     "name": "stdout",
     "output_type": "stream",
     "text": [
      "Epoch [51], Train Loss : [0.27075] Val Loss : [0.31948] Val F1 Score : [0.51078]\n",
      "Epoch    52: reducing learning rate of group 0 to 1.2500e-04.\n"
     ]
    },
    {
     "name": "stderr",
     "output_type": "stream",
     "text": [
      "100%|██████████| 23/23 [00:13<00:00,  1.74it/s]\n",
      "100%|██████████| 6/6 [00:02<00:00,  2.02it/s]\n"
     ]
    },
    {
     "name": "stdout",
     "output_type": "stream",
     "text": [
      "Epoch [52], Train Loss : [0.26618] Val Loss : [0.32077] Val F1 Score : [0.52405]\n"
     ]
    },
    {
     "name": "stderr",
     "output_type": "stream",
     "text": [
      "100%|██████████| 23/23 [00:13<00:00,  1.75it/s]\n",
      "100%|██████████| 6/6 [00:02<00:00,  2.04it/s]\n"
     ]
    },
    {
     "name": "stdout",
     "output_type": "stream",
     "text": [
      "Epoch [53], Train Loss : [0.27887] Val Loss : [0.32392] Val F1 Score : [0.53122]\n"
     ]
    },
    {
     "name": "stderr",
     "output_type": "stream",
     "text": [
      "100%|██████████| 23/23 [00:13<00:00,  1.74it/s]\n",
      "100%|██████████| 6/6 [00:02<00:00,  2.04it/s]\n"
     ]
    },
    {
     "name": "stdout",
     "output_type": "stream",
     "text": [
      "Epoch [54], Train Loss : [0.26975] Val Loss : [0.32006] Val F1 Score : [0.51968]\n"
     ]
    },
    {
     "name": "stderr",
     "output_type": "stream",
     "text": [
      "100%|██████████| 23/23 [00:13<00:00,  1.74it/s]\n",
      "100%|██████████| 6/6 [00:02<00:00,  2.04it/s]\n"
     ]
    },
    {
     "name": "stdout",
     "output_type": "stream",
     "text": [
      "Epoch [55], Train Loss : [0.26796] Val Loss : [0.32180] Val F1 Score : [0.53380]\n"
     ]
    },
    {
     "name": "stderr",
     "output_type": "stream",
     "text": [
      "100%|██████████| 23/23 [00:13<00:00,  1.75it/s]\n",
      "100%|██████████| 6/6 [00:02<00:00,  2.03it/s]\n"
     ]
    },
    {
     "name": "stdout",
     "output_type": "stream",
     "text": [
      "Epoch [56], Train Loss : [0.26614] Val Loss : [0.32180] Val F1 Score : [0.53606]\n"
     ]
    },
    {
     "name": "stderr",
     "output_type": "stream",
     "text": [
      "100%|██████████| 23/23 [00:13<00:00,  1.75it/s]\n",
      "100%|██████████| 6/6 [00:02<00:00,  2.04it/s]\n"
     ]
    },
    {
     "name": "stdout",
     "output_type": "stream",
     "text": [
      "Epoch [57], Train Loss : [0.26347] Val Loss : [0.32107] Val F1 Score : [0.53726]\n"
     ]
    },
    {
     "name": "stderr",
     "output_type": "stream",
     "text": [
      "100%|██████████| 23/23 [00:13<00:00,  1.74it/s]\n",
      "100%|██████████| 6/6 [00:02<00:00,  2.05it/s]\n"
     ]
    },
    {
     "name": "stdout",
     "output_type": "stream",
     "text": [
      "Epoch [58], Train Loss : [0.29309] Val Loss : [0.32249] Val F1 Score : [0.53757]\n"
     ]
    },
    {
     "name": "stderr",
     "output_type": "stream",
     "text": [
      "100%|██████████| 23/23 [00:12<00:00,  1.78it/s]\n",
      "100%|██████████| 6/6 [00:02<00:00,  2.07it/s]\n"
     ]
    },
    {
     "name": "stdout",
     "output_type": "stream",
     "text": [
      "Epoch [59], Train Loss : [0.26527] Val Loss : [0.32159] Val F1 Score : [0.54071]\n"
     ]
    },
    {
     "name": "stderr",
     "output_type": "stream",
     "text": [
      "100%|██████████| 23/23 [00:12<00:00,  1.78it/s]\n",
      "100%|██████████| 6/6 [00:02<00:00,  2.06it/s]\n"
     ]
    },
    {
     "name": "stdout",
     "output_type": "stream",
     "text": [
      "Epoch [60], Train Loss : [0.26414] Val Loss : [0.32126] Val F1 Score : [0.53887]\n"
     ]
    },
    {
     "name": "stderr",
     "output_type": "stream",
     "text": [
      "100%|██████████| 23/23 [00:12<00:00,  1.78it/s]\n",
      "100%|██████████| 6/6 [00:02<00:00,  2.07it/s]\n"
     ]
    },
    {
     "name": "stdout",
     "output_type": "stream",
     "text": [
      "Epoch [61], Train Loss : [0.27385] Val Loss : [0.31864] Val F1 Score : [0.54010]\n"
     ]
    },
    {
     "name": "stderr",
     "output_type": "stream",
     "text": [
      "100%|██████████| 23/23 [00:12<00:00,  1.77it/s]\n",
      "100%|██████████| 6/6 [00:02<00:00,  2.06it/s]\n"
     ]
    },
    {
     "name": "stdout",
     "output_type": "stream",
     "text": [
      "Epoch [62], Train Loss : [0.27514] Val Loss : [0.31993] Val F1 Score : [0.53887]\n"
     ]
    },
    {
     "name": "stderr",
     "output_type": "stream",
     "text": [
      "100%|██████████| 23/23 [00:12<00:00,  1.78it/s]\n",
      "100%|██████████| 6/6 [00:02<00:00,  2.07it/s]\n"
     ]
    },
    {
     "name": "stdout",
     "output_type": "stream",
     "text": [
      "Epoch [63], Train Loss : [0.27977] Val Loss : [0.32166] Val F1 Score : [0.53606]\n"
     ]
    },
    {
     "name": "stderr",
     "output_type": "stream",
     "text": [
      "100%|██████████| 23/23 [00:12<00:00,  1.78it/s]\n",
      "100%|██████████| 6/6 [00:02<00:00,  2.06it/s]\n"
     ]
    },
    {
     "name": "stdout",
     "output_type": "stream",
     "text": [
      "Epoch [64], Train Loss : [0.26504] Val Loss : [0.32100] Val F1 Score : [0.54042]\n"
     ]
    },
    {
     "name": "stderr",
     "output_type": "stream",
     "text": [
      "100%|██████████| 23/23 [00:12<00:00,  1.77it/s]\n",
      "100%|██████████| 6/6 [00:03<00:00,  1.98it/s]\n"
     ]
    },
    {
     "name": "stdout",
     "output_type": "stream",
     "text": [
      "Epoch [65], Train Loss : [0.27103] Val Loss : [0.32192] Val F1 Score : [0.52878]\n",
      "Epoch    66: reducing learning rate of group 0 to 6.2500e-05.\n"
     ]
    },
    {
     "name": "stderr",
     "output_type": "stream",
     "text": [
      "100%|██████████| 23/23 [00:12<00:00,  1.77it/s]\n",
      "100%|██████████| 6/6 [00:02<00:00,  2.06it/s]\n"
     ]
    },
    {
     "name": "stdout",
     "output_type": "stream",
     "text": [
      "Epoch [66], Train Loss : [0.27115] Val Loss : [0.32209] Val F1 Score : [0.53150]\n"
     ]
    },
    {
     "name": "stderr",
     "output_type": "stream",
     "text": [
      "100%|██████████| 23/23 [00:12<00:00,  1.77it/s]\n",
      "100%|██████████| 6/6 [00:02<00:00,  2.06it/s]\n"
     ]
    },
    {
     "name": "stdout",
     "output_type": "stream",
     "text": [
      "Epoch [67], Train Loss : [0.26716] Val Loss : [0.32306] Val F1 Score : [0.54071]\n"
     ]
    },
    {
     "name": "stderr",
     "output_type": "stream",
     "text": [
      "100%|██████████| 23/23 [00:12<00:00,  1.78it/s]\n",
      "100%|██████████| 6/6 [00:02<00:00,  2.06it/s]\n"
     ]
    },
    {
     "name": "stdout",
     "output_type": "stream",
     "text": [
      "Epoch [68], Train Loss : [0.26601] Val Loss : [0.32180] Val F1 Score : [0.53979]\n"
     ]
    },
    {
     "name": "stderr",
     "output_type": "stream",
     "text": [
      "100%|██████████| 23/23 [00:13<00:00,  1.77it/s]\n",
      "100%|██████████| 6/6 [00:03<00:00,  1.98it/s]\n"
     ]
    },
    {
     "name": "stdout",
     "output_type": "stream",
     "text": [
      "Epoch [69], Train Loss : [0.26528] Val Loss : [0.32038] Val F1 Score : [0.53949]\n"
     ]
    },
    {
     "name": "stderr",
     "output_type": "stream",
     "text": [
      "100%|██████████| 23/23 [00:13<00:00,  1.73it/s]\n",
      "100%|██████████| 6/6 [00:02<00:00,  2.00it/s]\n"
     ]
    },
    {
     "name": "stdout",
     "output_type": "stream",
     "text": [
      "Epoch [70], Train Loss : [0.26809] Val Loss : [0.31921] Val F1 Score : [0.53651]\n"
     ]
    },
    {
     "name": "stderr",
     "output_type": "stream",
     "text": [
      "100%|██████████| 23/23 [00:13<00:00,  1.72it/s]\n",
      "100%|██████████| 6/6 [00:02<00:00,  2.03it/s]\n"
     ]
    },
    {
     "name": "stdout",
     "output_type": "stream",
     "text": [
      "Epoch [71], Train Loss : [0.26077] Val Loss : [0.32146] Val F1 Score : [0.53409]\n",
      "Epoch    72: reducing learning rate of group 0 to 3.1250e-05.\n"
     ]
    },
    {
     "name": "stderr",
     "output_type": "stream",
     "text": [
      "100%|██████████| 23/23 [00:12<00:00,  1.79it/s]\n",
      "100%|██████████| 6/6 [00:02<00:00,  2.05it/s]\n"
     ]
    },
    {
     "name": "stdout",
     "output_type": "stream",
     "text": [
      "Epoch [72], Train Loss : [0.26043] Val Loss : [0.32074] Val F1 Score : [0.53488]\n"
     ]
    },
    {
     "name": "stderr",
     "output_type": "stream",
     "text": [
      "100%|██████████| 23/23 [00:13<00:00,  1.76it/s]\n",
      "100%|██████████| 6/6 [00:02<00:00,  2.04it/s]\n"
     ]
    },
    {
     "name": "stdout",
     "output_type": "stream",
     "text": [
      "Epoch [73], Train Loss : [0.26022] Val Loss : [0.32059] Val F1 Score : [0.53576]\n"
     ]
    },
    {
     "name": "stderr",
     "output_type": "stream",
     "text": [
      "100%|██████████| 23/23 [00:12<00:00,  1.78it/s]\n",
      "100%|██████████| 6/6 [00:02<00:00,  2.07it/s]\n"
     ]
    },
    {
     "name": "stdout",
     "output_type": "stream",
     "text": [
      "Epoch [74], Train Loss : [0.26408] Val Loss : [0.32014] Val F1 Score : [0.54102]\n"
     ]
    },
    {
     "name": "stderr",
     "output_type": "stream",
     "text": [
      "100%|██████████| 23/23 [00:12<00:00,  1.79it/s]\n",
      "100%|██████████| 6/6 [00:02<00:00,  2.08it/s]\n"
     ]
    },
    {
     "name": "stdout",
     "output_type": "stream",
     "text": [
      "Epoch [75], Train Loss : [0.26053] Val Loss : [0.32037] Val F1 Score : [0.54010]\n"
     ]
    },
    {
     "name": "stderr",
     "output_type": "stream",
     "text": [
      "100%|██████████| 23/23 [00:12<00:00,  1.79it/s]\n",
      "100%|██████████| 6/6 [00:02<00:00,  2.08it/s]\n"
     ]
    },
    {
     "name": "stdout",
     "output_type": "stream",
     "text": [
      "Epoch [76], Train Loss : [0.26024] Val Loss : [0.32121] Val F1 Score : [0.54133]\n"
     ]
    },
    {
     "name": "stderr",
     "output_type": "stream",
     "text": [
      "100%|██████████| 23/23 [00:12<00:00,  1.78it/s]\n",
      "100%|██████████| 6/6 [00:02<00:00,  2.06it/s]\n"
     ]
    },
    {
     "name": "stdout",
     "output_type": "stream",
     "text": [
      "Epoch [77], Train Loss : [0.26495] Val Loss : [0.32218] Val F1 Score : [0.53826]\n"
     ]
    },
    {
     "name": "stderr",
     "output_type": "stream",
     "text": [
      "100%|██████████| 23/23 [00:12<00:00,  1.77it/s]\n",
      "100%|██████████| 6/6 [00:02<00:00,  2.04it/s]\n"
     ]
    },
    {
     "name": "stdout",
     "output_type": "stream",
     "text": [
      "Epoch [78], Train Loss : [0.28130] Val Loss : [0.32084] Val F1 Score : [0.54104]\n"
     ]
    },
    {
     "name": "stderr",
     "output_type": "stream",
     "text": [
      "100%|██████████| 23/23 [00:12<00:00,  1.78it/s]\n",
      "100%|██████████| 6/6 [00:02<00:00,  2.07it/s]\n"
     ]
    },
    {
     "name": "stdout",
     "output_type": "stream",
     "text": [
      "Epoch [79], Train Loss : [0.25968] Val Loss : [0.32094] Val F1 Score : [0.54042]\n"
     ]
    },
    {
     "name": "stderr",
     "output_type": "stream",
     "text": [
      "100%|██████████| 23/23 [00:12<00:00,  1.77it/s]\n",
      "100%|██████████| 6/6 [00:02<00:00,  2.04it/s]\n"
     ]
    },
    {
     "name": "stdout",
     "output_type": "stream",
     "text": [
      "Epoch [80], Train Loss : [0.26494] Val Loss : [0.32089] Val F1 Score : [0.53857]\n"
     ]
    },
    {
     "name": "stderr",
     "output_type": "stream",
     "text": [
      "100%|██████████| 23/23 [00:13<00:00,  1.76it/s]\n",
      "100%|██████████| 6/6 [00:02<00:00,  2.05it/s]\n"
     ]
    },
    {
     "name": "stdout",
     "output_type": "stream",
     "text": [
      "Epoch [81], Train Loss : [0.26648] Val Loss : [0.32296] Val F1 Score : [0.54535]\n"
     ]
    },
    {
     "name": "stderr",
     "output_type": "stream",
     "text": [
      "100%|██████████| 23/23 [00:12<00:00,  1.78it/s]\n",
      "100%|██████████| 6/6 [00:02<00:00,  2.05it/s]\n"
     ]
    },
    {
     "name": "stdout",
     "output_type": "stream",
     "text": [
      "Epoch [82], Train Loss : [0.26062] Val Loss : [0.32404] Val F1 Score : [0.53766]\n"
     ]
    },
    {
     "name": "stderr",
     "output_type": "stream",
     "text": [
      "100%|██████████| 23/23 [00:12<00:00,  1.77it/s]\n",
      "100%|██████████| 6/6 [00:02<00:00,  2.03it/s]\n"
     ]
    },
    {
     "name": "stdout",
     "output_type": "stream",
     "text": [
      "Epoch [83], Train Loss : [0.26143] Val Loss : [0.32133] Val F1 Score : [0.54165]\n"
     ]
    },
    {
     "name": "stderr",
     "output_type": "stream",
     "text": [
      "100%|██████████| 23/23 [00:13<00:00,  1.77it/s]\n",
      "100%|██████████| 6/6 [00:03<00:00,  1.99it/s]\n"
     ]
    },
    {
     "name": "stdout",
     "output_type": "stream",
     "text": [
      "Epoch [84], Train Loss : [0.28069] Val Loss : [0.32333] Val F1 Score : [0.54196]\n"
     ]
    },
    {
     "name": "stderr",
     "output_type": "stream",
     "text": [
      "100%|██████████| 23/23 [00:13<00:00,  1.76it/s]\n",
      "100%|██████████| 6/6 [00:02<00:00,  2.05it/s]\n"
     ]
    },
    {
     "name": "stdout",
     "output_type": "stream",
     "text": [
      "Epoch [85], Train Loss : [0.26395] Val Loss : [0.32225] Val F1 Score : [0.54249]\n"
     ]
    },
    {
     "name": "stderr",
     "output_type": "stream",
     "text": [
      "100%|██████████| 23/23 [00:13<00:00,  1.77it/s]\n",
      "100%|██████████| 6/6 [00:02<00:00,  2.05it/s]\n"
     ]
    },
    {
     "name": "stdout",
     "output_type": "stream",
     "text": [
      "Epoch [86], Train Loss : [0.26114] Val Loss : [0.32102] Val F1 Score : [0.53680]\n"
     ]
    },
    {
     "name": "stderr",
     "output_type": "stream",
     "text": [
      "100%|██████████| 23/23 [00:13<00:00,  1.77it/s]\n",
      "100%|██████████| 6/6 [00:02<00:00,  2.04it/s]\n"
     ]
    },
    {
     "name": "stdout",
     "output_type": "stream",
     "text": [
      "Epoch [87], Train Loss : [0.25758] Val Loss : [0.32290] Val F1 Score : [0.54064]\n",
      "Epoch    88: reducing learning rate of group 0 to 1.5625e-05.\n"
     ]
    },
    {
     "name": "stderr",
     "output_type": "stream",
     "text": [
      "100%|██████████| 23/23 [00:13<00:00,  1.77it/s]\n",
      "100%|██████████| 6/6 [00:02<00:00,  2.01it/s]\n"
     ]
    },
    {
     "name": "stdout",
     "output_type": "stream",
     "text": [
      "Epoch [88], Train Loss : [0.28136] Val Loss : [0.32242] Val F1 Score : [0.54291]\n"
     ]
    },
    {
     "name": "stderr",
     "output_type": "stream",
     "text": [
      "100%|██████████| 23/23 [00:12<00:00,  1.79it/s]\n",
      "100%|██████████| 6/6 [00:02<00:00,  2.08it/s]\n"
     ]
    },
    {
     "name": "stdout",
     "output_type": "stream",
     "text": [
      "Epoch [89], Train Loss : [0.25914] Val Loss : [0.32615] Val F1 Score : [0.54407]\n"
     ]
    },
    {
     "name": "stderr",
     "output_type": "stream",
     "text": [
      "100%|██████████| 23/23 [00:12<00:00,  1.79it/s]\n",
      "100%|██████████| 6/6 [00:02<00:00,  2.08it/s]\n"
     ]
    },
    {
     "name": "stdout",
     "output_type": "stream",
     "text": [
      "Epoch [90], Train Loss : [0.27105] Val Loss : [0.32466] Val F1 Score : [0.54699]\n"
     ]
    },
    {
     "name": "stderr",
     "output_type": "stream",
     "text": [
      "100%|██████████| 23/23 [00:12<00:00,  1.79it/s]\n",
      "100%|██████████| 6/6 [00:02<00:00,  2.07it/s]\n"
     ]
    },
    {
     "name": "stdout",
     "output_type": "stream",
     "text": [
      "Epoch [91], Train Loss : [0.26304] Val Loss : [0.32374] Val F1 Score : [0.54611]\n"
     ]
    },
    {
     "name": "stderr",
     "output_type": "stream",
     "text": [
      "100%|██████████| 23/23 [00:13<00:00,  1.76it/s]\n",
      "100%|██████████| 6/6 [00:02<00:00,  2.05it/s]\n"
     ]
    },
    {
     "name": "stdout",
     "output_type": "stream",
     "text": [
      "Epoch [92], Train Loss : [0.27330] Val Loss : [0.32363] Val F1 Score : [0.54808]\n"
     ]
    },
    {
     "name": "stderr",
     "output_type": "stream",
     "text": [
      "100%|██████████| 23/23 [00:13<00:00,  1.77it/s]\n",
      "100%|██████████| 6/6 [00:02<00:00,  2.07it/s]\n"
     ]
    },
    {
     "name": "stdout",
     "output_type": "stream",
     "text": [
      "Epoch [93], Train Loss : [0.26662] Val Loss : [0.32202] Val F1 Score : [0.53321]\n"
     ]
    },
    {
     "name": "stderr",
     "output_type": "stream",
     "text": [
      "100%|██████████| 23/23 [00:12<00:00,  1.79it/s]\n",
      "100%|██████████| 6/6 [00:02<00:00,  2.07it/s]\n"
     ]
    },
    {
     "name": "stdout",
     "output_type": "stream",
     "text": [
      "Epoch [94], Train Loss : [0.26156] Val Loss : [0.32433] Val F1 Score : [0.54196]\n"
     ]
    },
    {
     "name": "stderr",
     "output_type": "stream",
     "text": [
      "100%|██████████| 23/23 [00:12<00:00,  1.78it/s]\n",
      "100%|██████████| 6/6 [00:02<00:00,  2.05it/s]\n"
     ]
    },
    {
     "name": "stdout",
     "output_type": "stream",
     "text": [
      "Epoch [95], Train Loss : [0.26016] Val Loss : [0.32314] Val F1 Score : [0.54218]\n"
     ]
    },
    {
     "name": "stderr",
     "output_type": "stream",
     "text": [
      "100%|██████████| 23/23 [00:12<00:00,  1.77it/s]\n",
      "100%|██████████| 6/6 [00:02<00:00,  2.06it/s]\n"
     ]
    },
    {
     "name": "stdout",
     "output_type": "stream",
     "text": [
      "Epoch [96], Train Loss : [0.25995] Val Loss : [0.32422] Val F1 Score : [0.54579]\n"
     ]
    },
    {
     "name": "stderr",
     "output_type": "stream",
     "text": [
      "100%|██████████| 23/23 [00:12<00:00,  1.78it/s]\n",
      "100%|██████████| 6/6 [00:02<00:00,  2.07it/s]\n"
     ]
    },
    {
     "name": "stdout",
     "output_type": "stream",
     "text": [
      "Epoch [97], Train Loss : [0.26236] Val Loss : [0.32366] Val F1 Score : [0.54471]\n"
     ]
    },
    {
     "name": "stderr",
     "output_type": "stream",
     "text": [
      "100%|██████████| 23/23 [00:12<00:00,  1.78it/s]\n",
      "100%|██████████| 6/6 [00:02<00:00,  2.05it/s]\n"
     ]
    },
    {
     "name": "stdout",
     "output_type": "stream",
     "text": [
      "Epoch [98], Train Loss : [0.26489] Val Loss : [0.32224] Val F1 Score : [0.54102]\n",
      "Epoch    99: reducing learning rate of group 0 to 7.8125e-06.\n"
     ]
    },
    {
     "name": "stderr",
     "output_type": "stream",
     "text": [
      "100%|██████████| 23/23 [00:12<00:00,  1.78it/s]\n",
      "100%|██████████| 6/6 [00:02<00:00,  2.06it/s]"
     ]
    },
    {
     "name": "stdout",
     "output_type": "stream",
     "text": [
      "Epoch [99], Train Loss : [0.26313] Val Loss : [0.32422] Val F1 Score : [0.54323]\n"
     ]
    },
    {
     "name": "stderr",
     "output_type": "stream",
     "text": [
      "\n"
     ]
    }
   ],
   "source": [
    "#--------------------------------------------------------------------------------\n",
    "# Training Process\n",
    "#--------------------------------------------------------------------------------\n",
    "\n",
    "student_model = Student()\n",
    "# student_model.eval()\n",
    "optimizer = torch.optim.Adam(student_model.parameters(), lr=CONFIG['LEARNING_RATE'])\n",
    "scheduler = torch.optim.lr_scheduler.ReduceLROnPlateau(optimizer, mode='max', factor=0.5, patience=5, threshold_mode='abs',min_lr=1e-6, verbose=True)\n",
    "\n",
    "best_student_model = student_train(student_model, teacher_model, optimizer, train_loader, val_loader, scheduler, device)"
   ]
  },
  {
   "cell_type": "markdown",
   "id": "c031a481",
   "metadata": {},
   "source": [
    "# Choose Inference Threshold"
   ]
  },
  {
   "cell_type": "code",
   "execution_count": 31,
   "id": "6e77c626",
   "metadata": {
    "ExecuteTime": {
     "end_time": "2022-11-22T10:50:55.300688Z",
     "start_time": "2022-11-22T10:50:55.284103Z"
    }
   },
   "outputs": [],
   "source": [
    "def choose_threshold(model, val_loader, device):\n",
    "    model.to(device)\n",
    "    model.eval()\n",
    "    \n",
    "    thresholds = [0.1, 0.175, 0.195, 0.198 ,0.2,  0.21, 0.225, 0.23, 0.25, 0.3, 0.35, 0.4, 0.45, 0.5]\n",
    "    pred_labels = []\n",
    "    true_labels = []\n",
    "    \n",
    "    best_score = 0\n",
    "    best_thr = None\n",
    "    with torch.no_grad():\n",
    "        for _, x_s, y in tqdm(iter(val_loader)):\n",
    "            \n",
    "            model_pred = model(x_s)\n",
    "            \n",
    "            model_pred = model_pred.squeeze(1).to('cpu')\n",
    "            pred_labels += model_pred.tolist()\n",
    "            true_labels += y.tolist()\n",
    "        \n",
    "        for threshold in thresholds:\n",
    "            pred_labels_thr = np.where(np.array(pred_labels) > threshold, 1, 0)\n",
    "            score_thr = competition_metric(true_labels, pred_labels_thr)\n",
    "            if best_score < score_thr:\n",
    "                best_score = score_thr\n",
    "                best_thr = threshold\n",
    "    return best_thr, best_score"
   ]
  },
  {
   "cell_type": "code",
   "execution_count": 32,
   "id": "b0eb33e9",
   "metadata": {
    "ExecuteTime": {
     "end_time": "2022-11-22T10:51:00.089396Z",
     "start_time": "2022-11-22T10:50:56.807542Z"
    }
   },
   "outputs": [
    {
     "name": "stderr",
     "output_type": "stream",
     "text": [
      "100%|██████████| 6/6 [00:02<00:00,  2.02it/s]\n"
     ]
    },
    {
     "name": "stdout",
     "output_type": "stream",
     "text": [
      "Best Threshold : [0.198], Score : [0.55828]\n"
     ]
    }
   ],
   "source": [
    "best_threshold, best_score = choose_threshold(best_student_model, val_loader, device)\n",
    "print(f'Best Threshold : [{best_threshold}], Score : [{best_score:.5f}]')"
   ]
  },
  {
   "cell_type": "markdown",
   "id": "1d552903",
   "metadata": {},
   "source": [
    "# Inference"
   ]
  },
  {
   "cell_type": "code",
   "execution_count": null,
   "id": "969730bb",
   "metadata": {
    "ExecuteTime": {
     "end_time": "2022-11-22T07:20:22.124270Z",
     "start_time": "2022-11-22T07:16:56.601Z"
    }
   },
   "outputs": [],
   "source": [
    "test_datasets = CustomDataset(test, None, False)\n",
    "test_loaders = DataLoader(test_datasets, batch_size = CONFIG['BATCH_SIZE'], shuffle=False)"
   ]
  },
  {
   "cell_type": "code",
   "execution_count": null,
   "id": "e29ec66c",
   "metadata": {
    "ExecuteTime": {
     "end_time": "2022-11-22T07:20:22.125200Z",
     "start_time": "2022-11-22T07:16:56.603Z"
    }
   },
   "outputs": [],
   "source": [
    "def inference(model, test_loader, threshold, device):\n",
    "    model.to(device)\n",
    "    model.eval()\n",
    "    \n",
    "    test_predict = []\n",
    "    with torch.no_grad():\n",
    "        for x in tqdm(test_loader):\n",
    "            x = x.float().to(device)\n",
    "            model_pred = model(x)\n",
    "\n",
    "            model_pred = model_pred.squeeze(1).to('cpu')\n",
    "            test_predict += model_pred\n",
    "        \n",
    "    test_predict = np.where(np.array(test_predict) > threshold, 1, 0)\n",
    "    print('Done.')\n",
    "    return test_predict"
   ]
  },
  {
   "cell_type": "code",
   "execution_count": null,
   "id": "8fe9c020",
   "metadata": {
    "ExecuteTime": {
     "end_time": "2022-11-22T07:20:22.126114Z",
     "start_time": "2022-11-22T07:16:56.604Z"
    }
   },
   "outputs": [],
   "source": [
    "preds = inference(best_student_model, test_loaders, best_threshold, device)"
   ]
  },
  {
   "cell_type": "markdown",
   "id": "47f9d6d5",
   "metadata": {},
   "source": [
    "# Submit"
   ]
  },
  {
   "cell_type": "code",
   "execution_count": null,
   "id": "c038fc4c",
   "metadata": {
    "ExecuteTime": {
     "end_time": "2022-11-22T07:20:22.126828Z",
     "start_time": "2022-11-22T07:16:56.607Z"
    }
   },
   "outputs": [],
   "source": [
    "submit = pd.read_csv('data/sample_submission.csv')\n",
    "submit['Y_LABEL'] = preds\n",
    "submit.head()"
   ]
  },
  {
   "cell_type": "code",
   "execution_count": null,
   "id": "3bb55f0a",
   "metadata": {
    "ExecuteTime": {
     "end_time": "2022-11-22T07:20:22.127507Z",
     "start_time": "2022-11-22T07:16:56.608Z"
    }
   },
   "outputs": [],
   "source": [
    "submit.to_csv('./submit_GELU_epoch100_alpha0.7_0.4_0.35.csv', index=False)"
   ]
  }
 ],
 "metadata": {
  "kernelspec": {
   "display_name": "Python 3",
   "language": "python",
   "name": "python3"
  },
  "language_info": {
   "codemirror_mode": {
    "name": "ipython",
    "version": 3
   },
   "file_extension": ".py",
   "mimetype": "text/x-python",
   "name": "python",
   "nbconvert_exporter": "python",
   "pygments_lexer": "ipython3",
   "version": "3.8.10"
  },
  "toc": {
   "base_numbering": 1,
   "nav_menu": {},
   "number_sections": false,
   "sideBar": true,
   "skip_h1_title": false,
   "title_cell": "Table of Contents",
   "title_sidebar": "Contents",
   "toc_cell": false,
   "toc_position": {
    "height": "calc(100% - 180px)",
    "left": "10px",
    "top": "150px",
    "width": "165px"
   },
   "toc_section_display": true,
   "toc_window_display": true
  }
 },
 "nbformat": 4,
 "nbformat_minor": 5
}
