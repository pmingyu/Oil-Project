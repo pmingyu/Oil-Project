{
 "cells": [
  {
   "cell_type": "code",
   "execution_count": 1,
   "id": "db8b1e7a",
   "metadata": {
    "ExecuteTime": {
     "end_time": "2022-11-22T08:28:34.534930Z",
     "start_time": "2022-11-22T08:28:33.675948Z"
    }
   },
   "outputs": [
    {
     "name": "stdout",
     "output_type": "stream",
     "text": [
      "Tue Nov 22 08:28:34 2022       \n",
      "+-----------------------------------------------------------------------------+\n",
      "| NVIDIA-SMI 460.27.04    Driver Version: 460.27.04    CUDA Version: 11.2     |\n",
      "|-------------------------------+----------------------+----------------------+\n",
      "| GPU  Name        Persistence-M| Bus-Id        Disp.A | Volatile Uncorr. ECC |\n",
      "| Fan  Temp  Perf  Pwr:Usage/Cap|         Memory-Usage | GPU-Util  Compute M. |\n",
      "|                               |                      |               MIG M. |\n",
      "|===============================+======================+======================|\n",
      "|   0  GeForce RTX 208...  Off  | 00000000:3B:00.0 Off |                  N/A |\n",
      "| 30%   27C    P8     4W / 250W |   5950MiB / 11019MiB |      0%      Default |\n",
      "|                               |                      |                  N/A |\n",
      "+-------------------------------+----------------------+----------------------+\n",
      "|   1  GeForce RTX 208...  Off  | 00000000:5E:00.0 Off |                  N/A |\n",
      "| 30%   24C    P8     1W / 250W |   7480MiB / 11019MiB |      0%      Default |\n",
      "|                               |                      |                  N/A |\n",
      "+-------------------------------+----------------------+----------------------+\n",
      "|   2  GeForce RTX 208...  Off  | 00000000:AF:00.0 Off |                  N/A |\n",
      "| 30%   29C    P8    20W / 250W |   7482MiB / 11019MiB |      0%      Default |\n",
      "|                               |                      |                  N/A |\n",
      "+-------------------------------+----------------------+----------------------+\n",
      "|   3  GeForce RTX 208...  Off  | 00000000:D8:00.0 Off |                  N/A |\n",
      "| 30%   35C    P8    14W / 250W |   5906MiB / 11019MiB |      0%      Default |\n",
      "|                               |                      |                  N/A |\n",
      "+-------------------------------+----------------------+----------------------+\n",
      "                                                                               \n",
      "+-----------------------------------------------------------------------------+\n",
      "| Processes:                                                                  |\n",
      "|  GPU   GI   CI        PID   Type   Process name                  GPU Memory |\n",
      "|        ID   ID                                                   Usage      |\n",
      "|=============================================================================|\n",
      "|    1   N/A  N/A       601      C   /usr/libexec/gvfsd-metadata      1353MiB |\n",
      "+-----------------------------------------------------------------------------+\n"
     ]
    }
   ],
   "source": [
    "!nvidia-smi"
   ]
  },
  {
   "cell_type": "code",
   "execution_count": 2,
   "id": "e96a1d9a",
   "metadata": {
    "ExecuteTime": {
     "end_time": "2022-11-22T08:28:34.544844Z",
     "start_time": "2022-11-22T08:28:34.539459Z"
    }
   },
   "outputs": [],
   "source": [
    "import os\n",
    "os.environ[\"CUDA_VISIBLE_DEVICES\"] = \"3\""
   ]
  },
  {
   "cell_type": "code",
   "execution_count": 3,
   "id": "68d175d6",
   "metadata": {
    "ExecuteTime": {
     "end_time": "2022-11-22T08:28:36.367067Z",
     "start_time": "2022-11-22T08:28:34.549261Z"
    }
   },
   "outputs": [
    {
     "name": "stdout",
     "output_type": "stream",
     "text": [
      "cuda\n",
      "1\n"
     ]
    }
   ],
   "source": [
    "import torch\n",
    "import torch.nn as nn\n",
    "import torch.nn.functional as F\n",
    "import torch.optim as optim\n",
    "from torch.utils.data import DataLoader, Dataset\n",
    "\n",
    "from sklearn.metrics import f1_score\n",
    "from sklearn.preprocessing import StandardScaler\n",
    "from sklearn.preprocessing import LabelEncoder\n",
    "from sklearn.model_selection import train_test_split\n",
    "\n",
    "import os\n",
    "import pandas as pd\n",
    "import numpy as np\n",
    "# from tqdm.auto import tqdm\n",
    "from tqdm import tqdm\n",
    "import random\n",
    "\n",
    "import warnings\n",
    "warnings.filterwarnings(action='ignore') \n",
    "\n",
    "device = torch.device('cuda') if torch.cuda.is_available() else torch.device('cpu')\n",
    "print(device)\n",
    "print(torch.cuda.device_count())"
   ]
  },
  {
   "cell_type": "code",
   "execution_count": 4,
   "id": "ed8c8d66",
   "metadata": {
    "ExecuteTime": {
     "end_time": "2022-11-22T08:28:36.374467Z",
     "start_time": "2022-11-22T08:28:36.370318Z"
    }
   },
   "outputs": [],
   "source": [
    "CONFIG = {\n",
    "    'EPOCHS': 100,\n",
    "    'LEARNING_RATE':1e-3,\n",
    "    'BATCH_SIZE':512,\n",
    "    'SEED':101\n",
    "}"
   ]
  },
  {
   "cell_type": "code",
   "execution_count": 5,
   "id": "07855720",
   "metadata": {
    "ExecuteTime": {
     "end_time": "2022-11-22T08:28:36.385895Z",
     "start_time": "2022-11-22T08:28:36.376858Z"
    }
   },
   "outputs": [],
   "source": [
    "def seed_everything(seed):\n",
    "    random.seed(seed)\n",
    "    os.environ['PYTHONHASHSEED'] = str(seed)\n",
    "    np.random.seed(seed)\n",
    "    torch.manual_seed(seed)\n",
    "    torch.cuda.manual_seed(seed)\n",
    "    torch.backends.cudnn.deterministic = True\n",
    "    torch.backends.cudnn.benchmark = True\n",
    "\n",
    "seed_everything(CONFIG['SEED'])"
   ]
  },
  {
   "cell_type": "code",
   "execution_count": 6,
   "id": "831138a2",
   "metadata": {
    "ExecuteTime": {
     "end_time": "2022-11-22T08:28:36.486495Z",
     "start_time": "2022-11-22T08:28:36.388111Z"
    }
   },
   "outputs": [],
   "source": [
    "train = pd.read_csv('data/train.csv')\n",
    "test = pd.read_csv('data/test.csv')"
   ]
  },
  {
   "cell_type": "markdown",
   "id": "87ef951a",
   "metadata": {},
   "source": [
    "# Preprocessing"
   ]
  },
  {
   "cell_type": "code",
   "execution_count": 7,
   "id": "9cdeaad7",
   "metadata": {
    "ExecuteTime": {
     "end_time": "2022-11-22T08:28:36.491187Z",
     "start_time": "2022-11-22T08:28:36.487973Z"
    }
   },
   "outputs": [],
   "source": [
    "categorical_features = ['COMPONENT_ARBITRARY', 'YEAR']\n",
    "# Inference(실제 진단 환경)에 사용하는 컬럼\n",
    "test_stage_features = ['COMPONENT_ARBITRARY', 'ANONYMOUS_1', 'YEAR' , 'ANONYMOUS_2', 'AG', 'CO', 'CR', 'CU', 'FE', 'H2O', 'MN', 'MO', 'NI', 'PQINDEX', 'TI', 'V', 'V40', 'ZN']"
   ]
  },
  {
   "cell_type": "code",
   "execution_count": 8,
   "id": "70198b02",
   "metadata": {
    "ExecuteTime": {
     "end_time": "2022-11-22T08:28:36.507476Z",
     "start_time": "2022-11-22T08:28:36.493736Z"
    }
   },
   "outputs": [],
   "source": [
    "train = train.fillna(0)\n",
    "test = test.fillna(0)"
   ]
  },
  {
   "cell_type": "code",
   "execution_count": 9,
   "id": "224f146c",
   "metadata": {
    "ExecuteTime": {
     "end_time": "2022-11-22T08:28:36.525476Z",
     "start_time": "2022-11-22T08:28:36.509361Z"
    }
   },
   "outputs": [],
   "source": [
    "all_X = train.drop(['ID', 'Y_LABEL'], axis = 1)\n",
    "all_y = train['Y_LABEL']\n",
    "\n",
    "test = test.drop(['ID'], axis = 1)\n",
    "\n",
    "train_X, val_X, train_y, val_y = train_test_split(all_X, all_y, test_size=0.2, random_state=CONFIG['SEED']) #, stratify=all_y)"
   ]
  },
  {
   "cell_type": "code",
   "execution_count": 10,
   "id": "99f9a057",
   "metadata": {
    "ExecuteTime": {
     "end_time": "2022-11-22T08:28:36.595634Z",
     "start_time": "2022-11-22T08:28:36.526792Z"
    }
   },
   "outputs": [],
   "source": [
    "# ---------------------------\n",
    "# Handling Numerical\n",
    "# ---------------------------\n",
    "def get_values(value):\n",
    "    return value.values.reshape(-1, 1)\n",
    "\n",
    "for col in train_X.columns:\n",
    "    if col not in categorical_features:\n",
    "        scaler = StandardScaler()\n",
    "        train_X[col] = scaler.fit_transform(get_values(train_X[col]))\n",
    "        val_X[col] = scaler.transform(get_values(val_X[col]))\n",
    "        if col in test.columns:\n",
    "            test[col] = scaler.transform(get_values(test[col]))\n",
    "            \n",
    "            \n",
    "# ---------------------------\n",
    "# Handling Categorical\n",
    "# ---------------------------\n",
    "le = LabelEncoder()\n",
    "for col in categorical_features:    \n",
    "    train_X[col] = le.fit_transform(train_X[col])\n",
    "    val_X[col] = le.transform(val_X[col])\n",
    "    if col in test.columns:\n",
    "        test[col] = le.transform(test[col])"
   ]
  },
  {
   "cell_type": "markdown",
   "id": "46ea4e21",
   "metadata": {},
   "source": [
    "# Large Model (teacher)"
   ]
  },
  {
   "cell_type": "code",
   "execution_count": 11,
   "id": "db92cef5",
   "metadata": {
    "ExecuteTime": {
     "end_time": "2022-11-22T08:28:36.605005Z",
     "start_time": "2022-11-22T08:28:36.597215Z"
    }
   },
   "outputs": [],
   "source": [
    "# ---------------------------\n",
    "# Custom Dataset\n",
    "# ---------------------------\n",
    "class CustomDataset(Dataset):\n",
    "    def __init__(self, data_X, data_y, distillation=False):\n",
    "        super(CustomDataset, self).__init__()\n",
    "        self.data_X = data_X\n",
    "        self.data_y = data_y\n",
    "        self.distillation = distillation\n",
    "        \n",
    "    def __len__(self):\n",
    "        return len(self.data_X)\n",
    "    \n",
    "    def __getitem__(self, index):\n",
    "        if self.distillation:\n",
    "            #------------------------------------\n",
    "            # When Learing with distillation\n",
    "            #------------------------------------\n",
    "            teacher_X = torch.Tensor(self.data_X.iloc[index])\n",
    "            student_X = torch.Tensor(self.data_X[test_stage_features].iloc[index])\n",
    "            label_y   = torch.Tensor([self.data_y.iloc[index]])\n",
    "            return teacher_X.to(device), \\\n",
    "                   student_X.to(device), \\\n",
    "                   label_y.to(device)\n",
    "        else:\n",
    "            #------------------------------------\n",
    "            # When Learing with Normal Data\n",
    "            #------------------------------------\n",
    "            if self.data_y is None: # for submission dataset\n",
    "                test_X = torch.Tensor(self.data_X.iloc[index])\n",
    "                return test_X.to(device)\n",
    "            \n",
    "            else:\n",
    "                teacher_X = torch.Tensor(self.data_X.iloc[index])\n",
    "                label_y   = torch.Tensor([self.data_y.iloc[index]])\n",
    "                return teacher_X.to(device), \\\n",
    "                       label_y.to(device)"
   ]
  },
  {
   "cell_type": "code",
   "execution_count": 12,
   "id": "c4737eaa",
   "metadata": {
    "ExecuteTime": {
     "end_time": "2022-11-22T08:28:36.612593Z",
     "start_time": "2022-11-22T08:28:36.606356Z"
    }
   },
   "outputs": [],
   "source": [
    "# ---------------------------\n",
    "# Dataset for Teacher Model\n",
    "# ---------------------------\n",
    "train_dataset = CustomDataset(train_X, train_y, False)\n",
    "val_dataset = CustomDataset(val_X, val_y, False)\n",
    "\n",
    "# ---------------------------\n",
    "# Dataloader for Teacher Model\n",
    "# ---------------------------\n",
    "train_loader = DataLoader(train_dataset, batch_size = CONFIG['BATCH_SIZE'], shuffle=True)\n",
    "val_loader   = DataLoader(val_dataset, batch_size = CONFIG['BATCH_SIZE'], shuffle=False)"
   ]
  },
  {
   "cell_type": "code",
   "execution_count": 13,
   "id": "7c40edc3",
   "metadata": {
    "ExecuteTime": {
     "end_time": "2022-11-22T08:28:44.206302Z",
     "start_time": "2022-11-22T08:28:36.613836Z"
    }
   },
   "outputs": [
    {
     "data": {
      "text/plain": [
       "(tensor([ 0.0000e+00,  2.7493e-04,  8.0000e+00, -3.9161e-01, -3.4112e-01,\n",
       "         -1.4855e-01, -1.0477e-01,  2.4425e+00, -3.0059e-01, -3.7119e-02,\n",
       "          8.3046e-01, -6.7052e-02, -1.2607e-01, -1.1260e-01, -2.6032e-01,\n",
       "          4.9347e-01,  1.1905e+00, -3.6082e-01,  7.6335e-01,  1.1156e+00,\n",
       "          1.3627e+00, -3.6135e-01, -1.0803e-01, -3.9834e-02, -7.1962e-02,\n",
       "         -1.0763e-01, -1.9431e-01, -3.3823e-01, -4.0253e-01, -4.1215e-04,\n",
       "         -1.9460e-01,  8.8570e-02, -1.6250e-01, -2.6765e-01, -8.3927e-01,\n",
       "         -1.9846e-01, -1.6062e-01, -2.4240e-01,  5.1207e-01, -1.0670e-01,\n",
       "         -7.8102e-02, -1.0621e-01, -7.1571e-02, -1.1962e-01, -1.2277e-01,\n",
       "         -1.3725e-01, -1.5107e-01, -1.9664e-01, -1.0860e-01,  1.6066e+00,\n",
       "         -1.4155e-01,  9.7597e-01], device='cuda:0'),\n",
       " tensor([1.], device='cuda:0'))"
      ]
     },
     "execution_count": 13,
     "metadata": {},
     "output_type": "execute_result"
    }
   ],
   "source": [
    "val_dataset[0]"
   ]
  },
  {
   "cell_type": "code",
   "execution_count": 14,
   "id": "8805f519",
   "metadata": {
    "ExecuteTime": {
     "end_time": "2022-11-22T08:28:44.215839Z",
     "start_time": "2022-11-22T08:28:44.208256Z"
    }
   },
   "outputs": [],
   "source": [
    "# ---------------------------\n",
    "# Teacher Model\n",
    "# ---------------------------\n",
    "class Teacher(nn.Module):\n",
    "    def __init__(self):\n",
    "        super(Teacher, self).__init__()\n",
    "        self.classifier = nn.Sequential(\n",
    "            nn.Linear(in_features=52, out_features=256),\n",
    "            nn.BatchNorm1d(256),\n",
    "            nn.GELU(),\n",
    "            nn.Linear(in_features=256, out_features=512),\n",
    "            nn.BatchNorm1d(512),\n",
    "            nn.GELU(),\n",
    "            nn.Linear(in_features=512, out_features=1024),\n",
    "            nn.BatchNorm1d(1024),\n",
    "            nn.GELU(),\n",
    "            nn.Linear(in_features=1024, out_features=1024),\n",
    "            nn.BatchNorm1d(1024),\n",
    "            nn.GELU(),\n",
    "            nn.Linear(in_features=1024, out_features=512),\n",
    "            nn.BatchNorm1d(512),\n",
    "            nn.GELU(),\n",
    "            nn.Linear(in_features=512, out_features=256),\n",
    "            nn.BatchNorm1d(256),\n",
    "            nn.GELU(),\n",
    "            nn.Linear(in_features=256, out_features=1),\n",
    "            nn.Sigmoid()\n",
    "        )\n",
    "        \n",
    "    def forward(self, x):\n",
    "        output = self.classifier(x)\n",
    "        return output"
   ]
  },
  {
   "cell_type": "code",
   "execution_count": 15,
   "id": "af25ba45",
   "metadata": {
    "ExecuteTime": {
     "end_time": "2022-11-22T08:28:44.227397Z",
     "start_time": "2022-11-22T08:28:44.217459Z"
    }
   },
   "outputs": [],
   "source": [
    "#--------------------------------------------------------------------------------\n",
    "# Metrics\n",
    "#--------------------------------------------------------------------------------\n",
    "def competition_metric(true, pred):\n",
    "    return f1_score(true, pred, average=\"macro\")\n",
    "\n",
    "\n",
    "#--------------------------------------------------------------------------------\n",
    "# Training Teacher\n",
    "#--------------------------------------------------------------------------------\n",
    "def teacher_train(model, optimizer, train_loader, val_loader, scheduler):\n",
    "    model.to(device)\n",
    "\n",
    "    best_score = 0\n",
    "    best_model = None\n",
    "    criterion = nn.BCELoss().to(device)\n",
    "\n",
    "    for epoch in range(CONFIG[\"EPOCHS\"]):\n",
    "        train_loss = []\n",
    "        \n",
    "        # ACTIVATE TRAINING MODE\n",
    "        # --- normalisation layers1 use per-batch statistics\n",
    "        # --- activates Dropout layers2\n",
    "        model.train()\n",
    "    \n",
    "        for i,(X, y) in tqdm(enumerate(train_loader)):\n",
    "            \n",
    "            # ZERO GRADIENT\n",
    "            optimizer.zero_grad()\n",
    "            \n",
    "            # FORWARD\n",
    "            y_pred = model(X)\n",
    "            loss = criterion(y_pred, y)\n",
    "            \n",
    "            # BACKWARD\n",
    "            loss.backward()\n",
    "            \n",
    "            # UPDATE\n",
    "            optimizer.step()\n",
    "\n",
    "            train_loss.append(loss.item())\n",
    "\n",
    "        val_loss, val_score = validation_teacher(model, val_loader, criterion)\n",
    "        print(f'Epoch [{epoch}], Train Loss : [{np.mean(train_loss) :.5f}] Val Loss : [{np.mean(val_loss) :.5f}] Val F1 Score : [{val_score:.5f}]')\n",
    "\n",
    "        if scheduler is not None:\n",
    "            scheduler.step(val_score)\n",
    "            \n",
    "        if best_score < val_score:\n",
    "            best_model = model\n",
    "            best_score = val_score\n",
    "        \n",
    "    return best_model \n",
    "\n",
    "\n",
    "#--------------------------------------------------------------------------------\n",
    "# Validation Teacher\n",
    "#--------------------------------------------------------------------------------\n",
    "def validation_teacher(model, val_loader, criterion):\n",
    "    # ACTIVATE EVALUATION MODE\n",
    "    # --- normalisation layers use running statistics\n",
    "    # --- de-activates Dropout layers\n",
    "    model.eval()\n",
    "\n",
    "    val_loss = []\n",
    "    pred_labels = []\n",
    "    true_labels = []\n",
    "    threshold = 0.4\n",
    "    \n",
    "    with torch.no_grad():\n",
    "        for i,(X, y) in tqdm(enumerate(val_loader)):\n",
    "            \n",
    "            model_pred = model(X)\n",
    "            \n",
    "            loss = criterion(model_pred,y)\n",
    "            val_loss.append(loss.item())\n",
    "            \n",
    "            model_pred = model_pred.squeeze(1)#.to('cpu')  \n",
    "            pred_labels += model_pred.tolist()\n",
    "            true_labels += y.tolist()\n",
    "        \n",
    "        pred_labels = np.where(np.array(pred_labels) > threshold, 1, 0)\n",
    "        val_f1 = competition_metric(true_labels, pred_labels)\n",
    "    return val_loss, val_f1"
   ]
  },
  {
   "cell_type": "code",
   "execution_count": 16,
   "id": "bf095728",
   "metadata": {
    "ExecuteTime": {
     "end_time": "2022-11-22T08:35:51.098229Z",
     "start_time": "2022-11-22T08:28:44.228717Z"
    },
    "scrolled": true
   },
   "outputs": [
    {
     "name": "stderr",
     "output_type": "stream",
     "text": [
      "23it [00:03,  6.37it/s]\n",
      "6it [00:00,  7.42it/s]\n"
     ]
    },
    {
     "name": "stdout",
     "output_type": "stream",
     "text": [
      "Epoch [0], Train Loss : [0.35824] Val Loss : [0.21550] Val F1 Score : [0.73916]\n"
     ]
    },
    {
     "name": "stderr",
     "output_type": "stream",
     "text": [
      "23it [00:03,  6.76it/s]\n",
      "6it [00:00,  7.41it/s]\n"
     ]
    },
    {
     "name": "stdout",
     "output_type": "stream",
     "text": [
      "Epoch [1], Train Loss : [0.22545] Val Loss : [0.21751] Val F1 Score : [0.75310]\n"
     ]
    },
    {
     "name": "stderr",
     "output_type": "stream",
     "text": [
      "23it [00:03,  6.76it/s]\n",
      "6it [00:00,  7.43it/s]\n"
     ]
    },
    {
     "name": "stdout",
     "output_type": "stream",
     "text": [
      "Epoch [2], Train Loss : [0.21008] Val Loss : [0.19335] Val F1 Score : [0.77013]\n"
     ]
    },
    {
     "name": "stderr",
     "output_type": "stream",
     "text": [
      "23it [00:03,  6.79it/s]\n",
      "6it [00:00,  7.30it/s]\n"
     ]
    },
    {
     "name": "stdout",
     "output_type": "stream",
     "text": [
      "Epoch [3], Train Loss : [0.23614] Val Loss : [0.18490] Val F1 Score : [0.77995]\n"
     ]
    },
    {
     "name": "stderr",
     "output_type": "stream",
     "text": [
      "23it [00:03,  6.77it/s]\n",
      "6it [00:00,  7.39it/s]\n"
     ]
    },
    {
     "name": "stdout",
     "output_type": "stream",
     "text": [
      "Epoch [4], Train Loss : [0.19685] Val Loss : [0.17712] Val F1 Score : [0.79189]\n"
     ]
    },
    {
     "name": "stderr",
     "output_type": "stream",
     "text": [
      "23it [00:03,  6.79it/s]\n",
      "6it [00:00,  7.34it/s]\n"
     ]
    },
    {
     "name": "stdout",
     "output_type": "stream",
     "text": [
      "Epoch [5], Train Loss : [0.18623] Val Loss : [0.17154] Val F1 Score : [0.79823]\n"
     ]
    },
    {
     "name": "stderr",
     "output_type": "stream",
     "text": [
      "23it [00:03,  6.79it/s]\n",
      "6it [00:00,  7.27it/s]\n"
     ]
    },
    {
     "name": "stdout",
     "output_type": "stream",
     "text": [
      "Epoch [6], Train Loss : [0.18636] Val Loss : [0.17272] Val F1 Score : [0.79468]\n"
     ]
    },
    {
     "name": "stderr",
     "output_type": "stream",
     "text": [
      "23it [00:03,  6.60it/s]\n",
      "6it [00:00,  7.34it/s]\n"
     ]
    },
    {
     "name": "stdout",
     "output_type": "stream",
     "text": [
      "Epoch [7], Train Loss : [0.18700] Val Loss : [0.16798] Val F1 Score : [0.81109]\n"
     ]
    },
    {
     "name": "stderr",
     "output_type": "stream",
     "text": [
      "23it [00:03,  6.77it/s]\n",
      "6it [00:00,  7.30it/s]\n"
     ]
    },
    {
     "name": "stdout",
     "output_type": "stream",
     "text": [
      "Epoch [8], Train Loss : [0.17807] Val Loss : [0.17103] Val F1 Score : [0.81306]\n"
     ]
    },
    {
     "name": "stderr",
     "output_type": "stream",
     "text": [
      "23it [00:03,  6.73it/s]\n",
      "6it [00:00,  7.35it/s]\n"
     ]
    },
    {
     "name": "stdout",
     "output_type": "stream",
     "text": [
      "Epoch [9], Train Loss : [0.18309] Val Loss : [0.16718] Val F1 Score : [0.80911]\n"
     ]
    },
    {
     "name": "stderr",
     "output_type": "stream",
     "text": [
      "23it [00:03,  6.82it/s]\n",
      "6it [00:00,  7.54it/s]\n"
     ]
    },
    {
     "name": "stdout",
     "output_type": "stream",
     "text": [
      "Epoch [10], Train Loss : [0.18637] Val Loss : [0.16638] Val F1 Score : [0.81586]\n"
     ]
    },
    {
     "name": "stderr",
     "output_type": "stream",
     "text": [
      "23it [00:03,  6.86it/s]\n",
      "6it [00:00,  7.46it/s]\n"
     ]
    },
    {
     "name": "stdout",
     "output_type": "stream",
     "text": [
      "Epoch [11], Train Loss : [0.18906] Val Loss : [0.16736] Val F1 Score : [0.80812]\n"
     ]
    },
    {
     "name": "stderr",
     "output_type": "stream",
     "text": [
      "23it [00:03,  6.83it/s]\n",
      "6it [00:00,  7.32it/s]\n"
     ]
    },
    {
     "name": "stdout",
     "output_type": "stream",
     "text": [
      "Epoch [12], Train Loss : [0.16518] Val Loss : [0.17097] Val F1 Score : [0.80717]\n"
     ]
    },
    {
     "name": "stderr",
     "output_type": "stream",
     "text": [
      "23it [00:03,  6.75it/s]\n",
      "6it [00:00,  7.41it/s]\n"
     ]
    },
    {
     "name": "stdout",
     "output_type": "stream",
     "text": [
      "Epoch [13], Train Loss : [0.17267] Val Loss : [0.16507] Val F1 Score : [0.81209]\n"
     ]
    },
    {
     "name": "stderr",
     "output_type": "stream",
     "text": [
      "23it [00:03,  6.58it/s]\n",
      "6it [00:00,  7.37it/s]\n"
     ]
    },
    {
     "name": "stdout",
     "output_type": "stream",
     "text": [
      "Epoch [14], Train Loss : [0.17428] Val Loss : [0.16655] Val F1 Score : [0.81386]\n"
     ]
    },
    {
     "name": "stderr",
     "output_type": "stream",
     "text": [
      "23it [00:03,  6.79it/s]\n",
      "6it [00:00,  7.45it/s]\n"
     ]
    },
    {
     "name": "stdout",
     "output_type": "stream",
     "text": [
      "Epoch [15], Train Loss : [0.16131] Val Loss : [0.16267] Val F1 Score : [0.81209]\n"
     ]
    },
    {
     "name": "stderr",
     "output_type": "stream",
     "text": [
      "23it [00:03,  6.79it/s]\n",
      "6it [00:00,  7.45it/s]\n"
     ]
    },
    {
     "name": "stdout",
     "output_type": "stream",
     "text": [
      "Epoch [16], Train Loss : [0.17180] Val Loss : [0.17150] Val F1 Score : [0.80029]\n",
      "Epoch    17: reducing learning rate of group 0 to 5.0000e-04.\n"
     ]
    },
    {
     "name": "stderr",
     "output_type": "stream",
     "text": [
      "23it [00:03,  6.83it/s]\n",
      "6it [00:00,  7.37it/s]\n"
     ]
    },
    {
     "name": "stdout",
     "output_type": "stream",
     "text": [
      "Epoch [17], Train Loss : [0.15907] Val Loss : [0.16491] Val F1 Score : [0.81410]\n"
     ]
    },
    {
     "name": "stderr",
     "output_type": "stream",
     "text": [
      "23it [00:03,  6.82it/s]\n",
      "6it [00:00,  7.52it/s]\n"
     ]
    },
    {
     "name": "stdout",
     "output_type": "stream",
     "text": [
      "Epoch [18], Train Loss : [0.14956] Val Loss : [0.16141] Val F1 Score : [0.81685]\n"
     ]
    },
    {
     "name": "stderr",
     "output_type": "stream",
     "text": [
      "23it [00:03,  6.80it/s]\n",
      "6it [00:00,  7.44it/s]\n"
     ]
    },
    {
     "name": "stdout",
     "output_type": "stream",
     "text": [
      "Epoch [19], Train Loss : [0.14808] Val Loss : [0.15904] Val F1 Score : [0.81685]\n"
     ]
    },
    {
     "name": "stderr",
     "output_type": "stream",
     "text": [
      "23it [00:03,  6.78it/s]\n",
      "6it [00:00,  7.39it/s]\n"
     ]
    },
    {
     "name": "stdout",
     "output_type": "stream",
     "text": [
      "Epoch [20], Train Loss : [0.14201] Val Loss : [0.15917] Val F1 Score : [0.82156]\n"
     ]
    },
    {
     "name": "stderr",
     "output_type": "stream",
     "text": [
      "23it [00:03,  6.62it/s]\n",
      "6it [00:00,  7.35it/s]\n"
     ]
    },
    {
     "name": "stdout",
     "output_type": "stream",
     "text": [
      "Epoch [21], Train Loss : [0.14210] Val Loss : [0.16135] Val F1 Score : [0.81285]\n"
     ]
    },
    {
     "name": "stderr",
     "output_type": "stream",
     "text": [
      "23it [00:03,  6.79it/s]\n",
      "6it [00:00,  7.34it/s]\n"
     ]
    },
    {
     "name": "stdout",
     "output_type": "stream",
     "text": [
      "Epoch [22], Train Loss : [0.14390] Val Loss : [0.15677] Val F1 Score : [0.82085]\n"
     ]
    },
    {
     "name": "stderr",
     "output_type": "stream",
     "text": [
      "23it [00:03,  6.75it/s]\n",
      "6it [00:00,  7.45it/s]\n"
     ]
    },
    {
     "name": "stdout",
     "output_type": "stream",
     "text": [
      "Epoch [23], Train Loss : [0.13677] Val Loss : [0.16336] Val F1 Score : [0.81770]\n"
     ]
    },
    {
     "name": "stderr",
     "output_type": "stream",
     "text": [
      "23it [00:03,  6.75it/s]\n",
      "6it [00:00,  7.37it/s]\n"
     ]
    },
    {
     "name": "stdout",
     "output_type": "stream",
     "text": [
      "Epoch [24], Train Loss : [0.13909] Val Loss : [0.15983] Val F1 Score : [0.82245]\n"
     ]
    },
    {
     "name": "stderr",
     "output_type": "stream",
     "text": [
      "23it [00:03,  6.76it/s]\n",
      "6it [00:00,  7.47it/s]\n"
     ]
    },
    {
     "name": "stdout",
     "output_type": "stream",
     "text": [
      "Epoch [25], Train Loss : [0.13280] Val Loss : [0.16343] Val F1 Score : [0.81967]\n"
     ]
    },
    {
     "name": "stderr",
     "output_type": "stream",
     "text": [
      "23it [00:03,  6.74it/s]\n",
      "6it [00:00,  7.48it/s]\n"
     ]
    },
    {
     "name": "stdout",
     "output_type": "stream",
     "text": [
      "Epoch [26], Train Loss : [0.13136] Val Loss : [0.16026] Val F1 Score : [0.82518]\n"
     ]
    },
    {
     "name": "stderr",
     "output_type": "stream",
     "text": [
      "23it [00:03,  6.76it/s]\n",
      "6it [00:00,  7.48it/s]\n"
     ]
    },
    {
     "name": "stdout",
     "output_type": "stream",
     "text": [
      "Epoch [27], Train Loss : [0.15668] Val Loss : [0.17049] Val F1 Score : [0.81544]\n"
     ]
    },
    {
     "name": "stderr",
     "output_type": "stream",
     "text": [
      "23it [00:03,  6.67it/s]\n",
      "6it [00:00,  7.45it/s]\n"
     ]
    },
    {
     "name": "stdout",
     "output_type": "stream",
     "text": [
      "Epoch [28], Train Loss : [0.14121] Val Loss : [0.16646] Val F1 Score : [0.82047]\n"
     ]
    },
    {
     "name": "stderr",
     "output_type": "stream",
     "text": [
      "23it [00:03,  6.85it/s]\n",
      "6it [00:00,  7.36it/s]\n"
     ]
    },
    {
     "name": "stdout",
     "output_type": "stream",
     "text": [
      "Epoch [29], Train Loss : [0.12938] Val Loss : [0.15757] Val F1 Score : [0.82234]\n"
     ]
    },
    {
     "name": "stderr",
     "output_type": "stream",
     "text": [
      "23it [00:03,  6.87it/s]\n",
      "6it [00:00,  7.39it/s]\n"
     ]
    },
    {
     "name": "stdout",
     "output_type": "stream",
     "text": [
      "Epoch [30], Train Loss : [0.12448] Val Loss : [0.16092] Val F1 Score : [0.83205]\n"
     ]
    },
    {
     "name": "stderr",
     "output_type": "stream",
     "text": [
      "23it [00:03,  6.88it/s]\n",
      "6it [00:00,  7.51it/s]\n"
     ]
    },
    {
     "name": "stdout",
     "output_type": "stream",
     "text": [
      "Epoch [31], Train Loss : [0.12249] Val Loss : [0.16435] Val F1 Score : [0.82201]\n"
     ]
    },
    {
     "name": "stderr",
     "output_type": "stream",
     "text": [
      "23it [00:03,  6.79it/s]\n",
      "6it [00:00,  7.55it/s]\n"
     ]
    },
    {
     "name": "stdout",
     "output_type": "stream",
     "text": [
      "Epoch [32], Train Loss : [0.11967] Val Loss : [0.16435] Val F1 Score : [0.81860]\n"
     ]
    },
    {
     "name": "stderr",
     "output_type": "stream",
     "text": [
      "23it [00:03,  6.80it/s]\n",
      "6it [00:00,  7.45it/s]\n"
     ]
    },
    {
     "name": "stdout",
     "output_type": "stream",
     "text": [
      "Epoch [33], Train Loss : [0.13349] Val Loss : [0.18046] Val F1 Score : [0.81652]\n"
     ]
    },
    {
     "name": "stderr",
     "output_type": "stream",
     "text": [
      "23it [00:03,  6.76it/s]\n",
      "6it [00:00,  7.37it/s]\n"
     ]
    },
    {
     "name": "stdout",
     "output_type": "stream",
     "text": [
      "Epoch [34], Train Loss : [0.14954] Val Loss : [0.16802] Val F1 Score : [0.81941]\n"
     ]
    },
    {
     "name": "stderr",
     "output_type": "stream",
     "text": [
      "23it [00:03,  6.64it/s]\n",
      "6it [00:00,  7.48it/s]\n"
     ]
    },
    {
     "name": "stdout",
     "output_type": "stream",
     "text": [
      "Epoch [35], Train Loss : [0.12913] Val Loss : [0.16617] Val F1 Score : [0.81794]\n"
     ]
    },
    {
     "name": "stderr",
     "output_type": "stream",
     "text": [
      "23it [00:03,  6.70it/s]\n",
      "6it [00:00,  7.47it/s]\n"
     ]
    },
    {
     "name": "stdout",
     "output_type": "stream",
     "text": [
      "Epoch [36], Train Loss : [0.12664] Val Loss : [0.17854] Val F1 Score : [0.80363]\n",
      "Epoch    37: reducing learning rate of group 0 to 2.5000e-04.\n"
     ]
    },
    {
     "name": "stderr",
     "output_type": "stream",
     "text": [
      "23it [00:03,  6.75it/s]\n",
      "6it [00:00,  7.37it/s]\n"
     ]
    },
    {
     "name": "stdout",
     "output_type": "stream",
     "text": [
      "Epoch [37], Train Loss : [0.11804] Val Loss : [0.16693] Val F1 Score : [0.81869]\n"
     ]
    },
    {
     "name": "stderr",
     "output_type": "stream",
     "text": [
      "23it [00:03,  6.77it/s]\n",
      "6it [00:00,  7.16it/s]\n"
     ]
    },
    {
     "name": "stdout",
     "output_type": "stream",
     "text": [
      "Epoch [38], Train Loss : [0.11892] Val Loss : [0.16545] Val F1 Score : [0.82646]\n"
     ]
    },
    {
     "name": "stderr",
     "output_type": "stream",
     "text": [
      "23it [00:03,  6.72it/s]\n",
      "6it [00:00,  7.34it/s]\n"
     ]
    },
    {
     "name": "stdout",
     "output_type": "stream",
     "text": [
      "Epoch [39], Train Loss : [0.13470] Val Loss : [0.17097] Val F1 Score : [0.82536]\n"
     ]
    },
    {
     "name": "stderr",
     "output_type": "stream",
     "text": [
      "23it [00:03,  6.72it/s]\n",
      "6it [00:00,  7.45it/s]\n"
     ]
    },
    {
     "name": "stdout",
     "output_type": "stream",
     "text": [
      "Epoch [40], Train Loss : [0.13203] Val Loss : [0.17147] Val F1 Score : [0.82358]\n"
     ]
    },
    {
     "name": "stderr",
     "output_type": "stream",
     "text": [
      "23it [00:03,  6.81it/s]\n",
      "6it [00:00,  7.36it/s]\n"
     ]
    },
    {
     "name": "stdout",
     "output_type": "stream",
     "text": [
      "Epoch [41], Train Loss : [0.12253] Val Loss : [0.16785] Val F1 Score : [0.83251]\n"
     ]
    },
    {
     "name": "stderr",
     "output_type": "stream",
     "text": [
      "23it [00:03,  6.52it/s]\n",
      "6it [00:00,  7.17it/s]\n"
     ]
    },
    {
     "name": "stdout",
     "output_type": "stream",
     "text": [
      "Epoch [42], Train Loss : [0.12455] Val Loss : [0.16961] Val F1 Score : [0.83215]\n"
     ]
    },
    {
     "name": "stderr",
     "output_type": "stream",
     "text": [
      "23it [00:03,  6.64it/s]\n",
      "6it [00:00,  7.36it/s]\n"
     ]
    },
    {
     "name": "stdout",
     "output_type": "stream",
     "text": [
      "Epoch [43], Train Loss : [0.12288] Val Loss : [0.16732] Val F1 Score : [0.82824]\n"
     ]
    },
    {
     "name": "stderr",
     "output_type": "stream",
     "text": [
      "23it [00:03,  6.63it/s]\n",
      "6it [00:00,  7.43it/s]\n"
     ]
    },
    {
     "name": "stdout",
     "output_type": "stream",
     "text": [
      "Epoch [44], Train Loss : [0.11413] Val Loss : [0.16948] Val F1 Score : [0.83134]\n"
     ]
    },
    {
     "name": "stderr",
     "output_type": "stream",
     "text": [
      "23it [00:03,  6.78it/s]\n",
      "6it [00:00,  7.42it/s]\n"
     ]
    },
    {
     "name": "stdout",
     "output_type": "stream",
     "text": [
      "Epoch [45], Train Loss : [0.11117] Val Loss : [0.16843] Val F1 Score : [0.82728]\n"
     ]
    },
    {
     "name": "stderr",
     "output_type": "stream",
     "text": [
      "23it [00:03,  6.78it/s]\n",
      "6it [00:00,  7.33it/s]\n"
     ]
    },
    {
     "name": "stdout",
     "output_type": "stream",
     "text": [
      "Epoch [46], Train Loss : [0.10759] Val Loss : [0.18026] Val F1 Score : [0.81215]\n"
     ]
    },
    {
     "name": "stderr",
     "output_type": "stream",
     "text": [
      "23it [00:03,  6.72it/s]\n",
      "6it [00:00,  7.30it/s]\n"
     ]
    },
    {
     "name": "stdout",
     "output_type": "stream",
     "text": [
      "Epoch [47], Train Loss : [0.10686] Val Loss : [0.17569] Val F1 Score : [0.82064]\n",
      "Epoch    48: reducing learning rate of group 0 to 1.2500e-04.\n"
     ]
    },
    {
     "name": "stderr",
     "output_type": "stream",
     "text": [
      "23it [00:03,  6.69it/s]\n",
      "6it [00:00,  7.19it/s]\n"
     ]
    },
    {
     "name": "stdout",
     "output_type": "stream",
     "text": [
      "Epoch [48], Train Loss : [0.10799] Val Loss : [0.18700] Val F1 Score : [0.82064]\n"
     ]
    },
    {
     "name": "stderr",
     "output_type": "stream",
     "text": [
      "23it [00:03,  6.06it/s]\n",
      "6it [00:00,  7.36it/s]\n"
     ]
    },
    {
     "name": "stdout",
     "output_type": "stream",
     "text": [
      "Epoch [49], Train Loss : [0.10143] Val Loss : [0.17743] Val F1 Score : [0.82428]\n"
     ]
    },
    {
     "name": "stderr",
     "output_type": "stream",
     "text": [
      "23it [00:03,  6.68it/s]\n",
      "6it [00:00,  7.24it/s]\n"
     ]
    },
    {
     "name": "stdout",
     "output_type": "stream",
     "text": [
      "Epoch [50], Train Loss : [0.12512] Val Loss : [0.17576] Val F1 Score : [0.82840]\n"
     ]
    },
    {
     "name": "stderr",
     "output_type": "stream",
     "text": [
      "23it [00:03,  6.67it/s]\n",
      "6it [00:00,  7.24it/s]\n"
     ]
    },
    {
     "name": "stdout",
     "output_type": "stream",
     "text": [
      "Epoch [51], Train Loss : [0.10562] Val Loss : [0.18108] Val F1 Score : [0.82617]\n"
     ]
    },
    {
     "name": "stderr",
     "output_type": "stream",
     "text": [
      "23it [00:03,  6.70it/s]\n",
      "6it [00:00,  7.18it/s]\n"
     ]
    },
    {
     "name": "stdout",
     "output_type": "stream",
     "text": [
      "Epoch [52], Train Loss : [0.12334] Val Loss : [0.18351] Val F1 Score : [0.82114]\n"
     ]
    },
    {
     "name": "stderr",
     "output_type": "stream",
     "text": [
      "23it [00:03,  6.61it/s]\n",
      "6it [00:00,  7.18it/s]\n"
     ]
    },
    {
     "name": "stdout",
     "output_type": "stream",
     "text": [
      "Epoch [53], Train Loss : [0.10494] Val Loss : [0.17651] Val F1 Score : [0.82717]\n",
      "Epoch    54: reducing learning rate of group 0 to 6.2500e-05.\n"
     ]
    },
    {
     "name": "stderr",
     "output_type": "stream",
     "text": [
      "23it [00:03,  6.68it/s]\n",
      "6it [00:00,  7.09it/s]\n"
     ]
    },
    {
     "name": "stdout",
     "output_type": "stream",
     "text": [
      "Epoch [54], Train Loss : [0.13231] Val Loss : [0.17789] Val F1 Score : [0.82000]\n"
     ]
    },
    {
     "name": "stderr",
     "output_type": "stream",
     "text": [
      "23it [00:03,  6.59it/s]\n",
      "6it [00:00,  7.43it/s]\n"
     ]
    },
    {
     "name": "stdout",
     "output_type": "stream",
     "text": [
      "Epoch [55], Train Loss : [0.10248] Val Loss : [0.17558] Val F1 Score : [0.82589]\n"
     ]
    },
    {
     "name": "stderr",
     "output_type": "stream",
     "text": [
      "23it [00:03,  6.60it/s]\n",
      "6it [00:00,  7.53it/s]\n"
     ]
    },
    {
     "name": "stdout",
     "output_type": "stream",
     "text": [
      "Epoch [56], Train Loss : [0.09827] Val Loss : [0.17882] Val F1 Score : [0.82240]\n"
     ]
    },
    {
     "name": "stderr",
     "output_type": "stream",
     "text": [
      "23it [00:03,  6.75it/s]\n",
      "6it [00:00,  7.51it/s]\n"
     ]
    },
    {
     "name": "stdout",
     "output_type": "stream",
     "text": [
      "Epoch [57], Train Loss : [0.09900] Val Loss : [0.18138] Val F1 Score : [0.82228]\n"
     ]
    },
    {
     "name": "stderr",
     "output_type": "stream",
     "text": [
      "23it [00:03,  6.79it/s]\n",
      "6it [00:00,  7.41it/s]\n"
     ]
    },
    {
     "name": "stdout",
     "output_type": "stream",
     "text": [
      "Epoch [58], Train Loss : [0.09643] Val Loss : [0.18344] Val F1 Score : [0.81842]\n"
     ]
    },
    {
     "name": "stderr",
     "output_type": "stream",
     "text": [
      "23it [00:03,  6.69it/s]\n",
      "6it [00:00,  7.40it/s]\n"
     ]
    },
    {
     "name": "stdout",
     "output_type": "stream",
     "text": [
      "Epoch [59], Train Loss : [0.10366] Val Loss : [0.18019] Val F1 Score : [0.82589]\n",
      "Epoch    60: reducing learning rate of group 0 to 3.1250e-05.\n"
     ]
    },
    {
     "name": "stderr",
     "output_type": "stream",
     "text": [
      "23it [00:03,  6.60it/s]\n",
      "6it [00:00,  7.28it/s]\n"
     ]
    },
    {
     "name": "stdout",
     "output_type": "stream",
     "text": [
      "Epoch [60], Train Loss : [0.09907] Val Loss : [0.18019] Val F1 Score : [0.82415]\n"
     ]
    },
    {
     "name": "stderr",
     "output_type": "stream",
     "text": [
      "23it [00:03,  6.77it/s]\n",
      "6it [00:00,  7.37it/s]\n"
     ]
    },
    {
     "name": "stdout",
     "output_type": "stream",
     "text": [
      "Epoch [61], Train Loss : [0.11718] Val Loss : [0.17958] Val F1 Score : [0.82441]\n"
     ]
    },
    {
     "name": "stderr",
     "output_type": "stream",
     "text": [
      "23it [00:03,  6.83it/s]\n",
      "6it [00:00,  7.32it/s]\n"
     ]
    },
    {
     "name": "stdout",
     "output_type": "stream",
     "text": [
      "Epoch [62], Train Loss : [0.09518] Val Loss : [0.17938] Val F1 Score : [0.82603]\n"
     ]
    },
    {
     "name": "stderr",
     "output_type": "stream",
     "text": [
      "23it [00:03,  6.59it/s]\n",
      "6it [00:00,  7.41it/s]\n"
     ]
    },
    {
     "name": "stdout",
     "output_type": "stream",
     "text": [
      "Epoch [63], Train Loss : [0.10176] Val Loss : [0.18391] Val F1 Score : [0.82205]\n"
     ]
    },
    {
     "name": "stderr",
     "output_type": "stream",
     "text": [
      "23it [00:03,  6.76it/s]\n",
      "6it [00:00,  7.29it/s]\n"
     ]
    },
    {
     "name": "stdout",
     "output_type": "stream",
     "text": [
      "Epoch [64], Train Loss : [0.10260] Val Loss : [0.17699] Val F1 Score : [0.82536]\n"
     ]
    },
    {
     "name": "stderr",
     "output_type": "stream",
     "text": [
      "23it [00:03,  6.80it/s]\n",
      "6it [00:00,  7.47it/s]\n"
     ]
    },
    {
     "name": "stdout",
     "output_type": "stream",
     "text": [
      "Epoch [65], Train Loss : [0.10459] Val Loss : [0.18334] Val F1 Score : [0.82575]\n",
      "Epoch    66: reducing learning rate of group 0 to 1.5625e-05.\n"
     ]
    },
    {
     "name": "stderr",
     "output_type": "stream",
     "text": [
      "23it [00:03,  6.78it/s]\n",
      "6it [00:00,  7.36it/s]\n"
     ]
    },
    {
     "name": "stdout",
     "output_type": "stream",
     "text": [
      "Epoch [66], Train Loss : [0.10929] Val Loss : [0.18138] Val F1 Score : [0.82575]\n"
     ]
    },
    {
     "name": "stderr",
     "output_type": "stream",
     "text": [
      "23it [00:03,  6.73it/s]\n",
      "6it [00:00,  6.87it/s]\n"
     ]
    },
    {
     "name": "stdout",
     "output_type": "stream",
     "text": [
      "Epoch [67], Train Loss : [0.09426] Val Loss : [0.17732] Val F1 Score : [0.82522]\n"
     ]
    },
    {
     "name": "stderr",
     "output_type": "stream",
     "text": [
      "23it [00:03,  6.77it/s]\n",
      "6it [00:00,  7.10it/s]\n"
     ]
    },
    {
     "name": "stdout",
     "output_type": "stream",
     "text": [
      "Epoch [68], Train Loss : [0.09746] Val Loss : [0.18126] Val F1 Score : [0.82217]\n"
     ]
    },
    {
     "name": "stderr",
     "output_type": "stream",
     "text": [
      "23it [00:03,  6.76it/s]\n",
      "6it [00:00,  7.44it/s]\n"
     ]
    },
    {
     "name": "stdout",
     "output_type": "stream",
     "text": [
      "Epoch [69], Train Loss : [0.11180] Val Loss : [0.17974] Val F1 Score : [0.82402]\n"
     ]
    },
    {
     "name": "stderr",
     "output_type": "stream",
     "text": [
      "23it [00:03,  6.58it/s]\n",
      "6it [00:00,  7.45it/s]\n"
     ]
    },
    {
     "name": "stdout",
     "output_type": "stream",
     "text": [
      "Epoch [70], Train Loss : [0.09474] Val Loss : [0.17705] Val F1 Score : [0.83295]\n"
     ]
    },
    {
     "name": "stderr",
     "output_type": "stream",
     "text": [
      "23it [00:03,  6.77it/s]\n",
      "6it [00:00,  7.43it/s]\n"
     ]
    },
    {
     "name": "stdout",
     "output_type": "stream",
     "text": [
      "Epoch [71], Train Loss : [0.09858] Val Loss : [0.18388] Val F1 Score : [0.82023]\n"
     ]
    },
    {
     "name": "stderr",
     "output_type": "stream",
     "text": [
      "23it [00:03,  6.83it/s]\n",
      "6it [00:00,  7.37it/s]\n"
     ]
    },
    {
     "name": "stdout",
     "output_type": "stream",
     "text": [
      "Epoch [72], Train Loss : [0.09242] Val Loss : [0.17937] Val F1 Score : [0.82589]\n"
     ]
    },
    {
     "name": "stderr",
     "output_type": "stream",
     "text": [
      "23it [00:03,  6.83it/s]\n",
      "6it [00:00,  7.33it/s]\n"
     ]
    },
    {
     "name": "stdout",
     "output_type": "stream",
     "text": [
      "Epoch [73], Train Loss : [0.09110] Val Loss : [0.18252] Val F1 Score : [0.82390]\n"
     ]
    },
    {
     "name": "stderr",
     "output_type": "stream",
     "text": [
      "23it [00:03,  6.75it/s]\n",
      "6it [00:00,  7.35it/s]\n"
     ]
    },
    {
     "name": "stdout",
     "output_type": "stream",
     "text": [
      "Epoch [74], Train Loss : [0.09277] Val Loss : [0.18312] Val F1 Score : [0.82285]\n"
     ]
    },
    {
     "name": "stderr",
     "output_type": "stream",
     "text": [
      "23it [00:03,  6.77it/s]\n",
      "6it [00:00,  7.30it/s]\n"
     ]
    },
    {
     "name": "stdout",
     "output_type": "stream",
     "text": [
      "Epoch [75], Train Loss : [0.09079] Val Loss : [0.18545] Val F1 Score : [0.82217]\n"
     ]
    },
    {
     "name": "stderr",
     "output_type": "stream",
     "text": [
      "23it [00:03,  6.77it/s]\n",
      "6it [00:00,  7.41it/s]\n"
     ]
    },
    {
     "name": "stdout",
     "output_type": "stream",
     "text": [
      "Epoch [76], Train Loss : [0.12879] Val Loss : [0.18400] Val F1 Score : [0.82322]\n",
      "Epoch    77: reducing learning rate of group 0 to 7.8125e-06.\n"
     ]
    },
    {
     "name": "stderr",
     "output_type": "stream",
     "text": [
      "23it [00:03,  6.54it/s]\n",
      "6it [00:00,  7.36it/s]\n"
     ]
    },
    {
     "name": "stdout",
     "output_type": "stream",
     "text": [
      "Epoch [77], Train Loss : [0.09153] Val Loss : [0.18175] Val F1 Score : [0.82654]\n"
     ]
    },
    {
     "name": "stderr",
     "output_type": "stream",
     "text": [
      "23it [00:03,  6.71it/s]\n",
      "6it [00:00,  7.52it/s]\n"
     ]
    },
    {
     "name": "stdout",
     "output_type": "stream",
     "text": [
      "Epoch [78], Train Loss : [0.09363] Val Loss : [0.18318] Val F1 Score : [0.81842]\n"
     ]
    },
    {
     "name": "stderr",
     "output_type": "stream",
     "text": [
      "23it [00:03,  6.70it/s]\n",
      "6it [00:00,  7.52it/s]\n"
     ]
    },
    {
     "name": "stdout",
     "output_type": "stream",
     "text": [
      "Epoch [79], Train Loss : [0.09126] Val Loss : [0.18752] Val F1 Score : [0.82103]\n"
     ]
    },
    {
     "name": "stderr",
     "output_type": "stream",
     "text": [
      "23it [00:03,  6.70it/s]\n",
      "6it [00:00,  7.40it/s]\n"
     ]
    },
    {
     "name": "stdout",
     "output_type": "stream",
     "text": [
      "Epoch [80], Train Loss : [0.09181] Val Loss : [0.18561] Val F1 Score : [0.81662]\n"
     ]
    },
    {
     "name": "stderr",
     "output_type": "stream",
     "text": [
      "23it [00:03,  6.70it/s]\n",
      "6it [00:00,  7.45it/s]\n"
     ]
    },
    {
     "name": "stdout",
     "output_type": "stream",
     "text": [
      "Epoch [81], Train Loss : [0.11142] Val Loss : [0.18402] Val F1 Score : [0.82136]\n"
     ]
    },
    {
     "name": "stderr",
     "output_type": "stream",
     "text": [
      "23it [00:03,  6.65it/s]\n",
      "6it [00:00,  7.30it/s]\n"
     ]
    },
    {
     "name": "stdout",
     "output_type": "stream",
     "text": [
      "Epoch [82], Train Loss : [0.09517] Val Loss : [0.18270] Val F1 Score : [0.82842]\n",
      "Epoch    83: reducing learning rate of group 0 to 3.9063e-06.\n"
     ]
    },
    {
     "name": "stderr",
     "output_type": "stream",
     "text": [
      "23it [00:03,  6.72it/s]\n",
      "6it [00:00,  7.27it/s]\n"
     ]
    },
    {
     "name": "stdout",
     "output_type": "stream",
     "text": [
      "Epoch [83], Train Loss : [0.10968] Val Loss : [0.18039] Val F1 Score : [0.82496]\n"
     ]
    },
    {
     "name": "stderr",
     "output_type": "stream",
     "text": [
      "23it [00:03,  6.49it/s]\n",
      "6it [00:00,  7.28it/s]\n"
     ]
    },
    {
     "name": "stdout",
     "output_type": "stream",
     "text": [
      "Epoch [84], Train Loss : [0.09189] Val Loss : [0.18514] Val F1 Score : [0.82684]\n"
     ]
    },
    {
     "name": "stderr",
     "output_type": "stream",
     "text": [
      "23it [00:03,  6.71it/s]\n",
      "6it [00:00,  7.29it/s]\n"
     ]
    },
    {
     "name": "stdout",
     "output_type": "stream",
     "text": [
      "Epoch [85], Train Loss : [0.10166] Val Loss : [0.18474] Val F1 Score : [0.82297]\n"
     ]
    },
    {
     "name": "stderr",
     "output_type": "stream",
     "text": [
      "23it [00:03,  6.65it/s]\n",
      "6it [00:00,  7.20it/s]\n"
     ]
    },
    {
     "name": "stdout",
     "output_type": "stream",
     "text": [
      "Epoch [86], Train Loss : [0.09059] Val Loss : [0.18321] Val F1 Score : [0.82194]\n"
     ]
    },
    {
     "name": "stderr",
     "output_type": "stream",
     "text": [
      "23it [00:03,  6.73it/s]\n",
      "6it [00:00,  7.26it/s]\n"
     ]
    },
    {
     "name": "stdout",
     "output_type": "stream",
     "text": [
      "Epoch [87], Train Loss : [0.09224] Val Loss : [0.18558] Val F1 Score : [0.81932]\n"
     ]
    },
    {
     "name": "stderr",
     "output_type": "stream",
     "text": [
      "23it [00:03,  6.59it/s]\n",
      "6it [00:00,  6.81it/s]\n"
     ]
    },
    {
     "name": "stdout",
     "output_type": "stream",
     "text": [
      "Epoch [88], Train Loss : [0.10510] Val Loss : [0.18401] Val F1 Score : [0.82033]\n",
      "Epoch    89: reducing learning rate of group 0 to 1.9531e-06.\n"
     ]
    },
    {
     "name": "stderr",
     "output_type": "stream",
     "text": [
      "23it [00:03,  6.74it/s]\n",
      "6it [00:00,  7.26it/s]\n"
     ]
    },
    {
     "name": "stdout",
     "output_type": "stream",
     "text": [
      "Epoch [89], Train Loss : [0.09167] Val Loss : [0.18288] Val F1 Score : [0.82125]\n"
     ]
    },
    {
     "name": "stderr",
     "output_type": "stream",
     "text": [
      "23it [00:03,  6.76it/s]\n",
      "6it [00:00,  7.34it/s]\n"
     ]
    },
    {
     "name": "stdout",
     "output_type": "stream",
     "text": [
      "Epoch [90], Train Loss : [0.09101] Val Loss : [0.18533] Val F1 Score : [0.81842]\n"
     ]
    },
    {
     "name": "stderr",
     "output_type": "stream",
     "text": [
      "23it [00:03,  6.56it/s]\n",
      "6it [00:00,  7.27it/s]\n"
     ]
    },
    {
     "name": "stdout",
     "output_type": "stream",
     "text": [
      "Epoch [91], Train Loss : [0.09220] Val Loss : [0.18335] Val F1 Score : [0.82158]\n"
     ]
    },
    {
     "name": "stderr",
     "output_type": "stream",
     "text": [
      "23it [00:03,  6.73it/s]\n",
      "6it [00:00,  7.42it/s]\n"
     ]
    },
    {
     "name": "stdout",
     "output_type": "stream",
     "text": [
      "Epoch [92], Train Loss : [0.09133] Val Loss : [0.18189] Val F1 Score : [0.82334]\n"
     ]
    },
    {
     "name": "stderr",
     "output_type": "stream",
     "text": [
      "23it [00:03,  6.69it/s]\n",
      "6it [00:00,  7.38it/s]\n"
     ]
    },
    {
     "name": "stdout",
     "output_type": "stream",
     "text": [
      "Epoch [93], Train Loss : [0.09154] Val Loss : [0.18338] Val F1 Score : [0.82575]\n"
     ]
    },
    {
     "name": "stderr",
     "output_type": "stream",
     "text": [
      "23it [00:03,  6.74it/s]\n",
      "6it [00:00,  7.43it/s]\n"
     ]
    },
    {
     "name": "stdout",
     "output_type": "stream",
     "text": [
      "Epoch [94], Train Loss : [0.09244] Val Loss : [0.18383] Val F1 Score : [0.82640]\n",
      "Epoch    95: reducing learning rate of group 0 to 1.0000e-06.\n"
     ]
    },
    {
     "name": "stderr",
     "output_type": "stream",
     "text": [
      "23it [00:03,  6.82it/s]\n",
      "6it [00:00,  7.39it/s]\n"
     ]
    },
    {
     "name": "stdout",
     "output_type": "stream",
     "text": [
      "Epoch [95], Train Loss : [0.09372] Val Loss : [0.18495] Val F1 Score : [0.82364]\n"
     ]
    },
    {
     "name": "stderr",
     "output_type": "stream",
     "text": [
      "23it [00:03,  6.80it/s]\n",
      "6it [00:00,  7.27it/s]\n"
     ]
    },
    {
     "name": "stdout",
     "output_type": "stream",
     "text": [
      "Epoch [96], Train Loss : [0.10361] Val Loss : [0.18130] Val F1 Score : [0.82509]\n"
     ]
    },
    {
     "name": "stderr",
     "output_type": "stream",
     "text": [
      "23it [00:03,  6.77it/s]\n",
      "6it [00:00,  7.38it/s]\n"
     ]
    },
    {
     "name": "stdout",
     "output_type": "stream",
     "text": [
      "Epoch [97], Train Loss : [0.09228] Val Loss : [0.18784] Val F1 Score : [0.81137]\n"
     ]
    },
    {
     "name": "stderr",
     "output_type": "stream",
     "text": [
      "23it [00:03,  6.62it/s]\n",
      "6it [00:00,  7.48it/s]\n"
     ]
    },
    {
     "name": "stdout",
     "output_type": "stream",
     "text": [
      "Epoch [98], Train Loss : [0.09908] Val Loss : [0.18625] Val F1 Score : [0.82285]\n"
     ]
    },
    {
     "name": "stderr",
     "output_type": "stream",
     "text": [
      "23it [00:03,  6.83it/s]\n",
      "6it [00:00,  7.46it/s]"
     ]
    },
    {
     "name": "stdout",
     "output_type": "stream",
     "text": [
      "Epoch [99], Train Loss : [0.09574] Val Loss : [0.18246] Val F1 Score : [0.82390]\n"
     ]
    },
    {
     "name": "stderr",
     "output_type": "stream",
     "text": [
      "\n"
     ]
    }
   ],
   "source": [
    "#--------------------------------------------------------------------------------\n",
    "# Training Process\n",
    "#--------------------------------------------------------------------------------\n",
    "model = Teacher()\n",
    "optimizer = torch.optim.Adam(model.parameters(), lr=CONFIG['LEARNING_RATE'])\n",
    "scheduler = torch.optim.lr_scheduler.ReduceLROnPlateau(optimizer, mode='max', factor=0.5, patience=5, threshold_mode='abs',min_lr=1e-6, verbose=True)\n",
    "\n",
    "teacher_model = teacher_train(model, optimizer, train_loader, val_loader, scheduler)"
   ]
  },
  {
   "cell_type": "markdown",
   "id": "96423a45",
   "metadata": {},
   "source": [
    "# Small Model (student)"
   ]
  },
  {
   "cell_type": "code",
   "execution_count": 17,
   "id": "8351ecca",
   "metadata": {
    "ExecuteTime": {
     "end_time": "2022-11-22T08:35:51.105913Z",
     "start_time": "2022-11-22T08:35:51.099992Z"
    }
   },
   "outputs": [],
   "source": [
    "# ---------------------------\n",
    "# Student Model\n",
    "# ---------------------------\n",
    "class Student(nn.Module):\n",
    "    def __init__(self):\n",
    "        super(Student, self).__init__()\n",
    "        self.classifier = nn.Sequential(\n",
    "            nn.Linear(in_features=18, out_features=128),\n",
    "            nn.BatchNorm1d(128),\n",
    "            nn.GELU(),\n",
    "            nn.Linear(in_features=128, out_features=256),\n",
    "            nn.BatchNorm1d(256),\n",
    "            nn.GELU(),\n",
    "            nn.Linear(in_features=256, out_features=256),\n",
    "            nn.BatchNorm1d(256),\n",
    "            nn.GELU(),\n",
    "            nn.Linear(in_features=256, out_features=128),\n",
    "            nn.BatchNorm1d(128),\n",
    "            nn.GELU(),\n",
    "            nn.Linear(in_features=128, out_features=1),\n",
    "            nn.Sigmoid()\n",
    "        )\n",
    "        \n",
    "    def forward(self, x):\n",
    "        output = self.classifier(x)\n",
    "        return output"
   ]
  },
  {
   "cell_type": "code",
   "execution_count": 18,
   "id": "0e6963a2",
   "metadata": {
    "ExecuteTime": {
     "end_time": "2022-11-22T08:35:51.114949Z",
     "start_time": "2022-11-22T08:35:51.107393Z"
    }
   },
   "outputs": [],
   "source": [
    "# # ---------------------------\n",
    "# # Distillation Loss with Temperature\n",
    "# # ---------------------------\n",
    "\n",
    "# def distillation(student_logits, labels, teacher_logits, T,alpha):\n",
    "#     distillation_loss = nn.BCELoss()(student_logits/T, teacher_logits/T)\n",
    "#     student_loss = nn.BCELoss()(student_logits, labels.reshape(-1, 1))\n",
    "#     return (1.-alpha) * student_loss +  distillation_loss * (T*T * 2.0 * alpha)\n",
    "\n",
    "# def distill_loss(output, target, teacher_output, loss_fn=distillation, opt=optimizer):\n",
    "#     loss_b = loss_fn(output, target, teacher_output, T=20.0, alpha=0.7)\n",
    "\n",
    "#     if opt is not None:\n",
    "#         # BACKWARD\n",
    "#         loss_b.backward()\n",
    "        \n",
    "#         # UPDATE\n",
    "#         opt.step()\n",
    "\n",
    "#     return loss_b.item()"
   ]
  },
  {
   "cell_type": "code",
   "execution_count": 19,
   "id": "b8b3737e",
   "metadata": {
    "ExecuteTime": {
     "end_time": "2022-11-22T08:35:51.121647Z",
     "start_time": "2022-11-22T08:35:51.116168Z"
    }
   },
   "outputs": [],
   "source": [
    "# ---------------------------\n",
    "# Distillation Loss without Temperature\n",
    "# ---------------------------\n",
    "\n",
    "def distillation(student_logits, labels, teacher_logits, alpha):\n",
    "    distillation_loss = nn.BCELoss()(student_logits, teacher_logits)\n",
    "    student_loss = nn.BCELoss()(student_logits, labels.reshape(-1, 1))\n",
    "    return (1.-alpha) * student_loss +  distillation_loss * alpha\n",
    "\n",
    "def distill_loss(output, target, teacher_output, loss_fn=distillation, opt=optimizer):\n",
    "    loss_b = loss_fn(output, target, teacher_output, alpha=0.7)\n",
    "\n",
    "    if opt is not None:\n",
    "        # BACKWARD\n",
    "        loss_b.backward()\n",
    "        \n",
    "        # UPDATE\n",
    "        opt.step()\n",
    "\n",
    "    return loss_b.item()"
   ]
  },
  {
   "cell_type": "code",
   "execution_count": 20,
   "id": "e9ed51b8",
   "metadata": {
    "ExecuteTime": {
     "end_time": "2022-11-22T08:35:51.135274Z",
     "start_time": "2022-11-22T08:35:51.123143Z"
    }
   },
   "outputs": [],
   "source": [
    "#--------------------------------------------------------------------------------\n",
    "# Training Student\n",
    "#--------------------------------------------------------------------------------\n",
    "\n",
    "def student_train(s_model, t_model, optimizer, train_loader, val_loader, scheduler, device):\n",
    "    \n",
    "    s_model.to(device)\n",
    "    t_model.to(device)\n",
    "    \n",
    "    best_score = 0\n",
    "    best_model = None\n",
    "\n",
    "    for epoch in range(CONFIG[\"EPOCHS\"]):\n",
    "        train_loss = []\n",
    "        s_model.train()\n",
    "        t_model.eval()\n",
    "        \n",
    "        for X_t, X_s, y in tqdm(train_loader):\n",
    "            \n",
    "            # ZERO GRADIENT\n",
    "            optimizer.zero_grad()\n",
    "            \n",
    "            # FORWARD\n",
    "            y_pred_student = s_model(X_s)\n",
    "            with torch.no_grad():\n",
    "                y_pred_teacher = t_model(X_t)\n",
    "                \n",
    "            loss_b = distill_loss(y_pred_student, y, y_pred_teacher, loss_fn=distillation, opt=optimizer)\n",
    "            \n",
    "                \n",
    "            train_loss.append(loss_b)\n",
    "\n",
    "        val_loss, val_score = validation_student(s_model, t_model, val_loader, distill_loss, device)\n",
    "        print(f'Epoch [{epoch}], Train Loss : [{np.mean(train_loss) :.5f}] Val Loss : [{np.mean(val_loss) :.5f}] Val F1 Score : [{val_score:.5f}]')\n",
    "        \n",
    "        if scheduler is not None:\n",
    "            scheduler.step(val_score)\n",
    "            \n",
    "        if best_score < val_score:\n",
    "            best_model = s_model\n",
    "            best_score = val_score\n",
    "        \n",
    "    return best_model\n",
    "\n",
    "\n",
    "#--------------------------------------------------------------------------------\n",
    "# Validation Student\n",
    "#--------------------------------------------------------------------------------\n",
    "\n",
    "def validation_student(s_model, t_model, val_loader, criterion, device):\n",
    "    s_model.eval()\n",
    "    t_model.eval()\n",
    "\n",
    "    val_loss = []\n",
    "    pred_labels = []\n",
    "    true_labels = []\n",
    "    threshold = 0.35\n",
    "    \n",
    "    with torch.no_grad():\n",
    "        for X_t, X_s, y in tqdm(val_loader):\n",
    "            \n",
    "            model_pred     = s_model(X_s)\n",
    "            teacher_output = t_model(X_t)\n",
    "            \n",
    "            loss_b = distill_loss(model_pred, y, teacher_output, loss_fn=distillation, opt=None)\n",
    "            val_loss.append(loss_b)\n",
    "            \n",
    "            model_pred = model_pred.squeeze(1)#.to('cpu')\n",
    "            pred_labels += model_pred.tolist()\n",
    "            true_labels += y.tolist()\n",
    "        \n",
    "        pred_labels = np.where(np.array(pred_labels) > threshold, 1, 0)\n",
    "        val_f1 = competition_metric(true_labels, pred_labels)\n",
    "    return val_loss, val_f1    "
   ]
  },
  {
   "cell_type": "code",
   "execution_count": 21,
   "id": "28eef75b",
   "metadata": {
    "ExecuteTime": {
     "end_time": "2022-11-22T08:35:51.142132Z",
     "start_time": "2022-11-22T08:35:51.136645Z"
    }
   },
   "outputs": [],
   "source": [
    "# ---------------------------\n",
    "# Dataset for Student Model (Distillation True)\n",
    "# ---------------------------\n",
    "train_dataset = CustomDataset(train_X, train_y, True)\n",
    "val_dataset = CustomDataset(val_X, val_y, True)\n",
    "\n",
    "# ---------------------------\n",
    "# Dataloader for Student Model (Distillation True)\n",
    "# ---------------------------\n",
    "train_loader = DataLoader(train_dataset, batch_size = CONFIG['BATCH_SIZE'], shuffle=True)\n",
    "val_loader = DataLoader(val_dataset, batch_size = CONFIG['BATCH_SIZE'], shuffle=False)"
   ]
  },
  {
   "cell_type": "code",
   "execution_count": 22,
   "id": "744cd26b",
   "metadata": {
    "ExecuteTime": {
     "end_time": "2022-11-22T09:02:43.075868Z",
     "start_time": "2022-11-22T08:35:51.143379Z"
    },
    "scrolled": true
   },
   "outputs": [
    {
     "name": "stderr",
     "output_type": "stream",
     "text": [
      "100%|██████████| 23/23 [00:12<00:00,  1.78it/s]\n",
      "100%|██████████| 6/6 [00:02<00:00,  2.05it/s]\n"
     ]
    },
    {
     "name": "stdout",
     "output_type": "stream",
     "text": [
      "Epoch [0], Train Loss : [0.46715] Val Loss : [0.45206] Val F1 Score : [0.49463]\n"
     ]
    },
    {
     "name": "stderr",
     "output_type": "stream",
     "text": [
      "100%|██████████| 23/23 [00:12<00:00,  1.78it/s]\n",
      "100%|██████████| 6/6 [00:02<00:00,  2.06it/s]\n"
     ]
    },
    {
     "name": "stdout",
     "output_type": "stream",
     "text": [
      "Epoch [1], Train Loss : [0.33465] Val Loss : [0.31013] Val F1 Score : [0.48907]\n"
     ]
    },
    {
     "name": "stderr",
     "output_type": "stream",
     "text": [
      "100%|██████████| 23/23 [00:13<00:00,  1.77it/s]\n",
      "100%|██████████| 6/6 [00:02<00:00,  2.07it/s]\n"
     ]
    },
    {
     "name": "stdout",
     "output_type": "stream",
     "text": [
      "Epoch [2], Train Loss : [0.30403] Val Loss : [0.30269] Val F1 Score : [0.48031]\n"
     ]
    },
    {
     "name": "stderr",
     "output_type": "stream",
     "text": [
      "100%|██████████| 23/23 [00:12<00:00,  1.79it/s]\n",
      "100%|██████████| 6/6 [00:02<00:00,  2.05it/s]\n"
     ]
    },
    {
     "name": "stdout",
     "output_type": "stream",
     "text": [
      "Epoch [3], Train Loss : [0.29855] Val Loss : [0.30246] Val F1 Score : [0.48133]\n"
     ]
    },
    {
     "name": "stderr",
     "output_type": "stream",
     "text": [
      "100%|██████████| 23/23 [00:12<00:00,  1.78it/s]\n",
      "100%|██████████| 6/6 [00:02<00:00,  2.04it/s]\n"
     ]
    },
    {
     "name": "stdout",
     "output_type": "stream",
     "text": [
      "Epoch [4], Train Loss : [0.29033] Val Loss : [0.29761] Val F1 Score : [0.49038]\n"
     ]
    },
    {
     "name": "stderr",
     "output_type": "stream",
     "text": [
      "100%|██████████| 23/23 [00:13<00:00,  1.74it/s]\n",
      "100%|██████████| 6/6 [00:02<00:00,  2.02it/s]\n"
     ]
    },
    {
     "name": "stdout",
     "output_type": "stream",
     "text": [
      "Epoch [5], Train Loss : [0.29011] Val Loss : [0.30101] Val F1 Score : [0.49354]\n"
     ]
    },
    {
     "name": "stderr",
     "output_type": "stream",
     "text": [
      "100%|██████████| 23/23 [00:13<00:00,  1.74it/s]\n",
      "100%|██████████| 6/6 [00:02<00:00,  2.03it/s]\n"
     ]
    },
    {
     "name": "stdout",
     "output_type": "stream",
     "text": [
      "Epoch [6], Train Loss : [0.28817] Val Loss : [0.29825] Val F1 Score : [0.48491]\n",
      "Epoch     7: reducing learning rate of group 0 to 5.0000e-04.\n"
     ]
    },
    {
     "name": "stderr",
     "output_type": "stream",
     "text": [
      "100%|██████████| 23/23 [00:13<00:00,  1.74it/s]\n",
      "100%|██████████| 6/6 [00:02<00:00,  2.04it/s]\n"
     ]
    },
    {
     "name": "stdout",
     "output_type": "stream",
     "text": [
      "Epoch [7], Train Loss : [0.28798] Val Loss : [0.29856] Val F1 Score : [0.48921]\n"
     ]
    },
    {
     "name": "stderr",
     "output_type": "stream",
     "text": [
      "100%|██████████| 23/23 [00:13<00:00,  1.74it/s]\n",
      "100%|██████████| 6/6 [00:02<00:00,  2.01it/s]\n"
     ]
    },
    {
     "name": "stdout",
     "output_type": "stream",
     "text": [
      "Epoch [8], Train Loss : [0.27810] Val Loss : [0.30051] Val F1 Score : [0.49315]\n"
     ]
    },
    {
     "name": "stderr",
     "output_type": "stream",
     "text": [
      "100%|██████████| 23/23 [00:13<00:00,  1.74it/s]\n",
      "100%|██████████| 6/6 [00:02<00:00,  2.01it/s]\n"
     ]
    },
    {
     "name": "stdout",
     "output_type": "stream",
     "text": [
      "Epoch [9], Train Loss : [0.28828] Val Loss : [0.29783] Val F1 Score : [0.48979]\n"
     ]
    },
    {
     "name": "stderr",
     "output_type": "stream",
     "text": [
      "100%|██████████| 23/23 [00:13<00:00,  1.72it/s]\n",
      "100%|██████████| 6/6 [00:02<00:00,  2.02it/s]\n"
     ]
    },
    {
     "name": "stdout",
     "output_type": "stream",
     "text": [
      "Epoch [10], Train Loss : [0.27674] Val Loss : [0.29945] Val F1 Score : [0.48849]\n"
     ]
    },
    {
     "name": "stderr",
     "output_type": "stream",
     "text": [
      "100%|██████████| 23/23 [00:13<00:00,  1.74it/s]\n",
      "100%|██████████| 6/6 [00:02<00:00,  2.01it/s]\n"
     ]
    },
    {
     "name": "stdout",
     "output_type": "stream",
     "text": [
      "Epoch [11], Train Loss : [0.28055] Val Loss : [0.29916] Val F1 Score : [0.49259]\n"
     ]
    },
    {
     "name": "stderr",
     "output_type": "stream",
     "text": [
      "100%|██████████| 23/23 [00:13<00:00,  1.74it/s]\n",
      "100%|██████████| 6/6 [00:02<00:00,  2.02it/s]\n"
     ]
    },
    {
     "name": "stdout",
     "output_type": "stream",
     "text": [
      "Epoch [12], Train Loss : [0.28218] Val Loss : [0.30177] Val F1 Score : [0.49801]\n"
     ]
    },
    {
     "name": "stderr",
     "output_type": "stream",
     "text": [
      "100%|██████████| 23/23 [00:13<00:00,  1.74it/s]\n",
      "100%|██████████| 6/6 [00:02<00:00,  2.01it/s]\n"
     ]
    },
    {
     "name": "stdout",
     "output_type": "stream",
     "text": [
      "Epoch [13], Train Loss : [0.28434] Val Loss : [0.30244] Val F1 Score : [0.49259]\n"
     ]
    },
    {
     "name": "stderr",
     "output_type": "stream",
     "text": [
      "100%|██████████| 23/23 [00:13<00:00,  1.70it/s]\n",
      "100%|██████████| 6/6 [00:03<00:00,  1.96it/s]\n"
     ]
    },
    {
     "name": "stdout",
     "output_type": "stream",
     "text": [
      "Epoch [14], Train Loss : [0.28030] Val Loss : [0.30232] Val F1 Score : [0.49565]\n"
     ]
    },
    {
     "name": "stderr",
     "output_type": "stream",
     "text": [
      "100%|██████████| 23/23 [00:13<00:00,  1.73it/s]\n",
      "100%|██████████| 6/6 [00:02<00:00,  2.02it/s]\n"
     ]
    },
    {
     "name": "stdout",
     "output_type": "stream",
     "text": [
      "Epoch [15], Train Loss : [0.30272] Val Loss : [0.30226] Val F1 Score : [0.51056]\n"
     ]
    },
    {
     "name": "stderr",
     "output_type": "stream",
     "text": [
      "100%|██████████| 23/23 [00:13<00:00,  1.74it/s]\n",
      "100%|██████████| 6/6 [00:02<00:00,  2.02it/s]\n"
     ]
    },
    {
     "name": "stdout",
     "output_type": "stream",
     "text": [
      "Epoch [16], Train Loss : [0.28827] Val Loss : [0.29888] Val F1 Score : [0.48821]\n"
     ]
    },
    {
     "name": "stderr",
     "output_type": "stream",
     "text": [
      "100%|██████████| 23/23 [00:12<00:00,  1.77it/s]\n",
      "100%|██████████| 6/6 [00:02<00:00,  2.06it/s]\n"
     ]
    },
    {
     "name": "stdout",
     "output_type": "stream",
     "text": [
      "Epoch [17], Train Loss : [0.27536] Val Loss : [0.30006] Val F1 Score : [0.48807]\n"
     ]
    },
    {
     "name": "stderr",
     "output_type": "stream",
     "text": [
      "100%|██████████| 23/23 [00:13<00:00,  1.75it/s]\n",
      "100%|██████████| 6/6 [00:02<00:00,  2.04it/s]\n"
     ]
    },
    {
     "name": "stdout",
     "output_type": "stream",
     "text": [
      "Epoch [18], Train Loss : [0.27168] Val Loss : [0.29920] Val F1 Score : [0.49531]\n"
     ]
    },
    {
     "name": "stderr",
     "output_type": "stream",
     "text": [
      "100%|██████████| 23/23 [00:13<00:00,  1.76it/s]\n",
      "100%|██████████| 6/6 [00:02<00:00,  2.03it/s]\n"
     ]
    },
    {
     "name": "stdout",
     "output_type": "stream",
     "text": [
      "Epoch [19], Train Loss : [0.27775] Val Loss : [0.30010] Val F1 Score : [0.49565]\n"
     ]
    },
    {
     "name": "stderr",
     "output_type": "stream",
     "text": [
      "100%|██████████| 23/23 [00:13<00:00,  1.76it/s]\n",
      "100%|██████████| 6/6 [00:02<00:00,  2.04it/s]\n"
     ]
    },
    {
     "name": "stdout",
     "output_type": "stream",
     "text": [
      "Epoch [20], Train Loss : [0.28378] Val Loss : [0.30194] Val F1 Score : [0.50597]\n"
     ]
    },
    {
     "name": "stderr",
     "output_type": "stream",
     "text": [
      "100%|██████████| 23/23 [00:13<00:00,  1.75it/s]\n",
      "100%|██████████| 6/6 [00:03<00:00,  1.94it/s]\n"
     ]
    },
    {
     "name": "stdout",
     "output_type": "stream",
     "text": [
      "Epoch [21], Train Loss : [0.27351] Val Loss : [0.30360] Val F1 Score : [0.50540]\n",
      "Epoch    22: reducing learning rate of group 0 to 2.5000e-04.\n"
     ]
    },
    {
     "name": "stderr",
     "output_type": "stream",
     "text": [
      "100%|██████████| 23/23 [00:13<00:00,  1.75it/s]\n",
      "100%|██████████| 6/6 [00:03<00:00,  1.95it/s]\n"
     ]
    },
    {
     "name": "stdout",
     "output_type": "stream",
     "text": [
      "Epoch [22], Train Loss : [0.28718] Val Loss : [0.29922] Val F1 Score : [0.49599]\n"
     ]
    },
    {
     "name": "stderr",
     "output_type": "stream",
     "text": [
      "100%|██████████| 23/23 [00:13<00:00,  1.71it/s]\n",
      "100%|██████████| 6/6 [00:03<00:00,  2.00it/s]\n"
     ]
    },
    {
     "name": "stdout",
     "output_type": "stream",
     "text": [
      "Epoch [23], Train Loss : [0.28023] Val Loss : [0.30178] Val F1 Score : [0.49819]\n"
     ]
    },
    {
     "name": "stderr",
     "output_type": "stream",
     "text": [
      "100%|██████████| 23/23 [00:13<00:00,  1.72it/s]\n",
      "100%|██████████| 6/6 [00:03<00:00,  1.99it/s]\n"
     ]
    },
    {
     "name": "stdout",
     "output_type": "stream",
     "text": [
      "Epoch [24], Train Loss : [0.28101] Val Loss : [0.30251] Val F1 Score : [0.50989]\n"
     ]
    },
    {
     "name": "stderr",
     "output_type": "stream",
     "text": [
      "100%|██████████| 23/23 [00:13<00:00,  1.72it/s]\n",
      "100%|██████████| 6/6 [00:03<00:00,  1.99it/s]\n"
     ]
    },
    {
     "name": "stdout",
     "output_type": "stream",
     "text": [
      "Epoch [25], Train Loss : [0.26944] Val Loss : [0.30319] Val F1 Score : [0.49748]\n"
     ]
    },
    {
     "name": "stderr",
     "output_type": "stream",
     "text": [
      "100%|██████████| 23/23 [00:13<00:00,  1.71it/s]\n",
      "100%|██████████| 6/6 [00:03<00:00,  1.99it/s]\n"
     ]
    },
    {
     "name": "stdout",
     "output_type": "stream",
     "text": [
      "Epoch [26], Train Loss : [0.27027] Val Loss : [0.30081] Val F1 Score : [0.49910]\n"
     ]
    },
    {
     "name": "stderr",
     "output_type": "stream",
     "text": [
      "100%|██████████| 23/23 [00:13<00:00,  1.72it/s]\n",
      "100%|██████████| 6/6 [00:03<00:00,  1.98it/s]\n"
     ]
    },
    {
     "name": "stdout",
     "output_type": "stream",
     "text": [
      "Epoch [27], Train Loss : [0.26947] Val Loss : [0.30116] Val F1 Score : [0.50494]\n",
      "Epoch    28: reducing learning rate of group 0 to 1.2500e-04.\n"
     ]
    },
    {
     "name": "stderr",
     "output_type": "stream",
     "text": [
      "100%|██████████| 23/23 [00:13<00:00,  1.71it/s]\n",
      "100%|██████████| 6/6 [00:03<00:00,  1.98it/s]\n"
     ]
    },
    {
     "name": "stdout",
     "output_type": "stream",
     "text": [
      "Epoch [28], Train Loss : [0.26789] Val Loss : [0.30229] Val F1 Score : [0.50414]\n"
     ]
    },
    {
     "name": "stderr",
     "output_type": "stream",
     "text": [
      "100%|██████████| 23/23 [00:13<00:00,  1.71it/s]\n",
      "100%|██████████| 6/6 [00:03<00:00,  1.99it/s]\n"
     ]
    },
    {
     "name": "stdout",
     "output_type": "stream",
     "text": [
      "Epoch [29], Train Loss : [0.29126] Val Loss : [0.30348] Val F1 Score : [0.50275]\n"
     ]
    },
    {
     "name": "stderr",
     "output_type": "stream",
     "text": [
      "100%|██████████| 23/23 [00:13<00:00,  1.70it/s]\n",
      "100%|██████████| 6/6 [00:03<00:00,  1.99it/s]\n"
     ]
    },
    {
     "name": "stdout",
     "output_type": "stream",
     "text": [
      "Epoch [30], Train Loss : [0.27335] Val Loss : [0.30401] Val F1 Score : [0.50354]\n"
     ]
    },
    {
     "name": "stderr",
     "output_type": "stream",
     "text": [
      "100%|██████████| 23/23 [00:13<00:00,  1.71it/s]\n",
      "100%|██████████| 6/6 [00:03<00:00,  1.97it/s]\n"
     ]
    },
    {
     "name": "stdout",
     "output_type": "stream",
     "text": [
      "Epoch [31], Train Loss : [0.27187] Val Loss : [0.30459] Val F1 Score : [0.50036]\n"
     ]
    },
    {
     "name": "stderr",
     "output_type": "stream",
     "text": [
      "100%|██████████| 23/23 [00:13<00:00,  1.73it/s]\n",
      "100%|██████████| 6/6 [00:02<00:00,  2.02it/s]\n"
     ]
    },
    {
     "name": "stdout",
     "output_type": "stream",
     "text": [
      "Epoch [32], Train Loss : [0.27128] Val Loss : [0.30271] Val F1 Score : [0.50374]\n"
     ]
    },
    {
     "name": "stderr",
     "output_type": "stream",
     "text": [
      "100%|██████████| 23/23 [00:13<00:00,  1.74it/s]\n",
      "100%|██████████| 6/6 [00:02<00:00,  2.02it/s]\n"
     ]
    },
    {
     "name": "stdout",
     "output_type": "stream",
     "text": [
      "Epoch [33], Train Loss : [0.27120] Val Loss : [0.30241] Val F1 Score : [0.49730]\n",
      "Epoch    34: reducing learning rate of group 0 to 6.2500e-05.\n"
     ]
    },
    {
     "name": "stderr",
     "output_type": "stream",
     "text": [
      "100%|██████████| 23/23 [00:13<00:00,  1.73it/s]\n",
      "100%|██████████| 6/6 [00:02<00:00,  2.00it/s]\n"
     ]
    },
    {
     "name": "stdout",
     "output_type": "stream",
     "text": [
      "Epoch [34], Train Loss : [0.26875] Val Loss : [0.30268] Val F1 Score : [0.50855]\n"
     ]
    },
    {
     "name": "stderr",
     "output_type": "stream",
     "text": [
      "100%|██████████| 23/23 [00:12<00:00,  1.78it/s]\n",
      "100%|██████████| 6/6 [00:02<00:00,  2.03it/s]\n"
     ]
    },
    {
     "name": "stdout",
     "output_type": "stream",
     "text": [
      "Epoch [35], Train Loss : [0.26625] Val Loss : [0.30243] Val F1 Score : [0.50576]\n"
     ]
    },
    {
     "name": "stderr",
     "output_type": "stream",
     "text": [
      "100%|██████████| 23/23 [00:13<00:00,  1.77it/s]\n",
      "100%|██████████| 6/6 [00:02<00:00,  2.06it/s]\n"
     ]
    },
    {
     "name": "stdout",
     "output_type": "stream",
     "text": [
      "Epoch [36], Train Loss : [0.26830] Val Loss : [0.30394] Val F1 Score : [0.50791]\n"
     ]
    },
    {
     "name": "stderr",
     "output_type": "stream",
     "text": [
      "100%|██████████| 23/23 [00:12<00:00,  1.78it/s]\n",
      "100%|██████████| 6/6 [00:02<00:00,  2.07it/s]\n"
     ]
    },
    {
     "name": "stdout",
     "output_type": "stream",
     "text": [
      "Epoch [37], Train Loss : [0.26932] Val Loss : [0.30392] Val F1 Score : [0.50314]\n"
     ]
    },
    {
     "name": "stderr",
     "output_type": "stream",
     "text": [
      "100%|██████████| 23/23 [00:13<00:00,  1.76it/s]\n",
      "100%|██████████| 6/6 [00:03<00:00,  1.99it/s]\n"
     ]
    },
    {
     "name": "stdout",
     "output_type": "stream",
     "text": [
      "Epoch [38], Train Loss : [0.26325] Val Loss : [0.30460] Val F1 Score : [0.50434]\n"
     ]
    },
    {
     "name": "stderr",
     "output_type": "stream",
     "text": [
      "100%|██████████| 23/23 [00:12<00:00,  1.77it/s]\n",
      "100%|██████████| 6/6 [00:02<00:00,  2.06it/s]\n"
     ]
    },
    {
     "name": "stdout",
     "output_type": "stream",
     "text": [
      "Epoch [39], Train Loss : [0.26652] Val Loss : [0.30303] Val F1 Score : [0.50515]\n",
      "Epoch    40: reducing learning rate of group 0 to 3.1250e-05.\n"
     ]
    },
    {
     "name": "stderr",
     "output_type": "stream",
     "text": [
      "100%|██████████| 23/23 [00:13<00:00,  1.73it/s]\n",
      "100%|██████████| 6/6 [00:02<00:00,  2.01it/s]\n"
     ]
    },
    {
     "name": "stdout",
     "output_type": "stream",
     "text": [
      "Epoch [40], Train Loss : [0.26572] Val Loss : [0.30308] Val F1 Score : [0.50112]\n"
     ]
    },
    {
     "name": "stderr",
     "output_type": "stream",
     "text": [
      "100%|██████████| 23/23 [00:13<00:00,  1.74it/s]\n",
      "100%|██████████| 6/6 [00:02<00:00,  2.02it/s]\n"
     ]
    },
    {
     "name": "stdout",
     "output_type": "stream",
     "text": [
      "Epoch [41], Train Loss : [0.26255] Val Loss : [0.30305] Val F1 Score : [0.50576]\n"
     ]
    },
    {
     "name": "stderr",
     "output_type": "stream",
     "text": [
      "100%|██████████| 23/23 [00:13<00:00,  1.74it/s]\n",
      "100%|██████████| 6/6 [00:03<00:00,  1.96it/s]\n"
     ]
    },
    {
     "name": "stdout",
     "output_type": "stream",
     "text": [
      "Epoch [42], Train Loss : [0.26244] Val Loss : [0.30402] Val F1 Score : [0.50855]\n"
     ]
    },
    {
     "name": "stderr",
     "output_type": "stream",
     "text": [
      "100%|██████████| 23/23 [00:13<00:00,  1.74it/s]\n",
      "100%|██████████| 6/6 [00:02<00:00,  2.02it/s]\n"
     ]
    },
    {
     "name": "stdout",
     "output_type": "stream",
     "text": [
      "Epoch [43], Train Loss : [0.27790] Val Loss : [0.30384] Val F1 Score : [0.50454]\n"
     ]
    },
    {
     "name": "stderr",
     "output_type": "stream",
     "text": [
      "100%|██████████| 23/23 [00:13<00:00,  1.75it/s]\n",
      "100%|██████████| 6/6 [00:02<00:00,  2.02it/s]\n"
     ]
    },
    {
     "name": "stdout",
     "output_type": "stream",
     "text": [
      "Epoch [44], Train Loss : [0.26057] Val Loss : [0.30371] Val F1 Score : [0.51545]\n"
     ]
    },
    {
     "name": "stderr",
     "output_type": "stream",
     "text": [
      "100%|██████████| 23/23 [00:13<00:00,  1.74it/s]\n",
      "100%|██████████| 6/6 [00:02<00:00,  2.03it/s]\n"
     ]
    },
    {
     "name": "stdout",
     "output_type": "stream",
     "text": [
      "Epoch [45], Train Loss : [0.26277] Val Loss : [0.30498] Val F1 Score : [0.51947]\n"
     ]
    },
    {
     "name": "stderr",
     "output_type": "stream",
     "text": [
      "100%|██████████| 23/23 [00:13<00:00,  1.73it/s]\n",
      "100%|██████████| 6/6 [00:03<00:00,  1.96it/s]\n"
     ]
    },
    {
     "name": "stdout",
     "output_type": "stream",
     "text": [
      "Epoch [46], Train Loss : [0.27439] Val Loss : [0.30417] Val F1 Score : [0.51474]\n"
     ]
    },
    {
     "name": "stderr",
     "output_type": "stream",
     "text": [
      "100%|██████████| 23/23 [00:13<00:00,  1.75it/s]\n",
      "100%|██████████| 6/6 [00:02<00:00,  2.05it/s]\n"
     ]
    },
    {
     "name": "stdout",
     "output_type": "stream",
     "text": [
      "Epoch [47], Train Loss : [0.26277] Val Loss : [0.30543] Val F1 Score : [0.51897]\n"
     ]
    },
    {
     "name": "stderr",
     "output_type": "stream",
     "text": [
      "100%|██████████| 23/23 [00:13<00:00,  1.77it/s]\n",
      "100%|██████████| 6/6 [00:02<00:00,  2.06it/s]\n"
     ]
    },
    {
     "name": "stdout",
     "output_type": "stream",
     "text": [
      "Epoch [48], Train Loss : [0.27355] Val Loss : [0.30492] Val F1 Score : [0.51699]\n"
     ]
    },
    {
     "name": "stderr",
     "output_type": "stream",
     "text": [
      "100%|██████████| 23/23 [00:13<00:00,  1.77it/s]\n",
      "100%|██████████| 6/6 [00:02<00:00,  2.06it/s]\n"
     ]
    },
    {
     "name": "stdout",
     "output_type": "stream",
     "text": [
      "Epoch [49], Train Loss : [0.26229] Val Loss : [0.30341] Val F1 Score : [0.51333]\n"
     ]
    },
    {
     "name": "stderr",
     "output_type": "stream",
     "text": [
      "100%|██████████| 23/23 [00:13<00:00,  1.76it/s]\n",
      "100%|██████████| 6/6 [00:02<00:00,  2.05it/s]\n"
     ]
    },
    {
     "name": "stdout",
     "output_type": "stream",
     "text": [
      "Epoch [50], Train Loss : [0.27065] Val Loss : [0.30414] Val F1 Score : [0.51822]\n"
     ]
    },
    {
     "name": "stderr",
     "output_type": "stream",
     "text": [
      "100%|██████████| 23/23 [00:12<00:00,  1.77it/s]\n",
      "100%|██████████| 6/6 [00:02<00:00,  2.04it/s]\n"
     ]
    },
    {
     "name": "stdout",
     "output_type": "stream",
     "text": [
      "Epoch [51], Train Loss : [0.26780] Val Loss : [0.30520] Val F1 Score : [0.51641]\n",
      "Epoch    52: reducing learning rate of group 0 to 1.5625e-05.\n"
     ]
    },
    {
     "name": "stderr",
     "output_type": "stream",
     "text": [
      "100%|██████████| 23/23 [00:12<00:00,  1.77it/s]\n",
      "100%|██████████| 6/6 [00:02<00:00,  2.05it/s]\n"
     ]
    },
    {
     "name": "stdout",
     "output_type": "stream",
     "text": [
      "Epoch [52], Train Loss : [0.26154] Val Loss : [0.30365] Val F1 Score : [0.50986]\n"
     ]
    },
    {
     "name": "stderr",
     "output_type": "stream",
     "text": [
      "100%|██████████| 23/23 [00:13<00:00,  1.77it/s]\n",
      "100%|██████████| 6/6 [00:02<00:00,  2.04it/s]\n"
     ]
    },
    {
     "name": "stdout",
     "output_type": "stream",
     "text": [
      "Epoch [53], Train Loss : [0.27835] Val Loss : [0.30455] Val F1 Score : [0.51569]\n"
     ]
    },
    {
     "name": "stderr",
     "output_type": "stream",
     "text": [
      "100%|██████████| 23/23 [00:13<00:00,  1.72it/s]\n",
      "100%|██████████| 6/6 [00:02<00:00,  2.04it/s]\n"
     ]
    },
    {
     "name": "stdout",
     "output_type": "stream",
     "text": [
      "Epoch [54], Train Loss : [0.26663] Val Loss : [0.30192] Val F1 Score : [0.50556]\n"
     ]
    },
    {
     "name": "stderr",
     "output_type": "stream",
     "text": [
      "100%|██████████| 23/23 [00:13<00:00,  1.75it/s]\n",
      "100%|██████████| 6/6 [00:02<00:00,  2.05it/s]\n"
     ]
    },
    {
     "name": "stdout",
     "output_type": "stream",
     "text": [
      "Epoch [55], Train Loss : [0.26638] Val Loss : [0.30503] Val F1 Score : [0.51666]\n"
     ]
    },
    {
     "name": "stderr",
     "output_type": "stream",
     "text": [
      "100%|██████████| 23/23 [00:13<00:00,  1.76it/s]\n",
      "100%|██████████| 6/6 [00:02<00:00,  2.04it/s]\n"
     ]
    },
    {
     "name": "stdout",
     "output_type": "stream",
     "text": [
      "Epoch [56], Train Loss : [0.26482] Val Loss : [0.30413] Val F1 Score : [0.50920]\n"
     ]
    },
    {
     "name": "stderr",
     "output_type": "stream",
     "text": [
      "100%|██████████| 23/23 [00:13<00:00,  1.77it/s]\n",
      "100%|██████████| 6/6 [00:02<00:00,  2.04it/s]\n"
     ]
    },
    {
     "name": "stdout",
     "output_type": "stream",
     "text": [
      "Epoch [57], Train Loss : [0.26230] Val Loss : [0.30499] Val F1 Score : [0.52431]\n"
     ]
    },
    {
     "name": "stderr",
     "output_type": "stream",
     "text": [
      "100%|██████████| 23/23 [00:13<00:00,  1.74it/s]\n",
      "100%|██████████| 6/6 [00:02<00:00,  2.02it/s]\n"
     ]
    },
    {
     "name": "stdout",
     "output_type": "stream",
     "text": [
      "Epoch [58], Train Loss : [0.29159] Val Loss : [0.30499] Val F1 Score : [0.50920]\n"
     ]
    },
    {
     "name": "stderr",
     "output_type": "stream",
     "text": [
      "100%|██████████| 23/23 [00:13<00:00,  1.74it/s]\n",
      "100%|██████████| 6/6 [00:02<00:00,  2.02it/s]\n"
     ]
    },
    {
     "name": "stdout",
     "output_type": "stream",
     "text": [
      "Epoch [59], Train Loss : [0.26364] Val Loss : [0.30492] Val F1 Score : [0.52246]\n"
     ]
    },
    {
     "name": "stderr",
     "output_type": "stream",
     "text": [
      "100%|██████████| 23/23 [00:13<00:00,  1.74it/s]\n",
      "100%|██████████| 6/6 [00:02<00:00,  2.02it/s]\n"
     ]
    },
    {
     "name": "stdout",
     "output_type": "stream",
     "text": [
      "Epoch [60], Train Loss : [0.26268] Val Loss : [0.30559] Val F1 Score : [0.52714]\n"
     ]
    },
    {
     "name": "stderr",
     "output_type": "stream",
     "text": [
      "100%|██████████| 23/23 [00:13<00:00,  1.74it/s]\n",
      "100%|██████████| 6/6 [00:02<00:00,  2.02it/s]\n"
     ]
    },
    {
     "name": "stdout",
     "output_type": "stream",
     "text": [
      "Epoch [61], Train Loss : [0.27199] Val Loss : [0.30510] Val F1 Score : [0.51675]\n"
     ]
    },
    {
     "name": "stderr",
     "output_type": "stream",
     "text": [
      "100%|██████████| 23/23 [00:13<00:00,  1.75it/s]\n",
      "100%|██████████| 6/6 [00:02<00:00,  2.05it/s]\n"
     ]
    },
    {
     "name": "stdout",
     "output_type": "stream",
     "text": [
      "Epoch [62], Train Loss : [0.27656] Val Loss : [0.30479] Val F1 Score : [0.52485]\n"
     ]
    },
    {
     "name": "stderr",
     "output_type": "stream",
     "text": [
      "100%|██████████| 23/23 [00:12<00:00,  1.78it/s]\n",
      "100%|██████████| 6/6 [00:02<00:00,  2.05it/s]\n"
     ]
    },
    {
     "name": "stdout",
     "output_type": "stream",
     "text": [
      "Epoch [63], Train Loss : [0.27700] Val Loss : [0.30485] Val F1 Score : [0.52040]\n"
     ]
    },
    {
     "name": "stderr",
     "output_type": "stream",
     "text": [
      "100%|██████████| 23/23 [00:12<00:00,  1.78it/s]\n",
      "100%|██████████| 6/6 [00:02<00:00,  2.04it/s]\n"
     ]
    },
    {
     "name": "stdout",
     "output_type": "stream",
     "text": [
      "Epoch [64], Train Loss : [0.26361] Val Loss : [0.30624] Val F1 Score : [0.51989]\n"
     ]
    },
    {
     "name": "stderr",
     "output_type": "stream",
     "text": [
      "100%|██████████| 23/23 [00:12<00:00,  1.78it/s]\n",
      "100%|██████████| 6/6 [00:02<00:00,  2.00it/s]\n"
     ]
    },
    {
     "name": "stdout",
     "output_type": "stream",
     "text": [
      "Epoch [65], Train Loss : [0.27012] Val Loss : [0.30681] Val F1 Score : [0.52405]\n"
     ]
    },
    {
     "name": "stderr",
     "output_type": "stream",
     "text": [
      "100%|██████████| 23/23 [00:12<00:00,  1.78it/s]\n",
      "100%|██████████| 6/6 [00:02<00:00,  2.06it/s]\n"
     ]
    },
    {
     "name": "stdout",
     "output_type": "stream",
     "text": [
      "Epoch [66], Train Loss : [0.27292] Val Loss : [0.30407] Val F1 Score : [0.51403]\n",
      "Epoch    67: reducing learning rate of group 0 to 7.8125e-06.\n"
     ]
    },
    {
     "name": "stderr",
     "output_type": "stream",
     "text": [
      "100%|██████████| 23/23 [00:12<00:00,  1.78it/s]\n",
      "100%|██████████| 6/6 [00:02<00:00,  2.06it/s]\n"
     ]
    },
    {
     "name": "stdout",
     "output_type": "stream",
     "text": [
      "Epoch [67], Train Loss : [0.26795] Val Loss : [0.30560] Val F1 Score : [0.52539]\n"
     ]
    },
    {
     "name": "stderr",
     "output_type": "stream",
     "text": [
      "100%|██████████| 23/23 [00:12<00:00,  1.77it/s]\n",
      "100%|██████████| 6/6 [00:02<00:00,  2.05it/s]\n"
     ]
    },
    {
     "name": "stdout",
     "output_type": "stream",
     "text": [
      "Epoch [68], Train Loss : [0.26502] Val Loss : [0.30487] Val F1 Score : [0.52220]\n"
     ]
    },
    {
     "name": "stderr",
     "output_type": "stream",
     "text": [
      "100%|██████████| 23/23 [00:12<00:00,  1.79it/s]\n",
      "100%|██████████| 6/6 [00:02<00:00,  2.01it/s]\n"
     ]
    },
    {
     "name": "stdout",
     "output_type": "stream",
     "text": [
      "Epoch [69], Train Loss : [0.26795] Val Loss : [0.30525] Val F1 Score : [0.52116]\n"
     ]
    },
    {
     "name": "stderr",
     "output_type": "stream",
     "text": [
      "100%|██████████| 23/23 [00:12<00:00,  1.79it/s]\n",
      "100%|██████████| 6/6 [00:02<00:00,  2.05it/s]\n"
     ]
    },
    {
     "name": "stdout",
     "output_type": "stream",
     "text": [
      "Epoch [70], Train Loss : [0.26711] Val Loss : [0.30446] Val F1 Score : [0.51748]\n"
     ]
    },
    {
     "name": "stderr",
     "output_type": "stream",
     "text": [
      "100%|██████████| 23/23 [00:12<00:00,  1.80it/s]\n",
      "100%|██████████| 6/6 [00:02<00:00,  2.07it/s]\n"
     ]
    },
    {
     "name": "stdout",
     "output_type": "stream",
     "text": [
      "Epoch [71], Train Loss : [0.26126] Val Loss : [0.30483] Val F1 Score : [0.52539]\n"
     ]
    },
    {
     "name": "stderr",
     "output_type": "stream",
     "text": [
      "100%|██████████| 23/23 [00:12<00:00,  1.79it/s]\n",
      "100%|██████████| 6/6 [00:02<00:00,  2.05it/s]\n"
     ]
    },
    {
     "name": "stdout",
     "output_type": "stream",
     "text": [
      "Epoch [72], Train Loss : [0.26019] Val Loss : [0.30525] Val F1 Score : [0.52325]\n",
      "Epoch    73: reducing learning rate of group 0 to 3.9063e-06.\n"
     ]
    },
    {
     "name": "stderr",
     "output_type": "stream",
     "text": [
      "100%|██████████| 23/23 [00:13<00:00,  1.77it/s]\n",
      "100%|██████████| 6/6 [00:02<00:00,  2.06it/s]\n"
     ]
    },
    {
     "name": "stdout",
     "output_type": "stream",
     "text": [
      "Epoch [73], Train Loss : [0.26176] Val Loss : [0.30464] Val F1 Score : [0.52142]\n"
     ]
    },
    {
     "name": "stderr",
     "output_type": "stream",
     "text": [
      "100%|██████████| 23/23 [00:12<00:00,  1.79it/s]\n",
      "100%|██████████| 6/6 [00:02<00:00,  2.06it/s]\n"
     ]
    },
    {
     "name": "stdout",
     "output_type": "stream",
     "text": [
      "Epoch [74], Train Loss : [0.26457] Val Loss : [0.30444] Val F1 Score : [0.52485]\n"
     ]
    },
    {
     "name": "stderr",
     "output_type": "stream",
     "text": [
      "100%|██████████| 23/23 [00:12<00:00,  1.79it/s]\n",
      "100%|██████████| 6/6 [00:02<00:00,  2.08it/s]\n"
     ]
    },
    {
     "name": "stdout",
     "output_type": "stream",
     "text": [
      "Epoch [75], Train Loss : [0.26194] Val Loss : [0.30459] Val F1 Score : [0.51748]\n"
     ]
    },
    {
     "name": "stderr",
     "output_type": "stream",
     "text": [
      "100%|██████████| 23/23 [00:12<00:00,  1.79it/s]\n",
      "100%|██████████| 6/6 [00:02<00:00,  2.06it/s]\n"
     ]
    },
    {
     "name": "stdout",
     "output_type": "stream",
     "text": [
      "Epoch [76], Train Loss : [0.26259] Val Loss : [0.30556] Val F1 Score : [0.52769]\n"
     ]
    },
    {
     "name": "stderr",
     "output_type": "stream",
     "text": [
      "100%|██████████| 23/23 [00:13<00:00,  1.77it/s]\n",
      "100%|██████████| 6/6 [00:02<00:00,  2.04it/s]\n"
     ]
    },
    {
     "name": "stdout",
     "output_type": "stream",
     "text": [
      "Epoch [77], Train Loss : [0.26806] Val Loss : [0.30608] Val F1 Score : [0.52405]\n"
     ]
    },
    {
     "name": "stderr",
     "output_type": "stream",
     "text": [
      "100%|██████████| 23/23 [00:13<00:00,  1.75it/s]\n",
      "100%|██████████| 6/6 [00:02<00:00,  2.02it/s]\n"
     ]
    },
    {
     "name": "stdout",
     "output_type": "stream",
     "text": [
      "Epoch [78], Train Loss : [0.28169] Val Loss : [0.30352] Val F1 Score : [0.51259]\n"
     ]
    },
    {
     "name": "stderr",
     "output_type": "stream",
     "text": [
      "100%|██████████| 23/23 [00:13<00:00,  1.76it/s]\n",
      "100%|██████████| 6/6 [00:02<00:00,  2.05it/s]\n"
     ]
    },
    {
     "name": "stdout",
     "output_type": "stream",
     "text": [
      "Epoch [79], Train Loss : [0.25993] Val Loss : [0.30493] Val F1 Score : [0.52431]\n"
     ]
    },
    {
     "name": "stderr",
     "output_type": "stream",
     "text": [
      "100%|██████████| 23/23 [00:13<00:00,  1.77it/s]\n",
      "100%|██████████| 6/6 [00:02<00:00,  2.05it/s]\n"
     ]
    },
    {
     "name": "stdout",
     "output_type": "stream",
     "text": [
      "Epoch [80], Train Loss : [0.26705] Val Loss : [0.30440] Val F1 Score : [0.52142]\n"
     ]
    },
    {
     "name": "stderr",
     "output_type": "stream",
     "text": [
      "100%|██████████| 23/23 [00:13<00:00,  1.76it/s]\n",
      "100%|██████████| 6/6 [00:02<00:00,  2.06it/s]\n"
     ]
    },
    {
     "name": "stdout",
     "output_type": "stream",
     "text": [
      "Epoch [81], Train Loss : [0.26780] Val Loss : [0.30537] Val F1 Score : [0.52273]\n"
     ]
    },
    {
     "name": "stderr",
     "output_type": "stream",
     "text": [
      "100%|██████████| 23/23 [00:13<00:00,  1.74it/s]\n",
      "100%|██████████| 6/6 [00:02<00:00,  2.01it/s]\n"
     ]
    },
    {
     "name": "stdout",
     "output_type": "stream",
     "text": [
      "Epoch [82], Train Loss : [0.26171] Val Loss : [0.30543] Val F1 Score : [0.52769]\n",
      "Epoch    83: reducing learning rate of group 0 to 1.9531e-06.\n"
     ]
    },
    {
     "name": "stderr",
     "output_type": "stream",
     "text": [
      "100%|██████████| 23/23 [00:13<00:00,  1.75it/s]\n",
      "100%|██████████| 6/6 [00:02<00:00,  2.01it/s]\n"
     ]
    },
    {
     "name": "stdout",
     "output_type": "stream",
     "text": [
      "Epoch [83], Train Loss : [0.26347] Val Loss : [0.30417] Val F1 Score : [0.51168]\n"
     ]
    },
    {
     "name": "stderr",
     "output_type": "stream",
     "text": [
      "100%|██████████| 23/23 [00:13<00:00,  1.76it/s]\n",
      "100%|██████████| 6/6 [00:03<00:00,  1.98it/s]\n"
     ]
    },
    {
     "name": "stdout",
     "output_type": "stream",
     "text": [
      "Epoch [84], Train Loss : [0.28144] Val Loss : [0.30458] Val F1 Score : [0.51403]\n"
     ]
    },
    {
     "name": "stderr",
     "output_type": "stream",
     "text": [
      "100%|██████████| 23/23 [00:13<00:00,  1.75it/s]\n",
      "100%|██████████| 6/6 [00:02<00:00,  2.05it/s]\n"
     ]
    },
    {
     "name": "stdout",
     "output_type": "stream",
     "text": [
      "Epoch [85], Train Loss : [0.26732] Val Loss : [0.30387] Val F1 Score : [0.52246]\n"
     ]
    },
    {
     "name": "stderr",
     "output_type": "stream",
     "text": [
      "100%|██████████| 23/23 [00:13<00:00,  1.76it/s]\n",
      "100%|██████████| 6/6 [00:02<00:00,  2.01it/s]\n"
     ]
    },
    {
     "name": "stdout",
     "output_type": "stream",
     "text": [
      "Epoch [86], Train Loss : [0.26326] Val Loss : [0.30364] Val F1 Score : [0.50036]\n"
     ]
    },
    {
     "name": "stderr",
     "output_type": "stream",
     "text": [
      "100%|██████████| 23/23 [00:12<00:00,  1.77it/s]\n",
      "100%|██████████| 6/6 [00:02<00:00,  2.04it/s]\n"
     ]
    },
    {
     "name": "stdout",
     "output_type": "stream",
     "text": [
      "Epoch [87], Train Loss : [0.26000] Val Loss : [0.30492] Val F1 Score : [0.52378]\n"
     ]
    },
    {
     "name": "stderr",
     "output_type": "stream",
     "text": [
      "100%|██████████| 23/23 [00:13<00:00,  1.74it/s]\n",
      "100%|██████████| 6/6 [00:03<00:00,  1.97it/s]\n"
     ]
    },
    {
     "name": "stdout",
     "output_type": "stream",
     "text": [
      "Epoch [88], Train Loss : [0.27462] Val Loss : [0.30490] Val F1 Score : [0.52512]\n",
      "Epoch    89: reducing learning rate of group 0 to 1.0000e-06.\n"
     ]
    },
    {
     "name": "stderr",
     "output_type": "stream",
     "text": [
      "100%|██████████| 23/23 [00:13<00:00,  1.75it/s]\n",
      "100%|██████████| 6/6 [00:02<00:00,  2.04it/s]\n"
     ]
    },
    {
     "name": "stdout",
     "output_type": "stream",
     "text": [
      "Epoch [89], Train Loss : [0.26212] Val Loss : [0.30567] Val F1 Score : [0.52769]\n"
     ]
    },
    {
     "name": "stderr",
     "output_type": "stream",
     "text": [
      "100%|██████████| 23/23 [00:13<00:00,  1.76it/s]\n",
      "100%|██████████| 6/6 [00:02<00:00,  2.05it/s]\n"
     ]
    },
    {
     "name": "stdout",
     "output_type": "stream",
     "text": [
      "Epoch [90], Train Loss : [0.27248] Val Loss : [0.30510] Val F1 Score : [0.51847]\n"
     ]
    },
    {
     "name": "stderr",
     "output_type": "stream",
     "text": [
      "100%|██████████| 23/23 [00:13<00:00,  1.76it/s]\n",
      "100%|██████████| 6/6 [00:02<00:00,  2.03it/s]\n"
     ]
    },
    {
     "name": "stdout",
     "output_type": "stream",
     "text": [
      "Epoch [91], Train Loss : [0.26445] Val Loss : [0.30544] Val F1 Score : [0.52605]\n"
     ]
    },
    {
     "name": "stderr",
     "output_type": "stream",
     "text": [
      "100%|██████████| 23/23 [00:13<00:00,  1.73it/s]\n",
      "100%|██████████| 6/6 [00:02<00:00,  2.03it/s]\n"
     ]
    },
    {
     "name": "stdout",
     "output_type": "stream",
     "text": [
      "Epoch [92], Train Loss : [0.27334] Val Loss : [0.30552] Val F1 Score : [0.52714]\n"
     ]
    },
    {
     "name": "stderr",
     "output_type": "stream",
     "text": [
      "100%|██████████| 23/23 [00:13<00:00,  1.73it/s]\n",
      "100%|██████████| 6/6 [00:02<00:00,  2.02it/s]\n"
     ]
    },
    {
     "name": "stdout",
     "output_type": "stream",
     "text": [
      "Epoch [93], Train Loss : [0.26903] Val Loss : [0.30397] Val F1 Score : [0.51773]\n"
     ]
    },
    {
     "name": "stderr",
     "output_type": "stream",
     "text": [
      "100%|██████████| 23/23 [00:13<00:00,  1.75it/s]\n",
      "100%|██████████| 6/6 [00:02<00:00,  2.02it/s]\n"
     ]
    },
    {
     "name": "stdout",
     "output_type": "stream",
     "text": [
      "Epoch [94], Train Loss : [0.26353] Val Loss : [0.30556] Val F1 Score : [0.52797]\n"
     ]
    },
    {
     "name": "stderr",
     "output_type": "stream",
     "text": [
      "100%|██████████| 23/23 [00:13<00:00,  1.76it/s]\n",
      "100%|██████████| 6/6 [00:02<00:00,  2.03it/s]\n"
     ]
    },
    {
     "name": "stdout",
     "output_type": "stream",
     "text": [
      "Epoch [95], Train Loss : [0.26382] Val Loss : [0.30491] Val F1 Score : [0.52352]\n"
     ]
    },
    {
     "name": "stderr",
     "output_type": "stream",
     "text": [
      "100%|██████████| 23/23 [00:13<00:00,  1.74it/s]\n",
      "100%|██████████| 6/6 [00:02<00:00,  2.02it/s]\n"
     ]
    },
    {
     "name": "stdout",
     "output_type": "stream",
     "text": [
      "Epoch [96], Train Loss : [0.26243] Val Loss : [0.30582] Val F1 Score : [0.52687]\n"
     ]
    },
    {
     "name": "stderr",
     "output_type": "stream",
     "text": [
      "100%|██████████| 23/23 [00:13<00:00,  1.75it/s]\n",
      "100%|██████████| 6/6 [00:03<00:00,  1.99it/s]\n"
     ]
    },
    {
     "name": "stdout",
     "output_type": "stream",
     "text": [
      "Epoch [97], Train Loss : [0.26489] Val Loss : [0.30545] Val F1 Score : [0.52065]\n"
     ]
    },
    {
     "name": "stderr",
     "output_type": "stream",
     "text": [
      "100%|██████████| 23/23 [00:13<00:00,  1.76it/s]\n",
      "100%|██████████| 6/6 [00:02<00:00,  2.03it/s]\n"
     ]
    },
    {
     "name": "stdout",
     "output_type": "stream",
     "text": [
      "Epoch [98], Train Loss : [0.26773] Val Loss : [0.30473] Val F1 Score : [0.52853]\n"
     ]
    },
    {
     "name": "stderr",
     "output_type": "stream",
     "text": [
      "100%|██████████| 23/23 [00:13<00:00,  1.75it/s]\n",
      "100%|██████████| 6/6 [00:02<00:00,  2.02it/s]"
     ]
    },
    {
     "name": "stdout",
     "output_type": "stream",
     "text": [
      "Epoch [99], Train Loss : [0.26394] Val Loss : [0.30514] Val F1 Score : [0.51056]\n"
     ]
    },
    {
     "name": "stderr",
     "output_type": "stream",
     "text": [
      "\n"
     ]
    }
   ],
   "source": [
    "#--------------------------------------------------------------------------------\n",
    "# Training Process\n",
    "#--------------------------------------------------------------------------------\n",
    "\n",
    "student_model = Student()\n",
    "# student_model.eval()\n",
    "optimizer = torch.optim.Adam(student_model.parameters(), lr=CONFIG['LEARNING_RATE'])\n",
    "scheduler = torch.optim.lr_scheduler.ReduceLROnPlateau(optimizer, mode='max', factor=0.5, patience=5, threshold_mode='abs',min_lr=1e-6, verbose=True)\n",
    "\n",
    "best_student_model = student_train(student_model, teacher_model, optimizer, train_loader, val_loader, scheduler, device)"
   ]
  },
  {
   "cell_type": "markdown",
   "id": "c031a481",
   "metadata": {},
   "source": [
    "# Choose Inference Threshold"
   ]
  },
  {
   "cell_type": "code",
   "execution_count": 23,
   "id": "6e77c626",
   "metadata": {
    "ExecuteTime": {
     "end_time": "2022-11-22T09:02:43.086152Z",
     "start_time": "2022-11-22T09:02:43.079619Z"
    }
   },
   "outputs": [],
   "source": [
    "def choose_threshold(model, val_loader, device):\n",
    "    model.to(device)\n",
    "    model.eval()\n",
    "    \n",
    "    thresholds = [0.1, 0.2, 0.25, 0.3, 0.35, 0.4, 0.45, 0.5]\n",
    "    pred_labels = []\n",
    "    true_labels = []\n",
    "    \n",
    "    best_score = 0\n",
    "    best_thr = None\n",
    "    with torch.no_grad():\n",
    "        for _, x_s, y in tqdm(iter(val_loader)):\n",
    "            \n",
    "            model_pred = model(x_s)\n",
    "            \n",
    "            model_pred = model_pred.squeeze(1).to('cpu')\n",
    "            pred_labels += model_pred.tolist()\n",
    "            true_labels += y.tolist()\n",
    "        \n",
    "        for threshold in thresholds:\n",
    "            pred_labels_thr = np.where(np.array(pred_labels) > threshold, 1, 0)\n",
    "            score_thr = competition_metric(true_labels, pred_labels_thr)\n",
    "            if best_score < score_thr:\n",
    "                best_score = score_thr\n",
    "                best_thr = threshold\n",
    "    return best_thr, best_score"
   ]
  },
  {
   "cell_type": "code",
   "execution_count": 24,
   "id": "b0eb33e9",
   "metadata": {
    "ExecuteTime": {
     "end_time": "2022-11-22T09:02:46.241746Z",
     "start_time": "2022-11-22T09:02:43.087771Z"
    }
   },
   "outputs": [
    {
     "name": "stderr",
     "output_type": "stream",
     "text": [
      "100%|██████████| 6/6 [00:02<00:00,  2.02it/s]"
     ]
    },
    {
     "name": "stdout",
     "output_type": "stream",
     "text": [
      "Best Threshold : [0.2], Score : [0.55478]\n"
     ]
    },
    {
     "name": "stderr",
     "output_type": "stream",
     "text": [
      "\n"
     ]
    }
   ],
   "source": [
    "best_threshold, best_score = choose_threshold(best_student_model, val_loader, device)\n",
    "print(f'Best Threshold : [{best_threshold}], Score : [{best_score:.5f}]')"
   ]
  },
  {
   "cell_type": "markdown",
   "id": "1d552903",
   "metadata": {},
   "source": [
    "# Inference"
   ]
  },
  {
   "cell_type": "code",
   "execution_count": null,
   "id": "969730bb",
   "metadata": {
    "ExecuteTime": {
     "end_time": "2022-11-22T07:20:22.124270Z",
     "start_time": "2022-11-22T07:16:56.601Z"
    }
   },
   "outputs": [],
   "source": [
    "test_datasets = CustomDataset(test, None, False)\n",
    "test_loaders = DataLoader(test_datasets, batch_size = CONFIG['BATCH_SIZE'], shuffle=False)"
   ]
  },
  {
   "cell_type": "code",
   "execution_count": null,
   "id": "e29ec66c",
   "metadata": {
    "ExecuteTime": {
     "end_time": "2022-11-22T07:20:22.125200Z",
     "start_time": "2022-11-22T07:16:56.603Z"
    }
   },
   "outputs": [],
   "source": [
    "def inference(model, test_loader, threshold, device):\n",
    "    model.to(device)\n",
    "    model.eval()\n",
    "    \n",
    "    test_predict = []\n",
    "    with torch.no_grad():\n",
    "        for x in tqdm(test_loader):\n",
    "            x = x.float().to(device)\n",
    "            model_pred = model(x)\n",
    "\n",
    "            model_pred = model_pred.squeeze(1).to('cpu')\n",
    "            test_predict += model_pred\n",
    "        \n",
    "    test_predict = np.where(np.array(test_predict) > threshold, 1, 0)\n",
    "    print('Done.')\n",
    "    return test_predict"
   ]
  },
  {
   "cell_type": "code",
   "execution_count": null,
   "id": "8fe9c020",
   "metadata": {
    "ExecuteTime": {
     "end_time": "2022-11-22T07:20:22.126114Z",
     "start_time": "2022-11-22T07:16:56.604Z"
    }
   },
   "outputs": [],
   "source": [
    "preds = inference(best_student_model, test_loaders, best_threshold, device)"
   ]
  },
  {
   "cell_type": "markdown",
   "id": "47f9d6d5",
   "metadata": {},
   "source": [
    "# Submit"
   ]
  },
  {
   "cell_type": "code",
   "execution_count": null,
   "id": "c038fc4c",
   "metadata": {
    "ExecuteTime": {
     "end_time": "2022-11-22T07:20:22.126828Z",
     "start_time": "2022-11-22T07:16:56.607Z"
    }
   },
   "outputs": [],
   "source": [
    "submit = pd.read_csv('data/sample_submission.csv')\n",
    "submit['Y_LABEL'] = preds\n",
    "submit.head()"
   ]
  },
  {
   "cell_type": "code",
   "execution_count": null,
   "id": "3bb55f0a",
   "metadata": {
    "ExecuteTime": {
     "end_time": "2022-11-22T07:20:22.127507Z",
     "start_time": "2022-11-22T07:16:56.608Z"
    }
   },
   "outputs": [],
   "source": [
    "submit.to_csv('./submit_GELU_epoch100_alpha0.7_0.4_0.35.csv', index=False)"
   ]
  }
 ],
 "metadata": {
  "kernelspec": {
   "display_name": "Python 3",
   "language": "python",
   "name": "python3"
  },
  "language_info": {
   "codemirror_mode": {
    "name": "ipython",
    "version": 3
   },
   "file_extension": ".py",
   "mimetype": "text/x-python",
   "name": "python",
   "nbconvert_exporter": "python",
   "pygments_lexer": "ipython3",
   "version": "3.8.10"
  },
  "toc": {
   "base_numbering": 1,
   "nav_menu": {},
   "number_sections": false,
   "sideBar": true,
   "skip_h1_title": false,
   "title_cell": "Table of Contents",
   "title_sidebar": "Contents",
   "toc_cell": false,
   "toc_position": {
    "height": "calc(100% - 180px)",
    "left": "10px",
    "top": "150px",
    "width": "250px"
   },
   "toc_section_display": true,
   "toc_window_display": true
  }
 },
 "nbformat": 4,
 "nbformat_minor": 5
}
