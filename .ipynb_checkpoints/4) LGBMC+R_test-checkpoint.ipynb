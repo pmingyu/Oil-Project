{
 "cells": [
  {
   "cell_type": "code",
   "execution_count": 1,
   "id": "b9af69a1",
   "metadata": {
    "ExecuteTime": {
     "end_time": "2022-11-24T09:21:38.008536Z",
     "start_time": "2022-11-24T09:21:22.022510Z"
    }
   },
   "outputs": [
    {
     "name": "stdout",
     "output_type": "stream",
     "text": [
      "Requirement already satisfied: scikit-learn==0.23.1 in /opt/conda/lib/python3.8/site-packages (0.23.1)\n",
      "Requirement already satisfied: numpy>=1.13.3 in /opt/conda/lib/python3.8/site-packages (from scikit-learn==0.23.1) (1.19.5)\n",
      "Requirement already satisfied: scipy>=0.19.1 in /opt/conda/lib/python3.8/site-packages (from scikit-learn==0.23.1) (1.7.3)\n",
      "Requirement already satisfied: joblib>=0.11 in /opt/conda/lib/python3.8/site-packages (from scikit-learn==0.23.1) (1.0.1)\n",
      "Requirement already satisfied: threadpoolctl>=2.0.0 in /opt/conda/lib/python3.8/site-packages (from scikit-learn==0.23.1) (3.0.0)\n",
      "\u001b[33mWARNING: Running pip as the 'root' user can result in broken permissions and conflicting behaviour with the system package manager. It is recommended to use a virtual environment instead: https://pip.pypa.io/warnings/venv\u001b[0m\u001b[33m\n",
      "\u001b[0m\n",
      "\u001b[1m[\u001b[0m\u001b[34;49mnotice\u001b[0m\u001b[1;39;49m]\u001b[0m\u001b[39;49m A new release of pip available: \u001b[0m\u001b[31;49m22.2.2\u001b[0m\u001b[39;49m -> \u001b[0m\u001b[32;49m22.3.1\u001b[0m\n",
      "\u001b[1m[\u001b[0m\u001b[34;49mnotice\u001b[0m\u001b[1;39;49m]\u001b[0m\u001b[39;49m To update, run: \u001b[0m\u001b[32;49mpip install --upgrade pip\u001b[0m\n",
      "Requirement already satisfied: imbalanced-learn==0.7.0 in /opt/conda/lib/python3.8/site-packages (0.7.0)\n",
      "Requirement already satisfied: numpy>=1.13.3 in /opt/conda/lib/python3.8/site-packages (from imbalanced-learn==0.7.0) (1.19.5)\n",
      "Requirement already satisfied: scipy>=0.19.1 in /opt/conda/lib/python3.8/site-packages (from imbalanced-learn==0.7.0) (1.7.3)\n",
      "Requirement already satisfied: scikit-learn>=0.23 in /opt/conda/lib/python3.8/site-packages (from imbalanced-learn==0.7.0) (0.23.1)\n",
      "Requirement already satisfied: joblib>=0.11 in /opt/conda/lib/python3.8/site-packages (from imbalanced-learn==0.7.0) (1.0.1)\n",
      "Requirement already satisfied: threadpoolctl>=2.0.0 in /opt/conda/lib/python3.8/site-packages (from scikit-learn>=0.23->imbalanced-learn==0.7.0) (3.0.0)\n",
      "\u001b[33mWARNING: Running pip as the 'root' user can result in broken permissions and conflicting behaviour with the system package manager. It is recommended to use a virtual environment instead: https://pip.pypa.io/warnings/venv\u001b[0m\u001b[33m\n",
      "\u001b[0m\n",
      "\u001b[1m[\u001b[0m\u001b[34;49mnotice\u001b[0m\u001b[1;39;49m]\u001b[0m\u001b[39;49m A new release of pip available: \u001b[0m\u001b[31;49m22.2.2\u001b[0m\u001b[39;49m -> \u001b[0m\u001b[32;49m22.3.1\u001b[0m\n",
      "\u001b[1m[\u001b[0m\u001b[34;49mnotice\u001b[0m\u001b[1;39;49m]\u001b[0m\u001b[39;49m To update, run: \u001b[0m\u001b[32;49mpip install --upgrade pip\u001b[0m\n"
     ]
    }
   ],
   "source": [
    "#SMOTE 설치\n",
    "!pip install scikit-learn==0.23.1\n",
    "!pip install imbalanced-learn==0.7.0"
   ]
  },
  {
   "cell_type": "code",
   "execution_count": 2,
   "id": "198c17f4",
   "metadata": {
    "ExecuteTime": {
     "end_time": "2022-11-24T09:21:45.803046Z",
     "start_time": "2022-11-24T09:21:38.013127Z"
    }
   },
   "outputs": [
    {
     "name": "stdout",
     "output_type": "stream",
     "text": [
      "Requirement already satisfied: kmodes in /opt/conda/lib/python3.8/site-packages (0.11.1)\n",
      "Requirement already satisfied: joblib>=0.11 in /opt/conda/lib/python3.8/site-packages (from kmodes) (1.0.1)\n",
      "Requirement already satisfied: numpy>=1.10.4 in /opt/conda/lib/python3.8/site-packages (from kmodes) (1.19.5)\n",
      "Requirement already satisfied: scikit-learn>=0.22.0 in /opt/conda/lib/python3.8/site-packages (from kmodes) (0.23.1)\n",
      "Requirement already satisfied: scipy>=0.13.3 in /opt/conda/lib/python3.8/site-packages (from kmodes) (1.7.3)\n",
      "Requirement already satisfied: threadpoolctl>=2.0.0 in /opt/conda/lib/python3.8/site-packages (from scikit-learn>=0.22.0->kmodes) (3.0.0)\n",
      "\u001b[33mWARNING: Running pip as the 'root' user can result in broken permissions and conflicting behaviour with the system package manager. It is recommended to use a virtual environment instead: https://pip.pypa.io/warnings/venv\u001b[0m\u001b[33m\n",
      "\u001b[0m\n",
      "\u001b[1m[\u001b[0m\u001b[34;49mnotice\u001b[0m\u001b[1;39;49m]\u001b[0m\u001b[39;49m A new release of pip available: \u001b[0m\u001b[31;49m22.2.2\u001b[0m\u001b[39;49m -> \u001b[0m\u001b[32;49m22.3.1\u001b[0m\n",
      "\u001b[1m[\u001b[0m\u001b[34;49mnotice\u001b[0m\u001b[1;39;49m]\u001b[0m\u001b[39;49m To update, run: \u001b[0m\u001b[32;49mpip install --upgrade pip\u001b[0m\n",
      "Note: you may need to restart the kernel to use updated packages.\n"
     ]
    }
   ],
   "source": [
    "pip install kmodes"
   ]
  },
  {
   "cell_type": "code",
   "execution_count": 3,
   "id": "954064ab",
   "metadata": {
    "ExecuteTime": {
     "end_time": "2022-11-24T09:21:46.593711Z",
     "start_time": "2022-11-24T09:21:45.806891Z"
    }
   },
   "outputs": [],
   "source": [
    "import pandas as pd\n",
    "import numpy as np\n",
    "import matplotlib.pyplot as plt\n",
    "import seaborn as sns\n",
    "from imblearn.over_sampling import SMOTENC, SMOTE\n",
    "\n",
    "\n",
    "from sklearn.metrics import classification_report\n",
    "from sklearn.preprocessing import StandardScaler\n",
    "from sklearn.preprocessing import LabelEncoder\n",
    "from sklearn.model_selection import train_test_split\n",
    "\n",
    "pd.set_option('max_columns',100)"
   ]
  },
  {
   "cell_type": "code",
   "execution_count": 129,
   "id": "eb4ef902",
   "metadata": {
    "ExecuteTime": {
     "end_time": "2022-11-24T09:46:13.696096Z",
     "start_time": "2022-11-24T09:46:13.594031Z"
    }
   },
   "outputs": [],
   "source": [
    "train = pd.read_csv('data/train.csv')\n",
    "test = pd.read_csv('data/test.csv')"
   ]
  },
  {
   "cell_type": "code",
   "execution_count": 130,
   "id": "a2a0810f",
   "metadata": {
    "ExecuteTime": {
     "end_time": "2022-11-24T09:46:14.083370Z",
     "start_time": "2022-11-24T09:46:13.935644Z"
    }
   },
   "outputs": [],
   "source": [
    "def check_info(df):\n",
    "    # show dataframe for each features that we have\n",
    "    dataFeatures = []\n",
    "    dataType     = []\n",
    "    null         = []\n",
    "    nullPCT      = []\n",
    "    unique       = []\n",
    "    minValue     = []\n",
    "    maxValue     = []\n",
    "    uniqueSample = []\n",
    "\n",
    "\n",
    "    for item in list(df):\n",
    "        dataFeatures.append(item)\n",
    "\n",
    "    for item in dataFeatures:\n",
    "        dataType.append(df[item].dtype.name)\n",
    "\n",
    "    for item in dataFeatures:\n",
    "        null.append(len(df[df[item].isnull() == True]))\n",
    "\n",
    "    for item in dataFeatures:\n",
    "        nullPCT.append(round(len(df[df[item].isnull() == True])/len(df[item])*100,2))\n",
    "\n",
    "    for item in dataFeatures:\n",
    "        minValue.append(df[item].min())\n",
    "\n",
    "    for item in dataFeatures:\n",
    "        maxValue.append(df[item].max())\n",
    "\n",
    "    for item in dataFeatures:\n",
    "        unique.append(df[item].nunique())\n",
    "\n",
    "    for item in dataFeatures:\n",
    "        uniqueSample.append(df[item].unique()[0:2])\n",
    "\n",
    "    df_info = pd.DataFrame({\n",
    "        'dataFeatures' : dataFeatures,\n",
    "        'dataType' : dataType,\n",
    "        'null' : null,\n",
    "        'nullPCT':nullPCT,\n",
    "        'unique' : unique,\n",
    "        'minValue' : minValue,\n",
    "        'maxValue' : maxValue,\n",
    "        'uniqueSample':uniqueSample\n",
    "    })\n",
    "    \n",
    "    return df_info\n",
    "\n",
    "df_info = check_info(train)"
   ]
  },
  {
   "cell_type": "code",
   "execution_count": 131,
   "id": "03431e49",
   "metadata": {
    "ExecuteTime": {
     "end_time": "2022-11-24T09:46:14.273925Z",
     "start_time": "2022-11-24T09:46:14.262004Z"
    }
   },
   "outputs": [
    {
     "data": {
      "text/plain": [
       "['FH2O',\n",
       " 'FNOX',\n",
       " 'FOPTIMETHGLY',\n",
       " 'FOXID',\n",
       " 'FSO4',\n",
       " 'FTBN',\n",
       " 'FUEL',\n",
       " 'SOOTPERCENTAGE',\n",
       " 'U100',\n",
       " 'U75',\n",
       " 'U50',\n",
       " 'U25',\n",
       " 'U20',\n",
       " 'U14',\n",
       " 'U6',\n",
       " 'U4',\n",
       " 'V100']"
      ]
     },
     "execution_count": 131,
     "metadata": {},
     "output_type": "execute_result"
    }
   ],
   "source": [
    "percent20UP = list(df_info[df_info['nullPCT'] >= 20.0]['dataFeatures'])\n",
    "percent20UP"
   ]
  },
  {
   "cell_type": "markdown",
   "id": "eb9fd1aa",
   "metadata": {},
   "source": [
    "# Classifier"
   ]
  },
  {
   "cell_type": "code",
   "execution_count": 132,
   "id": "a07923f8",
   "metadata": {
    "ExecuteTime": {
     "end_time": "2022-11-24T09:46:15.930133Z",
     "start_time": "2022-11-24T09:46:15.900233Z"
    }
   },
   "outputs": [],
   "source": [
    "# get dummies\n",
    "dff = train.drop(percent20UP,axis=1)\n",
    "dff = dff.fillna(0)\n",
    "dff = pd.get_dummies(dff,columns=['COMPONENT_ARBITRARY'])"
   ]
  },
  {
   "cell_type": "code",
   "execution_count": 133,
   "id": "9f8d8807",
   "metadata": {
    "ExecuteTime": {
     "end_time": "2022-11-24T09:46:16.748905Z",
     "start_time": "2022-11-24T09:46:16.739667Z"
    }
   },
   "outputs": [
    {
     "data": {
      "text/plain": [
       "Index(['ID', 'ANONYMOUS_1', 'YEAR', 'SAMPLE_TRANSFER_DAY', 'ANONYMOUS_2', 'AG',\n",
       "       'AL', 'B', 'BA', 'BE', 'CA', 'CD', 'CO', 'CR', 'CU', 'FE', 'H2O', 'K',\n",
       "       'LI', 'MG', 'MN', 'MO', 'NA', 'NI', 'P', 'PB', 'PQINDEX', 'S', 'SB',\n",
       "       'SI', 'SN', 'TI', 'V', 'V40', 'ZN', 'Y_LABEL',\n",
       "       'COMPONENT_ARBITRARY_COMPONENT1', 'COMPONENT_ARBITRARY_COMPONENT2',\n",
       "       'COMPONENT_ARBITRARY_COMPONENT3', 'COMPONENT_ARBITRARY_COMPONENT4'],\n",
       "      dtype='object')"
      ]
     },
     "execution_count": 133,
     "metadata": {},
     "output_type": "execute_result"
    }
   ],
   "source": [
    "dff.columns"
   ]
  },
  {
   "cell_type": "code",
   "execution_count": 134,
   "id": "454bbbf6",
   "metadata": {
    "ExecuteTime": {
     "end_time": "2022-11-24T09:46:18.041822Z",
     "start_time": "2022-11-24T09:46:18.027840Z"
    }
   },
   "outputs": [],
   "source": [
    "# data split\n",
    "target = 'Y_LABEL'\n",
    "features_for_model = [f for f in list(dff) if f not in [target,'ID']]\n",
    "\n",
    "X = dff[features_for_model]\n",
    "y = dff[target]"
   ]
  },
  {
   "cell_type": "code",
   "execution_count": 135,
   "id": "527fb8a4",
   "metadata": {
    "ExecuteTime": {
     "end_time": "2022-11-24T09:46:19.355917Z",
     "start_time": "2022-11-24T09:46:19.340051Z"
    }
   },
   "outputs": [],
   "source": [
    "# data split\n",
    "from sklearn.model_selection import train_test_split\n",
    "X_train, X_test, y_train, y_test = train_test_split(X, y, \n",
    "                                                 test_size=0.2, \n",
    "                                                 random_state=101)"
   ]
  },
  {
   "cell_type": "code",
   "execution_count": 136,
   "id": "96c7523b",
   "metadata": {
    "ExecuteTime": {
     "end_time": "2022-11-24T09:46:22.133807Z",
     "start_time": "2022-11-24T09:46:20.795222Z"
    }
   },
   "outputs": [
    {
     "name": "stdout",
     "output_type": "stream",
     "text": [
      "[34, 35, 36, 37]\n",
      "Before Resampled dataset shape Counter({0: 10309, 1: 967})\n",
      "After Resampled dataset shape Counter({0: 10309, 1: 10309})\n"
     ]
    }
   ],
   "source": [
    "categorical_feats = ['COMPONENT_ARBITRARY_COMPONENT1', 'COMPONENT_ARBITRARY_COMPONENT2',\n",
    "       'COMPONENT_ARBITRARY_COMPONENT3', 'COMPONENT_ARBITRARY_COMPONENT4']\n",
    "\n",
    "categorical_indexes = []\n",
    "for c in categorical_feats:\n",
    "    categorical_indexes.append(X.columns.get_loc(c))\n",
    "print(categorical_indexes)\n",
    "\n",
    "\n",
    "from collections import Counter\n",
    "\n",
    "# SMOTENC 모델 설정\n",
    "smotenc = SMOTENC(categorical_features= categorical_indexes,random_state = 101, k_neighbors= 5)\n",
    "X_train_res, y_train_res = smotenc.fit_resample(X_train, y_train)\n",
    "\n",
    "print('Before Resampled dataset shape %s' % Counter(y_train))\n",
    "print('After Resampled dataset shape %s' % Counter(y_train_res))"
   ]
  },
  {
   "cell_type": "code",
   "execution_count": 137,
   "id": "c0fe7fea",
   "metadata": {
    "ExecuteTime": {
     "end_time": "2022-11-24T09:46:27.629560Z",
     "start_time": "2022-11-24T09:46:24.914267Z"
    }
   },
   "outputs": [
    {
     "name": "stdout",
     "output_type": "stream",
     "text": [
      "              precision    recall  f1-score   support\n",
      "\n",
      "           0       0.97      0.99      0.98     10309\n",
      "           1       0.99      0.97      0.98     10309\n",
      "\n",
      "    accuracy                           0.98     20618\n",
      "   macro avg       0.98      0.98      0.98     20618\n",
      "weighted avg       0.98      0.98      0.98     20618\n",
      "\n",
      "              precision    recall  f1-score   support\n",
      "\n",
      "           0       0.96      0.99      0.97      2583\n",
      "           1       0.79      0.58      0.67       236\n",
      "\n",
      "    accuracy                           0.95      2819\n",
      "   macro avg       0.88      0.79      0.82      2819\n",
      "weighted avg       0.95      0.95      0.95      2819\n",
      "\n"
     ]
    }
   ],
   "source": [
    "from lightgbm import LGBMClassifier\n",
    "\n",
    "modelC = LGBMClassifier(random_state=101)\n",
    "modelC.fit(X_train_res,y_train_res)\n",
    "\n",
    "prediction_train_res = modelC.predict(X_train_res)\n",
    "prediction_test  = modelC.predict(X_test)\n",
    "\n",
    "print(classification_report(y_train_res,prediction_train_res))\n",
    "print(classification_report(y_test,prediction_test))"
   ]
  },
  {
   "cell_type": "code",
   "execution_count": 138,
   "id": "f9d4c110",
   "metadata": {
    "ExecuteTime": {
     "end_time": "2022-11-24T09:46:56.106170Z",
     "start_time": "2022-11-24T09:46:53.767741Z"
    }
   },
   "outputs": [],
   "source": [
    "# Model Deployment\n",
    "\n",
    "modelCD = LGBMClassifier(random_state=101)\n",
    "modelCD.fit(X,y)\n",
    "\n",
    "prediction_proba = modelCD.predict_proba(X)"
   ]
  },
  {
   "cell_type": "code",
   "execution_count": 139,
   "id": "a33a09c3",
   "metadata": {
    "ExecuteTime": {
     "end_time": "2022-11-24T09:46:57.462494Z",
     "start_time": "2022-11-24T09:46:57.455678Z"
    }
   },
   "outputs": [],
   "source": [
    "X2 = X.copy()\n",
    "# X2['proba'] = prediction_proba[:,0]\n",
    "y2 = prediction_proba[:,0] #y.copy()\n",
    "\n"
   ]
  },
  {
   "cell_type": "markdown",
   "id": "74a132d3",
   "metadata": {},
   "source": [
    "# Regressor"
   ]
  },
  {
   "cell_type": "code",
   "execution_count": 140,
   "id": "a2f0af75",
   "metadata": {
    "ExecuteTime": {
     "end_time": "2022-11-24T09:46:58.880475Z",
     "start_time": "2022-11-24T09:46:58.855895Z"
    }
   },
   "outputs": [],
   "source": [
    "dft = test[:]\n",
    "dft = dft.fillna(0)\n",
    "dft = pd.get_dummies(dft,columns=['COMPONENT_ARBITRARY']).drop('ID',axis=1)"
   ]
  },
  {
   "cell_type": "code",
   "execution_count": 141,
   "id": "3509a517",
   "metadata": {
    "ExecuteTime": {
     "end_time": "2022-11-24T09:46:59.957797Z",
     "start_time": "2022-11-24T09:46:59.952770Z"
    }
   },
   "outputs": [],
   "source": [
    "list_test_cols = dft.columns"
   ]
  },
  {
   "cell_type": "code",
   "execution_count": 142,
   "id": "91f6a25f",
   "metadata": {
    "ExecuteTime": {
     "end_time": "2022-11-24T09:47:01.027087Z",
     "start_time": "2022-11-24T09:47:01.017868Z"
    }
   },
   "outputs": [
    {
     "data": {
      "text/plain": [
       "Index(['ANONYMOUS_1', 'YEAR', 'ANONYMOUS_2', 'AG', 'CO', 'CR', 'CU', 'FE',\n",
       "       'H2O', 'MN', 'MO', 'NI', 'PQINDEX', 'TI', 'V', 'V40', 'ZN',\n",
       "       'COMPONENT_ARBITRARY_COMPONENT1', 'COMPONENT_ARBITRARY_COMPONENT2',\n",
       "       'COMPONENT_ARBITRARY_COMPONENT3', 'COMPONENT_ARBITRARY_COMPONENT4'],\n",
       "      dtype='object')"
      ]
     },
     "execution_count": 142,
     "metadata": {},
     "output_type": "execute_result"
    }
   ],
   "source": [
    "list_test_cols"
   ]
  },
  {
   "cell_type": "code",
   "execution_count": 143,
   "id": "0cd029c3",
   "metadata": {
    "ExecuteTime": {
     "end_time": "2022-11-24T09:47:07.486868Z",
     "start_time": "2022-11-24T09:47:07.470742Z"
    }
   },
   "outputs": [],
   "source": [
    "X2 = X2[list_test_cols]\n",
    "# y2 = X2['proba']\n",
    "\n",
    "# data split\n",
    "from sklearn.model_selection import train_test_split\n",
    "X_train2, X_test2, y_train2, y_test2 = train_test_split(X2, y2, \n",
    "                                                 test_size=0.2, \n",
    "                                                 random_state=101)"
   ]
  },
  {
   "cell_type": "code",
   "execution_count": 145,
   "id": "88accc3c",
   "metadata": {
    "ExecuteTime": {
     "end_time": "2022-11-24T09:47:43.681393Z",
     "start_time": "2022-11-24T09:47:43.672096Z"
    }
   },
   "outputs": [
    {
     "name": "stdout",
     "output_type": "stream",
     "text": [
      "[17, 18, 19, 20]\n"
     ]
    }
   ],
   "source": [
    "categorical_feats = ['COMPONENT_ARBITRARY_COMPONENT1', 'COMPONENT_ARBITRARY_COMPONENT2',\n",
    "       'COMPONENT_ARBITRARY_COMPONENT3', 'COMPONENT_ARBITRARY_COMPONENT4']\n",
    "\n",
    "categorical_indexes = []\n",
    "for c in categorical_feats:\n",
    "    categorical_indexes.append(X2.columns.get_loc(c))\n",
    "print(categorical_indexes)\n",
    "\n",
    "\n",
    "# from collections import Counter\n",
    "\n",
    "# # SMOTENC 모델 설정\n",
    "# smotenc = SMOTENC(categorical_features= categorical_indexes,random_state = 101, k_neighbors= 5)\n",
    "# X_train2_res, y_train2_res = smotenc.fit_resample(X_train2, y_train2)\n",
    "\n",
    "# print('Before Resampled dataset shape %s' % Counter(y_train2))\n",
    "# print('After Resampled dataset shape %s' % Counter(y_train2_res))"
   ]
  },
  {
   "cell_type": "code",
   "execution_count": 147,
   "id": "20b04b6f",
   "metadata": {
    "ExecuteTime": {
     "end_time": "2022-11-24T09:49:30.859485Z",
     "start_time": "2022-11-24T09:49:29.092346Z"
    }
   },
   "outputs": [
    {
     "name": "stdout",
     "output_type": "stream",
     "text": [
      "0.3617138233077668\n",
      "0.021530878054081493\n"
     ]
    }
   ],
   "source": [
    "from lightgbm import LGBMRegressor\n",
    "from sklearn.metrics import mean_absolute_error, mean_squared_error, r2_score\n",
    "\n",
    "modelR = LGBMRegressor(random_state=101)\n",
    "modelR.fit(X_train2, y_train2)\n",
    "\n",
    "prediction_train2 = modelR.predict(X_train2)\n",
    "prediction_test2  = modelR.predict(X_test2)\n",
    "\n",
    "print(r2_score(y_train2, prediction_train2))\n",
    "print(r2_score(y_test2, prediction_test2))"
   ]
  },
  {
   "cell_type": "code",
   "execution_count": 148,
   "id": "deddb6c4",
   "metadata": {
    "ExecuteTime": {
     "end_time": "2022-11-24T09:51:16.684257Z",
     "start_time": "2022-11-24T09:51:16.651114Z"
    }
   },
   "outputs": [
    {
     "ename": "ValueError",
     "evalue": "Classification metrics can't handle a mix of continuous and binary targets",
     "output_type": "error",
     "traceback": [
      "\u001b[0;31m---------------------------------------------------------------------------\u001b[0m",
      "\u001b[0;31mValueError\u001b[0m                                Traceback (most recent call last)",
      "\u001b[0;32m<ipython-input-148-b8a4bf176267>\u001b[0m in \u001b[0;36m<module>\u001b[0;34m\u001b[0m\n\u001b[1;32m      2\u001b[0m \u001b[0mtrain2_pred_labels\u001b[0m \u001b[0;34m=\u001b[0m \u001b[0mnp\u001b[0m\u001b[0;34m.\u001b[0m\u001b[0mwhere\u001b[0m\u001b[0;34m(\u001b[0m\u001b[0mnp\u001b[0m\u001b[0;34m.\u001b[0m\u001b[0marray\u001b[0m\u001b[0;34m(\u001b[0m\u001b[0mprediction_train2\u001b[0m\u001b[0;34m)\u001b[0m \u001b[0;34m>\u001b[0m \u001b[0mthreshold\u001b[0m\u001b[0;34m,\u001b[0m \u001b[0;36m1\u001b[0m\u001b[0;34m,\u001b[0m \u001b[0;36m0\u001b[0m\u001b[0;34m)\u001b[0m\u001b[0;34m\u001b[0m\u001b[0;34m\u001b[0m\u001b[0m\n\u001b[1;32m      3\u001b[0m \u001b[0;34m\u001b[0m\u001b[0m\n\u001b[0;32m----> 4\u001b[0;31m \u001b[0mprint\u001b[0m\u001b[0;34m(\u001b[0m\u001b[0mclassification_report\u001b[0m\u001b[0;34m(\u001b[0m\u001b[0my_train2\u001b[0m\u001b[0;34m,\u001b[0m\u001b[0mtrain2_pred_labels\u001b[0m\u001b[0;34m)\u001b[0m\u001b[0;34m)\u001b[0m\u001b[0;34m\u001b[0m\u001b[0;34m\u001b[0m\u001b[0m\n\u001b[0m",
      "\u001b[0;32m/opt/conda/lib/python3.8/site-packages/sklearn/utils/validation.py\u001b[0m in \u001b[0;36minner_f\u001b[0;34m(*args, **kwargs)\u001b[0m\n\u001b[1;32m     71\u001b[0m                           FutureWarning)\n\u001b[1;32m     72\u001b[0m         \u001b[0mkwargs\u001b[0m\u001b[0;34m.\u001b[0m\u001b[0mupdate\u001b[0m\u001b[0;34m(\u001b[0m\u001b[0;34m{\u001b[0m\u001b[0mk\u001b[0m\u001b[0;34m:\u001b[0m \u001b[0marg\u001b[0m \u001b[0;32mfor\u001b[0m \u001b[0mk\u001b[0m\u001b[0;34m,\u001b[0m \u001b[0marg\u001b[0m \u001b[0;32min\u001b[0m \u001b[0mzip\u001b[0m\u001b[0;34m(\u001b[0m\u001b[0msig\u001b[0m\u001b[0;34m.\u001b[0m\u001b[0mparameters\u001b[0m\u001b[0;34m,\u001b[0m \u001b[0margs\u001b[0m\u001b[0;34m)\u001b[0m\u001b[0;34m}\u001b[0m\u001b[0;34m)\u001b[0m\u001b[0;34m\u001b[0m\u001b[0;34m\u001b[0m\u001b[0m\n\u001b[0;32m---> 73\u001b[0;31m         \u001b[0;32mreturn\u001b[0m \u001b[0mf\u001b[0m\u001b[0;34m(\u001b[0m\u001b[0;34m**\u001b[0m\u001b[0mkwargs\u001b[0m\u001b[0;34m)\u001b[0m\u001b[0;34m\u001b[0m\u001b[0;34m\u001b[0m\u001b[0m\n\u001b[0m\u001b[1;32m     74\u001b[0m     \u001b[0;32mreturn\u001b[0m \u001b[0minner_f\u001b[0m\u001b[0;34m\u001b[0m\u001b[0;34m\u001b[0m\u001b[0m\n\u001b[1;32m     75\u001b[0m \u001b[0;34m\u001b[0m\u001b[0m\n",
      "\u001b[0;32m/opt/conda/lib/python3.8/site-packages/sklearn/metrics/_classification.py\u001b[0m in \u001b[0;36mclassification_report\u001b[0;34m(y_true, y_pred, labels, target_names, sample_weight, digits, output_dict, zero_division)\u001b[0m\n\u001b[1;32m   1927\u001b[0m     \"\"\"\n\u001b[1;32m   1928\u001b[0m \u001b[0;34m\u001b[0m\u001b[0m\n\u001b[0;32m-> 1929\u001b[0;31m     \u001b[0my_type\u001b[0m\u001b[0;34m,\u001b[0m \u001b[0my_true\u001b[0m\u001b[0;34m,\u001b[0m \u001b[0my_pred\u001b[0m \u001b[0;34m=\u001b[0m \u001b[0m_check_targets\u001b[0m\u001b[0;34m(\u001b[0m\u001b[0my_true\u001b[0m\u001b[0;34m,\u001b[0m \u001b[0my_pred\u001b[0m\u001b[0;34m)\u001b[0m\u001b[0;34m\u001b[0m\u001b[0;34m\u001b[0m\u001b[0m\n\u001b[0m\u001b[1;32m   1930\u001b[0m \u001b[0;34m\u001b[0m\u001b[0m\n\u001b[1;32m   1931\u001b[0m     \u001b[0mlabels_given\u001b[0m \u001b[0;34m=\u001b[0m \u001b[0;32mTrue\u001b[0m\u001b[0;34m\u001b[0m\u001b[0;34m\u001b[0m\u001b[0m\n",
      "\u001b[0;32m/opt/conda/lib/python3.8/site-packages/sklearn/metrics/_classification.py\u001b[0m in \u001b[0;36m_check_targets\u001b[0;34m(y_true, y_pred)\u001b[0m\n\u001b[1;32m     88\u001b[0m \u001b[0;34m\u001b[0m\u001b[0m\n\u001b[1;32m     89\u001b[0m     \u001b[0;32mif\u001b[0m \u001b[0mlen\u001b[0m\u001b[0;34m(\u001b[0m\u001b[0my_type\u001b[0m\u001b[0;34m)\u001b[0m \u001b[0;34m>\u001b[0m \u001b[0;36m1\u001b[0m\u001b[0;34m:\u001b[0m\u001b[0;34m\u001b[0m\u001b[0;34m\u001b[0m\u001b[0m\n\u001b[0;32m---> 90\u001b[0;31m         raise ValueError(\"Classification metrics can't handle a mix of {0} \"\n\u001b[0m\u001b[1;32m     91\u001b[0m                          \"and {1} targets\".format(type_true, type_pred))\n\u001b[1;32m     92\u001b[0m \u001b[0;34m\u001b[0m\u001b[0m\n",
      "\u001b[0;31mValueError\u001b[0m: Classification metrics can't handle a mix of continuous and binary targets"
     ]
    }
   ],
   "source": [
    "threshold = 0.2\n",
    "train2_pred_labels = np.where(np.array(prediction_train2) > threshold, 1, 0)\n",
    "\n",
    "print(classification_report(y_train2,train2_pred_labels))"
   ]
  },
  {
   "cell_type": "code",
   "execution_count": 111,
   "id": "7295b64c",
   "metadata": {
    "ExecuteTime": {
     "end_time": "2022-11-24T09:33:54.875819Z",
     "start_time": "2022-11-24T09:33:54.853594Z"
    }
   },
   "outputs": [
    {
     "name": "stdout",
     "output_type": "stream",
     "text": [
      "              precision    recall  f1-score   support\n",
      "\n",
      "           0       0.92      0.89      0.91      2583\n",
      "           1       0.13      0.18      0.15       236\n",
      "\n",
      "    accuracy                           0.83      2819\n",
      "   macro avg       0.53      0.54      0.53      2819\n",
      "weighted avg       0.86      0.83      0.84      2819\n",
      "\n"
     ]
    }
   ],
   "source": [
    "test2_pred_labels = np.where(np.array(prediction_test2) > threshold, 1, 0)\n",
    "\n",
    "print(classification_report(y_test2,test2_pred_labels))"
   ]
  },
  {
   "cell_type": "code",
   "execution_count": 149,
   "id": "4591a1a1",
   "metadata": {
    "ExecuteTime": {
     "end_time": "2022-11-24T09:52:31.518210Z",
     "start_time": "2022-11-24T09:52:30.100312Z"
    }
   },
   "outputs": [],
   "source": [
    "# Model Deployment\n",
    "\n",
    "modelRD = LGBMRegressor(random_state=101)\n",
    "modelRD.fit(X2, y2)\n",
    "\n",
    "prediction_proba2 = modelRD.predict(X2)"
   ]
  },
  {
   "cell_type": "code",
   "execution_count": 172,
   "id": "9886b1d8",
   "metadata": {
    "ExecuteTime": {
     "end_time": "2022-11-24T09:53:45.833396Z",
     "start_time": "2022-11-24T09:53:45.827601Z"
    }
   },
   "outputs": [],
   "source": [
    "threshold = 0.8\n",
    "pred_labels = np.where(np.array(prediction_proba2) > threshold, 0, 1)"
   ]
  },
  {
   "cell_type": "code",
   "execution_count": 173,
   "id": "93174e19",
   "metadata": {
    "ExecuteTime": {
     "end_time": "2022-11-24T09:53:46.072279Z",
     "start_time": "2022-11-24T09:53:46.036912Z"
    }
   },
   "outputs": [
    {
     "name": "stdout",
     "output_type": "stream",
     "text": [
      "              precision    recall  f1-score   support\n",
      "\n",
      "           0       0.95      0.97      0.96     12892\n",
      "           1       0.60      0.45      0.51      1203\n",
      "\n",
      "    accuracy                           0.93     14095\n",
      "   macro avg       0.77      0.71      0.74     14095\n",
      "weighted avg       0.92      0.93      0.92     14095\n",
      "\n"
     ]
    }
   ],
   "source": [
    "print(classification_report(y,pred_labels))"
   ]
  },
  {
   "cell_type": "code",
   "execution_count": null,
   "id": "58e8f172",
   "metadata": {},
   "outputs": [],
   "source": []
  },
  {
   "cell_type": "code",
   "execution_count": 174,
   "id": "b9da1524",
   "metadata": {
    "ExecuteTime": {
     "end_time": "2022-11-24T09:54:11.555056Z",
     "start_time": "2022-11-24T09:54:11.539433Z"
    }
   },
   "outputs": [],
   "source": [
    "result = modelRD.predict(dft)"
   ]
  },
  {
   "cell_type": "code",
   "execution_count": 175,
   "id": "e17f2e9c",
   "metadata": {
    "ExecuteTime": {
     "end_time": "2022-11-24T09:54:17.096903Z",
     "start_time": "2022-11-24T09:54:17.091168Z"
    }
   },
   "outputs": [],
   "source": [
    "result_labels = np.where(np.array(result) > threshold, 0, 1)"
   ]
  },
  {
   "cell_type": "code",
   "execution_count": 176,
   "id": "94097abd",
   "metadata": {
    "ExecuteTime": {
     "end_time": "2022-11-24T09:54:19.192446Z",
     "start_time": "2022-11-24T09:54:19.164297Z"
    }
   },
   "outputs": [
    {
     "data": {
      "text/html": [
       "<div>\n",
       "<style scoped>\n",
       "    .dataframe tbody tr th:only-of-type {\n",
       "        vertical-align: middle;\n",
       "    }\n",
       "\n",
       "    .dataframe tbody tr th {\n",
       "        vertical-align: top;\n",
       "    }\n",
       "\n",
       "    .dataframe thead th {\n",
       "        text-align: right;\n",
       "    }\n",
       "</style>\n",
       "<table border=\"1\" class=\"dataframe\">\n",
       "  <thead>\n",
       "    <tr style=\"text-align: right;\">\n",
       "      <th></th>\n",
       "      <th>ID</th>\n",
       "      <th>Y_LABEL</th>\n",
       "    </tr>\n",
       "  </thead>\n",
       "  <tbody>\n",
       "    <tr>\n",
       "      <th>0</th>\n",
       "      <td>TEST_0000</td>\n",
       "      <td>0</td>\n",
       "    </tr>\n",
       "    <tr>\n",
       "      <th>1</th>\n",
       "      <td>TEST_0001</td>\n",
       "      <td>0</td>\n",
       "    </tr>\n",
       "    <tr>\n",
       "      <th>2</th>\n",
       "      <td>TEST_0002</td>\n",
       "      <td>0</td>\n",
       "    </tr>\n",
       "    <tr>\n",
       "      <th>3</th>\n",
       "      <td>TEST_0003</td>\n",
       "      <td>0</td>\n",
       "    </tr>\n",
       "    <tr>\n",
       "      <th>4</th>\n",
       "      <td>TEST_0004</td>\n",
       "      <td>1</td>\n",
       "    </tr>\n",
       "  </tbody>\n",
       "</table>\n",
       "</div>"
      ],
      "text/plain": [
       "          ID  Y_LABEL\n",
       "0  TEST_0000        0\n",
       "1  TEST_0001        0\n",
       "2  TEST_0002        0\n",
       "3  TEST_0003        0\n",
       "4  TEST_0004        1"
      ]
     },
     "execution_count": 176,
     "metadata": {},
     "output_type": "execute_result"
    }
   ],
   "source": [
    "submit = pd.read_csv('data/sample_submission.csv')\n",
    "submit['Y_LABEL'] = result_labels\n",
    "submit.head()"
   ]
  },
  {
   "cell_type": "code",
   "execution_count": 180,
   "id": "7fecc19a",
   "metadata": {
    "ExecuteTime": {
     "end_time": "2022-11-24T09:54:49.214824Z",
     "start_time": "2022-11-24T09:54:49.183489Z"
    }
   },
   "outputs": [],
   "source": [
    "submit.to_csv('submit_ensembledistilation.csv', index=False)"
   ]
  },
  {
   "cell_type": "code",
   "execution_count": 178,
   "id": "a36262f2",
   "metadata": {
    "ExecuteTime": {
     "end_time": "2022-11-24T09:54:28.316071Z",
     "start_time": "2022-11-24T09:54:28.293111Z"
    }
   },
   "outputs": [
    {
     "data": {
      "text/html": [
       "<div>\n",
       "<style scoped>\n",
       "    .dataframe tbody tr th:only-of-type {\n",
       "        vertical-align: middle;\n",
       "    }\n",
       "\n",
       "    .dataframe tbody tr th {\n",
       "        vertical-align: top;\n",
       "    }\n",
       "\n",
       "    .dataframe thead th {\n",
       "        text-align: right;\n",
       "    }\n",
       "</style>\n",
       "<table border=\"1\" class=\"dataframe\">\n",
       "  <thead>\n",
       "    <tr style=\"text-align: right;\">\n",
       "      <th></th>\n",
       "      <th>ID</th>\n",
       "      <th>Y_LABEL</th>\n",
       "    </tr>\n",
       "  </thead>\n",
       "  <tbody>\n",
       "    <tr>\n",
       "      <th>0</th>\n",
       "      <td>TEST_0000</td>\n",
       "      <td>0</td>\n",
       "    </tr>\n",
       "    <tr>\n",
       "      <th>1</th>\n",
       "      <td>TEST_0001</td>\n",
       "      <td>0</td>\n",
       "    </tr>\n",
       "    <tr>\n",
       "      <th>2</th>\n",
       "      <td>TEST_0002</td>\n",
       "      <td>0</td>\n",
       "    </tr>\n",
       "    <tr>\n",
       "      <th>3</th>\n",
       "      <td>TEST_0003</td>\n",
       "      <td>0</td>\n",
       "    </tr>\n",
       "    <tr>\n",
       "      <th>6</th>\n",
       "      <td>TEST_0006</td>\n",
       "      <td>0</td>\n",
       "    </tr>\n",
       "    <tr>\n",
       "      <th>...</th>\n",
       "      <td>...</td>\n",
       "      <td>...</td>\n",
       "    </tr>\n",
       "    <tr>\n",
       "      <th>6036</th>\n",
       "      <td>TEST_6036</td>\n",
       "      <td>0</td>\n",
       "    </tr>\n",
       "    <tr>\n",
       "      <th>6037</th>\n",
       "      <td>TEST_6037</td>\n",
       "      <td>0</td>\n",
       "    </tr>\n",
       "    <tr>\n",
       "      <th>6038</th>\n",
       "      <td>TEST_6038</td>\n",
       "      <td>0</td>\n",
       "    </tr>\n",
       "    <tr>\n",
       "      <th>6039</th>\n",
       "      <td>TEST_6039</td>\n",
       "      <td>0</td>\n",
       "    </tr>\n",
       "    <tr>\n",
       "      <th>6040</th>\n",
       "      <td>TEST_6040</td>\n",
       "      <td>0</td>\n",
       "    </tr>\n",
       "  </tbody>\n",
       "</table>\n",
       "<p>5651 rows × 2 columns</p>\n",
       "</div>"
      ],
      "text/plain": [
       "             ID  Y_LABEL\n",
       "0     TEST_0000        0\n",
       "1     TEST_0001        0\n",
       "2     TEST_0002        0\n",
       "3     TEST_0003        0\n",
       "6     TEST_0006        0\n",
       "...         ...      ...\n",
       "6036  TEST_6036        0\n",
       "6037  TEST_6037        0\n",
       "6038  TEST_6038        0\n",
       "6039  TEST_6039        0\n",
       "6040  TEST_6040        0\n",
       "\n",
       "[5651 rows x 2 columns]"
      ]
     },
     "execution_count": 178,
     "metadata": {},
     "output_type": "execute_result"
    }
   ],
   "source": [
    "submit[submit['Y_LABEL']==0]"
   ]
  },
  {
   "cell_type": "code",
   "execution_count": 179,
   "id": "3572f73d",
   "metadata": {
    "ExecuteTime": {
     "end_time": "2022-11-24T09:54:30.289602Z",
     "start_time": "2022-11-24T09:54:30.269182Z"
    }
   },
   "outputs": [
    {
     "data": {
      "text/html": [
       "<div>\n",
       "<style scoped>\n",
       "    .dataframe tbody tr th:only-of-type {\n",
       "        vertical-align: middle;\n",
       "    }\n",
       "\n",
       "    .dataframe tbody tr th {\n",
       "        vertical-align: top;\n",
       "    }\n",
       "\n",
       "    .dataframe thead th {\n",
       "        text-align: right;\n",
       "    }\n",
       "</style>\n",
       "<table border=\"1\" class=\"dataframe\">\n",
       "  <thead>\n",
       "    <tr style=\"text-align: right;\">\n",
       "      <th></th>\n",
       "      <th>ID</th>\n",
       "      <th>Y_LABEL</th>\n",
       "    </tr>\n",
       "  </thead>\n",
       "  <tbody>\n",
       "    <tr>\n",
       "      <th>4</th>\n",
       "      <td>TEST_0004</td>\n",
       "      <td>1</td>\n",
       "    </tr>\n",
       "    <tr>\n",
       "      <th>5</th>\n",
       "      <td>TEST_0005</td>\n",
       "      <td>1</td>\n",
       "    </tr>\n",
       "    <tr>\n",
       "      <th>32</th>\n",
       "      <td>TEST_0032</td>\n",
       "      <td>1</td>\n",
       "    </tr>\n",
       "    <tr>\n",
       "      <th>75</th>\n",
       "      <td>TEST_0075</td>\n",
       "      <td>1</td>\n",
       "    </tr>\n",
       "    <tr>\n",
       "      <th>83</th>\n",
       "      <td>TEST_0083</td>\n",
       "      <td>1</td>\n",
       "    </tr>\n",
       "    <tr>\n",
       "      <th>...</th>\n",
       "      <td>...</td>\n",
       "      <td>...</td>\n",
       "    </tr>\n",
       "    <tr>\n",
       "      <th>5863</th>\n",
       "      <td>TEST_5863</td>\n",
       "      <td>1</td>\n",
       "    </tr>\n",
       "    <tr>\n",
       "      <th>5885</th>\n",
       "      <td>TEST_5885</td>\n",
       "      <td>1</td>\n",
       "    </tr>\n",
       "    <tr>\n",
       "      <th>5898</th>\n",
       "      <td>TEST_5898</td>\n",
       "      <td>1</td>\n",
       "    </tr>\n",
       "    <tr>\n",
       "      <th>5923</th>\n",
       "      <td>TEST_5923</td>\n",
       "      <td>1</td>\n",
       "    </tr>\n",
       "    <tr>\n",
       "      <th>5939</th>\n",
       "      <td>TEST_5939</td>\n",
       "      <td>1</td>\n",
       "    </tr>\n",
       "  </tbody>\n",
       "</table>\n",
       "<p>390 rows × 2 columns</p>\n",
       "</div>"
      ],
      "text/plain": [
       "             ID  Y_LABEL\n",
       "4     TEST_0004        1\n",
       "5     TEST_0005        1\n",
       "32    TEST_0032        1\n",
       "75    TEST_0075        1\n",
       "83    TEST_0083        1\n",
       "...         ...      ...\n",
       "5863  TEST_5863        1\n",
       "5885  TEST_5885        1\n",
       "5898  TEST_5898        1\n",
       "5923  TEST_5923        1\n",
       "5939  TEST_5939        1\n",
       "\n",
       "[390 rows x 2 columns]"
      ]
     },
     "execution_count": 179,
     "metadata": {},
     "output_type": "execute_result"
    }
   ],
   "source": [
    "submit[submit['Y_LABEL']==1]"
   ]
  },
  {
   "cell_type": "code",
   "execution_count": null,
   "id": "05bd6b64",
   "metadata": {},
   "outputs": [],
   "source": []
  },
  {
   "cell_type": "code",
   "execution_count": null,
   "id": "3acdf436",
   "metadata": {},
   "outputs": [],
   "source": []
  },
  {
   "cell_type": "code",
   "execution_count": null,
   "id": "a4713611",
   "metadata": {},
   "outputs": [],
   "source": []
  },
  {
   "cell_type": "code",
   "execution_count": null,
   "id": "f7a019e2",
   "metadata": {},
   "outputs": [],
   "source": []
  },
  {
   "cell_type": "code",
   "execution_count": null,
   "id": "a19fe0d7",
   "metadata": {},
   "outputs": [],
   "source": []
  },
  {
   "cell_type": "code",
   "execution_count": null,
   "id": "27de7053",
   "metadata": {},
   "outputs": [],
   "source": []
  },
  {
   "cell_type": "code",
   "execution_count": null,
   "id": "d9ec1c73",
   "metadata": {},
   "outputs": [],
   "source": []
  },
  {
   "cell_type": "code",
   "execution_count": null,
   "id": "ceed579b",
   "metadata": {},
   "outputs": [],
   "source": []
  },
  {
   "cell_type": "code",
   "execution_count": null,
   "id": "6f3bd5e3",
   "metadata": {},
   "outputs": [],
   "source": []
  },
  {
   "cell_type": "code",
   "execution_count": null,
   "id": "b0099408",
   "metadata": {},
   "outputs": [],
   "source": []
  },
  {
   "cell_type": "code",
   "execution_count": null,
   "id": "b0d1a323",
   "metadata": {},
   "outputs": [],
   "source": []
  },
  {
   "cell_type": "code",
   "execution_count": null,
   "id": "14d4f283",
   "metadata": {},
   "outputs": [],
   "source": []
  },
  {
   "cell_type": "code",
   "execution_count": null,
   "id": "652e8690",
   "metadata": {},
   "outputs": [],
   "source": []
  },
  {
   "cell_type": "code",
   "execution_count": null,
   "id": "b3e060d2",
   "metadata": {},
   "outputs": [],
   "source": []
  },
  {
   "cell_type": "code",
   "execution_count": null,
   "id": "c26d148f",
   "metadata": {},
   "outputs": [],
   "source": []
  },
  {
   "cell_type": "code",
   "execution_count": null,
   "id": "51231ffe",
   "metadata": {},
   "outputs": [],
   "source": []
  },
  {
   "cell_type": "code",
   "execution_count": null,
   "id": "256ebb38",
   "metadata": {},
   "outputs": [],
   "source": []
  },
  {
   "cell_type": "code",
   "execution_count": null,
   "id": "720df370",
   "metadata": {},
   "outputs": [],
   "source": []
  },
  {
   "cell_type": "code",
   "execution_count": null,
   "id": "1cb29689",
   "metadata": {},
   "outputs": [],
   "source": []
  },
  {
   "cell_type": "code",
   "execution_count": null,
   "id": "bed9dd52",
   "metadata": {
    "ExecuteTime": {
     "end_time": "2022-11-23T15:57:05.780688Z",
     "start_time": "2022-11-23T15:57:04.963Z"
    }
   },
   "outputs": [],
   "source": [
    "import pandas as pd\n",
    "import numpy as np\n",
    "import matplotlib.pyplot as plt\n",
    "import seaborn as sns\n",
    "\n",
    "from sklearn.metrics import classification_report\n",
    "from sklearn.preprocessing import StandardScaler\n",
    "from sklearn.preprocessing import LabelEncoder\n",
    "from sklearn.model_selection import train_test_split\n",
    "\n",
    "pd.set_option('max_columns',100)"
   ]
  },
  {
   "cell_type": "code",
   "execution_count": null,
   "id": "a00cc9cd",
   "metadata": {
    "ExecuteTime": {
     "end_time": "2022-11-23T15:57:05.781515Z",
     "start_time": "2022-11-23T15:57:04.966Z"
    }
   },
   "outputs": [],
   "source": [
    "train = pd.read_csv('data/train.csv')\n",
    "test = pd.read_csv('data/test.csv')"
   ]
  },
  {
   "cell_type": "code",
   "execution_count": null,
   "id": "44b965f6",
   "metadata": {
    "ExecuteTime": {
     "end_time": "2022-11-23T15:57:05.782223Z",
     "start_time": "2022-11-23T15:57:04.968Z"
    }
   },
   "outputs": [],
   "source": [
    "train.columns"
   ]
  },
  {
   "cell_type": "code",
   "execution_count": null,
   "id": "8e2d889e",
   "metadata": {
    "ExecuteTime": {
     "end_time": "2022-11-23T15:57:05.782957Z",
     "start_time": "2022-11-23T15:57:04.970Z"
    }
   },
   "outputs": [],
   "source": [
    "categorical_features = ['COMPONENT_ARBITRARY', 'YEAR']\n",
    "# Inference(실제 진단 환경)에 사용하는 컬럼\n",
    "test_stage_features = ['COMPONENT_ARBITRARY', 'ANONYMOUS_1', 'YEAR' , 'ANONYMOUS_2', 'AG', 'CO', 'CR', 'CU', 'FE', 'H2O', 'MN', 'MO', 'NI', 'PQINDEX', 'TI', 'V', 'V40', 'ZN']"
   ]
  },
  {
   "cell_type": "code",
   "execution_count": null,
   "id": "71ddcf39",
   "metadata": {
    "ExecuteTime": {
     "end_time": "2022-11-23T15:57:05.783655Z",
     "start_time": "2022-11-23T15:57:04.973Z"
    }
   },
   "outputs": [],
   "source": [
    "train = train.fillna(0)\n",
    "test = test.fillna(0)"
   ]
  },
  {
   "cell_type": "code",
   "execution_count": null,
   "id": "1b26ddcc",
   "metadata": {
    "ExecuteTime": {
     "end_time": "2022-11-23T15:57:05.784371Z",
     "start_time": "2022-11-23T15:57:04.975Z"
    }
   },
   "outputs": [],
   "source": [
    "all_X = train.drop(['ID', 'Y_LABEL'], axis = 1)\n",
    "all_y = train['Y_LABEL']\n",
    "\n",
    "test = test.drop(['ID'], axis = 1)\n",
    "\n",
    "def get_values(value):\n",
    "    return value.values.reshape(-1, 1)\n",
    "\n",
    "for col in all_X.columns:\n",
    "    if col not in categorical_features:\n",
    "        scaler = StandardScaler()\n",
    "        all_X[col] = scaler.fit_transform(get_values(all_X[col]))\n",
    "        if col in test.columns:\n",
    "            test[col] = scaler.transform(get_values(test[col]))\n",
    "            \n",
    "            \n",
    "# ---------------------------\n",
    "# Handling Categorical\n",
    "# ---------------------------\n",
    "le = LabelEncoder()\n",
    "for col in categorical_features:    \n",
    "    all_X[col] = le.fit_transform(all_X[col])\n",
    "    if col in test.columns:\n",
    "        test[col] = le.transform(test[col])"
   ]
  },
  {
   "cell_type": "code",
   "execution_count": null,
   "id": "08988efd",
   "metadata": {
    "ExecuteTime": {
     "end_time": "2022-11-23T15:57:05.784979Z",
     "start_time": "2022-11-23T15:57:04.977Z"
    }
   },
   "outputs": [],
   "source": [
    "clftrain_X, clfval_X, clftrain_y, clfval_y = train_test_split(all_X, all_y, test_size=0.2, random_state=101, stratify=all_y)"
   ]
  },
  {
   "cell_type": "code",
   "execution_count": null,
   "id": "97cfaa17",
   "metadata": {
    "ExecuteTime": {
     "end_time": "2022-11-23T15:57:05.785607Z",
     "start_time": "2022-11-23T15:57:04.980Z"
    }
   },
   "outputs": [],
   "source": [
    "from sklearn.model_selection import train_test_split\n",
    "from xgboost import XGBClassifier\n",
    "import xgboost as xgb"
   ]
  },
  {
   "cell_type": "code",
   "execution_count": null,
   "id": "140be7b1",
   "metadata": {
    "ExecuteTime": {
     "end_time": "2022-11-23T15:57:05.786298Z",
     "start_time": "2022-11-23T15:57:04.983Z"
    }
   },
   "outputs": [],
   "source": [
    "clfmodel = XGBClassifier(random_state=101)\n",
    "clfmodel.fit(clftrain_X,clftrain_y)"
   ]
  },
  {
   "cell_type": "code",
   "execution_count": null,
   "id": "447be010",
   "metadata": {
    "ExecuteTime": {
     "end_time": "2022-11-23T15:57:05.786954Z",
     "start_time": "2022-11-23T15:57:04.986Z"
    }
   },
   "outputs": [],
   "source": [
    "clfprediction = clfmodel.predict(clfval_X)"
   ]
  },
  {
   "cell_type": "code",
   "execution_count": null,
   "id": "cb555caf",
   "metadata": {
    "ExecuteTime": {
     "end_time": "2022-11-23T15:57:05.787673Z",
     "start_time": "2022-11-23T15:57:04.989Z"
    }
   },
   "outputs": [],
   "source": [
    "len(clfval_X)"
   ]
  },
  {
   "cell_type": "code",
   "execution_count": null,
   "id": "def4140e",
   "metadata": {
    "ExecuteTime": {
     "end_time": "2022-11-23T15:57:05.788386Z",
     "start_time": "2022-11-23T15:57:04.992Z"
    }
   },
   "outputs": [],
   "source": [
    "len(clfprediction)"
   ]
  },
  {
   "cell_type": "code",
   "execution_count": null,
   "id": "b8ee904b",
   "metadata": {
    "ExecuteTime": {
     "end_time": "2022-11-23T15:57:05.789123Z",
     "start_time": "2022-11-23T15:57:04.996Z"
    }
   },
   "outputs": [],
   "source": [
    "len(clfprediction[clfprediction ==1])"
   ]
  },
  {
   "cell_type": "code",
   "execution_count": null,
   "id": "38dc2238",
   "metadata": {
    "ExecuteTime": {
     "end_time": "2022-11-23T15:57:05.789752Z",
     "start_time": "2022-11-23T15:57:04.998Z"
    }
   },
   "outputs": [],
   "source": [
    "len(clfprediction[clfprediction ==0])"
   ]
  },
  {
   "cell_type": "code",
   "execution_count": null,
   "id": "1e65a1bb",
   "metadata": {
    "ExecuteTime": {
     "end_time": "2022-11-23T15:57:05.790433Z",
     "start_time": "2022-11-23T15:57:05.000Z"
    }
   },
   "outputs": [],
   "source": [
    "len(all_y[all_y == 1])"
   ]
  },
  {
   "cell_type": "code",
   "execution_count": null,
   "id": "3063e199",
   "metadata": {
    "ExecuteTime": {
     "end_time": "2022-11-23T15:57:05.791095Z",
     "start_time": "2022-11-23T15:57:05.003Z"
    }
   },
   "outputs": [],
   "source": [
    "len(all_y[all_y == 0])"
   ]
  },
  {
   "cell_type": "code",
   "execution_count": null,
   "id": "5e76be9f",
   "metadata": {
    "ExecuteTime": {
     "end_time": "2022-11-23T15:57:05.791686Z",
     "start_time": "2022-11-23T15:57:05.005Z"
    }
   },
   "outputs": [],
   "source": [
    "print(classification_report(clfval_y,clfprediction))"
   ]
  },
  {
   "cell_type": "code",
   "execution_count": null,
   "id": "82316401",
   "metadata": {
    "ExecuteTime": {
     "end_time": "2022-11-23T15:57:05.792378Z",
     "start_time": "2022-11-23T15:57:05.008Z"
    }
   },
   "outputs": [],
   "source": [
    "# all_X.drop(['COMPONENT_ARBITRARY'],axis=1)"
   ]
  },
  {
   "cell_type": "code",
   "execution_count": null,
   "id": "29c7a634",
   "metadata": {
    "ExecuteTime": {
     "end_time": "2022-11-23T15:57:05.793096Z",
     "start_time": "2022-11-23T15:57:05.011Z"
    }
   },
   "outputs": [],
   "source": [
    "big_proba = clfmodel.predict_proba(all_X)[:,0]"
   ]
  },
  {
   "cell_type": "code",
   "execution_count": null,
   "id": "cce400cb",
   "metadata": {
    "ExecuteTime": {
     "end_time": "2022-11-23T15:57:05.793773Z",
     "start_time": "2022-11-23T15:57:05.014Z"
    }
   },
   "outputs": [],
   "source": [
    "all_X['big_proba'] = big_proba"
   ]
  },
  {
   "cell_type": "code",
   "execution_count": null,
   "id": "869d5fe1",
   "metadata": {
    "ExecuteTime": {
     "end_time": "2022-11-23T15:57:05.794622Z",
     "start_time": "2022-11-23T15:57:05.016Z"
    }
   },
   "outputs": [],
   "source": [
    "rgval_y.index"
   ]
  },
  {
   "cell_type": "code",
   "execution_count": null,
   "id": "6cef91ce",
   "metadata": {
    "ExecuteTime": {
     "end_time": "2022-11-23T15:57:05.795392Z",
     "start_time": "2022-11-23T15:57:05.019Z"
    }
   },
   "outputs": [],
   "source": [
    "rgtrain_X, rgval_X, rgtrain_y, rgval_y = train_test_split(all_X[test_stage_features], all_X['big_proba'], test_size=0.2, random_state=101)\n",
    "binary_rgval_y = train.loc[rgval_y.index]['Y_LABEL']\n",
    "binary_rgtrain_y = train.loc[rgtrain_y.index]['Y_LABEL']\n",
    "\n",
    "\n",
    "rgmodel = xgb.XGBRegressor(random_state=101)\n",
    "rgmodel.fit(rgtrain_X,rgtrain_y)\n",
    "\n",
    "rgprediction_train = rgmodel.predict(rgtrain_X)\n",
    "rgprediction = rgmodel.predict(rgval_X)"
   ]
  },
  {
   "cell_type": "code",
   "execution_count": null,
   "id": "b0b320d7",
   "metadata": {
    "ExecuteTime": {
     "end_time": "2022-11-23T15:57:05.796052Z",
     "start_time": "2022-11-23T15:57:05.022Z"
    }
   },
   "outputs": [],
   "source": [
    "threshold = 0.7\n",
    "\n",
    "train_pred_labels = np.where(np.array(rgprediction_train) > threshold, 0, 1)\n",
    "val_pred_labels = np.where(np.array(rgprediction) > threshold, 0, 1)\n",
    "\n",
    "print(classification_report(train_pred_labels, binary_rgtrain_y))\n",
    "print(classification_report(val_pred_labels, binary_rgval_y))"
   ]
  },
  {
   "cell_type": "code",
   "execution_count": null,
   "id": "c69b71e5",
   "metadata": {},
   "outputs": [],
   "source": []
  },
  {
   "cell_type": "code",
   "execution_count": null,
   "id": "bf80b537",
   "metadata": {},
   "outputs": [],
   "source": []
  },
  {
   "cell_type": "code",
   "execution_count": null,
   "id": "d96089e2",
   "metadata": {
    "ExecuteTime": {
     "end_time": "2022-11-23T15:57:05.796848Z",
     "start_time": "2022-11-23T15:57:05.029Z"
    }
   },
   "outputs": [],
   "source": [
    "from sklearn.metrics import mean_absolute_error, mean_squared_error, r2_score"
   ]
  },
  {
   "cell_type": "code",
   "execution_count": null,
   "id": "faacb791",
   "metadata": {
    "ExecuteTime": {
     "end_time": "2022-11-23T15:57:05.797553Z",
     "start_time": "2022-11-23T15:57:05.032Z"
    }
   },
   "outputs": [],
   "source": [
    "plt.figure(figsize=(10,10))\n",
    "plt.plot(rgprediction, label='predict')\n",
    "plt.plot(rgval_y, label='real', alpha = 0.4)\n",
    "plt.legend()"
   ]
  },
  {
   "cell_type": "code",
   "execution_count": null,
   "id": "7a379ffd",
   "metadata": {
    "ExecuteTime": {
     "end_time": "2022-11-23T15:57:05.798185Z",
     "start_time": "2022-11-23T15:57:05.035Z"
    }
   },
   "outputs": [],
   "source": [
    "mean_absolute_error(rgval_y,rgprediction)"
   ]
  },
  {
   "cell_type": "code",
   "execution_count": null,
   "id": "2d5c1696",
   "metadata": {
    "ExecuteTime": {
     "end_time": "2022-11-23T15:57:05.798770Z",
     "start_time": "2022-11-23T15:57:05.038Z"
    }
   },
   "outputs": [],
   "source": [
    "mean_squared_error(rgval_y, rgprediction)"
   ]
  },
  {
   "cell_type": "code",
   "execution_count": null,
   "id": "bea3f850",
   "metadata": {
    "ExecuteTime": {
     "end_time": "2022-11-23T15:57:05.799360Z",
     "start_time": "2022-11-23T15:57:05.042Z"
    }
   },
   "outputs": [],
   "source": [
    "r2_score(rgval_y, rgprediction)"
   ]
  },
  {
   "cell_type": "code",
   "execution_count": null,
   "id": "52a5d679",
   "metadata": {
    "ExecuteTime": {
     "end_time": "2022-11-23T15:57:05.800007Z",
     "start_time": "2022-11-23T15:57:05.046Z"
    }
   },
   "outputs": [],
   "source": [
    "rgprediction"
   ]
  },
  {
   "cell_type": "code",
   "execution_count": null,
   "id": "43dd6385",
   "metadata": {
    "ExecuteTime": {
     "end_time": "2022-11-23T15:57:05.800685Z",
     "start_time": "2022-11-23T15:57:05.048Z"
    }
   },
   "outputs": [],
   "source": [
    "all_rg = rgmodel.predict(all_X[test_stage_features])"
   ]
  },
  {
   "cell_type": "code",
   "execution_count": null,
   "id": "b7e8d052",
   "metadata": {
    "ExecuteTime": {
     "end_time": "2022-11-23T15:57:05.801359Z",
     "start_time": "2022-11-23T15:57:05.052Z"
    }
   },
   "outputs": [],
   "source": [
    "all_rg"
   ]
  },
  {
   "cell_type": "code",
   "execution_count": null,
   "id": "1d8f95c1",
   "metadata": {
    "ExecuteTime": {
     "end_time": "2022-11-23T15:57:05.802031Z",
     "start_time": "2022-11-23T15:57:05.055Z"
    }
   },
   "outputs": [],
   "source": [
    "len(all_rg)"
   ]
  },
  {
   "cell_type": "code",
   "execution_count": null,
   "id": "63effe84",
   "metadata": {
    "ExecuteTime": {
     "end_time": "2022-11-23T15:57:05.802710Z",
     "start_time": "2022-11-23T15:57:05.059Z"
    }
   },
   "outputs": [],
   "source": [
    "len(all_y)"
   ]
  },
  {
   "cell_type": "code",
   "execution_count": null,
   "id": "e0948be1",
   "metadata": {
    "ExecuteTime": {
     "end_time": "2022-11-23T15:57:05.803419Z",
     "start_time": "2022-11-23T15:57:05.062Z"
    }
   },
   "outputs": [],
   "source": [
    "all_rg"
   ]
  },
  {
   "cell_type": "code",
   "execution_count": null,
   "id": "5a03049b",
   "metadata": {
    "ExecuteTime": {
     "end_time": "2022-11-23T15:57:05.804096Z",
     "start_time": "2022-11-23T15:57:05.064Z"
    }
   },
   "outputs": [],
   "source": [
    "all_y"
   ]
  },
  {
   "cell_type": "code",
   "execution_count": null,
   "id": "e9b747ac",
   "metadata": {
    "ExecuteTime": {
     "end_time": "2022-11-23T15:57:05.804666Z",
     "start_time": "2022-11-23T15:57:05.067Z"
    }
   },
   "outputs": [],
   "source": [
    "threshold = 0.4\n",
    "\n",
    "all_rg_labels = np.where(np.array(all_rg) > threshold, 0, 1)"
   ]
  },
  {
   "cell_type": "code",
   "execution_count": null,
   "id": "1ffb6025",
   "metadata": {
    "ExecuteTime": {
     "end_time": "2022-11-23T15:57:05.805469Z",
     "start_time": "2022-11-23T15:57:05.069Z"
    }
   },
   "outputs": [],
   "source": [
    "print(classification_report(all_rg_labels, all_y))"
   ]
  },
  {
   "cell_type": "code",
   "execution_count": null,
   "id": "fafec452",
   "metadata": {},
   "outputs": [],
   "source": []
  }
 ],
 "metadata": {
  "kernelspec": {
   "display_name": "Python 3",
   "language": "python",
   "name": "python3"
  },
  "language_info": {
   "codemirror_mode": {
    "name": "ipython",
    "version": 3
   },
   "file_extension": ".py",
   "mimetype": "text/x-python",
   "name": "python",
   "nbconvert_exporter": "python",
   "pygments_lexer": "ipython3",
   "version": "3.8.10"
  },
  "toc": {
   "base_numbering": 1,
   "nav_menu": {},
   "number_sections": false,
   "sideBar": true,
   "skip_h1_title": false,
   "title_cell": "Table of Contents",
   "title_sidebar": "Contents",
   "toc_cell": false,
   "toc_position": {},
   "toc_section_display": true,
   "toc_window_display": false
  }
 },
 "nbformat": 4,
 "nbformat_minor": 5
}
