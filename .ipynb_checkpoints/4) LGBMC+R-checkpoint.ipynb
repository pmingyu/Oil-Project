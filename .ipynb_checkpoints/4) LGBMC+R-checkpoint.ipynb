{
 "cells": [
  {
   "cell_type": "code",
   "execution_count": 1,
   "id": "954064ab",
   "metadata": {
    "ExecuteTime": {
     "end_time": "2022-11-23T07:22:28.433364Z",
     "start_time": "2022-11-23T07:22:27.869285Z"
    }
   },
   "outputs": [],
   "source": [
    "import pandas as pd\n",
    "import numpy as np\n",
    "import matplotlib.pyplot as plt\n",
    "import seaborn as sns\n",
    "\n",
    "from sklearn.metrics import classification_report\n",
    "from sklearn.preprocessing import StandardScaler\n",
    "from sklearn.preprocessing import LabelEncoder\n",
    "from sklearn.model_selection import train_test_split\n",
    "\n",
    "pd.set_option('max_columns',100)"
   ]
  },
  {
   "cell_type": "code",
   "execution_count": 2,
   "id": "eb4ef902",
   "metadata": {
    "ExecuteTime": {
     "end_time": "2022-11-23T07:22:28.529760Z",
     "start_time": "2022-11-23T07:22:28.435351Z"
    }
   },
   "outputs": [],
   "source": [
    "train = pd.read_csv('train.csv')\n",
    "test = pd.read_csv('test.csv')"
   ]
  },
  {
   "cell_type": "code",
   "execution_count": 3,
   "id": "a2a0810f",
   "metadata": {
    "ExecuteTime": {
     "end_time": "2022-11-23T07:22:28.776015Z",
     "start_time": "2022-11-23T07:22:28.532102Z"
    }
   },
   "outputs": [],
   "source": [
    "def check_info(df):\n",
    "    # show dataframe for each features that we have\n",
    "    dataFeatures = []\n",
    "    dataType     = []\n",
    "    null         = []\n",
    "    nullPCT      = []\n",
    "    unique       = []\n",
    "    minValue     = []\n",
    "    maxValue     = []\n",
    "    uniqueSample = []\n",
    "\n",
    "\n",
    "    for item in list(df):\n",
    "        dataFeatures.append(item)\n",
    "\n",
    "    for item in dataFeatures:\n",
    "        dataType.append(df[item].dtype.name)\n",
    "\n",
    "    for item in dataFeatures:\n",
    "        null.append(len(df[df[item].isnull() == True]))\n",
    "\n",
    "    for item in dataFeatures:\n",
    "        nullPCT.append(round(len(df[df[item].isnull() == True])/len(df[item])*100,2))\n",
    "\n",
    "    for item in dataFeatures:\n",
    "        minValue.append(df[item].min())\n",
    "\n",
    "    for item in dataFeatures:\n",
    "        maxValue.append(df[item].max())\n",
    "\n",
    "    for item in dataFeatures:\n",
    "        unique.append(df[item].nunique())\n",
    "\n",
    "    for item in dataFeatures:\n",
    "        uniqueSample.append(df[item].unique()[0:2])\n",
    "\n",
    "    df_info = pd.DataFrame({\n",
    "        'dataFeatures' : dataFeatures,\n",
    "        'dataType' : dataType,\n",
    "        'null' : null,\n",
    "        'nullPCT':nullPCT,\n",
    "        'unique' : unique,\n",
    "        'minValue' : minValue,\n",
    "        'maxValue' : maxValue,\n",
    "        'uniqueSample':uniqueSample\n",
    "    })\n",
    "    \n",
    "    return df_info\n",
    "\n",
    "df_info = check_info(train)"
   ]
  },
  {
   "cell_type": "code",
   "execution_count": 4,
   "id": "03431e49",
   "metadata": {
    "ExecuteTime": {
     "end_time": "2022-11-23T07:22:28.788620Z",
     "start_time": "2022-11-23T07:22:28.779096Z"
    }
   },
   "outputs": [
    {
     "data": {
      "text/plain": [
       "['FH2O',\n",
       " 'FNOX',\n",
       " 'FOPTIMETHGLY',\n",
       " 'FOXID',\n",
       " 'FSO4',\n",
       " 'FTBN',\n",
       " 'FUEL',\n",
       " 'SOOTPERCENTAGE',\n",
       " 'U100',\n",
       " 'U75',\n",
       " 'U50',\n",
       " 'U25',\n",
       " 'U20',\n",
       " 'U14',\n",
       " 'U6',\n",
       " 'U4',\n",
       " 'V100']"
      ]
     },
     "execution_count": 4,
     "metadata": {},
     "output_type": "execute_result"
    }
   ],
   "source": [
    "percent20UP = list(df_info[df_info['nullPCT'] >= 20.0]['dataFeatures'])\n",
    "percent20UP"
   ]
  },
  {
   "cell_type": "markdown",
   "id": "eb9fd1aa",
   "metadata": {},
   "source": [
    "# Classifier"
   ]
  },
  {
   "cell_type": "code",
   "execution_count": 5,
   "id": "454bbbf6",
   "metadata": {
    "ExecuteTime": {
     "end_time": "2022-11-23T07:22:28.825827Z",
     "start_time": "2022-11-23T07:22:28.796857Z"
    }
   },
   "outputs": [],
   "source": [
    "# get dummies\n",
    "dff = train.drop(percent20UP,axis=1)\n",
    "dff = dff.fillna(0)\n",
    "dff = pd.get_dummies(dff,columns=['COMPONENT_ARBITRARY'])\n",
    "\n",
    "\n",
    "# data split\n",
    "target = 'Y_LABEL'\n",
    "features_for_model = [f for f in list(dff) if f not in [target,'ID']]\n",
    "\n",
    "X = dff[features_for_model]\n",
    "y = dff[target]\n",
    "# data split\n",
    "from sklearn.model_selection import train_test_split\n",
    "X_train, X_test, y_train, y_test = train_test_split(X, y, \n",
    "                                                 test_size=0.2, \n",
    "                                                 random_state=101)"
   ]
  },
  {
   "cell_type": "code",
   "execution_count": 6,
   "id": "c0fe7fea",
   "metadata": {
    "ExecuteTime": {
     "end_time": "2022-11-23T07:22:32.409155Z",
     "start_time": "2022-11-23T07:22:28.828332Z"
    }
   },
   "outputs": [
    {
     "name": "stdout",
     "output_type": "stream",
     "text": [
      "              precision    recall  f1-score   support\n",
      "\n",
      "           0       0.98      1.00      0.99     10309\n",
      "           1       1.00      0.81      0.90       967\n",
      "\n",
      "    accuracy                           0.98     11276\n",
      "   macro avg       0.99      0.91      0.94     11276\n",
      "weighted avg       0.98      0.98      0.98     11276\n",
      "\n",
      "              precision    recall  f1-score   support\n",
      "\n",
      "           0       0.96      1.00      0.98      2583\n",
      "           1       0.92      0.57      0.70       236\n",
      "\n",
      "    accuracy                           0.96      2819\n",
      "   macro avg       0.94      0.78      0.84      2819\n",
      "weighted avg       0.96      0.96      0.96      2819\n",
      "\n"
     ]
    }
   ],
   "source": [
    "from lightgbm import LGBMClassifier\n",
    "\n",
    "modelC = LGBMClassifier(random_state=101)\n",
    "modelC.fit(X_train,y_train)\n",
    "\n",
    "prediction_train = modelC.predict(X_train)\n",
    "prediction_test  = modelC.predict(X_test)\n",
    "\n",
    "print(classification_report(y_train,prediction_train))\n",
    "print(classification_report(y_test,prediction_test))"
   ]
  },
  {
   "cell_type": "code",
   "execution_count": 7,
   "id": "f9d4c110",
   "metadata": {
    "ExecuteTime": {
     "end_time": "2022-11-23T07:22:34.365978Z",
     "start_time": "2022-11-23T07:22:32.411799Z"
    }
   },
   "outputs": [],
   "source": [
    "# Model Deployment\n",
    "\n",
    "modelCD = LGBMClassifier(random_state=101)\n",
    "modelCD.fit(X,y)\n",
    "\n",
    "prediction_proba = modelC.predict_proba(X)"
   ]
  },
  {
   "cell_type": "code",
   "execution_count": 8,
   "id": "a33a09c3",
   "metadata": {
    "ExecuteTime": {
     "end_time": "2022-11-23T07:22:35.228029Z",
     "start_time": "2022-11-23T07:22:35.218119Z"
    }
   },
   "outputs": [],
   "source": [
    "X2 = X.copy()\n",
    "y2 = y.copy()\n",
    "\n",
    "X2['proba'] = prediction_proba[:,0]"
   ]
  },
  {
   "cell_type": "markdown",
   "id": "74a132d3",
   "metadata": {},
   "source": [
    "# Regressor"
   ]
  },
  {
   "cell_type": "code",
   "execution_count": 9,
   "id": "a2f0af75",
   "metadata": {
    "ExecuteTime": {
     "end_time": "2022-11-23T07:22:36.388584Z",
     "start_time": "2022-11-23T07:22:36.361571Z"
    }
   },
   "outputs": [],
   "source": [
    "dft = test[:]\n",
    "dft = dft.fillna(0)\n",
    "dft = pd.get_dummies(dft,columns=['COMPONENT_ARBITRARY']).drop('ID',axis=1)"
   ]
  },
  {
   "cell_type": "code",
   "execution_count": 10,
   "id": "3509a517",
   "metadata": {
    "ExecuteTime": {
     "end_time": "2022-11-23T07:22:39.490010Z",
     "start_time": "2022-11-23T07:22:39.483378Z"
    }
   },
   "outputs": [],
   "source": [
    "list_test_cols = dft.columns"
   ]
  },
  {
   "cell_type": "code",
   "execution_count": 11,
   "id": "0cd029c3",
   "metadata": {
    "ExecuteTime": {
     "end_time": "2022-11-23T07:22:40.159777Z",
     "start_time": "2022-11-23T07:22:40.139081Z"
    }
   },
   "outputs": [],
   "source": [
    "X2 = X2[list_test_cols]\n",
    "y2 = y2\n",
    "\n",
    "# data split\n",
    "from sklearn.model_selection import train_test_split\n",
    "X_train2, X_test2, y_train2, y_test2 = train_test_split(X2, y2, \n",
    "                                                 test_size=0.2, \n",
    "                                                 random_state=101)"
   ]
  },
  {
   "cell_type": "code",
   "execution_count": 12,
   "id": "20b04b6f",
   "metadata": {
    "ExecuteTime": {
     "end_time": "2022-11-23T07:22:42.280770Z",
     "start_time": "2022-11-23T07:22:40.507183Z"
    }
   },
   "outputs": [
    {
     "name": "stdout",
     "output_type": "stream",
     "text": [
      "0.31368607419080086\n",
      "-0.004599113850389802\n"
     ]
    }
   ],
   "source": [
    "from lightgbm import LGBMRegressor\n",
    "from sklearn.metrics import mean_absolute_error, mean_squared_error, r2_score\n",
    "\n",
    "modelR = LGBMRegressor(random_state=101)\n",
    "modelR.fit(X_train2, y_train2)\n",
    "\n",
    "prediction_train2 = modelR.predict(X_train2)\n",
    "prediction_test2  = modelR.predict(X_test2)\n",
    "\n",
    "print(r2_score(y_train2, prediction_train2))\n",
    "print(r2_score(y_test2, prediction_test2))"
   ]
  },
  {
   "cell_type": "code",
   "execution_count": 13,
   "id": "4591a1a1",
   "metadata": {
    "ExecuteTime": {
     "end_time": "2022-11-23T07:22:51.025701Z",
     "start_time": "2022-11-23T07:22:49.509068Z"
    }
   },
   "outputs": [],
   "source": [
    "# Model Deployment\n",
    "\n",
    "modelRD = LGBMRegressor(random_state=101)\n",
    "modelRD.fit(X2, y2)\n",
    "\n",
    "prediction_proba2 = modelRD.predict(X2)"
   ]
  },
  {
   "cell_type": "code",
   "execution_count": null,
   "id": "f32fd04a",
   "metadata": {},
   "outputs": [],
   "source": []
  },
  {
   "cell_type": "code",
   "execution_count": 57,
   "id": "9886b1d8",
   "metadata": {
    "ExecuteTime": {
     "end_time": "2022-11-23T07:44:55.086752Z",
     "start_time": "2022-11-23T07:44:55.079335Z"
    }
   },
   "outputs": [],
   "source": [
    "threshold = 0.2\n",
    "pred_labels = np.where(np.array(prediction_proba2) > threshold, 1, 0)"
   ]
  },
  {
   "cell_type": "code",
   "execution_count": 58,
   "id": "93174e19",
   "metadata": {
    "ExecuteTime": {
     "end_time": "2022-11-23T07:44:55.293690Z",
     "start_time": "2022-11-23T07:44:55.254500Z"
    }
   },
   "outputs": [
    {
     "name": "stdout",
     "output_type": "stream",
     "text": [
      "              precision    recall  f1-score   support\n",
      "\n",
      "           0       0.96      0.97      0.96     12892\n",
      "           1       0.62      0.55      0.58      1203\n",
      "\n",
      "    accuracy                           0.93     14095\n",
      "   macro avg       0.79      0.76      0.77     14095\n",
      "weighted avg       0.93      0.93      0.93     14095\n",
      "\n"
     ]
    }
   ],
   "source": [
    "print(classification_report(y,pred_labels))"
   ]
  },
  {
   "cell_type": "code",
   "execution_count": null,
   "id": "58e8f172",
   "metadata": {},
   "outputs": [],
   "source": []
  },
  {
   "cell_type": "code",
   "execution_count": 30,
   "id": "b9da1524",
   "metadata": {
    "ExecuteTime": {
     "end_time": "2022-11-23T07:25:54.246987Z",
     "start_time": "2022-11-23T07:25:54.228785Z"
    }
   },
   "outputs": [],
   "source": [
    "result = modelRD.predict(dft)"
   ]
  },
  {
   "cell_type": "code",
   "execution_count": 32,
   "id": "e17f2e9c",
   "metadata": {
    "ExecuteTime": {
     "end_time": "2022-11-23T07:26:34.624401Z",
     "start_time": "2022-11-23T07:26:34.617098Z"
    }
   },
   "outputs": [],
   "source": [
    "result_labels = np.where(np.array(result) > threshold, 1, 0)"
   ]
  },
  {
   "cell_type": "code",
   "execution_count": 34,
   "id": "94097abd",
   "metadata": {
    "ExecuteTime": {
     "end_time": "2022-11-23T07:27:30.493973Z",
     "start_time": "2022-11-23T07:27:30.464502Z"
    }
   },
   "outputs": [
    {
     "data": {
      "text/html": [
       "<div>\n",
       "<style scoped>\n",
       "    .dataframe tbody tr th:only-of-type {\n",
       "        vertical-align: middle;\n",
       "    }\n",
       "\n",
       "    .dataframe tbody tr th {\n",
       "        vertical-align: top;\n",
       "    }\n",
       "\n",
       "    .dataframe thead th {\n",
       "        text-align: right;\n",
       "    }\n",
       "</style>\n",
       "<table border=\"1\" class=\"dataframe\">\n",
       "  <thead>\n",
       "    <tr style=\"text-align: right;\">\n",
       "      <th></th>\n",
       "      <th>ID</th>\n",
       "      <th>Y_LABEL</th>\n",
       "    </tr>\n",
       "  </thead>\n",
       "  <tbody>\n",
       "    <tr>\n",
       "      <th>0</th>\n",
       "      <td>TEST_0000</td>\n",
       "      <td>0</td>\n",
       "    </tr>\n",
       "    <tr>\n",
       "      <th>1</th>\n",
       "      <td>TEST_0001</td>\n",
       "      <td>0</td>\n",
       "    </tr>\n",
       "    <tr>\n",
       "      <th>2</th>\n",
       "      <td>TEST_0002</td>\n",
       "      <td>1</td>\n",
       "    </tr>\n",
       "    <tr>\n",
       "      <th>3</th>\n",
       "      <td>TEST_0003</td>\n",
       "      <td>0</td>\n",
       "    </tr>\n",
       "    <tr>\n",
       "      <th>4</th>\n",
       "      <td>TEST_0004</td>\n",
       "      <td>0</td>\n",
       "    </tr>\n",
       "  </tbody>\n",
       "</table>\n",
       "</div>"
      ],
      "text/plain": [
       "          ID  Y_LABEL\n",
       "0  TEST_0000        0\n",
       "1  TEST_0001        0\n",
       "2  TEST_0002        1\n",
       "3  TEST_0003        0\n",
       "4  TEST_0004        0"
      ]
     },
     "execution_count": 34,
     "metadata": {},
     "output_type": "execute_result"
    }
   ],
   "source": [
    "submit = pd.read_csv('sample_submission.csv')\n",
    "submit['Y_LABEL'] = result_labels\n",
    "submit.head()"
   ]
  },
  {
   "cell_type": "code",
   "execution_count": 35,
   "id": "7fecc19a",
   "metadata": {
    "ExecuteTime": {
     "end_time": "2022-11-23T07:27:58.708418Z",
     "start_time": "2022-11-23T07:27:58.675046Z"
    }
   },
   "outputs": [],
   "source": [
    "submit.to_csv('submit_ensembledistilation_1.csv', index=False)"
   ]
  },
  {
   "cell_type": "code",
   "execution_count": null,
   "id": "a36262f2",
   "metadata": {},
   "outputs": [],
   "source": []
  },
  {
   "cell_type": "code",
   "execution_count": null,
   "id": "3572f73d",
   "metadata": {},
   "outputs": [],
   "source": []
  },
  {
   "cell_type": "code",
   "execution_count": null,
   "id": "05bd6b64",
   "metadata": {},
   "outputs": [],
   "source": []
  },
  {
   "cell_type": "code",
   "execution_count": null,
   "id": "3acdf436",
   "metadata": {},
   "outputs": [],
   "source": []
  },
  {
   "cell_type": "code",
   "execution_count": null,
   "id": "a4713611",
   "metadata": {},
   "outputs": [],
   "source": []
  },
  {
   "cell_type": "code",
   "execution_count": null,
   "id": "f7a019e2",
   "metadata": {},
   "outputs": [],
   "source": []
  },
  {
   "cell_type": "code",
   "execution_count": null,
   "id": "a19fe0d7",
   "metadata": {},
   "outputs": [],
   "source": []
  },
  {
   "cell_type": "code",
   "execution_count": null,
   "id": "27de7053",
   "metadata": {},
   "outputs": [],
   "source": []
  },
  {
   "cell_type": "code",
   "execution_count": null,
   "id": "d9ec1c73",
   "metadata": {},
   "outputs": [],
   "source": []
  },
  {
   "cell_type": "code",
   "execution_count": null,
   "id": "ceed579b",
   "metadata": {},
   "outputs": [],
   "source": []
  },
  {
   "cell_type": "code",
   "execution_count": null,
   "id": "6f3bd5e3",
   "metadata": {},
   "outputs": [],
   "source": []
  },
  {
   "cell_type": "code",
   "execution_count": null,
   "id": "b0099408",
   "metadata": {},
   "outputs": [],
   "source": []
  },
  {
   "cell_type": "code",
   "execution_count": null,
   "id": "b0d1a323",
   "metadata": {},
   "outputs": [],
   "source": []
  },
  {
   "cell_type": "code",
   "execution_count": null,
   "id": "14d4f283",
   "metadata": {},
   "outputs": [],
   "source": []
  },
  {
   "cell_type": "code",
   "execution_count": null,
   "id": "652e8690",
   "metadata": {},
   "outputs": [],
   "source": []
  },
  {
   "cell_type": "code",
   "execution_count": null,
   "id": "b3e060d2",
   "metadata": {},
   "outputs": [],
   "source": []
  },
  {
   "cell_type": "code",
   "execution_count": null,
   "id": "c26d148f",
   "metadata": {},
   "outputs": [],
   "source": []
  },
  {
   "cell_type": "code",
   "execution_count": null,
   "id": "51231ffe",
   "metadata": {},
   "outputs": [],
   "source": []
  },
  {
   "cell_type": "code",
   "execution_count": null,
   "id": "256ebb38",
   "metadata": {},
   "outputs": [],
   "source": []
  },
  {
   "cell_type": "code",
   "execution_count": null,
   "id": "720df370",
   "metadata": {},
   "outputs": [],
   "source": []
  },
  {
   "cell_type": "code",
   "execution_count": null,
   "id": "1cb29689",
   "metadata": {},
   "outputs": [],
   "source": []
  },
  {
   "cell_type": "code",
   "execution_count": 1,
   "id": "bed9dd52",
   "metadata": {
    "ExecuteTime": {
     "end_time": "2022-11-23T06:47:30.129120Z",
     "start_time": "2022-11-23T06:47:29.567833Z"
    }
   },
   "outputs": [],
   "source": [
    "import pandas as pd\n",
    "import numpy as np\n",
    "import matplotlib.pyplot as plt\n",
    "import seaborn as sns\n",
    "\n",
    "from sklearn.metrics import classification_report\n",
    "from sklearn.preprocessing import StandardScaler\n",
    "from sklearn.preprocessing import LabelEncoder\n",
    "from sklearn.model_selection import train_test_split\n",
    "\n",
    "pd.set_option('max_columns',100)"
   ]
  },
  {
   "cell_type": "code",
   "execution_count": 2,
   "id": "a00cc9cd",
   "metadata": {
    "ExecuteTime": {
     "end_time": "2022-11-23T06:47:30.278832Z",
     "start_time": "2022-11-23T06:47:30.132221Z"
    }
   },
   "outputs": [
    {
     "ename": "FileNotFoundError",
     "evalue": "[Errno 2] No such file or directory: 'data/train.csv'",
     "output_type": "error",
     "traceback": [
      "\u001b[0;31m---------------------------------------------------------------------------\u001b[0m",
      "\u001b[0;31mFileNotFoundError\u001b[0m                         Traceback (most recent call last)",
      "\u001b[0;32m/tmp/ipykernel_56294/787234720.py\u001b[0m in \u001b[0;36m<module>\u001b[0;34m\u001b[0m\n\u001b[0;32m----> 1\u001b[0;31m \u001b[0mtrain\u001b[0m \u001b[0;34m=\u001b[0m \u001b[0mpd\u001b[0m\u001b[0;34m.\u001b[0m\u001b[0mread_csv\u001b[0m\u001b[0;34m(\u001b[0m\u001b[0;34m'data/train.csv'\u001b[0m\u001b[0;34m)\u001b[0m\u001b[0;34m\u001b[0m\u001b[0;34m\u001b[0m\u001b[0m\n\u001b[0m\u001b[1;32m      2\u001b[0m \u001b[0mtest\u001b[0m \u001b[0;34m=\u001b[0m \u001b[0mpd\u001b[0m\u001b[0;34m.\u001b[0m\u001b[0mread_csv\u001b[0m\u001b[0;34m(\u001b[0m\u001b[0;34m'data/test.csv'\u001b[0m\u001b[0;34m)\u001b[0m\u001b[0;34m\u001b[0m\u001b[0;34m\u001b[0m\u001b[0m\n",
      "\u001b[0;32m/opt/conda/lib/python3.8/site-packages/pandas/io/parsers.py\u001b[0m in \u001b[0;36mread_csv\u001b[0;34m(filepath_or_buffer, sep, delimiter, header, names, index_col, usecols, squeeze, prefix, mangle_dupe_cols, dtype, engine, converters, true_values, false_values, skipinitialspace, skiprows, skipfooter, nrows, na_values, keep_default_na, na_filter, verbose, skip_blank_lines, parse_dates, infer_datetime_format, keep_date_col, date_parser, dayfirst, cache_dates, iterator, chunksize, compression, thousands, decimal, lineterminator, quotechar, quoting, doublequote, escapechar, comment, encoding, dialect, error_bad_lines, warn_bad_lines, delim_whitespace, low_memory, memory_map, float_precision, storage_options)\u001b[0m\n\u001b[1;32m    608\u001b[0m     \u001b[0mkwds\u001b[0m\u001b[0;34m.\u001b[0m\u001b[0mupdate\u001b[0m\u001b[0;34m(\u001b[0m\u001b[0mkwds_defaults\u001b[0m\u001b[0;34m)\u001b[0m\u001b[0;34m\u001b[0m\u001b[0;34m\u001b[0m\u001b[0m\n\u001b[1;32m    609\u001b[0m \u001b[0;34m\u001b[0m\u001b[0m\n\u001b[0;32m--> 610\u001b[0;31m     \u001b[0;32mreturn\u001b[0m \u001b[0m_read\u001b[0m\u001b[0;34m(\u001b[0m\u001b[0mfilepath_or_buffer\u001b[0m\u001b[0;34m,\u001b[0m \u001b[0mkwds\u001b[0m\u001b[0;34m)\u001b[0m\u001b[0;34m\u001b[0m\u001b[0;34m\u001b[0m\u001b[0m\n\u001b[0m\u001b[1;32m    611\u001b[0m \u001b[0;34m\u001b[0m\u001b[0m\n\u001b[1;32m    612\u001b[0m \u001b[0;34m\u001b[0m\u001b[0m\n",
      "\u001b[0;32m/opt/conda/lib/python3.8/site-packages/pandas/io/parsers.py\u001b[0m in \u001b[0;36m_read\u001b[0;34m(filepath_or_buffer, kwds)\u001b[0m\n\u001b[1;32m    460\u001b[0m \u001b[0;34m\u001b[0m\u001b[0m\n\u001b[1;32m    461\u001b[0m     \u001b[0;31m# Create the parser.\u001b[0m\u001b[0;34m\u001b[0m\u001b[0;34m\u001b[0m\u001b[0;34m\u001b[0m\u001b[0m\n\u001b[0;32m--> 462\u001b[0;31m     \u001b[0mparser\u001b[0m \u001b[0;34m=\u001b[0m \u001b[0mTextFileReader\u001b[0m\u001b[0;34m(\u001b[0m\u001b[0mfilepath_or_buffer\u001b[0m\u001b[0;34m,\u001b[0m \u001b[0;34m**\u001b[0m\u001b[0mkwds\u001b[0m\u001b[0;34m)\u001b[0m\u001b[0;34m\u001b[0m\u001b[0;34m\u001b[0m\u001b[0m\n\u001b[0m\u001b[1;32m    463\u001b[0m \u001b[0;34m\u001b[0m\u001b[0m\n\u001b[1;32m    464\u001b[0m     \u001b[0;32mif\u001b[0m \u001b[0mchunksize\u001b[0m \u001b[0;32mor\u001b[0m \u001b[0miterator\u001b[0m\u001b[0;34m:\u001b[0m\u001b[0;34m\u001b[0m\u001b[0;34m\u001b[0m\u001b[0m\n",
      "\u001b[0;32m/opt/conda/lib/python3.8/site-packages/pandas/io/parsers.py\u001b[0m in \u001b[0;36m__init__\u001b[0;34m(self, f, engine, **kwds)\u001b[0m\n\u001b[1;32m    817\u001b[0m             \u001b[0mself\u001b[0m\u001b[0;34m.\u001b[0m\u001b[0moptions\u001b[0m\u001b[0;34m[\u001b[0m\u001b[0;34m\"has_index_names\"\u001b[0m\u001b[0;34m]\u001b[0m \u001b[0;34m=\u001b[0m \u001b[0mkwds\u001b[0m\u001b[0;34m[\u001b[0m\u001b[0;34m\"has_index_names\"\u001b[0m\u001b[0;34m]\u001b[0m\u001b[0;34m\u001b[0m\u001b[0;34m\u001b[0m\u001b[0m\n\u001b[1;32m    818\u001b[0m \u001b[0;34m\u001b[0m\u001b[0m\n\u001b[0;32m--> 819\u001b[0;31m         \u001b[0mself\u001b[0m\u001b[0;34m.\u001b[0m\u001b[0m_engine\u001b[0m \u001b[0;34m=\u001b[0m \u001b[0mself\u001b[0m\u001b[0;34m.\u001b[0m\u001b[0m_make_engine\u001b[0m\u001b[0;34m(\u001b[0m\u001b[0mself\u001b[0m\u001b[0;34m.\u001b[0m\u001b[0mengine\u001b[0m\u001b[0;34m)\u001b[0m\u001b[0;34m\u001b[0m\u001b[0;34m\u001b[0m\u001b[0m\n\u001b[0m\u001b[1;32m    820\u001b[0m \u001b[0;34m\u001b[0m\u001b[0m\n\u001b[1;32m    821\u001b[0m     \u001b[0;32mdef\u001b[0m \u001b[0mclose\u001b[0m\u001b[0;34m(\u001b[0m\u001b[0mself\u001b[0m\u001b[0;34m)\u001b[0m\u001b[0;34m:\u001b[0m\u001b[0;34m\u001b[0m\u001b[0;34m\u001b[0m\u001b[0m\n",
      "\u001b[0;32m/opt/conda/lib/python3.8/site-packages/pandas/io/parsers.py\u001b[0m in \u001b[0;36m_make_engine\u001b[0;34m(self, engine)\u001b[0m\n\u001b[1;32m   1048\u001b[0m             )\n\u001b[1;32m   1049\u001b[0m         \u001b[0;31m# error: Too many arguments for \"ParserBase\"\u001b[0m\u001b[0;34m\u001b[0m\u001b[0;34m\u001b[0m\u001b[0;34m\u001b[0m\u001b[0m\n\u001b[0;32m-> 1050\u001b[0;31m         \u001b[0;32mreturn\u001b[0m \u001b[0mmapping\u001b[0m\u001b[0;34m[\u001b[0m\u001b[0mengine\u001b[0m\u001b[0;34m]\u001b[0m\u001b[0;34m(\u001b[0m\u001b[0mself\u001b[0m\u001b[0;34m.\u001b[0m\u001b[0mf\u001b[0m\u001b[0;34m,\u001b[0m \u001b[0;34m**\u001b[0m\u001b[0mself\u001b[0m\u001b[0;34m.\u001b[0m\u001b[0moptions\u001b[0m\u001b[0;34m)\u001b[0m  \u001b[0;31m# type: ignore[call-arg]\u001b[0m\u001b[0;34m\u001b[0m\u001b[0;34m\u001b[0m\u001b[0m\n\u001b[0m\u001b[1;32m   1051\u001b[0m \u001b[0;34m\u001b[0m\u001b[0m\n\u001b[1;32m   1052\u001b[0m     \u001b[0;32mdef\u001b[0m \u001b[0m_failover_to_python\u001b[0m\u001b[0;34m(\u001b[0m\u001b[0mself\u001b[0m\u001b[0;34m)\u001b[0m\u001b[0;34m:\u001b[0m\u001b[0;34m\u001b[0m\u001b[0;34m\u001b[0m\u001b[0m\n",
      "\u001b[0;32m/opt/conda/lib/python3.8/site-packages/pandas/io/parsers.py\u001b[0m in \u001b[0;36m__init__\u001b[0;34m(self, src, **kwds)\u001b[0m\n\u001b[1;32m   1865\u001b[0m \u001b[0;34m\u001b[0m\u001b[0m\n\u001b[1;32m   1866\u001b[0m         \u001b[0;31m# open handles\u001b[0m\u001b[0;34m\u001b[0m\u001b[0;34m\u001b[0m\u001b[0;34m\u001b[0m\u001b[0m\n\u001b[0;32m-> 1867\u001b[0;31m         \u001b[0mself\u001b[0m\u001b[0;34m.\u001b[0m\u001b[0m_open_handles\u001b[0m\u001b[0;34m(\u001b[0m\u001b[0msrc\u001b[0m\u001b[0;34m,\u001b[0m \u001b[0mkwds\u001b[0m\u001b[0;34m)\u001b[0m\u001b[0;34m\u001b[0m\u001b[0;34m\u001b[0m\u001b[0m\n\u001b[0m\u001b[1;32m   1868\u001b[0m         \u001b[0;32massert\u001b[0m \u001b[0mself\u001b[0m\u001b[0;34m.\u001b[0m\u001b[0mhandles\u001b[0m \u001b[0;32mis\u001b[0m \u001b[0;32mnot\u001b[0m \u001b[0;32mNone\u001b[0m\u001b[0;34m\u001b[0m\u001b[0;34m\u001b[0m\u001b[0m\n\u001b[1;32m   1869\u001b[0m         \u001b[0;32mfor\u001b[0m \u001b[0mkey\u001b[0m \u001b[0;32min\u001b[0m \u001b[0;34m(\u001b[0m\u001b[0;34m\"storage_options\"\u001b[0m\u001b[0;34m,\u001b[0m \u001b[0;34m\"encoding\"\u001b[0m\u001b[0;34m,\u001b[0m \u001b[0;34m\"memory_map\"\u001b[0m\u001b[0;34m,\u001b[0m \u001b[0;34m\"compression\"\u001b[0m\u001b[0;34m)\u001b[0m\u001b[0;34m:\u001b[0m\u001b[0;34m\u001b[0m\u001b[0;34m\u001b[0m\u001b[0m\n",
      "\u001b[0;32m/opt/conda/lib/python3.8/site-packages/pandas/io/parsers.py\u001b[0m in \u001b[0;36m_open_handles\u001b[0;34m(self, src, kwds)\u001b[0m\n\u001b[1;32m   1360\u001b[0m         \u001b[0mLet\u001b[0m \u001b[0mthe\u001b[0m \u001b[0mreaders\u001b[0m \u001b[0mopen\u001b[0m \u001b[0mIOHanldes\u001b[0m \u001b[0mafter\u001b[0m \u001b[0mthey\u001b[0m \u001b[0mare\u001b[0m \u001b[0mdone\u001b[0m \u001b[0;32mwith\u001b[0m \u001b[0mtheir\u001b[0m \u001b[0mpotential\u001b[0m \u001b[0mraises\u001b[0m\u001b[0;34m.\u001b[0m\u001b[0;34m\u001b[0m\u001b[0;34m\u001b[0m\u001b[0m\n\u001b[1;32m   1361\u001b[0m         \"\"\"\n\u001b[0;32m-> 1362\u001b[0;31m         self.handles = get_handle(\n\u001b[0m\u001b[1;32m   1363\u001b[0m             \u001b[0msrc\u001b[0m\u001b[0;34m,\u001b[0m\u001b[0;34m\u001b[0m\u001b[0;34m\u001b[0m\u001b[0m\n\u001b[1;32m   1364\u001b[0m             \u001b[0;34m\"r\"\u001b[0m\u001b[0;34m,\u001b[0m\u001b[0;34m\u001b[0m\u001b[0;34m\u001b[0m\u001b[0m\n",
      "\u001b[0;32m/opt/conda/lib/python3.8/site-packages/pandas/io/common.py\u001b[0m in \u001b[0;36mget_handle\u001b[0;34m(path_or_buf, mode, encoding, compression, memory_map, is_text, errors, storage_options)\u001b[0m\n\u001b[1;32m    645\u001b[0m                 \u001b[0merrors\u001b[0m \u001b[0;34m=\u001b[0m \u001b[0;34m\"replace\"\u001b[0m\u001b[0;34m\u001b[0m\u001b[0;34m\u001b[0m\u001b[0m\n\u001b[1;32m    646\u001b[0m             \u001b[0;31m# Encoding\u001b[0m\u001b[0;34m\u001b[0m\u001b[0;34m\u001b[0m\u001b[0;34m\u001b[0m\u001b[0m\n\u001b[0;32m--> 647\u001b[0;31m             handle = open(\n\u001b[0m\u001b[1;32m    648\u001b[0m                 \u001b[0mhandle\u001b[0m\u001b[0;34m,\u001b[0m\u001b[0;34m\u001b[0m\u001b[0;34m\u001b[0m\u001b[0m\n\u001b[1;32m    649\u001b[0m                 \u001b[0mioargs\u001b[0m\u001b[0;34m.\u001b[0m\u001b[0mmode\u001b[0m\u001b[0;34m,\u001b[0m\u001b[0;34m\u001b[0m\u001b[0;34m\u001b[0m\u001b[0m\n",
      "\u001b[0;31mFileNotFoundError\u001b[0m: [Errno 2] No such file or directory: 'data/train.csv'"
     ]
    }
   ],
   "source": [
    "train = pd.read_csv('data/train.csv')\n",
    "test = pd.read_csv('data/test.csv')"
   ]
  },
  {
   "cell_type": "code",
   "execution_count": 3,
   "id": "44b965f6",
   "metadata": {
    "ExecuteTime": {
     "end_time": "2022-11-23T06:47:30.438863Z",
     "start_time": "2022-11-23T06:47:30.417931Z"
    }
   },
   "outputs": [
    {
     "ename": "NameError",
     "evalue": "name 'train' is not defined",
     "output_type": "error",
     "traceback": [
      "\u001b[0;31m---------------------------------------------------------------------------\u001b[0m",
      "\u001b[0;31mNameError\u001b[0m                                 Traceback (most recent call last)",
      "\u001b[0;32m/tmp/ipykernel_56294/4167172441.py\u001b[0m in \u001b[0;36m<module>\u001b[0;34m\u001b[0m\n\u001b[0;32m----> 1\u001b[0;31m \u001b[0mtrain\u001b[0m\u001b[0;34m.\u001b[0m\u001b[0mcolumns\u001b[0m\u001b[0;34m\u001b[0m\u001b[0;34m\u001b[0m\u001b[0m\n\u001b[0m",
      "\u001b[0;31mNameError\u001b[0m: name 'train' is not defined"
     ]
    }
   ],
   "source": [
    "train.columns"
   ]
  },
  {
   "cell_type": "code",
   "execution_count": 4,
   "id": "8e2d889e",
   "metadata": {
    "ExecuteTime": {
     "end_time": "2022-11-23T06:47:30.862780Z",
     "start_time": "2022-11-23T06:47:30.853700Z"
    }
   },
   "outputs": [],
   "source": [
    "categorical_features = ['COMPONENT_ARBITRARY', 'YEAR']\n",
    "# Inference(실제 진단 환경)에 사용하는 컬럼\n",
    "test_stage_features = ['COMPONENT_ARBITRARY', 'ANONYMOUS_1', 'YEAR' , 'ANONYMOUS_2', 'AG', 'CO', 'CR', 'CU', 'FE', 'H2O', 'MN', 'MO', 'NI', 'PQINDEX', 'TI', 'V', 'V40', 'ZN']"
   ]
  },
  {
   "cell_type": "code",
   "execution_count": 20,
   "id": "71ddcf39",
   "metadata": {
    "ExecuteTime": {
     "end_time": "2022-11-22T13:33:30.500081Z",
     "start_time": "2022-11-22T13:33:30.477012Z"
    }
   },
   "outputs": [],
   "source": [
    "train = train.fillna(0)\n",
    "test = test.fillna(0)"
   ]
  },
  {
   "cell_type": "code",
   "execution_count": 21,
   "id": "1b26ddcc",
   "metadata": {
    "ExecuteTime": {
     "end_time": "2022-11-22T13:33:31.852735Z",
     "start_time": "2022-11-22T13:33:31.776038Z"
    }
   },
   "outputs": [],
   "source": [
    "all_X = train.drop(['ID', 'Y_LABEL'], axis = 1)\n",
    "all_y = train['Y_LABEL']\n",
    "\n",
    "test = test.drop(['ID'], axis = 1)\n",
    "\n",
    "def get_values(value):\n",
    "    return value.values.reshape(-1, 1)\n",
    "\n",
    "for col in all_X.columns:\n",
    "    if col not in categorical_features:\n",
    "        scaler = StandardScaler()\n",
    "        all_X[col] = scaler.fit_transform(get_values(all_X[col]))\n",
    "        if col in test.columns:\n",
    "            test[col] = scaler.transform(get_values(test[col]))\n",
    "            \n",
    "            \n",
    "# ---------------------------\n",
    "# Handling Categorical\n",
    "# ---------------------------\n",
    "le = LabelEncoder()\n",
    "for col in categorical_features:    \n",
    "    all_X[col] = le.fit_transform(all_X[col])\n",
    "    if col in test.columns:\n",
    "        test[col] = le.transform(test[col])"
   ]
  },
  {
   "cell_type": "code",
   "execution_count": 22,
   "id": "08988efd",
   "metadata": {
    "ExecuteTime": {
     "end_time": "2022-11-22T13:33:39.523665Z",
     "start_time": "2022-11-22T13:33:39.489368Z"
    }
   },
   "outputs": [],
   "source": [
    "clftrain_X, clfval_X, clftrain_y, clfval_y = train_test_split(all_X, all_y, test_size=0.2, random_state=101, stratify=all_y)"
   ]
  },
  {
   "cell_type": "code",
   "execution_count": 35,
   "id": "97cfaa17",
   "metadata": {
    "ExecuteTime": {
     "end_time": "2022-11-22T13:38:22.448438Z",
     "start_time": "2022-11-22T13:38:22.444301Z"
    }
   },
   "outputs": [],
   "source": [
    "from sklearn.model_selection import train_test_split\n",
    "from xgboost import XGBClassifier\n",
    "import xgboost as xgb"
   ]
  },
  {
   "cell_type": "code",
   "execution_count": 25,
   "id": "140be7b1",
   "metadata": {
    "ExecuteTime": {
     "end_time": "2022-11-22T13:36:24.561228Z",
     "start_time": "2022-11-22T13:34:30.005450Z"
    }
   },
   "outputs": [
    {
     "name": "stdout",
     "output_type": "stream",
     "text": [
      "[13:34:31] WARNING: ../src/learner.cc:1115: Starting in XGBoost 1.3.0, the default evaluation metric used with the objective 'binary:logistic' was changed from 'error' to 'logloss'. Explicitly set eval_metric if you'd like to restore the old behavior.\n"
     ]
    },
    {
     "data": {
      "text/html": [
       "<style>#sk-container-id-1 {color: black;background-color: white;}#sk-container-id-1 pre{padding: 0;}#sk-container-id-1 div.sk-toggleable {background-color: white;}#sk-container-id-1 label.sk-toggleable__label {cursor: pointer;display: block;width: 100%;margin-bottom: 0;padding: 0.3em;box-sizing: border-box;text-align: center;}#sk-container-id-1 label.sk-toggleable__label-arrow:before {content: \"▸\";float: left;margin-right: 0.25em;color: #696969;}#sk-container-id-1 label.sk-toggleable__label-arrow:hover:before {color: black;}#sk-container-id-1 div.sk-estimator:hover label.sk-toggleable__label-arrow:before {color: black;}#sk-container-id-1 div.sk-toggleable__content {max-height: 0;max-width: 0;overflow: hidden;text-align: left;background-color: #f0f8ff;}#sk-container-id-1 div.sk-toggleable__content pre {margin: 0.2em;color: black;border-radius: 0.25em;background-color: #f0f8ff;}#sk-container-id-1 input.sk-toggleable__control:checked~div.sk-toggleable__content {max-height: 200px;max-width: 100%;overflow: auto;}#sk-container-id-1 input.sk-toggleable__control:checked~label.sk-toggleable__label-arrow:before {content: \"▾\";}#sk-container-id-1 div.sk-estimator input.sk-toggleable__control:checked~label.sk-toggleable__label {background-color: #d4ebff;}#sk-container-id-1 div.sk-label input.sk-toggleable__control:checked~label.sk-toggleable__label {background-color: #d4ebff;}#sk-container-id-1 input.sk-hidden--visually {border: 0;clip: rect(1px 1px 1px 1px);clip: rect(1px, 1px, 1px, 1px);height: 1px;margin: -1px;overflow: hidden;padding: 0;position: absolute;width: 1px;}#sk-container-id-1 div.sk-estimator {font-family: monospace;background-color: #f0f8ff;border: 1px dotted black;border-radius: 0.25em;box-sizing: border-box;margin-bottom: 0.5em;}#sk-container-id-1 div.sk-estimator:hover {background-color: #d4ebff;}#sk-container-id-1 div.sk-parallel-item::after {content: \"\";width: 100%;border-bottom: 1px solid gray;flex-grow: 1;}#sk-container-id-1 div.sk-label:hover label.sk-toggleable__label {background-color: #d4ebff;}#sk-container-id-1 div.sk-serial::before {content: \"\";position: absolute;border-left: 1px solid gray;box-sizing: border-box;top: 0;bottom: 0;left: 50%;z-index: 0;}#sk-container-id-1 div.sk-serial {display: flex;flex-direction: column;align-items: center;background-color: white;padding-right: 0.2em;padding-left: 0.2em;position: relative;}#sk-container-id-1 div.sk-item {position: relative;z-index: 1;}#sk-container-id-1 div.sk-parallel {display: flex;align-items: stretch;justify-content: center;background-color: white;position: relative;}#sk-container-id-1 div.sk-item::before, #sk-container-id-1 div.sk-parallel-item::before {content: \"\";position: absolute;border-left: 1px solid gray;box-sizing: border-box;top: 0;bottom: 0;left: 50%;z-index: -1;}#sk-container-id-1 div.sk-parallel-item {display: flex;flex-direction: column;z-index: 1;position: relative;background-color: white;}#sk-container-id-1 div.sk-parallel-item:first-child::after {align-self: flex-end;width: 50%;}#sk-container-id-1 div.sk-parallel-item:last-child::after {align-self: flex-start;width: 50%;}#sk-container-id-1 div.sk-parallel-item:only-child::after {width: 0;}#sk-container-id-1 div.sk-dashed-wrapped {border: 1px dashed gray;margin: 0 0.4em 0.5em 0.4em;box-sizing: border-box;padding-bottom: 0.4em;background-color: white;}#sk-container-id-1 div.sk-label label {font-family: monospace;font-weight: bold;display: inline-block;line-height: 1.2em;}#sk-container-id-1 div.sk-label-container {text-align: center;}#sk-container-id-1 div.sk-container {/* jupyter's `normalize.less` sets `[hidden] { display: none; }` but bootstrap.min.css set `[hidden] { display: none !important; }` so we also need the `!important` here to be able to override the default hidden behavior on the sphinx rendered scikit-learn.org. See: https://github.com/scikit-learn/scikit-learn/issues/21755 */display: inline-block !important;position: relative;}#sk-container-id-1 div.sk-text-repr-fallback {display: none;}</style><div id=\"sk-container-id-1\" class=\"sk-top-container\"><div class=\"sk-text-repr-fallback\"><pre>XGBClassifier(base_score=0.5, booster=&#x27;gbtree&#x27;, colsample_bylevel=1,\n",
       "              colsample_bynode=1, colsample_bytree=1, enable_categorical=False,\n",
       "              gamma=0, gpu_id=-1, importance_type=None,\n",
       "              interaction_constraints=&#x27;&#x27;, learning_rate=0.300000012,\n",
       "              max_delta_step=0, max_depth=6, min_child_weight=1, missing=nan,\n",
       "              monotone_constraints=&#x27;()&#x27;, n_estimators=100, n_jobs=80,\n",
       "              num_parallel_tree=1, predictor=&#x27;auto&#x27;, random_state=101,\n",
       "              reg_alpha=0, reg_lambda=1, scale_pos_weight=1, subsample=1,\n",
       "              tree_method=&#x27;exact&#x27;, validate_parameters=1, verbosity=None)</pre><b>In a Jupyter environment, please rerun this cell to show the HTML representation or trust the notebook. <br />On GitHub, the HTML representation is unable to render, please try loading this page with nbviewer.org.</b></div><div class=\"sk-container\" hidden><div class=\"sk-item\"><div class=\"sk-estimator sk-toggleable\"><input class=\"sk-toggleable__control sk-hidden--visually\" id=\"sk-estimator-id-1\" type=\"checkbox\" checked><label for=\"sk-estimator-id-1\" class=\"sk-toggleable__label sk-toggleable__label-arrow\">XGBClassifier</label><div class=\"sk-toggleable__content\"><pre>XGBClassifier(base_score=0.5, booster=&#x27;gbtree&#x27;, colsample_bylevel=1,\n",
       "              colsample_bynode=1, colsample_bytree=1, enable_categorical=False,\n",
       "              gamma=0, gpu_id=-1, importance_type=None,\n",
       "              interaction_constraints=&#x27;&#x27;, learning_rate=0.300000012,\n",
       "              max_delta_step=0, max_depth=6, min_child_weight=1, missing=nan,\n",
       "              monotone_constraints=&#x27;()&#x27;, n_estimators=100, n_jobs=80,\n",
       "              num_parallel_tree=1, predictor=&#x27;auto&#x27;, random_state=101,\n",
       "              reg_alpha=0, reg_lambda=1, scale_pos_weight=1, subsample=1,\n",
       "              tree_method=&#x27;exact&#x27;, validate_parameters=1, verbosity=None)</pre></div></div></div></div></div>"
      ],
      "text/plain": [
       "XGBClassifier(base_score=0.5, booster='gbtree', colsample_bylevel=1,\n",
       "              colsample_bynode=1, colsample_bytree=1, enable_categorical=False,\n",
       "              gamma=0, gpu_id=-1, importance_type=None,\n",
       "              interaction_constraints='', learning_rate=0.300000012,\n",
       "              max_delta_step=0, max_depth=6, min_child_weight=1, missing=nan,\n",
       "              monotone_constraints='()', n_estimators=100, n_jobs=80,\n",
       "              num_parallel_tree=1, predictor='auto', random_state=101,\n",
       "              reg_alpha=0, reg_lambda=1, scale_pos_weight=1, subsample=1,\n",
       "              tree_method='exact', validate_parameters=1, verbosity=None)"
      ]
     },
     "execution_count": 25,
     "metadata": {},
     "output_type": "execute_result"
    }
   ],
   "source": [
    "clfmodel = XGBClassifier(random_state=101)\n",
    "clfmodel.fit(clftrain_X,clftrain_y)"
   ]
  },
  {
   "cell_type": "code",
   "execution_count": 26,
   "id": "447be010",
   "metadata": {
    "ExecuteTime": {
     "end_time": "2022-11-22T13:36:26.623020Z",
     "start_time": "2022-11-22T13:36:26.554553Z"
    }
   },
   "outputs": [],
   "source": [
    "clfprediction = clfmodel.predict(clfval_X)"
   ]
  },
  {
   "cell_type": "code",
   "execution_count": 84,
   "id": "cb555caf",
   "metadata": {
    "ExecuteTime": {
     "end_time": "2022-11-22T14:03:30.337513Z",
     "start_time": "2022-11-22T14:03:30.329698Z"
    }
   },
   "outputs": [
    {
     "data": {
      "text/plain": [
       "2819"
      ]
     },
     "execution_count": 84,
     "metadata": {},
     "output_type": "execute_result"
    }
   ],
   "source": [
    "len(clfval_X)"
   ]
  },
  {
   "cell_type": "code",
   "execution_count": 87,
   "id": "def4140e",
   "metadata": {
    "ExecuteTime": {
     "end_time": "2022-11-22T14:05:06.213319Z",
     "start_time": "2022-11-22T14:05:06.205597Z"
    }
   },
   "outputs": [
    {
     "data": {
      "text/plain": [
       "2819"
      ]
     },
     "execution_count": 87,
     "metadata": {},
     "output_type": "execute_result"
    }
   ],
   "source": [
    "len(clfprediction)"
   ]
  },
  {
   "cell_type": "code",
   "execution_count": 89,
   "id": "b8ee904b",
   "metadata": {
    "ExecuteTime": {
     "end_time": "2022-11-22T14:06:18.689315Z",
     "start_time": "2022-11-22T14:06:18.680944Z"
    }
   },
   "outputs": [
    {
     "data": {
      "text/plain": [
       "150"
      ]
     },
     "execution_count": 89,
     "metadata": {},
     "output_type": "execute_result"
    }
   ],
   "source": [
    "len(clfprediction[clfprediction ==1])"
   ]
  },
  {
   "cell_type": "code",
   "execution_count": 90,
   "id": "38dc2238",
   "metadata": {
    "ExecuteTime": {
     "end_time": "2022-11-22T14:06:31.148102Z",
     "start_time": "2022-11-22T14:06:31.139756Z"
    }
   },
   "outputs": [
    {
     "data": {
      "text/plain": [
       "2669"
      ]
     },
     "execution_count": 90,
     "metadata": {},
     "output_type": "execute_result"
    }
   ],
   "source": [
    "len(clfprediction[clfprediction ==0])"
   ]
  },
  {
   "cell_type": "code",
   "execution_count": 74,
   "id": "1e65a1bb",
   "metadata": {
    "ExecuteTime": {
     "end_time": "2022-11-22T14:01:24.737852Z",
     "start_time": "2022-11-22T14:01:24.727995Z"
    }
   },
   "outputs": [
    {
     "data": {
      "text/plain": [
       "1203"
      ]
     },
     "execution_count": 74,
     "metadata": {},
     "output_type": "execute_result"
    }
   ],
   "source": [
    "len(all_y[all_y == 1])"
   ]
  },
  {
   "cell_type": "code",
   "execution_count": 75,
   "id": "3063e199",
   "metadata": {
    "ExecuteTime": {
     "end_time": "2022-11-22T14:01:32.398105Z",
     "start_time": "2022-11-22T14:01:32.388860Z"
    }
   },
   "outputs": [
    {
     "data": {
      "text/plain": [
       "12892"
      ]
     },
     "execution_count": 75,
     "metadata": {},
     "output_type": "execute_result"
    }
   ],
   "source": [
    "len(all_y[all_y == 0])"
   ]
  },
  {
   "cell_type": "code",
   "execution_count": 27,
   "id": "5e76be9f",
   "metadata": {
    "ExecuteTime": {
     "end_time": "2022-11-22T13:36:27.501149Z",
     "start_time": "2022-11-22T13:36:27.479329Z"
    }
   },
   "outputs": [
    {
     "name": "stdout",
     "output_type": "stream",
     "text": [
      "              precision    recall  f1-score   support\n",
      "\n",
      "           0       0.96      0.99      0.98      2578\n",
      "           1       0.87      0.54      0.66       241\n",
      "\n",
      "    accuracy                           0.95      2819\n",
      "   macro avg       0.91      0.77      0.82      2819\n",
      "weighted avg       0.95      0.95      0.95      2819\n",
      "\n"
     ]
    }
   ],
   "source": [
    "print(classification_report(clfval_y,clfprediction))"
   ]
  },
  {
   "cell_type": "code",
   "execution_count": 28,
   "id": "82316401",
   "metadata": {
    "ExecuteTime": {
     "end_time": "2022-11-22T13:36:29.825635Z",
     "start_time": "2022-11-22T13:36:29.821473Z"
    }
   },
   "outputs": [],
   "source": [
    "# all_X.drop(['COMPONENT_ARBITRARY'],axis=1)"
   ]
  },
  {
   "cell_type": "code",
   "execution_count": 30,
   "id": "29c7a634",
   "metadata": {
    "ExecuteTime": {
     "end_time": "2022-11-22T13:36:36.760104Z",
     "start_time": "2022-11-22T13:36:36.679715Z"
    }
   },
   "outputs": [],
   "source": [
    "big_proba = clfmodel.predict_proba(all_X)[:,0]"
   ]
  },
  {
   "cell_type": "code",
   "execution_count": 31,
   "id": "cce400cb",
   "metadata": {
    "ExecuteTime": {
     "end_time": "2022-11-22T13:36:40.837170Z",
     "start_time": "2022-11-22T13:36:40.829881Z"
    }
   },
   "outputs": [],
   "source": [
    "all_X['big_proba'] = big_proba"
   ]
  },
  {
   "cell_type": "code",
   "execution_count": 95,
   "id": "869d5fe1",
   "metadata": {
    "ExecuteTime": {
     "end_time": "2022-11-22T14:12:43.312590Z",
     "start_time": "2022-11-22T14:12:43.303030Z"
    }
   },
   "outputs": [
    {
     "data": {
      "text/plain": [
       "Int64Index([ 5026,   130,  3889, 11827,  1415,  5858,  7503,  4170,  9244,\n",
       "             1511,\n",
       "            ...\n",
       "              552, 10792,  5334,  1531, 13792,  3111,  7434, 10198,  3335,\n",
       "               35],\n",
       "           dtype='int64', length=2819)"
      ]
     },
     "execution_count": 95,
     "metadata": {},
     "output_type": "execute_result"
    }
   ],
   "source": [
    "rgval_y.index"
   ]
  },
  {
   "cell_type": "code",
   "execution_count": 130,
   "id": "6cef91ce",
   "metadata": {
    "ExecuteTime": {
     "end_time": "2022-11-22T14:22:43.284789Z",
     "start_time": "2022-11-22T14:22:41.913149Z"
    }
   },
   "outputs": [],
   "source": [
    "rgtrain_X, rgval_X, rgtrain_y, rgval_y = train_test_split(all_X[test_stage_features], all_X['big_proba'], test_size=0.2, random_state=101)\n",
    "binary_rgval_y = train.loc[rgval_y.index]['Y_LABEL']\n",
    "binary_rgtrain_y = train.loc[rgtrain_y.index]['Y_LABEL']\n",
    "\n",
    "\n",
    "rgmodel = xgb.XGBRegressor(random_state=101)\n",
    "rgmodel.fit(rgtrain_X,rgtrain_y)\n",
    "\n",
    "rgprediction_train = rgmodel.predict(rgtrain_X)\n",
    "rgprediction = rgmodel.predict(rgval_X)"
   ]
  },
  {
   "cell_type": "code",
   "execution_count": 131,
   "id": "b0b320d7",
   "metadata": {
    "ExecuteTime": {
     "end_time": "2022-11-22T14:22:43.320997Z",
     "start_time": "2022-11-22T14:22:43.288647Z"
    }
   },
   "outputs": [
    {
     "name": "stdout",
     "output_type": "stream",
     "text": [
      "              precision    recall  f1-score   support\n",
      "\n",
      "           0       1.00      0.97      0.98     10588\n",
      "           1       0.68      0.95      0.79       688\n",
      "\n",
      "    accuracy                           0.97     11276\n",
      "   macro avg       0.84      0.96      0.89     11276\n",
      "weighted avg       0.98      0.97      0.97     11276\n",
      "\n",
      "              precision    recall  f1-score   support\n",
      "\n",
      "           0       0.96      0.92      0.94      2699\n",
      "           1       0.12      0.23      0.16       120\n",
      "\n",
      "    accuracy                           0.89      2819\n",
      "   macro avg       0.54      0.58      0.55      2819\n",
      "weighted avg       0.93      0.89      0.91      2819\n",
      "\n"
     ]
    }
   ],
   "source": [
    "threshold = 0.7\n",
    "\n",
    "train_pred_labels = np.where(np.array(rgprediction_train) > threshold, 0, 1)\n",
    "val_pred_labels = np.where(np.array(rgprediction) > threshold, 0, 1)\n",
    "\n",
    "print(classification_report(train_pred_labels, binary_rgtrain_y))\n",
    "print(classification_report(val_pred_labels, binary_rgval_y))"
   ]
  },
  {
   "cell_type": "code",
   "execution_count": null,
   "id": "c69b71e5",
   "metadata": {},
   "outputs": [],
   "source": []
  },
  {
   "cell_type": "code",
   "execution_count": null,
   "id": "bf80b537",
   "metadata": {},
   "outputs": [],
   "source": []
  },
  {
   "cell_type": "code",
   "execution_count": 52,
   "id": "d96089e2",
   "metadata": {
    "ExecuteTime": {
     "end_time": "2022-11-22T13:54:25.900926Z",
     "start_time": "2022-11-22T13:54:25.897811Z"
    }
   },
   "outputs": [],
   "source": [
    "from sklearn.metrics import mean_absolute_error, mean_squared_error, r2_score"
   ]
  },
  {
   "cell_type": "code",
   "execution_count": 53,
   "id": "faacb791",
   "metadata": {
    "ExecuteTime": {
     "end_time": "2022-11-22T13:54:26.363911Z",
     "start_time": "2022-11-22T13:54:25.902843Z"
    }
   },
   "outputs": [
    {
     "data": {
      "text/plain": [
       "<matplotlib.legend.Legend at 0x7efe331ebc40>"
      ]
     },
     "execution_count": 53,
     "metadata": {},
     "output_type": "execute_result"
    },
    {
     "data": {
      "image/png": "[encoded data removed]",
      "text/plain": [
       "<Figure size 720x720 with 1 Axes>"
      ]
     },
     "metadata": {
      "needs_background": "light"
     },
     "output_type": "display_data"
    }
   ],
   "source": [
    "plt.figure(figsize=(10,10))\n",
    "plt.plot(rgprediction, label='predict')\n",
    "plt.plot(rgval_y, label='real', alpha = 0.4)\n",
    "plt.legend()"
   ]
  },
  {
   "cell_type": "code",
   "execution_count": 54,
   "id": "7a379ffd",
   "metadata": {
    "ExecuteTime": {
     "end_time": "2022-11-22T13:54:26.370191Z",
     "start_time": "2022-11-22T13:54:26.365711Z"
    }
   },
   "outputs": [
    {
     "data": {
      "text/plain": [
       "0.13072643"
      ]
     },
     "execution_count": 54,
     "metadata": {},
     "output_type": "execute_result"
    }
   ],
   "source": [
    "mean_absolute_error(rgval_y,rgprediction)"
   ]
  },
  {
   "cell_type": "code",
   "execution_count": 55,
   "id": "2d5c1696",
   "metadata": {
    "ExecuteTime": {
     "end_time": "2022-11-22T13:54:26.379590Z",
     "start_time": "2022-11-22T13:54:26.371788Z"
    }
   },
   "outputs": [
    {
     "data": {
      "text/plain": [
       "0.06050741"
      ]
     },
     "execution_count": 55,
     "metadata": {},
     "output_type": "execute_result"
    }
   ],
   "source": [
    "mean_squared_error(rgval_y, rgprediction)"
   ]
  },
  {
   "cell_type": "code",
   "execution_count": 56,
   "id": "bea3f850",
   "metadata": {
    "ExecuteTime": {
     "end_time": "2022-11-22T13:54:26.386573Z",
     "start_time": "2022-11-22T13:54:26.381146Z"
    }
   },
   "outputs": [
    {
     "data": {
      "text/plain": [
       "-0.029371069745743217"
      ]
     },
     "execution_count": 56,
     "metadata": {},
     "output_type": "execute_result"
    }
   ],
   "source": [
    "r2_score(rgval_y, rgprediction)"
   ]
  },
  {
   "cell_type": "code",
   "execution_count": 57,
   "id": "52a5d679",
   "metadata": {
    "ExecuteTime": {
     "end_time": "2022-11-22T13:54:26.392767Z",
     "start_time": "2022-11-22T13:54:26.388429Z"
    }
   },
   "outputs": [
    {
     "data": {
      "text/plain": [
       "array([0.94795424, 0.85550624, 0.91972566, ..., 0.6582458 , 0.894226  ,\n",
       "       0.52380455], dtype=float32)"
      ]
     },
     "execution_count": 57,
     "metadata": {},
     "output_type": "execute_result"
    }
   ],
   "source": [
    "rgprediction"
   ]
  },
  {
   "cell_type": "code",
   "execution_count": 58,
   "id": "43dd6385",
   "metadata": {
    "ExecuteTime": {
     "end_time": "2022-11-22T13:54:33.018302Z",
     "start_time": "2022-11-22T13:54:32.941192Z"
    }
   },
   "outputs": [],
   "source": [
    "all_rg = rgmodel.predict(all_X[test_stage_features])"
   ]
  },
  {
   "cell_type": "code",
   "execution_count": 65,
   "id": "b7e8d052",
   "metadata": {
    "ExecuteTime": {
     "end_time": "2022-11-22T13:57:13.289096Z",
     "start_time": "2022-11-22T13:57:13.281217Z"
    }
   },
   "outputs": [
    {
     "data": {
      "text/plain": [
       "array([1.0390023 , 0.9478539 , 0.71581876, ..., 0.95231456, 0.94204885,\n",
       "       0.9827341 ], dtype=float32)"
      ]
     },
     "execution_count": 65,
     "metadata": {},
     "output_type": "execute_result"
    }
   ],
   "source": [
    "all_rg"
   ]
  },
  {
   "cell_type": "code",
   "execution_count": 66,
   "id": "1d8f95c1",
   "metadata": {
    "ExecuteTime": {
     "end_time": "2022-11-22T13:58:40.669438Z",
     "start_time": "2022-11-22T13:58:40.661532Z"
    }
   },
   "outputs": [
    {
     "data": {
      "text/plain": [
       "14095"
      ]
     },
     "execution_count": 66,
     "metadata": {},
     "output_type": "execute_result"
    }
   ],
   "source": [
    "len(all_rg)"
   ]
  },
  {
   "cell_type": "code",
   "execution_count": 67,
   "id": "63effe84",
   "metadata": {
    "ExecuteTime": {
     "end_time": "2022-11-22T13:58:48.194287Z",
     "start_time": "2022-11-22T13:58:48.186677Z"
    }
   },
   "outputs": [
    {
     "data": {
      "text/plain": [
       "14095"
      ]
     },
     "execution_count": 67,
     "metadata": {},
     "output_type": "execute_result"
    }
   ],
   "source": [
    "len(all_y)"
   ]
  },
  {
   "cell_type": "code",
   "execution_count": 72,
   "id": "e0948be1",
   "metadata": {
    "ExecuteTime": {
     "end_time": "2022-11-22T13:59:45.294565Z",
     "start_time": "2022-11-22T13:59:45.286286Z"
    }
   },
   "outputs": [
    {
     "data": {
      "text/plain": [
       "array([1.0390023 , 0.9478539 , 0.71581876, ..., 0.95231456, 0.94204885,\n",
       "       0.9827341 ], dtype=float32)"
      ]
     },
     "execution_count": 72,
     "metadata": {},
     "output_type": "execute_result"
    }
   ],
   "source": [
    "all_rg"
   ]
  },
  {
   "cell_type": "code",
   "execution_count": 71,
   "id": "5a03049b",
   "metadata": {
    "ExecuteTime": {
     "end_time": "2022-11-22T13:59:33.747388Z",
     "start_time": "2022-11-22T13:59:33.735555Z"
    }
   },
   "outputs": [
    {
     "data": {
      "text/plain": [
       "0        0\n",
       "1        0\n",
       "2        1\n",
       "3        0\n",
       "4        0\n",
       "        ..\n",
       "14090    0\n",
       "14091    0\n",
       "14092    0\n",
       "14093    0\n",
       "14094    0\n",
       "Name: Y_LABEL, Length: 14095, dtype: int64"
      ]
     },
     "execution_count": 71,
     "metadata": {},
     "output_type": "execute_result"
    }
   ],
   "source": [
    "all_y"
   ]
  },
  {
   "cell_type": "code",
   "execution_count": 91,
   "id": "e9b747ac",
   "metadata": {
    "ExecuteTime": {
     "end_time": "2022-11-22T14:09:33.843521Z",
     "start_time": "2022-11-22T14:09:33.837446Z"
    }
   },
   "outputs": [],
   "source": [
    "threshold = 0.4\n",
    "\n",
    "all_rg_labels = np.where(np.array(all_rg) > threshold, 0, 1)"
   ]
  },
  {
   "cell_type": "code",
   "execution_count": 92,
   "id": "1ffb6025",
   "metadata": {
    "ExecuteTime": {
     "end_time": "2022-11-22T14:09:34.435265Z",
     "start_time": "2022-11-22T14:09:34.400352Z"
    }
   },
   "outputs": [
    {
     "name": "stdout",
     "output_type": "stream",
     "text": [
      "              precision    recall  f1-score   support\n",
      "\n",
      "           0       1.00      0.93      0.96     13832\n",
      "           1       0.21      0.97      0.35       263\n",
      "\n",
      "    accuracy                           0.93     14095\n",
      "   macro avg       0.61      0.95      0.66     14095\n",
      "weighted avg       0.98      0.93      0.95     14095\n",
      "\n"
     ]
    }
   ],
   "source": [
    "print(classification_report(all_rg_labels, all_y))"
   ]
  },
  {
   "cell_type": "code",
   "execution_count": null,
   "id": "fafec452",
   "metadata": {},
   "outputs": [],
   "source": []
  }
 ],
 "metadata": {
  "kernelspec": {
   "display_name": "Python 3 (ipykernel)",
   "language": "python",
   "name": "python3"
  },
  "language_info": {
   "codemirror_mode": {
    "name": "ipython",
    "version": 3
   },
   "file_extension": ".py",
   "mimetype": "text/x-python",
   "name": "python",
   "nbconvert_exporter": "python",
   "pygments_lexer": "ipython3",
   "version": "3.8.10"
  },
  "toc": {
   "base_numbering": 1,
   "nav_menu": {},
   "number_sections": false,
   "sideBar": true,
   "skip_h1_title": false,
   "title_cell": "Table of Contents",
   "title_sidebar": "Contents",
   "toc_cell": false,
   "toc_position": {},
   "toc_section_display": true,
   "toc_window_display": false
  }
 },
 "nbformat": 4,
 "nbformat_minor": 5
}
