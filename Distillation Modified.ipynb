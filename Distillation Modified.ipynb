{
 "cells": [
  {
   "cell_type": "code",
   "execution_count": 1,
   "id": "14afd767",
   "metadata": {
    "ExecuteTime": {
     "end_time": "2022-11-15T06:16:52.173600Z",
     "start_time": "2022-11-15T06:16:51.479907Z"
    }
   },
   "outputs": [
    {
     "name": "stdout",
     "output_type": "stream",
     "text": [
      "Tue Nov 15 06:16:52 2022       \n",
      "+-----------------------------------------------------------------------------+\n",
      "| NVIDIA-SMI 460.27.04    Driver Version: 460.27.04    CUDA Version: 11.2     |\n",
      "|-------------------------------+----------------------+----------------------+\n",
      "| GPU  Name        Persistence-M| Bus-Id        Disp.A | Volatile Uncorr. ECC |\n",
      "| Fan  Temp  Perf  Pwr:Usage/Cap|         Memory-Usage | GPU-Util  Compute M. |\n",
      "|                               |                      |               MIG M. |\n",
      "|===============================+======================+======================|\n",
      "|   0  GeForce RTX 208...  Off  | 00000000:3B:00.0 Off |                  N/A |\n",
      "| 30%   26C    P8     2W / 250W |   9359MiB / 11019MiB |      0%      Default |\n",
      "|                               |                      |                  N/A |\n",
      "+-------------------------------+----------------------+----------------------+\n",
      "|   1  GeForce RTX 208...  Off  | 00000000:5E:00.0 Off |                  N/A |\n",
      "| 30%   23C    P8     1W / 250W |   4405MiB / 11019MiB |      0%      Default |\n",
      "|                               |                      |                  N/A |\n",
      "+-------------------------------+----------------------+----------------------+\n",
      "|   2  GeForce RTX 208...  Off  | 00000000:AF:00.0 Off |                  N/A |\n",
      "| 30%   25C    P8    20W / 250W |  10352MiB / 11019MiB |      0%      Default |\n",
      "|                               |                      |                  N/A |\n",
      "+-------------------------------+----------------------+----------------------+\n",
      "|   3  GeForce RTX 208...  Off  | 00000000:D8:00.0 Off |                  N/A |\n",
      "| 30%   26C    P8     3W / 250W |   3092MiB / 11019MiB |      0%      Default |\n",
      "|                               |                      |                  N/A |\n",
      "+-------------------------------+----------------------+----------------------+\n",
      "                                                                               \n",
      "+-----------------------------------------------------------------------------+\n",
      "| Processes:                                                                  |\n",
      "|  GPU   GI   CI        PID   Type   Process name                  GPU Memory |\n",
      "|        ID   ID                                                   Usage      |\n",
      "|=============================================================================|\n",
      "+-----------------------------------------------------------------------------+\n"
     ]
    }
   ],
   "source": [
    "!nvidia-smiA"
   ]
  },
  {
   "cell_type": "code",
   "execution_count": 2,
   "id": "c27e81dc",
   "metadata": {
    "ExecuteTime": {
     "end_time": "2022-11-15T06:16:52.188098Z",
     "start_time": "2022-11-15T06:16:52.181206Z"
    }
   },
   "outputs": [],
   "source": [
    "import os\n",
    "os.environ[\"CUDA_VISIBLE_DEVICES\"] = \"3\""
   ]
  },
  {
   "cell_type": "code",
   "execution_count": 3,
   "id": "dd0ce90d",
   "metadata": {
    "ExecuteTime": {
     "end_time": "2022-11-15T06:16:53.629876Z",
     "start_time": "2022-11-15T06:16:52.191973Z"
    }
   },
   "outputs": [
    {
     "name": "stdout",
     "output_type": "stream",
     "text": [
      "cuda\n",
      "1\n"
     ]
    }
   ],
   "source": [
    "import torch\n",
    "import torch.nn as nn\n",
    "import torch.nn.functional as F\n",
    "import torch.optim as optim\n",
    "from torch.utils.data import DataLoader, Dataset\n",
    "\n",
    "from sklearn.metrics import f1_score\n",
    "from sklearn.preprocessing import StandardScaler\n",
    "from sklearn.preprocessing import LabelEncoder\n",
    "from sklearn.model_selection import train_test_split\n",
    "\n",
    "import os\n",
    "import pandas as pd\n",
    "import numpy as np\n",
    "# from tqdm.auto import tqdm\n",
    "from tqdm import tqdm\n",
    "import random\n",
    "\n",
    "import warnings\n",
    "warnings.filterwarnings(action='ignore') \n",
    "\n",
    "device = torch.device('cuda') if torch.cuda.is_available() else torch.device('cpu')\n",
    "print(device)\n",
    "print(torch.cuda.device_count())"
   ]
  },
  {
   "cell_type": "code",
   "execution_count": 4,
   "id": "bf32f4ab",
   "metadata": {
    "ExecuteTime": {
     "end_time": "2022-11-15T06:16:53.636479Z",
     "start_time": "2022-11-15T06:16:53.632141Z"
    }
   },
   "outputs": [],
   "source": [
    "CONFIG = {\n",
    "    'EPOCHS': 300,\n",
    "    'LEARNING_RATE':1e-3,\n",
    "    'BATCH_SIZE':512,\n",
    "    'SEED':101\n",
    "}"
   ]
  },
  {
   "cell_type": "code",
   "execution_count": 5,
   "id": "86b0a274",
   "metadata": {
    "ExecuteTime": {
     "end_time": "2022-11-15T06:16:53.646409Z",
     "start_time": "2022-11-15T06:16:53.639062Z"
    }
   },
   "outputs": [],
   "source": [
    "def seed_everything(seed):\n",
    "    random.seed(seed)\n",
    "    os.environ['PYTHONHASHSEED'] = str(seed)\n",
    "    np.random.seed(seed)\n",
    "    torch.manual_seed(seed)\n",
    "    torch.cuda.manual_seed(seed)\n",
    "    torch.backends.cudnn.deterministic = True\n",
    "    torch.backends.cudnn.benchmark = True\n",
    "\n",
    "seed_everything(CONFIG['SEED'])"
   ]
  },
  {
   "cell_type": "code",
   "execution_count": 6,
   "id": "ec8637de",
   "metadata": {
    "ExecuteTime": {
     "end_time": "2022-11-15T06:16:53.743033Z",
     "start_time": "2022-11-15T06:16:53.648576Z"
    }
   },
   "outputs": [],
   "source": [
    "train = pd.read_csv('./train.csv')\n",
    "test = pd.read_csv('./test.csv')"
   ]
  },
  {
   "cell_type": "markdown",
   "id": "0c96e2d5",
   "metadata": {},
   "source": [
    "# Preprocessing"
   ]
  },
  {
   "cell_type": "code",
   "execution_count": 7,
   "id": "e92d1b60",
   "metadata": {
    "ExecuteTime": {
     "end_time": "2022-11-15T06:16:53.750257Z",
     "start_time": "2022-11-15T06:16:53.745566Z"
    }
   },
   "outputs": [],
   "source": [
    "categorical_features = ['COMPONENT_ARBITRARY', 'YEAR']\n",
    "# Inference(실제 진단 환경)에 사용하는 컬럼\n",
    "test_stage_features = ['COMPONENT_ARBITRARY', 'ANONYMOUS_1', 'YEAR' , 'ANONYMOUS_2', 'AG', 'CO', 'CR', 'CU', 'FE', 'H2O', 'MN', 'MO', 'NI', 'PQINDEX', 'TI', 'V', 'V40', 'ZN']"
   ]
  },
  {
   "cell_type": "code",
   "execution_count": 8,
   "id": "e52173a0",
   "metadata": {
    "ExecuteTime": {
     "end_time": "2022-11-15T06:16:53.771130Z",
     "start_time": "2022-11-15T06:16:53.754263Z"
    }
   },
   "outputs": [],
   "source": [
    "train = train.fillna(0)\n",
    "test = test.fillna(0)"
   ]
  },
  {
   "cell_type": "code",
   "execution_count": 9,
   "id": "05699d7e",
   "metadata": {
    "ExecuteTime": {
     "end_time": "2022-11-15T06:16:53.794936Z",
     "start_time": "2022-11-15T06:16:53.772789Z"
    }
   },
   "outputs": [],
   "source": [
    "all_X = train.drop(['ID', 'Y_LABEL'], axis = 1)\n",
    "all_y = train['Y_LABEL']\n",
    "\n",
    "test = test.drop(['ID'], axis = 1)\n",
    "\n",
    "train_X, val_X, train_y, val_y = train_test_split(all_X, all_y, test_size=0.2, random_state=CONFIG['SEED'], stratify=all_y)"
   ]
  },
  {
   "cell_type": "code",
   "execution_count": 10,
   "id": "abfa1f6d",
   "metadata": {
    "ExecuteTime": {
     "end_time": "2022-11-15T06:16:53.867731Z",
     "start_time": "2022-11-15T06:16:53.796956Z"
    }
   },
   "outputs": [],
   "source": [
    "# ---------------------------\n",
    "# Handling Numerical\n",
    "# ---------------------------\n",
    "def get_values(value):\n",
    "    return value.values.reshape(-1, 1)\n",
    "\n",
    "for col in train_X.columns:\n",
    "    if col not in categorical_features:\n",
    "        scaler = StandardScaler()\n",
    "        train_X[col] = scaler.fit_transform(get_values(train_X[col]))\n",
    "        val_X[col] = scaler.transform(get_values(val_X[col]))\n",
    "        if col in test.columns:\n",
    "            test[col] = scaler.transform(get_values(test[col]))\n",
    "            \n",
    "            \n",
    "# ---------------------------\n",
    "# Handling Categorical\n",
    "# ---------------------------\n",
    "le = LabelEncoder()\n",
    "for col in categorical_features:    \n",
    "    train_X[col] = le.fit_transform(train_X[col])\n",
    "    val_X[col] = le.transform(val_X[col])\n",
    "    if col in test.columns:\n",
    "        test[col] = le.transform(test[col])"
   ]
  },
  {
   "cell_type": "markdown",
   "id": "946e118a",
   "metadata": {},
   "source": [
    "# Large Model (teacher)"
   ]
  },
  {
   "cell_type": "code",
   "execution_count": 11,
   "id": "36e91db2",
   "metadata": {
    "ExecuteTime": {
     "end_time": "2022-11-15T06:16:53.878754Z",
     "start_time": "2022-11-15T06:16:53.869819Z"
    }
   },
   "outputs": [],
   "source": [
    "# ---------------------------\n",
    "# Custom Dataset\n",
    "# ---------------------------\n",
    "class CustomDataset(Dataset):\n",
    "    def __init__(self, data_X, data_y, distillation=False):\n",
    "        super(CustomDataset, self).__init__()\n",
    "        self.data_X = data_X\n",
    "        self.data_y = data_y\n",
    "        self.distillation = distillation\n",
    "        \n",
    "    def __len__(self):\n",
    "        return len(self.data_X)\n",
    "    \n",
    "    def __getitem__(self, index):\n",
    "        if self.distillation:\n",
    "            #------------------------------------\n",
    "            # When Learing with distillation\n",
    "            #------------------------------------\n",
    "            teacher_X = torch.Tensor(self.data_X.iloc[index])\n",
    "            student_X = torch.Tensor(self.data_X[test_stage_features].iloc[index])\n",
    "            label_y   = torch.Tensor([self.data_y.iloc[index]])\n",
    "            return teacher_X.to(device), \\\n",
    "                   student_X.to(device), \\\n",
    "                   label_y.to(device)\n",
    "        else:\n",
    "            #------------------------------------\n",
    "            # When Learing with Normal Data\n",
    "            #------------------------------------\n",
    "            if self.data_y is None: # for submission dataset\n",
    "                test_X = torch.Tensor(self.data_X.iloc[index])\n",
    "                return test_X.to(device)\n",
    "            \n",
    "            else:\n",
    "                teacher_X = torch.Tensor(self.data_X.iloc[index])\n",
    "                label_y   = torch.Tensor([self.data_y.iloc[index]])\n",
    "                return teacher_X.to(device), \\\n",
    "                       label_y.to(device)"
   ]
  },
  {
   "cell_type": "code",
   "execution_count": 12,
   "id": "dc35ef37",
   "metadata": {
    "ExecuteTime": {
     "end_time": "2022-11-15T06:16:53.893270Z",
     "start_time": "2022-11-15T06:16:53.880382Z"
    }
   },
   "outputs": [],
   "source": [
    "# ---------------------------\n",
    "# Dataset for Teacher Model\n",
    "# ---------------------------\n",
    "train_dataset = CustomDataset(train_X, train_y, False)\n",
    "val_dataset = CustomDataset(val_X, val_y, False)\n",
    "\n",
    "# ---------------------------\n",
    "# Dataloader for Teacher Model\n",
    "# ---------------------------\n",
    "train_loader = DataLoader(train_dataset, batch_size = CONFIG['BATCH_SIZE'], shuffle=True)\n",
    "val_loader   = DataLoader(val_dataset, batch_size = CONFIG['BATCH_SIZE'], shuffle=False)"
   ]
  },
  {
   "cell_type": "code",
   "execution_count": 13,
   "id": "e27d27a0",
   "metadata": {
    "ExecuteTime": {
     "end_time": "2022-11-15T06:17:01.847872Z",
     "start_time": "2022-11-15T06:16:53.895283Z"
    }
   },
   "outputs": [
    {
     "data": {
      "text/plain": [
       "(tensor([ 2.0000e+00, -3.9926e-01,  7.0000e+00,  3.3202e-02, -3.4073e-01,\n",
       "         -1.5054e-01, -8.0990e-02,  9.7940e-01, -3.0781e-01, -4.2608e-02,\n",
       "          1.5444e+00, -6.5092e-02, -8.5028e-02,  5.2004e-02, -2.0129e-01,\n",
       "         -3.6416e-01, -5.8966e-01, -3.6463e-01, -5.8662e-01, -6.0484e-01,\n",
       "         -6.0634e-01,  1.8625e-01, -1.0570e-01, -3.9884e-02, -3.4690e-03,\n",
       "         -1.0803e-01, -1.9039e-01,  7.8440e-01, -3.0012e-01,  1.4040e+00,\n",
       "         -1.8458e-01,  5.3503e-01, -1.5001e-01, -7.4769e-02, -1.2426e-01,\n",
       "         -1.7229e-01, -2.8641e-02, -2.3638e-01, -3.8338e-01, -1.0043e-01,\n",
       "         -7.6385e-02, -9.9691e-02, -7.2717e-02, -1.2111e-01, -1.2131e-01,\n",
       "         -1.3697e-01, -1.5457e-01, -1.9158e-01, -1.1032e-01, -5.9492e-01,\n",
       "         -7.4579e-01,  1.4160e+00], device='cuda:0'),\n",
       " tensor([0.], device='cuda:0'))"
      ]
     },
     "execution_count": 13,
     "metadata": {},
     "output_type": "execute_result"
    }
   ],
   "source": [
    "val_dataset[0]"
   ]
  },
  {
   "cell_type": "code",
   "execution_count": 14,
   "id": "8ae7407b",
   "metadata": {
    "ExecuteTime": {
     "end_time": "2022-11-15T06:17:01.872513Z",
     "start_time": "2022-11-15T06:17:01.853101Z"
    }
   },
   "outputs": [],
   "source": [
    "# ---------------------------\n",
    "# Teacher Model\n",
    "# ---------------------------\n",
    "class Teacher(nn.Module):\n",
    "    def __init__(self):\n",
    "        super(Teacher, self).__init__()\n",
    "        self.classifier = nn.Sequential(\n",
    "            nn.Linear(in_features=52, out_features=256),\n",
    "            nn.BatchNorm1d(256),\n",
    "            nn.LeakyReLU(),\n",
    "            nn.Linear(in_features=256, out_features=512),\n",
    "            nn.BatchNorm1d(512),\n",
    "            nn.LeakyReLU(),\n",
    "            nn.Linear(in_features=512, out_features=1024),\n",
    "            nn.BatchNorm1d(1024),\n",
    "            nn.LeakyReLU(),\n",
    "            nn.Linear(in_features=1024, out_features=1024),\n",
    "            nn.BatchNorm1d(1024),\n",
    "            nn.LeakyReLU(),\n",
    "            nn.Linear(in_features=1024, out_features=512),\n",
    "            nn.BatchNorm1d(512),\n",
    "            nn.LeakyReLU(),\n",
    "            nn.Linear(in_features=512, out_features=256),\n",
    "            nn.BatchNorm1d(256),\n",
    "            nn.LeakyReLU(),\n",
    "            nn.Linear(in_features=256, out_features=1),\n",
    "            nn.Sigmoid()\n",
    "        )\n",
    "        \n",
    "    def forward(self, x):\n",
    "        output = self.classifier(x)\n",
    "        return output"
   ]
  },
  {
   "cell_type": "code",
   "execution_count": 15,
   "id": "b68189ee",
   "metadata": {
    "ExecuteTime": {
     "end_time": "2022-11-15T06:17:01.892809Z",
     "start_time": "2022-11-15T06:17:01.875652Z"
    }
   },
   "outputs": [],
   "source": [
    "#--------------------------------------------------------------------------------\n",
    "# Metrics\n",
    "#--------------------------------------------------------------------------------\n",
    "def competition_metric(true, pred):\n",
    "    return f1_score(true, pred, average=\"macro\")\n",
    "\n",
    "\n",
    "#--------------------------------------------------------------------------------\n",
    "# Training Teacher\n",
    "#--------------------------------------------------------------------------------\n",
    "def teacher_train(model, optimizer, train_loader, val_loader, scheduler):\n",
    "    model.to(device)\n",
    "\n",
    "    best_score = 0\n",
    "    best_model = None\n",
    "    criterion = nn.BCELoss().to(device)\n",
    "\n",
    "    for epoch in range(CONFIG[\"EPOCHS\"]):\n",
    "        train_loss = []\n",
    "        \n",
    "        # ACTIVATE TRAINING MODE\n",
    "        # --- normalisation layers1 use per-batch statistics\n",
    "        # --- activates Dropout layers2\n",
    "        model.train()\n",
    "    \n",
    "        for i,(X, y) in tqdm(enumerate(train_loader)):\n",
    "            \n",
    "            # ZERO GRADIENT\n",
    "            optimizer.zero_grad()\n",
    "            \n",
    "            # FORWARD\n",
    "            y_pred = model(X)\n",
    "            loss = criterion(y_pred, y)\n",
    "            \n",
    "            # BACKWARD\n",
    "            loss.backward()\n",
    "            \n",
    "            # UPDATE\n",
    "            optimizer.step()\n",
    "\n",
    "            train_loss.append(loss.item())\n",
    "\n",
    "        val_loss, val_score = validation_teacher(model, val_loader, criterion)\n",
    "        print(f'Epoch [{epoch}], Train Loss : [{np.mean(train_loss) :.5f}] Val Loss : [{np.mean(val_loss) :.5f}] Val F1 Score : [{val_score:.5f}]')\n",
    "\n",
    "        if scheduler is not None:\n",
    "            scheduler.step(val_score)\n",
    "            \n",
    "        if best_score < val_score:\n",
    "            best_model = model\n",
    "            best_score = val_score\n",
    "        \n",
    "    return best_model \n",
    "\n",
    "\n",
    "#--------------------------------------------------------------------------------\n",
    "# Validation Teacher\n",
    "#--------------------------------------------------------------------------------\n",
    "def validation_teacher(model, val_loader, criterion):\n",
    "    # ACTIVATE EVALUATION MODE\n",
    "    # --- normalisation layers use running statistics\n",
    "    # --- de-activates Dropout layers\n",
    "    model.eval()\n",
    "\n",
    "    val_loss = []\n",
    "    pred_labels = []\n",
    "    true_labels = []\n",
    "    threshold = 0.5\n",
    "    \n",
    "    with torch.no_grad():\n",
    "        for i,(X, y) in tqdm(enumerate(val_loader)):\n",
    "            \n",
    "            model_pred = model(X)\n",
    "            \n",
    "            loss = criterion(model_pred,y)\n",
    "            val_loss.append(loss.item())      \n",
    "            \n",
    "            model_pred = model_pred.squeeze(1)#.to('cpu')  \n",
    "            pred_labels += model_pred.tolist()\n",
    "            true_labels += y.tolist()\n",
    "        \n",
    "        pred_labels = np.where(np.array(pred_labels) > threshold, 1, 0)\n",
    "        val_f1 = competition_metric(true_labels, pred_labels)\n",
    "    return val_loss, val_f1"
   ]
  },
  {
   "cell_type": "code",
   "execution_count": 16,
   "id": "78be68be",
   "metadata": {
    "ExecuteTime": {
     "end_time": "2022-11-15T06:40:26.667320Z",
     "start_time": "2022-11-15T06:17:01.894693Z"
    }
   },
   "outputs": [
    {
     "name": "stderr",
     "output_type": "stream",
     "text": [
      "23it [00:03,  5.97it/s]\n",
      "6it [00:00,  6.57it/s]\n"
     ]
    },
    {
     "name": "stdout",
     "output_type": "stream",
     "text": [
      "Epoch [0], Train Loss : [0.30682] Val Loss : [0.21449] Val F1 Score : [0.77588]\n"
     ]
    },
    {
     "name": "stderr",
     "output_type": "stream",
     "text": [
      "23it [00:03,  6.05it/s]\n",
      "6it [00:00,  6.06it/s]\n"
     ]
    },
    {
     "name": "stdout",
     "output_type": "stream",
     "text": [
      "Epoch [1], Train Loss : [0.19598] Val Loss : [0.19544] Val F1 Score : [0.77880]\n"
     ]
    },
    {
     "name": "stderr",
     "output_type": "stream",
     "text": [
      "23it [00:03,  6.08it/s]\n",
      "6it [00:00,  6.64it/s]\n"
     ]
    },
    {
     "name": "stdout",
     "output_type": "stream",
     "text": [
      "Epoch [2], Train Loss : [0.18972] Val Loss : [0.18982] Val F1 Score : [0.77458]\n"
     ]
    },
    {
     "name": "stderr",
     "output_type": "stream",
     "text": [
      "23it [00:03,  6.05it/s]\n",
      "6it [00:00,  6.63it/s]\n"
     ]
    },
    {
     "name": "stdout",
     "output_type": "stream",
     "text": [
      "Epoch [3], Train Loss : [0.18815] Val Loss : [0.19351] Val F1 Score : [0.77749]\n"
     ]
    },
    {
     "name": "stderr",
     "output_type": "stream",
     "text": [
      "23it [00:03,  6.02it/s]\n",
      "6it [00:00,  6.52it/s]\n"
     ]
    },
    {
     "name": "stdout",
     "output_type": "stream",
     "text": [
      "Epoch [4], Train Loss : [0.16867] Val Loss : [0.19390] Val F1 Score : [0.78205]\n"
     ]
    },
    {
     "name": "stderr",
     "output_type": "stream",
     "text": [
      "23it [00:03,  6.07it/s]\n",
      "6it [00:00,  6.57it/s]\n"
     ]
    },
    {
     "name": "stdout",
     "output_type": "stream",
     "text": [
      "Epoch [5], Train Loss : [0.18258] Val Loss : [0.21009] Val F1 Score : [0.77421]\n"
     ]
    },
    {
     "name": "stderr",
     "output_type": "stream",
     "text": [
      "23it [00:03,  6.04it/s]\n",
      "6it [00:00,  6.57it/s]\n"
     ]
    },
    {
     "name": "stdout",
     "output_type": "stream",
     "text": [
      "Epoch [6], Train Loss : [0.16570] Val Loss : [0.17310] Val F1 Score : [0.79121]\n"
     ]
    },
    {
     "name": "stderr",
     "output_type": "stream",
     "text": [
      "23it [00:03,  6.12it/s]\n",
      "6it [00:00,  6.58it/s]\n"
     ]
    },
    {
     "name": "stdout",
     "output_type": "stream",
     "text": [
      "Epoch [7], Train Loss : [0.16338] Val Loss : [0.18617] Val F1 Score : [0.77973]\n"
     ]
    },
    {
     "name": "stderr",
     "output_type": "stream",
     "text": [
      "23it [00:03,  5.93it/s]\n",
      "6it [00:00,  6.56it/s]\n"
     ]
    },
    {
     "name": "stdout",
     "output_type": "stream",
     "text": [
      "Epoch [8], Train Loss : [0.17224] Val Loss : [0.17599] Val F1 Score : [0.78247]\n"
     ]
    },
    {
     "name": "stderr",
     "output_type": "stream",
     "text": [
      "23it [00:03,  6.08it/s]\n",
      "6it [00:00,  6.62it/s]\n"
     ]
    },
    {
     "name": "stdout",
     "output_type": "stream",
     "text": [
      "Epoch [9], Train Loss : [0.16372] Val Loss : [0.18385] Val F1 Score : [0.79107]\n"
     ]
    },
    {
     "name": "stderr",
     "output_type": "stream",
     "text": [
      "23it [00:03,  6.08it/s]\n",
      "6it [00:00,  6.56it/s]\n"
     ]
    },
    {
     "name": "stdout",
     "output_type": "stream",
     "text": [
      "Epoch [10], Train Loss : [0.15343] Val Loss : [0.19101] Val F1 Score : [0.79011]\n"
     ]
    },
    {
     "name": "stderr",
     "output_type": "stream",
     "text": [
      "23it [00:03,  6.07it/s]\n",
      "6it [00:00,  6.68it/s]\n"
     ]
    },
    {
     "name": "stdout",
     "output_type": "stream",
     "text": [
      "Epoch [11], Train Loss : [0.15318] Val Loss : [0.18063] Val F1 Score : [0.79463]\n"
     ]
    },
    {
     "name": "stderr",
     "output_type": "stream",
     "text": [
      "23it [00:03,  6.05it/s]\n",
      "6it [00:00,  6.69it/s]\n"
     ]
    },
    {
     "name": "stdout",
     "output_type": "stream",
     "text": [
      "Epoch [12], Train Loss : [0.15690] Val Loss : [0.17875] Val F1 Score : [0.79659]\n"
     ]
    },
    {
     "name": "stderr",
     "output_type": "stream",
     "text": [
      "23it [00:03,  6.06it/s]\n",
      "6it [00:00,  6.61it/s]\n"
     ]
    },
    {
     "name": "stdout",
     "output_type": "stream",
     "text": [
      "Epoch [13], Train Loss : [0.16744] Val Loss : [0.17277] Val F1 Score : [0.79027]\n"
     ]
    },
    {
     "name": "stderr",
     "output_type": "stream",
     "text": [
      "23it [00:03,  6.06it/s]\n",
      "6it [00:00,  6.67it/s]\n"
     ]
    },
    {
     "name": "stdout",
     "output_type": "stream",
     "text": [
      "Epoch [14], Train Loss : [0.14257] Val Loss : [0.16927] Val F1 Score : [0.79289]\n"
     ]
    },
    {
     "name": "stderr",
     "output_type": "stream",
     "text": [
      "23it [00:03,  5.90it/s]\n",
      "6it [00:00,  6.36it/s]\n"
     ]
    },
    {
     "name": "stdout",
     "output_type": "stream",
     "text": [
      "Epoch [15], Train Loss : [0.15103] Val Loss : [0.18677] Val F1 Score : [0.78349]\n"
     ]
    },
    {
     "name": "stderr",
     "output_type": "stream",
     "text": [
      "23it [00:03,  5.93it/s]\n",
      "6it [00:00,  6.61it/s]\n"
     ]
    },
    {
     "name": "stdout",
     "output_type": "stream",
     "text": [
      "Epoch [16], Train Loss : [0.15055] Val Loss : [0.17628] Val F1 Score : [0.79667]\n"
     ]
    },
    {
     "name": "stderr",
     "output_type": "stream",
     "text": [
      "23it [00:03,  6.06it/s]\n",
      "6it [00:00,  6.56it/s]\n"
     ]
    },
    {
     "name": "stdout",
     "output_type": "stream",
     "text": [
      "Epoch [17], Train Loss : [0.13028] Val Loss : [0.17711] Val F1 Score : [0.79336]\n"
     ]
    },
    {
     "name": "stderr",
     "output_type": "stream",
     "text": [
      "23it [00:03,  6.09it/s]\n",
      "6it [00:00,  6.65it/s]\n"
     ]
    },
    {
     "name": "stdout",
     "output_type": "stream",
     "text": [
      "Epoch [18], Train Loss : [0.13008] Val Loss : [0.18292] Val F1 Score : [0.79022]\n"
     ]
    },
    {
     "name": "stderr",
     "output_type": "stream",
     "text": [
      "23it [00:03,  6.12it/s]\n",
      "6it [00:00,  6.68it/s]\n"
     ]
    },
    {
     "name": "stdout",
     "output_type": "stream",
     "text": [
      "Epoch [19], Train Loss : [0.13929] Val Loss : [0.18572] Val F1 Score : [0.79252]\n"
     ]
    },
    {
     "name": "stderr",
     "output_type": "stream",
     "text": [
      "23it [00:03,  6.15it/s]\n",
      "6it [00:00,  6.65it/s]\n"
     ]
    },
    {
     "name": "stdout",
     "output_type": "stream",
     "text": [
      "Epoch [20], Train Loss : [0.15330] Val Loss : [0.19241] Val F1 Score : [0.78272]\n"
     ]
    },
    {
     "name": "stderr",
     "output_type": "stream",
     "text": [
      "23it [00:03,  6.11it/s]\n",
      "6it [00:00,  6.65it/s]\n"
     ]
    },
    {
     "name": "stdout",
     "output_type": "stream",
     "text": [
      "Epoch [21], Train Loss : [0.15554] Val Loss : [0.18106] Val F1 Score : [0.79667]\n"
     ]
    },
    {
     "name": "stderr",
     "output_type": "stream",
     "text": [
      "23it [00:03,  5.94it/s]\n",
      "6it [00:00,  6.59it/s]\n"
     ]
    },
    {
     "name": "stdout",
     "output_type": "stream",
     "text": [
      "Epoch [22], Train Loss : [0.13612] Val Loss : [0.18034] Val F1 Score : [0.79127]\n"
     ]
    },
    {
     "name": "stderr",
     "output_type": "stream",
     "text": [
      "23it [00:03,  6.12it/s]\n",
      "6it [00:00,  6.61it/s]\n"
     ]
    },
    {
     "name": "stdout",
     "output_type": "stream",
     "text": [
      "Epoch [23], Train Loss : [0.14070] Val Loss : [0.18433] Val F1 Score : [0.78877]\n",
      "Epoch    24: reducing learning rate of group 0 to 5.0000e-04.\n"
     ]
    },
    {
     "name": "stderr",
     "output_type": "stream",
     "text": [
      "23it [00:03,  6.10it/s]\n",
      "6it [00:00,  6.59it/s]\n"
     ]
    },
    {
     "name": "stdout",
     "output_type": "stream",
     "text": [
      "Epoch [24], Train Loss : [0.13493] Val Loss : [0.17362] Val F1 Score : [0.78850]\n"
     ]
    },
    {
     "name": "stderr",
     "output_type": "stream",
     "text": [
      "23it [00:03,  6.04it/s]\n",
      "6it [00:00,  6.63it/s]\n"
     ]
    },
    {
     "name": "stdout",
     "output_type": "stream",
     "text": [
      "Epoch [25], Train Loss : [0.12508] Val Loss : [0.18673] Val F1 Score : [0.79003]\n"
     ]
    },
    {
     "name": "stderr",
     "output_type": "stream",
     "text": [
      "23it [00:03,  6.04it/s]\n",
      "6it [00:00,  6.64it/s]\n"
     ]
    },
    {
     "name": "stdout",
     "output_type": "stream",
     "text": [
      "Epoch [26], Train Loss : [0.11520] Val Loss : [0.18142] Val F1 Score : [0.78748]\n"
     ]
    },
    {
     "name": "stderr",
     "output_type": "stream",
     "text": [
      "23it [00:03,  6.12it/s]\n",
      "6it [00:00,  6.64it/s]\n"
     ]
    },
    {
     "name": "stdout",
     "output_type": "stream",
     "text": [
      "Epoch [27], Train Loss : [0.12031] Val Loss : [0.17996] Val F1 Score : [0.79518]\n"
     ]
    },
    {
     "name": "stderr",
     "output_type": "stream",
     "text": [
      "23it [00:03,  6.08it/s]\n",
      "6it [00:00,  6.74it/s]\n"
     ]
    },
    {
     "name": "stdout",
     "output_type": "stream",
     "text": [
      "Epoch [28], Train Loss : [0.11404] Val Loss : [0.18524] Val F1 Score : [0.79261]\n"
     ]
    },
    {
     "name": "stderr",
     "output_type": "stream",
     "text": [
      "23it [00:03,  6.00it/s]\n",
      "6it [00:00,  6.76it/s]\n"
     ]
    },
    {
     "name": "stdout",
     "output_type": "stream",
     "text": [
      "Epoch [29], Train Loss : [0.10606] Val Loss : [0.18743] Val F1 Score : [0.79598]\n"
     ]
    },
    {
     "name": "stderr",
     "output_type": "stream",
     "text": [
      "23it [00:03,  6.13it/s]\n",
      "6it [00:00,  6.75it/s]\n"
     ]
    },
    {
     "name": "stdout",
     "output_type": "stream",
     "text": [
      "Epoch [30], Train Loss : [0.10164] Val Loss : [0.18741] Val F1 Score : [0.80265]\n"
     ]
    },
    {
     "name": "stderr",
     "output_type": "stream",
     "text": [
      "23it [00:03,  6.06it/s]\n",
      "6it [00:00,  6.61it/s]\n"
     ]
    },
    {
     "name": "stdout",
     "output_type": "stream",
     "text": [
      "Epoch [31], Train Loss : [0.09741] Val Loss : [0.19521] Val F1 Score : [0.79462]\n"
     ]
    },
    {
     "name": "stderr",
     "output_type": "stream",
     "text": [
      "23it [00:03,  6.08it/s]\n",
      "6it [00:00,  6.57it/s]\n"
     ]
    },
    {
     "name": "stdout",
     "output_type": "stream",
     "text": [
      "Epoch [32], Train Loss : [0.09540] Val Loss : [0.18983] Val F1 Score : [0.80257]\n"
     ]
    },
    {
     "name": "stderr",
     "output_type": "stream",
     "text": [
      "23it [00:03,  6.11it/s]\n",
      "6it [00:00,  6.72it/s]\n"
     ]
    },
    {
     "name": "stdout",
     "output_type": "stream",
     "text": [
      "Epoch [33], Train Loss : [0.11630] Val Loss : [0.19876] Val F1 Score : [0.78902]\n"
     ]
    },
    {
     "name": "stderr",
     "output_type": "stream",
     "text": [
      "23it [00:03,  6.11it/s]\n",
      "6it [00:00,  6.69it/s]\n"
     ]
    },
    {
     "name": "stdout",
     "output_type": "stream",
     "text": [
      "Epoch [34], Train Loss : [0.09889] Val Loss : [0.20601] Val F1 Score : [0.77806]\n"
     ]
    },
    {
     "name": "stderr",
     "output_type": "stream",
     "text": [
      "23it [00:03,  6.06it/s]\n",
      "6it [00:00,  6.74it/s]\n"
     ]
    },
    {
     "name": "stdout",
     "output_type": "stream",
     "text": [
      "Epoch [35], Train Loss : [0.09769] Val Loss : [0.21354] Val F1 Score : [0.78600]\n"
     ]
    },
    {
     "name": "stderr",
     "output_type": "stream",
     "text": [
      "23it [00:03,  5.92it/s]\n",
      "6it [00:00,  6.28it/s]\n"
     ]
    },
    {
     "name": "stdout",
     "output_type": "stream",
     "text": [
      "Epoch [36], Train Loss : [0.09736] Val Loss : [0.19828] Val F1 Score : [0.80346]\n"
     ]
    },
    {
     "name": "stderr",
     "output_type": "stream",
     "text": [
      "23it [00:03,  5.89it/s]\n",
      "6it [00:00,  6.43it/s]\n"
     ]
    },
    {
     "name": "stdout",
     "output_type": "stream",
     "text": [
      "Epoch [37], Train Loss : [0.09605] Val Loss : [0.21796] Val F1 Score : [0.78133]\n"
     ]
    },
    {
     "name": "stderr",
     "output_type": "stream",
     "text": [
      "23it [00:03,  6.09it/s]\n",
      "6it [00:00,  6.65it/s]\n"
     ]
    },
    {
     "name": "stdout",
     "output_type": "stream",
     "text": [
      "Epoch [38], Train Loss : [0.10750] Val Loss : [0.22273] Val F1 Score : [0.77797]\n"
     ]
    },
    {
     "name": "stderr",
     "output_type": "stream",
     "text": [
      "23it [00:03,  6.05it/s]\n",
      "6it [00:00,  6.60it/s]\n"
     ]
    },
    {
     "name": "stdout",
     "output_type": "stream",
     "text": [
      "Epoch [39], Train Loss : [0.12014] Val Loss : [0.19910] Val F1 Score : [0.79289]\n"
     ]
    },
    {
     "name": "stderr",
     "output_type": "stream",
     "text": [
      "23it [00:03,  6.10it/s]\n",
      "6it [00:00,  6.61it/s]\n"
     ]
    },
    {
     "name": "stdout",
     "output_type": "stream",
     "text": [
      "Epoch [40], Train Loss : [0.12541] Val Loss : [0.18921] Val F1 Score : [0.79976]\n"
     ]
    },
    {
     "name": "stderr",
     "output_type": "stream",
     "text": [
      "23it [00:03,  6.09it/s]\n",
      "6it [00:00,  6.64it/s]\n"
     ]
    },
    {
     "name": "stdout",
     "output_type": "stream",
     "text": [
      "Epoch [41], Train Loss : [0.10625] Val Loss : [0.19845] Val F1 Score : [0.79242]\n"
     ]
    },
    {
     "name": "stderr",
     "output_type": "stream",
     "text": [
      "23it [00:03,  6.09it/s]\n",
      "6it [00:00,  6.59it/s]\n"
     ]
    },
    {
     "name": "stdout",
     "output_type": "stream",
     "text": [
      "Epoch [42], Train Loss : [0.13246] Val Loss : [0.18750] Val F1 Score : [0.79675]\n"
     ]
    },
    {
     "name": "stderr",
     "output_type": "stream",
     "text": [
      "23it [00:03,  5.94it/s]\n",
      "6it [00:00,  6.64it/s]\n"
     ]
    },
    {
     "name": "stdout",
     "output_type": "stream",
     "text": [
      "Epoch [43], Train Loss : [0.14023] Val Loss : [0.20030] Val F1 Score : [0.79358]\n"
     ]
    },
    {
     "name": "stderr",
     "output_type": "stream",
     "text": [
      "23it [00:03,  6.11it/s]\n",
      "6it [00:00,  6.65it/s]\n"
     ]
    },
    {
     "name": "stdout",
     "output_type": "stream",
     "text": [
      "Epoch [44], Train Loss : [0.13692] Val Loss : [0.17947] Val F1 Score : [0.80429]\n"
     ]
    },
    {
     "name": "stderr",
     "output_type": "stream",
     "text": [
      "23it [00:03,  6.10it/s]\n",
      "6it [00:00,  6.60it/s]\n"
     ]
    },
    {
     "name": "stdout",
     "output_type": "stream",
     "text": [
      "Epoch [45], Train Loss : [0.11776] Val Loss : [0.18293] Val F1 Score : [0.79193]\n"
     ]
    },
    {
     "name": "stderr",
     "output_type": "stream",
     "text": [
      "23it [00:03,  6.04it/s]\n",
      "6it [00:00,  6.60it/s]\n"
     ]
    },
    {
     "name": "stdout",
     "output_type": "stream",
     "text": [
      "Epoch [46], Train Loss : [0.11095] Val Loss : [0.20080] Val F1 Score : [0.78307]\n"
     ]
    },
    {
     "name": "stderr",
     "output_type": "stream",
     "text": [
      "23it [00:03,  6.07it/s]\n",
      "6it [00:00,  6.76it/s]\n"
     ]
    },
    {
     "name": "stdout",
     "output_type": "stream",
     "text": [
      "Epoch [47], Train Loss : [0.11979] Val Loss : [0.18877] Val F1 Score : [0.79741]\n"
     ]
    },
    {
     "name": "stderr",
     "output_type": "stream",
     "text": [
      "23it [00:03,  6.14it/s]\n",
      "6it [00:00,  6.73it/s]\n"
     ]
    },
    {
     "name": "stdout",
     "output_type": "stream",
     "text": [
      "Epoch [48], Train Loss : [0.10720] Val Loss : [0.17914] Val F1 Score : [0.79880]\n"
     ]
    },
    {
     "name": "stderr",
     "output_type": "stream",
     "text": [
      "23it [00:03,  6.09it/s]\n",
      "6it [00:00,  6.76it/s]\n"
     ]
    },
    {
     "name": "stdout",
     "output_type": "stream",
     "text": [
      "Epoch [49], Train Loss : [0.11682] Val Loss : [0.19372] Val F1 Score : [0.79718]\n"
     ]
    },
    {
     "name": "stderr",
     "output_type": "stream",
     "text": [
      "23it [00:03,  5.93it/s]\n",
      "6it [00:00,  6.76it/s]\n"
     ]
    },
    {
     "name": "stdout",
     "output_type": "stream",
     "text": [
      "Epoch [50], Train Loss : [0.10233] Val Loss : [0.18298] Val F1 Score : [0.80067]\n"
     ]
    },
    {
     "name": "stderr",
     "output_type": "stream",
     "text": [
      "23it [00:03,  6.12it/s]\n",
      "6it [00:00,  6.80it/s]\n"
     ]
    },
    {
     "name": "stdout",
     "output_type": "stream",
     "text": [
      "Epoch [51], Train Loss : [0.08634] Val Loss : [0.18915] Val F1 Score : [0.79542]\n"
     ]
    },
    {
     "name": "stderr",
     "output_type": "stream",
     "text": [
      "23it [00:03,  6.11it/s]\n",
      "6it [00:00,  6.76it/s]\n"
     ]
    },
    {
     "name": "stdout",
     "output_type": "stream",
     "text": [
      "Epoch [52], Train Loss : [0.08401] Val Loss : [0.20197] Val F1 Score : [0.78228]\n"
     ]
    },
    {
     "name": "stderr",
     "output_type": "stream",
     "text": [
      "23it [00:03,  6.15it/s]\n",
      "6it [00:00,  6.79it/s]\n"
     ]
    },
    {
     "name": "stdout",
     "output_type": "stream",
     "text": [
      "Epoch [53], Train Loss : [0.08546] Val Loss : [0.23984] Val F1 Score : [0.74496]\n"
     ]
    },
    {
     "name": "stderr",
     "output_type": "stream",
     "text": [
      "23it [00:03,  6.14it/s]\n",
      "6it [00:00,  6.82it/s]\n"
     ]
    },
    {
     "name": "stdout",
     "output_type": "stream",
     "text": [
      "Epoch [54], Train Loss : [0.08870] Val Loss : [0.21845] Val F1 Score : [0.77013]\n"
     ]
    },
    {
     "name": "stderr",
     "output_type": "stream",
     "text": [
      "23it [00:03,  6.15it/s]\n",
      "6it [00:00,  6.80it/s]\n"
     ]
    },
    {
     "name": "stdout",
     "output_type": "stream",
     "text": [
      "Epoch [55], Train Loss : [0.10135] Val Loss : [0.21562] Val F1 Score : [0.78800]\n",
      "Epoch    56: reducing learning rate of group 0 to 2.5000e-04.\n"
     ]
    },
    {
     "name": "stderr",
     "output_type": "stream",
     "text": [
      "23it [00:03,  6.19it/s]\n",
      "6it [00:00,  6.84it/s]\n"
     ]
    },
    {
     "name": "stdout",
     "output_type": "stream",
     "text": [
      "Epoch [56], Train Loss : [0.09267] Val Loss : [0.19732] Val F1 Score : [0.79823]\n"
     ]
    },
    {
     "name": "stderr",
     "output_type": "stream",
     "text": [
      "23it [00:03,  6.03it/s]\n",
      "6it [00:00,  6.81it/s]\n"
     ]
    },
    {
     "name": "stdout",
     "output_type": "stream",
     "text": [
      "Epoch [57], Train Loss : [0.08218] Val Loss : [0.20126] Val F1 Score : [0.79603]\n"
     ]
    },
    {
     "name": "stderr",
     "output_type": "stream",
     "text": [
      "23it [00:03,  6.17it/s]\n",
      "6it [00:00,  6.76it/s]\n"
     ]
    },
    {
     "name": "stdout",
     "output_type": "stream",
     "text": [
      "Epoch [58], Train Loss : [0.08992] Val Loss : [0.20040] Val F1 Score : [0.79593]\n"
     ]
    },
    {
     "name": "stderr",
     "output_type": "stream",
     "text": [
      "23it [00:03,  6.17it/s]\n",
      "6it [00:00,  6.84it/s]\n"
     ]
    },
    {
     "name": "stdout",
     "output_type": "stream",
     "text": [
      "Epoch [59], Train Loss : [0.07707] Val Loss : [0.20300] Val F1 Score : [0.79070]\n"
     ]
    },
    {
     "name": "stderr",
     "output_type": "stream",
     "text": [
      "23it [00:03,  6.06it/s]\n",
      "6it [00:00,  6.75it/s]\n"
     ]
    },
    {
     "name": "stdout",
     "output_type": "stream",
     "text": [
      "Epoch [60], Train Loss : [0.08268] Val Loss : [0.21313] Val F1 Score : [0.78214]\n"
     ]
    },
    {
     "name": "stderr",
     "output_type": "stream",
     "text": [
      "23it [00:03,  6.15it/s]\n",
      "6it [00:00,  6.72it/s]\n"
     ]
    },
    {
     "name": "stdout",
     "output_type": "stream",
     "text": [
      "Epoch [61], Train Loss : [0.07077] Val Loss : [0.21207] Val F1 Score : [0.78574]\n"
     ]
    },
    {
     "name": "stderr",
     "output_type": "stream",
     "text": [
      "23it [00:03,  6.10it/s]\n",
      "6it [00:00,  6.73it/s]\n"
     ]
    },
    {
     "name": "stdout",
     "output_type": "stream",
     "text": [
      "Epoch [62], Train Loss : [0.06569] Val Loss : [0.22955] Val F1 Score : [0.77543]\n"
     ]
    },
    {
     "name": "stderr",
     "output_type": "stream",
     "text": [
      "23it [00:03,  6.15it/s]\n",
      "6it [00:00,  6.69it/s]\n"
     ]
    },
    {
     "name": "stdout",
     "output_type": "stream",
     "text": [
      "Epoch [63], Train Loss : [0.07208] Val Loss : [0.23686] Val F1 Score : [0.76235]\n"
     ]
    },
    {
     "name": "stderr",
     "output_type": "stream",
     "text": [
      "23it [00:03,  6.02it/s]\n",
      "6it [00:00,  6.70it/s]\n"
     ]
    },
    {
     "name": "stdout",
     "output_type": "stream",
     "text": [
      "Epoch [64], Train Loss : [0.07096] Val Loss : [0.23281] Val F1 Score : [0.77092]\n"
     ]
    },
    {
     "name": "stderr",
     "output_type": "stream",
     "text": [
      "23it [00:03,  6.16it/s]\n",
      "6it [00:00,  6.71it/s]\n"
     ]
    },
    {
     "name": "stdout",
     "output_type": "stream",
     "text": [
      "Epoch [65], Train Loss : [0.06564] Val Loss : [0.22351] Val F1 Score : [0.78331]\n"
     ]
    },
    {
     "name": "stderr",
     "output_type": "stream",
     "text": [
      "23it [00:03,  6.18it/s]\n",
      "6it [00:00,  6.73it/s]\n"
     ]
    },
    {
     "name": "stdout",
     "output_type": "stream",
     "text": [
      "Epoch [66], Train Loss : [0.06210] Val Loss : [0.24377] Val F1 Score : [0.76731]\n",
      "Epoch    67: reducing learning rate of group 0 to 1.2500e-04.\n"
     ]
    },
    {
     "name": "stderr",
     "output_type": "stream",
     "text": [
      "23it [00:03,  6.17it/s]\n",
      "6it [00:00,  6.70it/s]\n"
     ]
    },
    {
     "name": "stdout",
     "output_type": "stream",
     "text": [
      "Epoch [67], Train Loss : [0.07419] Val Loss : [0.22871] Val F1 Score : [0.78190]\n"
     ]
    },
    {
     "name": "stderr",
     "output_type": "stream",
     "text": [
      "23it [00:03,  6.09it/s]\n",
      "6it [00:00,  6.69it/s]\n"
     ]
    },
    {
     "name": "stdout",
     "output_type": "stream",
     "text": [
      "Epoch [68], Train Loss : [0.06924] Val Loss : [0.22862] Val F1 Score : [0.77132]\n"
     ]
    },
    {
     "name": "stderr",
     "output_type": "stream",
     "text": [
      "23it [00:03,  6.17it/s]\n",
      "6it [00:00,  6.74it/s]\n"
     ]
    },
    {
     "name": "stdout",
     "output_type": "stream",
     "text": [
      "Epoch [69], Train Loss : [0.07723] Val Loss : [0.22817] Val F1 Score : [0.77600]\n"
     ]
    },
    {
     "name": "stderr",
     "output_type": "stream",
     "text": [
      "23it [00:03,  6.19it/s]\n",
      "6it [00:00,  6.69it/s]\n"
     ]
    },
    {
     "name": "stdout",
     "output_type": "stream",
     "text": [
      "Epoch [70], Train Loss : [0.08827] Val Loss : [0.23852] Val F1 Score : [0.77132]\n"
     ]
    },
    {
     "name": "stderr",
     "output_type": "stream",
     "text": [
      "23it [00:03,  6.06it/s]\n",
      "6it [00:00,  6.78it/s]\n"
     ]
    },
    {
     "name": "stdout",
     "output_type": "stream",
     "text": [
      "Epoch [71], Train Loss : [0.06717] Val Loss : [0.24343] Val F1 Score : [0.76409]\n"
     ]
    },
    {
     "name": "stderr",
     "output_type": "stream",
     "text": [
      "23it [00:03,  6.13it/s]\n",
      "6it [00:00,  6.74it/s]\n"
     ]
    },
    {
     "name": "stdout",
     "output_type": "stream",
     "text": [
      "Epoch [72], Train Loss : [0.06704] Val Loss : [0.23473] Val F1 Score : [0.78133]\n"
     ]
    },
    {
     "name": "stderr",
     "output_type": "stream",
     "text": [
      "23it [00:03,  6.16it/s]\n",
      "6it [00:00,  6.76it/s]\n"
     ]
    },
    {
     "name": "stdout",
     "output_type": "stream",
     "text": [
      "Epoch [73], Train Loss : [0.07959] Val Loss : [0.24305] Val F1 Score : [0.76479]\n"
     ]
    },
    {
     "name": "stderr",
     "output_type": "stream",
     "text": [
      "23it [00:03,  6.11it/s]\n",
      "6it [00:00,  6.76it/s]\n"
     ]
    },
    {
     "name": "stdout",
     "output_type": "stream",
     "text": [
      "Epoch [74], Train Loss : [0.10541] Val Loss : [0.24270] Val F1 Score : [0.77551]\n"
     ]
    },
    {
     "name": "stderr",
     "output_type": "stream",
     "text": [
      "23it [00:03,  6.10it/s]\n",
      "6it [00:00,  6.76it/s]\n"
     ]
    },
    {
     "name": "stdout",
     "output_type": "stream",
     "text": [
      "Epoch [75], Train Loss : [0.06292] Val Loss : [0.24722] Val F1 Score : [0.77408]\n"
     ]
    },
    {
     "name": "stderr",
     "output_type": "stream",
     "text": [
      "23it [00:03,  6.14it/s]\n",
      "6it [00:00,  6.68it/s]\n"
     ]
    },
    {
     "name": "stdout",
     "output_type": "stream",
     "text": [
      "Epoch [76], Train Loss : [0.05926] Val Loss : [0.23918] Val F1 Score : [0.77661]\n"
     ]
    },
    {
     "name": "stderr",
     "output_type": "stream",
     "text": [
      "23it [00:03,  6.09it/s]\n",
      "6it [00:00,  6.66it/s]\n"
     ]
    },
    {
     "name": "stdout",
     "output_type": "stream",
     "text": [
      "Epoch [77], Train Loss : [0.05540] Val Loss : [0.23669] Val F1 Score : [0.77076]\n",
      "Epoch    78: reducing learning rate of group 0 to 6.2500e-05.\n"
     ]
    },
    {
     "name": "stderr",
     "output_type": "stream",
     "text": [
      "23it [00:03,  5.95it/s]\n",
      "6it [00:00,  6.70it/s]\n"
     ]
    },
    {
     "name": "stdout",
     "output_type": "stream",
     "text": [
      "Epoch [78], Train Loss : [0.05335] Val Loss : [0.24627] Val F1 Score : [0.76736]\n"
     ]
    },
    {
     "name": "stderr",
     "output_type": "stream",
     "text": [
      "23it [00:03,  6.13it/s]\n",
      "6it [00:00,  6.63it/s]\n"
     ]
    },
    {
     "name": "stdout",
     "output_type": "stream",
     "text": [
      "Epoch [79], Train Loss : [0.05294] Val Loss : [0.24915] Val F1 Score : [0.77703]\n"
     ]
    },
    {
     "name": "stderr",
     "output_type": "stream",
     "text": [
      "23it [00:03,  6.08it/s]\n",
      "6it [00:00,  6.60it/s]\n"
     ]
    },
    {
     "name": "stdout",
     "output_type": "stream",
     "text": [
      "Epoch [80], Train Loss : [0.06044] Val Loss : [0.24493] Val F1 Score : [0.78037]\n"
     ]
    },
    {
     "name": "stderr",
     "output_type": "stream",
     "text": [
      "23it [00:03,  6.06it/s]\n",
      "6it [00:00,  6.24it/s]\n"
     ]
    },
    {
     "name": "stdout",
     "output_type": "stream",
     "text": [
      "Epoch [81], Train Loss : [0.06113] Val Loss : [0.24424] Val F1 Score : [0.77321]\n"
     ]
    },
    {
     "name": "stderr",
     "output_type": "stream",
     "text": [
      "23it [00:03,  6.02it/s]\n",
      "6it [00:00,  6.62it/s]\n"
     ]
    },
    {
     "name": "stdout",
     "output_type": "stream",
     "text": [
      "Epoch [82], Train Loss : [0.05741] Val Loss : [0.24105] Val F1 Score : [0.77814]\n"
     ]
    },
    {
     "name": "stderr",
     "output_type": "stream",
     "text": [
      "23it [00:03,  6.10it/s]\n",
      "6it [00:00,  6.57it/s]\n"
     ]
    },
    {
     "name": "stdout",
     "output_type": "stream",
     "text": [
      "Epoch [83], Train Loss : [0.06370] Val Loss : [0.23413] Val F1 Score : [0.78509]\n"
     ]
    },
    {
     "name": "stderr",
     "output_type": "stream",
     "text": [
      "23it [00:03,  6.11it/s]\n",
      "6it [00:00,  6.63it/s]\n"
     ]
    },
    {
     "name": "stdout",
     "output_type": "stream",
     "text": [
      "Epoch [84], Train Loss : [0.05527] Val Loss : [0.24566] Val F1 Score : [0.77415]\n"
     ]
    },
    {
     "name": "stderr",
     "output_type": "stream",
     "text": [
      "23it [00:03,  5.98it/s]\n",
      "6it [00:00,  6.68it/s]\n"
     ]
    },
    {
     "name": "stdout",
     "output_type": "stream",
     "text": [
      "Epoch [85], Train Loss : [0.04940] Val Loss : [0.23957] Val F1 Score : [0.77660]\n"
     ]
    },
    {
     "name": "stderr",
     "output_type": "stream",
     "text": [
      "23it [00:03,  6.09it/s]\n",
      "6it [00:00,  6.65it/s]\n"
     ]
    },
    {
     "name": "stdout",
     "output_type": "stream",
     "text": [
      "Epoch [86], Train Loss : [0.05679] Val Loss : [0.24903] Val F1 Score : [0.77309]\n"
     ]
    },
    {
     "name": "stderr",
     "output_type": "stream",
     "text": [
      "23it [00:03,  6.11it/s]\n",
      "6it [00:00,  6.65it/s]\n"
     ]
    },
    {
     "name": "stdout",
     "output_type": "stream",
     "text": [
      "Epoch [87], Train Loss : [0.05217] Val Loss : [0.24760] Val F1 Score : [0.77797]\n"
     ]
    },
    {
     "name": "stderr",
     "output_type": "stream",
     "text": [
      "23it [00:03,  6.11it/s]\n",
      "6it [00:00,  6.72it/s]\n"
     ]
    },
    {
     "name": "stdout",
     "output_type": "stream",
     "text": [
      "Epoch [88], Train Loss : [0.04844] Val Loss : [0.25135] Val F1 Score : [0.77764]\n",
      "Epoch    89: reducing learning rate of group 0 to 3.1250e-05.\n"
     ]
    },
    {
     "name": "stderr",
     "output_type": "stream",
     "text": [
      "23it [00:03,  6.15it/s]\n",
      "6it [00:00,  6.72it/s]\n"
     ]
    },
    {
     "name": "stdout",
     "output_type": "stream",
     "text": [
      "Epoch [89], Train Loss : [0.05428] Val Loss : [0.24557] Val F1 Score : [0.77321]\n"
     ]
    },
    {
     "name": "stderr",
     "output_type": "stream",
     "text": [
      "23it [00:03,  6.14it/s]\n",
      "6it [00:00,  6.73it/s]\n"
     ]
    },
    {
     "name": "stdout",
     "output_type": "stream",
     "text": [
      "Epoch [90], Train Loss : [0.09286] Val Loss : [0.24501] Val F1 Score : [0.77829]\n"
     ]
    },
    {
     "name": "stderr",
     "output_type": "stream",
     "text": [
      "23it [00:03,  6.11it/s]\n",
      "6it [00:00,  6.74it/s]\n"
     ]
    },
    {
     "name": "stdout",
     "output_type": "stream",
     "text": [
      "Epoch [91], Train Loss : [0.04668] Val Loss : [0.24867] Val F1 Score : [0.77466]\n"
     ]
    },
    {
     "name": "stderr",
     "output_type": "stream",
     "text": [
      "23it [00:03,  5.98it/s]\n",
      "6it [00:00,  6.72it/s]\n"
     ]
    },
    {
     "name": "stdout",
     "output_type": "stream",
     "text": [
      "Epoch [92], Train Loss : [0.04679] Val Loss : [0.24983] Val F1 Score : [0.77237]\n"
     ]
    },
    {
     "name": "stderr",
     "output_type": "stream",
     "text": [
      "23it [00:03,  6.04it/s]\n",
      "6it [00:00,  6.56it/s]\n"
     ]
    },
    {
     "name": "stdout",
     "output_type": "stream",
     "text": [
      "Epoch [93], Train Loss : [0.05123] Val Loss : [0.25746] Val F1 Score : [0.76386]\n"
     ]
    },
    {
     "name": "stderr",
     "output_type": "stream",
     "text": [
      "23it [00:03,  6.07it/s]\n",
      "6it [00:00,  6.63it/s]\n"
     ]
    },
    {
     "name": "stdout",
     "output_type": "stream",
     "text": [
      "Epoch [94], Train Loss : [0.04547] Val Loss : [0.25445] Val F1 Score : [0.77054]\n"
     ]
    },
    {
     "name": "stderr",
     "output_type": "stream",
     "text": [
      "23it [00:03,  6.10it/s]\n",
      "6it [00:00,  6.72it/s]\n"
     ]
    },
    {
     "name": "stdout",
     "output_type": "stream",
     "text": [
      "Epoch [95], Train Loss : [0.04451] Val Loss : [0.24860] Val F1 Score : [0.76958]\n"
     ]
    },
    {
     "name": "stderr",
     "output_type": "stream",
     "text": [
      "23it [00:03,  6.16it/s]\n",
      "6it [00:00,  6.69it/s]\n"
     ]
    },
    {
     "name": "stdout",
     "output_type": "stream",
     "text": [
      "Epoch [96], Train Loss : [0.06342] Val Loss : [0.24976] Val F1 Score : [0.77366]\n"
     ]
    },
    {
     "name": "stderr",
     "output_type": "stream",
     "text": [
      "23it [00:03,  6.13it/s]\n",
      "6it [00:00,  6.63it/s]\n"
     ]
    },
    {
     "name": "stdout",
     "output_type": "stream",
     "text": [
      "Epoch [97], Train Loss : [0.06857] Val Loss : [0.24828] Val F1 Score : [0.77593]\n"
     ]
    },
    {
     "name": "stderr",
     "output_type": "stream",
     "text": [
      "23it [00:03,  6.16it/s]\n",
      "6it [00:00,  6.51it/s]\n"
     ]
    },
    {
     "name": "stdout",
     "output_type": "stream",
     "text": [
      "Epoch [98], Train Loss : [0.04914] Val Loss : [0.25144] Val F1 Score : [0.77767]\n"
     ]
    },
    {
     "name": "stderr",
     "output_type": "stream",
     "text": [
      "23it [00:03,  5.96it/s]\n",
      "6it [00:00,  6.61it/s]\n"
     ]
    },
    {
     "name": "stdout",
     "output_type": "stream",
     "text": [
      "Epoch [99], Train Loss : [0.04432] Val Loss : [0.25002] Val F1 Score : [0.78003]\n",
      "Epoch   100: reducing learning rate of group 0 to 1.5625e-05.\n"
     ]
    },
    {
     "name": "stderr",
     "output_type": "stream",
     "text": [
      "23it [00:03,  6.08it/s]\n",
      "6it [00:00,  6.64it/s]\n"
     ]
    },
    {
     "name": "stdout",
     "output_type": "stream",
     "text": [
      "Epoch [100], Train Loss : [0.04408] Val Loss : [0.26148] Val F1 Score : [0.77382]\n"
     ]
    },
    {
     "name": "stderr",
     "output_type": "stream",
     "text": [
      "23it [00:03,  6.11it/s]\n",
      "6it [00:00,  6.53it/s]\n"
     ]
    },
    {
     "name": "stdout",
     "output_type": "stream",
     "text": [
      "Epoch [101], Train Loss : [0.06031] Val Loss : [0.25544] Val F1 Score : [0.77225]\n"
     ]
    },
    {
     "name": "stderr",
     "output_type": "stream",
     "text": [
      "23it [00:03,  6.02it/s]\n",
      "6it [00:00,  6.51it/s]\n"
     ]
    },
    {
     "name": "stdout",
     "output_type": "stream",
     "text": [
      "Epoch [102], Train Loss : [0.06111] Val Loss : [0.25557] Val F1 Score : [0.77948]\n"
     ]
    },
    {
     "name": "stderr",
     "output_type": "stream",
     "text": [
      "23it [00:03,  6.17it/s]\n",
      "6it [00:00,  6.66it/s]\n"
     ]
    },
    {
     "name": "stdout",
     "output_type": "stream",
     "text": [
      "Epoch [103], Train Loss : [0.05049] Val Loss : [0.26577] Val F1 Score : [0.76232]\n"
     ]
    },
    {
     "name": "stderr",
     "output_type": "stream",
     "text": [
      "23it [00:03,  6.08it/s]\n",
      "6it [00:00,  6.70it/s]\n"
     ]
    },
    {
     "name": "stdout",
     "output_type": "stream",
     "text": [
      "Epoch [104], Train Loss : [0.04253] Val Loss : [0.25555] Val F1 Score : [0.77449]\n"
     ]
    },
    {
     "name": "stderr",
     "output_type": "stream",
     "text": [
      "23it [00:03,  6.07it/s]\n",
      "6it [00:00,  6.68it/s]\n"
     ]
    },
    {
     "name": "stdout",
     "output_type": "stream",
     "text": [
      "Epoch [105], Train Loss : [0.07300] Val Loss : [0.24725] Val F1 Score : [0.78097]\n"
     ]
    },
    {
     "name": "stderr",
     "output_type": "stream",
     "text": [
      "23it [00:03,  5.95it/s]\n",
      "6it [00:00,  6.75it/s]\n"
     ]
    },
    {
     "name": "stdout",
     "output_type": "stream",
     "text": [
      "Epoch [106], Train Loss : [0.04438] Val Loss : [0.26020] Val F1 Score : [0.77644]\n"
     ]
    },
    {
     "name": "stderr",
     "output_type": "stream",
     "text": [
      "23it [00:03,  6.12it/s]\n",
      "6it [00:00,  6.75it/s]\n"
     ]
    },
    {
     "name": "stdout",
     "output_type": "stream",
     "text": [
      "Epoch [107], Train Loss : [0.04248] Val Loss : [0.25110] Val F1 Score : [0.77628]\n"
     ]
    },
    {
     "name": "stderr",
     "output_type": "stream",
     "text": [
      "23it [00:03,  6.07it/s]\n",
      "6it [00:00,  6.83it/s]\n"
     ]
    },
    {
     "name": "stdout",
     "output_type": "stream",
     "text": [
      "Epoch [108], Train Loss : [0.04208] Val Loss : [0.25465] Val F1 Score : [0.77415]\n"
     ]
    },
    {
     "name": "stderr",
     "output_type": "stream",
     "text": [
      "23it [00:03,  6.14it/s]\n",
      "6it [00:00,  6.83it/s]\n"
     ]
    },
    {
     "name": "stdout",
     "output_type": "stream",
     "text": [
      "Epoch [109], Train Loss : [0.05513] Val Loss : [0.25962] Val F1 Score : [0.77021]\n"
     ]
    },
    {
     "name": "stderr",
     "output_type": "stream",
     "text": [
      "23it [00:03,  6.11it/s]\n",
      "6it [00:00,  6.78it/s]\n"
     ]
    },
    {
     "name": "stdout",
     "output_type": "stream",
     "text": [
      "Epoch [110], Train Loss : [0.05117] Val Loss : [0.26033] Val F1 Score : [0.77541]\n",
      "Epoch   111: reducing learning rate of group 0 to 7.8125e-06.\n"
     ]
    },
    {
     "name": "stderr",
     "output_type": "stream",
     "text": [
      "23it [00:03,  6.12it/s]\n",
      "6it [00:00,  6.82it/s]\n"
     ]
    },
    {
     "name": "stdout",
     "output_type": "stream",
     "text": [
      "Epoch [111], Train Loss : [0.04144] Val Loss : [0.25615] Val F1 Score : [0.77245]\n"
     ]
    },
    {
     "name": "stderr",
     "output_type": "stream",
     "text": [
      "23it [00:03,  6.15it/s]\n",
      "6it [00:00,  6.85it/s]\n"
     ]
    },
    {
     "name": "stdout",
     "output_type": "stream",
     "text": [
      "Epoch [112], Train Loss : [0.04169] Val Loss : [0.26836] Val F1 Score : [0.76206]\n"
     ]
    },
    {
     "name": "stderr",
     "output_type": "stream",
     "text": [
      "23it [00:03,  5.98it/s]\n",
      "6it [00:00,  6.80it/s]\n"
     ]
    },
    {
     "name": "stdout",
     "output_type": "stream",
     "text": [
      "Epoch [113], Train Loss : [0.04217] Val Loss : [0.26744] Val F1 Score : [0.76444]\n"
     ]
    },
    {
     "name": "stderr",
     "output_type": "stream",
     "text": [
      "23it [00:03,  6.15it/s]\n",
      "6it [00:00,  6.84it/s]\n"
     ]
    },
    {
     "name": "stdout",
     "output_type": "stream",
     "text": [
      "Epoch [114], Train Loss : [0.07632] Val Loss : [0.25572] Val F1 Score : [0.77264]\n"
     ]
    },
    {
     "name": "stderr",
     "output_type": "stream",
     "text": [
      "23it [00:03,  6.13it/s]\n",
      "6it [00:00,  6.70it/s]\n"
     ]
    },
    {
     "name": "stdout",
     "output_type": "stream",
     "text": [
      "Epoch [115], Train Loss : [0.06075] Val Loss : [0.25866] Val F1 Score : [0.76516]\n"
     ]
    },
    {
     "name": "stderr",
     "output_type": "stream",
     "text": [
      "23it [00:03,  6.17it/s]\n",
      "6it [00:00,  6.38it/s]\n"
     ]
    },
    {
     "name": "stdout",
     "output_type": "stream",
     "text": [
      "Epoch [116], Train Loss : [0.04480] Val Loss : [0.27055] Val F1 Score : [0.76698]\n"
     ]
    },
    {
     "name": "stderr",
     "output_type": "stream",
     "text": [
      "23it [00:03,  6.13it/s]\n",
      "6it [00:00,  6.74it/s]\n"
     ]
    },
    {
     "name": "stdout",
     "output_type": "stream",
     "text": [
      "Epoch [117], Train Loss : [0.04118] Val Loss : [0.27002] Val F1 Score : [0.76721]\n"
     ]
    },
    {
     "name": "stderr",
     "output_type": "stream",
     "text": [
      "23it [00:03,  6.18it/s]\n",
      "6it [00:00,  6.79it/s]\n"
     ]
    },
    {
     "name": "stdout",
     "output_type": "stream",
     "text": [
      "Epoch [118], Train Loss : [0.05159] Val Loss : [0.25066] Val F1 Score : [0.77752]\n"
     ]
    },
    {
     "name": "stderr",
     "output_type": "stream",
     "text": [
      "23it [00:03,  6.15it/s]\n",
      "6it [00:00,  6.79it/s]\n"
     ]
    },
    {
     "name": "stdout",
     "output_type": "stream",
     "text": [
      "Epoch [119], Train Loss : [0.04517] Val Loss : [0.27964] Val F1 Score : [0.74542]\n"
     ]
    },
    {
     "name": "stderr",
     "output_type": "stream",
     "text": [
      "23it [00:03,  5.96it/s]\n",
      "6it [00:00,  6.75it/s]\n"
     ]
    },
    {
     "name": "stdout",
     "output_type": "stream",
     "text": [
      "Epoch [120], Train Loss : [0.06112] Val Loss : [0.26271] Val F1 Score : [0.77058]\n"
     ]
    },
    {
     "name": "stderr",
     "output_type": "stream",
     "text": [
      "23it [00:03,  6.11it/s]\n",
      "6it [00:00,  6.70it/s]\n"
     ]
    },
    {
     "name": "stdout",
     "output_type": "stream",
     "text": [
      "Epoch [121], Train Loss : [0.04406] Val Loss : [0.25998] Val F1 Score : [0.76669]\n",
      "Epoch   122: reducing learning rate of group 0 to 3.9063e-06.\n"
     ]
    },
    {
     "name": "stderr",
     "output_type": "stream",
     "text": [
      "23it [00:03,  6.10it/s]\n",
      "6it [00:00,  6.72it/s]\n"
     ]
    },
    {
     "name": "stdout",
     "output_type": "stream",
     "text": [
      "Epoch [122], Train Loss : [0.04711] Val Loss : [0.25769] Val F1 Score : [0.77491]\n"
     ]
    },
    {
     "name": "stderr",
     "output_type": "stream",
     "text": [
      "23it [00:03,  6.11it/s]\n",
      "6it [00:00,  6.72it/s]\n"
     ]
    },
    {
     "name": "stdout",
     "output_type": "stream",
     "text": [
      "Epoch [123], Train Loss : [0.04117] Val Loss : [0.25971] Val F1 Score : [0.76876]\n"
     ]
    },
    {
     "name": "stderr",
     "output_type": "stream",
     "text": [
      "23it [00:03,  6.10it/s]\n",
      "6it [00:00,  6.69it/s]\n"
     ]
    },
    {
     "name": "stdout",
     "output_type": "stream",
     "text": [
      "Epoch [124], Train Loss : [0.04085] Val Loss : [0.25610] Val F1 Score : [0.77456]\n"
     ]
    },
    {
     "name": "stderr",
     "output_type": "stream",
     "text": [
      "23it [00:03,  6.12it/s]\n",
      "6it [00:00,  6.54it/s]\n"
     ]
    },
    {
     "name": "stdout",
     "output_type": "stream",
     "text": [
      "Epoch [125], Train Loss : [0.04914] Val Loss : [0.25605] Val F1 Score : [0.77568]\n"
     ]
    },
    {
     "name": "stderr",
     "output_type": "stream",
     "text": [
      "23it [00:03,  6.19it/s]\n",
      "6it [00:00,  6.71it/s]\n"
     ]
    },
    {
     "name": "stdout",
     "output_type": "stream",
     "text": [
      "Epoch [126], Train Loss : [0.04093] Val Loss : [0.26892] Val F1 Score : [0.77021]\n"
     ]
    },
    {
     "name": "stderr",
     "output_type": "stream",
     "text": [
      "23it [00:03,  6.03it/s]\n",
      "6it [00:00,  6.69it/s]\n"
     ]
    },
    {
     "name": "stdout",
     "output_type": "stream",
     "text": [
      "Epoch [127], Train Loss : [0.04053] Val Loss : [0.26533] Val F1 Score : [0.76275]\n"
     ]
    },
    {
     "name": "stderr",
     "output_type": "stream",
     "text": [
      "23it [00:03,  6.18it/s]\n",
      "6it [00:00,  6.75it/s]\n"
     ]
    },
    {
     "name": "stdout",
     "output_type": "stream",
     "text": [
      "Epoch [128], Train Loss : [0.04334] Val Loss : [0.25874] Val F1 Score : [0.77466]\n"
     ]
    },
    {
     "name": "stderr",
     "output_type": "stream",
     "text": [
      "23it [00:03,  6.18it/s]\n",
      "6it [00:00,  6.74it/s]\n"
     ]
    },
    {
     "name": "stdout",
     "output_type": "stream",
     "text": [
      "Epoch [129], Train Loss : [0.04014] Val Loss : [0.26185] Val F1 Score : [0.77168]\n"
     ]
    },
    {
     "name": "stderr",
     "output_type": "stream",
     "text": [
      "23it [00:03,  6.19it/s]\n",
      "6it [00:00,  6.84it/s]\n"
     ]
    },
    {
     "name": "stdout",
     "output_type": "stream",
     "text": [
      "Epoch [130], Train Loss : [0.05284] Val Loss : [0.26096] Val F1 Score : [0.77339]\n"
     ]
    },
    {
     "name": "stderr",
     "output_type": "stream",
     "text": [
      "23it [00:03,  6.12it/s]\n",
      "6it [00:00,  6.63it/s]\n"
     ]
    },
    {
     "name": "stdout",
     "output_type": "stream",
     "text": [
      "Epoch [131], Train Loss : [0.04163] Val Loss : [0.26334] Val F1 Score : [0.76856]\n"
     ]
    },
    {
     "name": "stderr",
     "output_type": "stream",
     "text": [
      "23it [00:03,  6.09it/s]\n",
      "6it [00:00,  6.57it/s]\n"
     ]
    },
    {
     "name": "stdout",
     "output_type": "stream",
     "text": [
      "Epoch [132], Train Loss : [0.08031] Val Loss : [0.26552] Val F1 Score : [0.76587]\n",
      "Epoch   133: reducing learning rate of group 0 to 1.9531e-06.\n"
     ]
    },
    {
     "name": "stderr",
     "output_type": "stream",
     "text": [
      "23it [00:03,  6.10it/s]\n",
      "6it [00:00,  6.62it/s]\n"
     ]
    },
    {
     "name": "stdout",
     "output_type": "stream",
     "text": [
      "Epoch [133], Train Loss : [0.04298] Val Loss : [0.26956] Val F1 Score : [0.76607]\n"
     ]
    },
    {
     "name": "stderr",
     "output_type": "stream",
     "text": [
      "23it [00:03,  5.98it/s]\n",
      "6it [00:00,  6.67it/s]\n"
     ]
    },
    {
     "name": "stdout",
     "output_type": "stream",
     "text": [
      "Epoch [134], Train Loss : [0.03956] Val Loss : [0.26163] Val F1 Score : [0.77225]\n"
     ]
    },
    {
     "name": "stderr",
     "output_type": "stream",
     "text": [
      "23it [00:03,  6.13it/s]\n",
      "6it [00:00,  6.69it/s]\n"
     ]
    },
    {
     "name": "stdout",
     "output_type": "stream",
     "text": [
      "Epoch [135], Train Loss : [0.05880] Val Loss : [0.25948] Val F1 Score : [0.77225]\n"
     ]
    },
    {
     "name": "stderr",
     "output_type": "stream",
     "text": [
      "23it [00:03,  6.13it/s]\n",
      "6it [00:00,  6.63it/s]\n"
     ]
    },
    {
     "name": "stdout",
     "output_type": "stream",
     "text": [
      "Epoch [136], Train Loss : [0.03882] Val Loss : [0.26430] Val F1 Score : [0.76717]\n"
     ]
    },
    {
     "name": "stderr",
     "output_type": "stream",
     "text": [
      "23it [00:03,  6.16it/s]\n",
      "6it [00:00,  6.71it/s]\n"
     ]
    },
    {
     "name": "stdout",
     "output_type": "stream",
     "text": [
      "Epoch [137], Train Loss : [0.04138] Val Loss : [0.26455] Val F1 Score : [0.76948]\n"
     ]
    },
    {
     "name": "stderr",
     "output_type": "stream",
     "text": [
      "23it [00:03,  6.12it/s]\n",
      "6it [00:00,  6.64it/s]\n"
     ]
    },
    {
     "name": "stdout",
     "output_type": "stream",
     "text": [
      "Epoch [138], Train Loss : [0.04835] Val Loss : [0.26543] Val F1 Score : [0.76516]\n"
     ]
    },
    {
     "name": "stderr",
     "output_type": "stream",
     "text": [
      "23it [00:03,  6.13it/s]\n",
      "6it [00:00,  6.70it/s]\n"
     ]
    },
    {
     "name": "stdout",
     "output_type": "stream",
     "text": [
      "Epoch [139], Train Loss : [0.06201] Val Loss : [0.25098] Val F1 Score : [0.77116]\n"
     ]
    },
    {
     "name": "stderr",
     "output_type": "stream",
     "text": [
      "23it [00:03,  6.14it/s]\n",
      "6it [00:00,  6.77it/s]\n"
     ]
    },
    {
     "name": "stdout",
     "output_type": "stream",
     "text": [
      "Epoch [140], Train Loss : [0.04078] Val Loss : [0.25791] Val F1 Score : [0.77432]\n"
     ]
    },
    {
     "name": "stderr",
     "output_type": "stream",
     "text": [
      "23it [00:03,  6.03it/s]\n",
      "6it [00:00,  6.70it/s]\n"
     ]
    },
    {
     "name": "stdout",
     "output_type": "stream",
     "text": [
      "Epoch [141], Train Loss : [0.04017] Val Loss : [0.27055] Val F1 Score : [0.76614]\n"
     ]
    },
    {
     "name": "stderr",
     "output_type": "stream",
     "text": [
      "23it [00:03,  6.07it/s]\n",
      "6it [00:00,  6.67it/s]\n"
     ]
    },
    {
     "name": "stdout",
     "output_type": "stream",
     "text": [
      "Epoch [142], Train Loss : [0.05183] Val Loss : [0.26535] Val F1 Score : [0.76386]\n"
     ]
    },
    {
     "name": "stderr",
     "output_type": "stream",
     "text": [
      "23it [00:03,  6.10it/s]\n",
      "6it [00:00,  6.68it/s]\n"
     ]
    },
    {
     "name": "stdout",
     "output_type": "stream",
     "text": [
      "Epoch [143], Train Loss : [0.04032] Val Loss : [0.26552] Val F1 Score : [0.76345]\n",
      "Epoch   144: reducing learning rate of group 0 to 9.7656e-07.\n"
     ]
    },
    {
     "name": "stderr",
     "output_type": "stream",
     "text": [
      "23it [00:03,  6.10it/s]\n",
      "6it [00:00,  6.66it/s]\n"
     ]
    },
    {
     "name": "stdout",
     "output_type": "stream",
     "text": [
      "Epoch [144], Train Loss : [0.04190] Val Loss : [0.27042] Val F1 Score : [0.76324]\n"
     ]
    },
    {
     "name": "stderr",
     "output_type": "stream",
     "text": [
      "23it [00:03,  6.12it/s]\n",
      "6it [00:00,  6.68it/s]\n"
     ]
    },
    {
     "name": "stdout",
     "output_type": "stream",
     "text": [
      "Epoch [145], Train Loss : [0.08388] Val Loss : [0.25709] Val F1 Score : [0.77299]\n"
     ]
    },
    {
     "name": "stderr",
     "output_type": "stream",
     "text": [
      "23it [00:03,  6.12it/s]\n",
      "6it [00:00,  6.75it/s]\n"
     ]
    },
    {
     "name": "stdout",
     "output_type": "stream",
     "text": [
      "Epoch [146], Train Loss : [0.04110] Val Loss : [0.26707] Val F1 Score : [0.76587]\n"
     ]
    },
    {
     "name": "stderr",
     "output_type": "stream",
     "text": [
      "23it [00:03,  6.15it/s]\n",
      "6it [00:00,  6.71it/s]\n"
     ]
    },
    {
     "name": "stdout",
     "output_type": "stream",
     "text": [
      "Epoch [147], Train Loss : [0.05540] Val Loss : [0.26162] Val F1 Score : [0.76495]\n"
     ]
    },
    {
     "name": "stderr",
     "output_type": "stream",
     "text": [
      "23it [00:03,  5.95it/s]\n",
      "6it [00:00,  6.73it/s]\n"
     ]
    },
    {
     "name": "stdout",
     "output_type": "stream",
     "text": [
      "Epoch [148], Train Loss : [0.05609] Val Loss : [0.25465] Val F1 Score : [0.77226]\n"
     ]
    },
    {
     "name": "stderr",
     "output_type": "stream",
     "text": [
      "23it [00:03,  6.17it/s]\n",
      "6it [00:00,  6.70it/s]\n"
     ]
    },
    {
     "name": "stdout",
     "output_type": "stream",
     "text": [
      "Epoch [149], Train Loss : [0.04258] Val Loss : [0.26498] Val F1 Score : [0.76089]\n"
     ]
    },
    {
     "name": "stderr",
     "output_type": "stream",
     "text": [
      "23it [00:03,  6.16it/s]\n",
      "6it [00:00,  6.78it/s]\n"
     ]
    },
    {
     "name": "stdout",
     "output_type": "stream",
     "text": [
      "Epoch [150], Train Loss : [0.03995] Val Loss : [0.26069] Val F1 Score : [0.76803]\n"
     ]
    },
    {
     "name": "stderr",
     "output_type": "stream",
     "text": [
      "23it [00:03,  6.16it/s]\n",
      "6it [00:00,  6.78it/s]\n"
     ]
    },
    {
     "name": "stdout",
     "output_type": "stream",
     "text": [
      "Epoch [151], Train Loss : [0.04071] Val Loss : [0.26951] Val F1 Score : [0.76698]\n"
     ]
    },
    {
     "name": "stderr",
     "output_type": "stream",
     "text": [
      "23it [00:03,  6.15it/s]\n",
      "6it [00:00,  6.75it/s]\n"
     ]
    },
    {
     "name": "stdout",
     "output_type": "stream",
     "text": [
      "Epoch [152], Train Loss : [0.04235] Val Loss : [0.26228] Val F1 Score : [0.76638]\n"
     ]
    },
    {
     "name": "stderr",
     "output_type": "stream",
     "text": [
      "23it [00:03,  6.10it/s]\n",
      "6it [00:00,  6.78it/s]\n"
     ]
    },
    {
     "name": "stdout",
     "output_type": "stream",
     "text": [
      "Epoch [153], Train Loss : [0.04153] Val Loss : [0.27053] Val F1 Score : [0.76626]\n"
     ]
    },
    {
     "name": "stderr",
     "output_type": "stream",
     "text": [
      "23it [00:03,  6.11it/s]\n",
      "6it [00:00,  6.68it/s]\n"
     ]
    },
    {
     "name": "stdout",
     "output_type": "stream",
     "text": [
      "Epoch [154], Train Loss : [0.04058] Val Loss : [0.26182] Val F1 Score : [0.77498]\n",
      "Epoch   155: reducing learning rate of group 0 to 4.8828e-07.\n"
     ]
    },
    {
     "name": "stderr",
     "output_type": "stream",
     "text": [
      "23it [00:03,  6.05it/s]\n",
      "6it [00:00,  6.78it/s]\n"
     ]
    },
    {
     "name": "stdout",
     "output_type": "stream",
     "text": [
      "Epoch [155], Train Loss : [0.05045] Val Loss : [0.26662] Val F1 Score : [0.77095]\n"
     ]
    },
    {
     "name": "stderr",
     "output_type": "stream",
     "text": [
      "23it [00:03,  6.16it/s]\n",
      "6it [00:00,  6.77it/s]\n"
     ]
    },
    {
     "name": "stdout",
     "output_type": "stream",
     "text": [
      "Epoch [156], Train Loss : [0.03957] Val Loss : [0.25719] Val F1 Score : [0.77397]\n"
     ]
    },
    {
     "name": "stderr",
     "output_type": "stream",
     "text": [
      "23it [00:03,  6.16it/s]\n",
      "6it [00:00,  6.66it/s]\n"
     ]
    },
    {
     "name": "stdout",
     "output_type": "stream",
     "text": [
      "Epoch [157], Train Loss : [0.03924] Val Loss : [0.25685] Val F1 Score : [0.77130]\n"
     ]
    },
    {
     "name": "stderr",
     "output_type": "stream",
     "text": [
      "23it [00:03,  6.14it/s]\n",
      "6it [00:00,  6.72it/s]\n"
     ]
    },
    {
     "name": "stdout",
     "output_type": "stream",
     "text": [
      "Epoch [158], Train Loss : [0.03894] Val Loss : [0.25540] Val F1 Score : [0.77282]\n"
     ]
    },
    {
     "name": "stderr",
     "output_type": "stream",
     "text": [
      "23it [00:03,  6.12it/s]\n",
      "6it [00:00,  6.59it/s]\n"
     ]
    },
    {
     "name": "stdout",
     "output_type": "stream",
     "text": [
      "Epoch [159], Train Loss : [0.05037] Val Loss : [0.26050] Val F1 Score : [0.76967]\n"
     ]
    },
    {
     "name": "stderr",
     "output_type": "stream",
     "text": [
      "23it [00:03,  6.12it/s]\n",
      "6it [00:00,  6.69it/s]\n"
     ]
    },
    {
     "name": "stdout",
     "output_type": "stream",
     "text": [
      "Epoch [160], Train Loss : [0.04832] Val Loss : [0.25864] Val F1 Score : [0.77557]\n"
     ]
    },
    {
     "name": "stderr",
     "output_type": "stream",
     "text": [
      "23it [00:03,  6.06it/s]\n",
      "6it [00:00,  6.68it/s]\n"
     ]
    },
    {
     "name": "stdout",
     "output_type": "stream",
     "text": [
      "Epoch [161], Train Loss : [0.04397] Val Loss : [0.27348] Val F1 Score : [0.75574]\n"
     ]
    },
    {
     "name": "stderr",
     "output_type": "stream",
     "text": [
      "23it [00:03,  6.00it/s]\n",
      "6it [00:00,  6.63it/s]\n"
     ]
    },
    {
     "name": "stdout",
     "output_type": "stream",
     "text": [
      "Epoch [162], Train Loss : [0.06819] Val Loss : [0.26188] Val F1 Score : [0.77150]\n"
     ]
    },
    {
     "name": "stderr",
     "output_type": "stream",
     "text": [
      "23it [00:03,  6.11it/s]\n",
      "6it [00:00,  6.64it/s]\n"
     ]
    },
    {
     "name": "stdout",
     "output_type": "stream",
     "text": [
      "Epoch [163], Train Loss : [0.05623] Val Loss : [0.25595] Val F1 Score : [0.77245]\n"
     ]
    },
    {
     "name": "stderr",
     "output_type": "stream",
     "text": [
      "23it [00:03,  6.12it/s]\n",
      "6it [00:00,  6.77it/s]\n"
     ]
    },
    {
     "name": "stdout",
     "output_type": "stream",
     "text": [
      "Epoch [164], Train Loss : [0.04018] Val Loss : [0.25934] Val F1 Score : [0.76783]\n"
     ]
    },
    {
     "name": "stderr",
     "output_type": "stream",
     "text": [
      "23it [00:03,  6.18it/s]\n",
      "6it [00:00,  6.74it/s]\n"
     ]
    },
    {
     "name": "stdout",
     "output_type": "stream",
     "text": [
      "Epoch [165], Train Loss : [0.04317] Val Loss : [0.25620] Val F1 Score : [0.77533]\n",
      "Epoch   166: reducing learning rate of group 0 to 2.4414e-07.\n"
     ]
    },
    {
     "name": "stderr",
     "output_type": "stream",
     "text": [
      "23it [00:03,  6.17it/s]\n",
      "6it [00:00,  6.73it/s]\n"
     ]
    },
    {
     "name": "stdout",
     "output_type": "stream",
     "text": [
      "Epoch [166], Train Loss : [0.04007] Val Loss : [0.25860] Val F1 Score : [0.77692]\n"
     ]
    },
    {
     "name": "stderr",
     "output_type": "stream",
     "text": [
      "23it [00:03,  6.15it/s]\n",
      "6it [00:00,  6.75it/s]\n"
     ]
    },
    {
     "name": "stdout",
     "output_type": "stream",
     "text": [
      "Epoch [167], Train Loss : [0.04722] Val Loss : [0.25981] Val F1 Score : [0.76937]\n"
     ]
    },
    {
     "name": "stderr",
     "output_type": "stream",
     "text": [
      "23it [00:03,  6.14it/s]\n",
      "6it [00:00,  6.68it/s]\n"
     ]
    },
    {
     "name": "stdout",
     "output_type": "stream",
     "text": [
      "Epoch [168], Train Loss : [0.04637] Val Loss : [0.25518] Val F1 Score : [0.77415]\n"
     ]
    },
    {
     "name": "stderr",
     "output_type": "stream",
     "text": [
      "23it [00:03,  5.99it/s]\n",
      "6it [00:00,  6.71it/s]\n"
     ]
    },
    {
     "name": "stdout",
     "output_type": "stream",
     "text": [
      "Epoch [169], Train Loss : [0.04913] Val Loss : [0.25679] Val F1 Score : [0.77752]\n"
     ]
    },
    {
     "name": "stderr",
     "output_type": "stream",
     "text": [
      "23it [00:03,  6.13it/s]\n",
      "6it [00:00,  6.70it/s]\n"
     ]
    },
    {
     "name": "stdout",
     "output_type": "stream",
     "text": [
      "Epoch [170], Train Loss : [0.04035] Val Loss : [0.26367] Val F1 Score : [0.76856]\n"
     ]
    },
    {
     "name": "stderr",
     "output_type": "stream",
     "text": [
      "23it [00:03,  6.17it/s]\n",
      "6it [00:00,  6.73it/s]\n"
     ]
    },
    {
     "name": "stdout",
     "output_type": "stream",
     "text": [
      "Epoch [171], Train Loss : [0.04524] Val Loss : [0.25899] Val F1 Score : [0.77225]\n"
     ]
    },
    {
     "name": "stderr",
     "output_type": "stream",
     "text": [
      "23it [00:03,  6.18it/s]\n",
      "6it [00:00,  6.75it/s]\n"
     ]
    },
    {
     "name": "stdout",
     "output_type": "stream",
     "text": [
      "Epoch [172], Train Loss : [0.06013] Val Loss : [0.26661] Val F1 Score : [0.76731]\n"
     ]
    },
    {
     "name": "stderr",
     "output_type": "stream",
     "text": [
      "23it [00:03,  6.16it/s]\n",
      "6it [00:00,  6.75it/s]\n"
     ]
    },
    {
     "name": "stdout",
     "output_type": "stream",
     "text": [
      "Epoch [173], Train Loss : [0.09854] Val Loss : [0.25903] Val F1 Score : [0.76944]\n"
     ]
    },
    {
     "name": "stderr",
     "output_type": "stream",
     "text": [
      "23it [00:03,  6.14it/s]\n",
      "6it [00:00,  6.71it/s]\n"
     ]
    },
    {
     "name": "stdout",
     "output_type": "stream",
     "text": [
      "Epoch [174], Train Loss : [0.04000] Val Loss : [0.25738] Val F1 Score : [0.76984]\n"
     ]
    },
    {
     "name": "stderr",
     "output_type": "stream",
     "text": [
      "23it [00:03,  6.07it/s]\n",
      "6it [00:00,  6.77it/s]\n"
     ]
    },
    {
     "name": "stdout",
     "output_type": "stream",
     "text": [
      "Epoch [175], Train Loss : [0.05991] Val Loss : [0.25950] Val F1 Score : [0.77019]\n"
     ]
    },
    {
     "name": "stderr",
     "output_type": "stream",
     "text": [
      "23it [00:03,  5.96it/s]\n",
      "6it [00:00,  6.76it/s]\n"
     ]
    },
    {
     "name": "stdout",
     "output_type": "stream",
     "text": [
      "Epoch [176], Train Loss : [0.04154] Val Loss : [0.26837] Val F1 Score : [0.76788]\n",
      "Epoch   177: reducing learning rate of group 0 to 1.2207e-07.\n"
     ]
    },
    {
     "name": "stderr",
     "output_type": "stream",
     "text": [
      "23it [00:03,  6.04it/s]\n",
      "6it [00:00,  6.59it/s]\n"
     ]
    },
    {
     "name": "stdout",
     "output_type": "stream",
     "text": [
      "Epoch [177], Train Loss : [0.09508] Val Loss : [0.26722] Val F1 Score : [0.77203]\n"
     ]
    },
    {
     "name": "stderr",
     "output_type": "stream",
     "text": [
      "23it [00:03,  5.94it/s]\n",
      "6it [00:00,  6.47it/s]\n"
     ]
    },
    {
     "name": "stdout",
     "output_type": "stream",
     "text": [
      "Epoch [178], Train Loss : [0.03889] Val Loss : [0.25857] Val F1 Score : [0.77299]\n"
     ]
    },
    {
     "name": "stderr",
     "output_type": "stream",
     "text": [
      "23it [00:03,  5.92it/s]\n",
      "6it [00:00,  6.45it/s]\n"
     ]
    },
    {
     "name": "stdout",
     "output_type": "stream",
     "text": [
      "Epoch [179], Train Loss : [0.03949] Val Loss : [0.26450] Val F1 Score : [0.77260]\n"
     ]
    },
    {
     "name": "stderr",
     "output_type": "stream",
     "text": [
      "23it [00:03,  5.94it/s]\n",
      "6it [00:00,  6.44it/s]\n"
     ]
    },
    {
     "name": "stdout",
     "output_type": "stream",
     "text": [
      "Epoch [180], Train Loss : [0.03901] Val Loss : [0.26328] Val F1 Score : [0.76984]\n"
     ]
    },
    {
     "name": "stderr",
     "output_type": "stream",
     "text": [
      "23it [00:03,  6.13it/s]\n",
      "6it [00:00,  6.74it/s]\n"
     ]
    },
    {
     "name": "stdout",
     "output_type": "stream",
     "text": [
      "Epoch [181], Train Loss : [0.04408] Val Loss : [0.26816] Val F1 Score : [0.76775]\n"
     ]
    },
    {
     "name": "stderr",
     "output_type": "stream",
     "text": [
      "23it [00:03,  6.15it/s]\n",
      "6it [00:00,  6.81it/s]\n"
     ]
    },
    {
     "name": "stdout",
     "output_type": "stream",
     "text": [
      "Epoch [182], Train Loss : [0.04237] Val Loss : [0.25728] Val F1 Score : [0.77226]\n"
     ]
    },
    {
     "name": "stderr",
     "output_type": "stream",
     "text": [
      "23it [00:03,  6.01it/s]\n",
      "6it [00:00,  6.73it/s]\n"
     ]
    },
    {
     "name": "stdout",
     "output_type": "stream",
     "text": [
      "Epoch [183], Train Loss : [0.04574] Val Loss : [0.27081] Val F1 Score : [0.75547]\n"
     ]
    },
    {
     "name": "stderr",
     "output_type": "stream",
     "text": [
      "23it [00:03,  6.15it/s]\n",
      "6it [00:00,  6.75it/s]\n"
     ]
    },
    {
     "name": "stdout",
     "output_type": "stream",
     "text": [
      "Epoch [184], Train Loss : [0.04188] Val Loss : [0.26202] Val F1 Score : [0.77276]\n"
     ]
    },
    {
     "name": "stderr",
     "output_type": "stream",
     "text": [
      "23it [00:03,  6.12it/s]\n",
      "6it [00:00,  6.67it/s]\n"
     ]
    },
    {
     "name": "stdout",
     "output_type": "stream",
     "text": [
      "Epoch [185], Train Loss : [0.03992] Val Loss : [0.24451] Val F1 Score : [0.77533]\n"
     ]
    },
    {
     "name": "stderr",
     "output_type": "stream",
     "text": [
      "23it [00:03,  6.15it/s]\n",
      "6it [00:00,  6.63it/s]\n"
     ]
    },
    {
     "name": "stdout",
     "output_type": "stream",
     "text": [
      "Epoch [186], Train Loss : [0.03991] Val Loss : [0.25523] Val F1 Score : [0.77019]\n"
     ]
    },
    {
     "name": "stderr",
     "output_type": "stream",
     "text": [
      "23it [00:03,  6.17it/s]\n",
      "6it [00:00,  6.69it/s]\n"
     ]
    },
    {
     "name": "stdout",
     "output_type": "stream",
     "text": [
      "Epoch [187], Train Loss : [0.04396] Val Loss : [0.26797] Val F1 Score : [0.76895]\n",
      "Epoch   188: reducing learning rate of group 0 to 6.1035e-08.\n"
     ]
    },
    {
     "name": "stderr",
     "output_type": "stream",
     "text": [
      "23it [00:03,  6.16it/s]\n",
      "6it [00:00,  6.70it/s]\n"
     ]
    },
    {
     "name": "stdout",
     "output_type": "stream",
     "text": [
      "Epoch [188], Train Loss : [0.04480] Val Loss : [0.26721] Val F1 Score : [0.76395]\n"
     ]
    },
    {
     "name": "stderr",
     "output_type": "stream",
     "text": [
      "23it [00:03,  6.15it/s]\n",
      "6it [00:00,  6.69it/s]\n"
     ]
    },
    {
     "name": "stdout",
     "output_type": "stream",
     "text": [
      "Epoch [189], Train Loss : [0.04922] Val Loss : [0.26266] Val F1 Score : [0.77350]\n"
     ]
    },
    {
     "name": "stderr",
     "output_type": "stream",
     "text": [
      "23it [00:03,  6.03it/s]\n",
      "6it [00:00,  6.75it/s]\n"
     ]
    },
    {
     "name": "stdout",
     "output_type": "stream",
     "text": [
      "Epoch [190], Train Loss : [0.04690] Val Loss : [0.25724] Val F1 Score : [0.77282]\n"
     ]
    },
    {
     "name": "stderr",
     "output_type": "stream",
     "text": [
      "23it [00:03,  6.12it/s]\n",
      "6it [00:00,  6.79it/s]\n"
     ]
    },
    {
     "name": "stdout",
     "output_type": "stream",
     "text": [
      "Epoch [191], Train Loss : [0.06556] Val Loss : [0.25174] Val F1 Score : [0.77284]\n"
     ]
    },
    {
     "name": "stderr",
     "output_type": "stream",
     "text": [
      "23it [00:03,  6.19it/s]\n",
      "6it [00:00,  6.82it/s]\n"
     ]
    },
    {
     "name": "stdout",
     "output_type": "stream",
     "text": [
      "Epoch [192], Train Loss : [0.05590] Val Loss : [0.25264] Val F1 Score : [0.77438]\n"
     ]
    },
    {
     "name": "stderr",
     "output_type": "stream",
     "text": [
      "23it [00:03,  6.16it/s]\n",
      "6it [00:00,  6.77it/s]\n"
     ]
    },
    {
     "name": "stdout",
     "output_type": "stream",
     "text": [
      "Epoch [193], Train Loss : [0.04216] Val Loss : [0.26621] Val F1 Score : [0.77276]\n"
     ]
    },
    {
     "name": "stderr",
     "output_type": "stream",
     "text": [
      "23it [00:03,  6.20it/s]\n",
      "6it [00:00,  6.68it/s]\n"
     ]
    },
    {
     "name": "stdout",
     "output_type": "stream",
     "text": [
      "Epoch [194], Train Loss : [0.06065] Val Loss : [0.25698] Val F1 Score : [0.76890]\n"
     ]
    },
    {
     "name": "stderr",
     "output_type": "stream",
     "text": [
      "23it [00:03,  6.11it/s]\n",
      "6it [00:00,  6.84it/s]\n"
     ]
    },
    {
     "name": "stdout",
     "output_type": "stream",
     "text": [
      "Epoch [195], Train Loss : [0.04652] Val Loss : [0.26530] Val F1 Score : [0.76750]\n"
     ]
    },
    {
     "name": "stderr",
     "output_type": "stream",
     "text": [
      "23it [00:03,  6.23it/s]\n",
      "6it [00:00,  6.82it/s]\n"
     ]
    },
    {
     "name": "stdout",
     "output_type": "stream",
     "text": [
      "Epoch [196], Train Loss : [0.03828] Val Loss : [0.25705] Val F1 Score : [0.77374]\n"
     ]
    },
    {
     "name": "stderr",
     "output_type": "stream",
     "text": [
      "23it [00:03,  6.08it/s]\n",
      "6it [00:00,  6.82it/s]\n"
     ]
    },
    {
     "name": "stdout",
     "output_type": "stream",
     "text": [
      "Epoch [197], Train Loss : [0.04169] Val Loss : [0.26051] Val F1 Score : [0.77187]\n"
     ]
    },
    {
     "name": "stderr",
     "output_type": "stream",
     "text": [
      "23it [00:03,  6.15it/s]\n",
      "6it [00:00,  6.80it/s]\n"
     ]
    },
    {
     "name": "stdout",
     "output_type": "stream",
     "text": [
      "Epoch [198], Train Loss : [0.04217] Val Loss : [0.26374] Val F1 Score : [0.76984]\n",
      "Epoch   199: reducing learning rate of group 0 to 3.0518e-08.\n"
     ]
    },
    {
     "name": "stderr",
     "output_type": "stream",
     "text": [
      "23it [00:03,  6.18it/s]\n",
      "6it [00:00,  6.78it/s]\n"
     ]
    },
    {
     "name": "stdout",
     "output_type": "stream",
     "text": [
      "Epoch [199], Train Loss : [0.05126] Val Loss : [0.25827] Val F1 Score : [0.77264]\n"
     ]
    },
    {
     "name": "stderr",
     "output_type": "stream",
     "text": [
      "23it [00:03,  6.15it/s]\n",
      "6it [00:00,  6.83it/s]\n"
     ]
    },
    {
     "name": "stdout",
     "output_type": "stream",
     "text": [
      "Epoch [200], Train Loss : [0.03950] Val Loss : [0.26318] Val F1 Score : [0.76690]\n"
     ]
    },
    {
     "name": "stderr",
     "output_type": "stream",
     "text": [
      "23it [00:03,  6.16it/s]\n",
      "6it [00:00,  6.80it/s]\n"
     ]
    },
    {
     "name": "stdout",
     "output_type": "stream",
     "text": [
      "Epoch [201], Train Loss : [0.04066] Val Loss : [0.26554] Val F1 Score : [0.76731]\n"
     ]
    },
    {
     "name": "stderr",
     "output_type": "stream",
     "text": [
      "23it [00:03,  6.21it/s]\n",
      "6it [00:00,  6.80it/s]\n"
     ]
    },
    {
     "name": "stdout",
     "output_type": "stream",
     "text": [
      "Epoch [202], Train Loss : [0.03885] Val Loss : [0.25934] Val F1 Score : [0.78229]\n"
     ]
    },
    {
     "name": "stderr",
     "output_type": "stream",
     "text": [
      "23it [00:03,  6.18it/s]\n",
      "6it [00:00,  6.78it/s]\n"
     ]
    },
    {
     "name": "stdout",
     "output_type": "stream",
     "text": [
      "Epoch [203], Train Loss : [0.03984] Val Loss : [0.26027] Val F1 Score : [0.77095]\n"
     ]
    },
    {
     "name": "stderr",
     "output_type": "stream",
     "text": [
      "23it [00:03,  6.06it/s]\n",
      "6it [00:00,  6.72it/s]\n"
     ]
    },
    {
     "name": "stdout",
     "output_type": "stream",
     "text": [
      "Epoch [204], Train Loss : [0.04604] Val Loss : [0.27050] Val F1 Score : [0.76717]\n"
     ]
    },
    {
     "name": "stderr",
     "output_type": "stream",
     "text": [
      "23it [00:03,  6.14it/s]\n",
      "6it [00:00,  6.72it/s]\n"
     ]
    },
    {
     "name": "stdout",
     "output_type": "stream",
     "text": [
      "Epoch [205], Train Loss : [0.04490] Val Loss : [0.25534] Val F1 Score : [0.77054]\n"
     ]
    },
    {
     "name": "stderr",
     "output_type": "stream",
     "text": [
      "23it [00:03,  6.11it/s]\n",
      "6it [00:00,  6.79it/s]\n"
     ]
    },
    {
     "name": "stdout",
     "output_type": "stream",
     "text": [
      "Epoch [206], Train Loss : [0.04118] Val Loss : [0.25937] Val F1 Score : [0.77339]\n"
     ]
    },
    {
     "name": "stderr",
     "output_type": "stream",
     "text": [
      "23it [00:03,  6.14it/s]\n",
      "6it [00:00,  6.75it/s]\n"
     ]
    },
    {
     "name": "stdout",
     "output_type": "stream",
     "text": [
      "Epoch [207], Train Loss : [0.04804] Val Loss : [0.25650] Val F1 Score : [0.77449]\n"
     ]
    },
    {
     "name": "stderr",
     "output_type": "stream",
     "text": [
      "23it [00:03,  6.11it/s]\n",
      "6it [00:00,  6.65it/s]\n"
     ]
    },
    {
     "name": "stdout",
     "output_type": "stream",
     "text": [
      "Epoch [208], Train Loss : [0.04089] Val Loss : [0.25810] Val F1 Score : [0.77432]\n"
     ]
    },
    {
     "name": "stderr",
     "output_type": "stream",
     "text": [
      "23it [00:03,  6.12it/s]\n",
      "6it [00:00,  6.80it/s]\n"
     ]
    },
    {
     "name": "stdout",
     "output_type": "stream",
     "text": [
      "Epoch [209], Train Loss : [0.04952] Val Loss : [0.26210] Val F1 Score : [0.77482]\n",
      "Epoch   210: reducing learning rate of group 0 to 1.5259e-08.\n"
     ]
    },
    {
     "name": "stderr",
     "output_type": "stream",
     "text": [
      "23it [00:03,  6.14it/s]\n",
      "6it [00:00,  6.45it/s]\n"
     ]
    },
    {
     "name": "stdout",
     "output_type": "stream",
     "text": [
      "Epoch [210], Train Loss : [0.03827] Val Loss : [0.25429] Val F1 Score : [0.77415]\n"
     ]
    },
    {
     "name": "stderr",
     "output_type": "stream",
     "text": [
      "23it [00:03,  5.98it/s]\n",
      "6it [00:00,  6.68it/s]\n"
     ]
    },
    {
     "name": "stdout",
     "output_type": "stream",
     "text": [
      "Epoch [211], Train Loss : [0.04097] Val Loss : [0.26078] Val F1 Score : [0.77003]\n"
     ]
    },
    {
     "name": "stderr",
     "output_type": "stream",
     "text": [
      "23it [00:03,  6.24it/s]\n",
      "6it [00:00,  6.86it/s]\n"
     ]
    },
    {
     "name": "stdout",
     "output_type": "stream",
     "text": [
      "Epoch [212], Train Loss : [0.05026] Val Loss : [0.26067] Val F1 Score : [0.77317]\n"
     ]
    },
    {
     "name": "stderr",
     "output_type": "stream",
     "text": [
      "23it [00:03,  6.08it/s]\n",
      "6it [00:00,  6.75it/s]\n"
     ]
    },
    {
     "name": "stdout",
     "output_type": "stream",
     "text": [
      "Epoch [213], Train Loss : [0.08670] Val Loss : [0.27150] Val F1 Score : [0.75746]\n"
     ]
    },
    {
     "name": "stderr",
     "output_type": "stream",
     "text": [
      "23it [00:03,  6.15it/s]\n",
      "6it [00:00,  6.75it/s]\n"
     ]
    },
    {
     "name": "stdout",
     "output_type": "stream",
     "text": [
      "Epoch [214], Train Loss : [0.04674] Val Loss : [0.26566] Val F1 Score : [0.76296]\n"
     ]
    },
    {
     "name": "stderr",
     "output_type": "stream",
     "text": [
      "23it [00:03,  6.15it/s]\n",
      "6it [00:00,  6.68it/s]\n"
     ]
    },
    {
     "name": "stdout",
     "output_type": "stream",
     "text": [
      "Epoch [215], Train Loss : [0.04398] Val Loss : [0.26880] Val F1 Score : [0.76345]\n"
     ]
    },
    {
     "name": "stderr",
     "output_type": "stream",
     "text": [
      "23it [00:03,  6.13it/s]\n",
      "6it [00:00,  6.72it/s]\n"
     ]
    },
    {
     "name": "stdout",
     "output_type": "stream",
     "text": [
      "Epoch [216], Train Loss : [0.04106] Val Loss : [0.25686] Val F1 Score : [0.76979]\n"
     ]
    },
    {
     "name": "stderr",
     "output_type": "stream",
     "text": [
      "23it [00:03,  6.14it/s]\n",
      "6it [00:00,  6.70it/s]\n"
     ]
    },
    {
     "name": "stdout",
     "output_type": "stream",
     "text": [
      "Epoch [217], Train Loss : [0.04149] Val Loss : [0.25848] Val F1 Score : [0.77474]\n"
     ]
    },
    {
     "name": "stderr",
     "output_type": "stream",
     "text": [
      "23it [00:03,  5.99it/s]\n",
      "6it [00:00,  6.65it/s]\n"
     ]
    },
    {
     "name": "stdout",
     "output_type": "stream",
     "text": [
      "Epoch [218], Train Loss : [0.04175] Val Loss : [0.25617] Val F1 Score : [0.77692]\n"
     ]
    },
    {
     "name": "stderr",
     "output_type": "stream",
     "text": [
      "23it [00:03,  6.10it/s]\n",
      "6it [00:00,  6.65it/s]\n"
     ]
    },
    {
     "name": "stdout",
     "output_type": "stream",
     "text": [
      "Epoch [219], Train Loss : [0.04889] Val Loss : [0.26281] Val F1 Score : [0.76985]\n"
     ]
    },
    {
     "name": "stderr",
     "output_type": "stream",
     "text": [
      "23it [00:03,  6.12it/s]\n",
      "6it [00:00,  6.65it/s]\n"
     ]
    },
    {
     "name": "stdout",
     "output_type": "stream",
     "text": [
      "Epoch [220], Train Loss : [0.04195] Val Loss : [0.26280] Val F1 Score : [0.76895]\n"
     ]
    },
    {
     "name": "stderr",
     "output_type": "stream",
     "text": [
      "23it [00:03,  6.05it/s]\n",
      "6it [00:00,  6.73it/s]\n"
     ]
    },
    {
     "name": "stdout",
     "output_type": "stream",
     "text": [
      "Epoch [221], Train Loss : [0.05188] Val Loss : [0.25917] Val F1 Score : [0.77095]\n"
     ]
    },
    {
     "name": "stderr",
     "output_type": "stream",
     "text": [
      "23it [00:03,  6.16it/s]\n",
      "6it [00:00,  6.75it/s]\n"
     ]
    },
    {
     "name": "stdout",
     "output_type": "stream",
     "text": [
      "Epoch [222], Train Loss : [0.06317] Val Loss : [0.25589] Val F1 Score : [0.77150]\n"
     ]
    },
    {
     "name": "stderr",
     "output_type": "stream",
     "text": [
      "23it [00:03,  6.18it/s]\n",
      "6it [00:00,  6.77it/s]\n"
     ]
    },
    {
     "name": "stdout",
     "output_type": "stream",
     "text": [
      "Epoch [223], Train Loss : [0.04622] Val Loss : [0.25918] Val F1 Score : [0.77449]\n"
     ]
    },
    {
     "name": "stderr",
     "output_type": "stream",
     "text": [
      "23it [00:03,  6.15it/s]\n",
      "6it [00:00,  6.77it/s]\n"
     ]
    },
    {
     "name": "stdout",
     "output_type": "stream",
     "text": [
      "Epoch [224], Train Loss : [0.04098] Val Loss : [0.26173] Val F1 Score : [0.77003]\n"
     ]
    },
    {
     "name": "stderr",
     "output_type": "stream",
     "text": [
      "23it [00:03,  6.01it/s]\n",
      "6it [00:00,  6.78it/s]\n"
     ]
    },
    {
     "name": "stdout",
     "output_type": "stream",
     "text": [
      "Epoch [225], Train Loss : [0.05827] Val Loss : [0.25782] Val F1 Score : [0.77814]\n"
     ]
    },
    {
     "name": "stderr",
     "output_type": "stream",
     "text": [
      "23it [00:03,  6.15it/s]\n",
      "6it [00:00,  6.77it/s]\n"
     ]
    },
    {
     "name": "stdout",
     "output_type": "stream",
     "text": [
      "Epoch [226], Train Loss : [0.04027] Val Loss : [0.26861] Val F1 Score : [0.76366]\n"
     ]
    },
    {
     "name": "stderr",
     "output_type": "stream",
     "text": [
      "23it [00:03,  6.21it/s]\n",
      "6it [00:00,  6.72it/s]\n"
     ]
    },
    {
     "name": "stdout",
     "output_type": "stream",
     "text": [
      "Epoch [227], Train Loss : [0.05162] Val Loss : [0.26206] Val F1 Score : [0.77113]\n"
     ]
    },
    {
     "name": "stderr",
     "output_type": "stream",
     "text": [
      "23it [00:03,  6.16it/s]\n",
      "6it [00:00,  6.77it/s]\n"
     ]
    },
    {
     "name": "stdout",
     "output_type": "stream",
     "text": [
      "Epoch [228], Train Loss : [0.04245] Val Loss : [0.25916] Val F1 Score : [0.77203]\n"
     ]
    },
    {
     "name": "stderr",
     "output_type": "stream",
     "text": [
      "23it [00:03,  6.20it/s]\n",
      "6it [00:00,  6.70it/s]\n"
     ]
    },
    {
     "name": "stdout",
     "output_type": "stream",
     "text": [
      "Epoch [229], Train Loss : [0.04866] Val Loss : [0.25692] Val F1 Score : [0.77130]\n"
     ]
    },
    {
     "name": "stderr",
     "output_type": "stream",
     "text": [
      "23it [00:03,  6.22it/s]\n",
      "6it [00:00,  6.79it/s]\n"
     ]
    },
    {
     "name": "stdout",
     "output_type": "stream",
     "text": [
      "Epoch [230], Train Loss : [0.04183] Val Loss : [0.26510] Val F1 Score : [0.76659]\n"
     ]
    },
    {
     "name": "stderr",
     "output_type": "stream",
     "text": [
      "23it [00:03,  6.17it/s]\n",
      "6it [00:00,  6.79it/s]\n"
     ]
    },
    {
     "name": "stdout",
     "output_type": "stream",
     "text": [
      "Epoch [231], Train Loss : [0.04139] Val Loss : [0.26505] Val F1 Score : [0.77058]\n"
     ]
    },
    {
     "name": "stderr",
     "output_type": "stream",
     "text": [
      "23it [00:03,  5.99it/s]\n",
      "6it [00:00,  6.78it/s]\n"
     ]
    },
    {
     "name": "stdout",
     "output_type": "stream",
     "text": [
      "Epoch [232], Train Loss : [0.03931] Val Loss : [0.26248] Val F1 Score : [0.76770]\n"
     ]
    },
    {
     "name": "stderr",
     "output_type": "stream",
     "text": [
      "23it [00:03,  6.15it/s]\n",
      "6it [00:00,  6.87it/s]\n"
     ]
    },
    {
     "name": "stdout",
     "output_type": "stream",
     "text": [
      "Epoch [233], Train Loss : [0.03984] Val Loss : [0.26679] Val F1 Score : [0.76770]\n"
     ]
    },
    {
     "name": "stderr",
     "output_type": "stream",
     "text": [
      "23it [00:03,  6.21it/s]\n",
      "6it [00:00,  6.83it/s]\n"
     ]
    },
    {
     "name": "stdout",
     "output_type": "stream",
     "text": [
      "Epoch [234], Train Loss : [0.04111] Val Loss : [0.26656] Val F1 Score : [0.76698]\n"
     ]
    },
    {
     "name": "stderr",
     "output_type": "stream",
     "text": [
      "23it [00:03,  6.18it/s]\n",
      "6it [00:00,  6.70it/s]\n"
     ]
    },
    {
     "name": "stdout",
     "output_type": "stream",
     "text": [
      "Epoch [235], Train Loss : [0.04663] Val Loss : [0.25903] Val F1 Score : [0.76743]\n"
     ]
    },
    {
     "name": "stderr",
     "output_type": "stream",
     "text": [
      "23it [00:03,  6.19it/s]\n",
      "6it [00:00,  6.78it/s]\n"
     ]
    },
    {
     "name": "stdout",
     "output_type": "stream",
     "text": [
      "Epoch [236], Train Loss : [0.06338] Val Loss : [0.26898] Val F1 Score : [0.77095]\n"
     ]
    },
    {
     "name": "stderr",
     "output_type": "stream",
     "text": [
      "23it [00:03,  6.15it/s]\n",
      "6it [00:00,  6.81it/s]\n"
     ]
    },
    {
     "name": "stdout",
     "output_type": "stream",
     "text": [
      "Epoch [237], Train Loss : [0.04472] Val Loss : [0.26472] Val F1 Score : [0.76556]\n"
     ]
    },
    {
     "name": "stderr",
     "output_type": "stream",
     "text": [
      "23it [00:03,  6.17it/s]\n",
      "6it [00:00,  6.81it/s]\n"
     ]
    },
    {
     "name": "stdout",
     "output_type": "stream",
     "text": [
      "Epoch [238], Train Loss : [0.04083] Val Loss : [0.27178] Val F1 Score : [0.76345]\n"
     ]
    },
    {
     "name": "stderr",
     "output_type": "stream",
     "text": [
      "23it [00:03,  6.01it/s]\n",
      "6it [00:00,  6.81it/s]\n"
     ]
    },
    {
     "name": "stdout",
     "output_type": "stream",
     "text": [
      "Epoch [239], Train Loss : [0.04259] Val Loss : [0.26051] Val F1 Score : [0.76895]\n"
     ]
    },
    {
     "name": "stderr",
     "output_type": "stream",
     "text": [
      "23it [00:03,  6.18it/s]\n",
      "6it [00:00,  6.77it/s]\n"
     ]
    },
    {
     "name": "stdout",
     "output_type": "stream",
     "text": [
      "Epoch [240], Train Loss : [0.07073] Val Loss : [0.25907] Val F1 Score : [0.76984]\n"
     ]
    },
    {
     "name": "stderr",
     "output_type": "stream",
     "text": [
      "23it [00:03,  6.11it/s]\n",
      "6it [00:00,  6.75it/s]\n"
     ]
    },
    {
     "name": "stdout",
     "output_type": "stream",
     "text": [
      "Epoch [241], Train Loss : [0.03902] Val Loss : [0.26431] Val F1 Score : [0.76587]\n"
     ]
    },
    {
     "name": "stderr",
     "output_type": "stream",
     "text": [
      "23it [00:03,  6.14it/s]\n",
      "6it [00:00,  6.72it/s]\n"
     ]
    },
    {
     "name": "stdout",
     "output_type": "stream",
     "text": [
      "Epoch [242], Train Loss : [0.04405] Val Loss : [0.26733] Val F1 Score : [0.76423]\n"
     ]
    },
    {
     "name": "stderr",
     "output_type": "stream",
     "text": [
      "23it [00:03,  6.15it/s]\n",
      "6it [00:00,  6.72it/s]\n"
     ]
    },
    {
     "name": "stdout",
     "output_type": "stream",
     "text": [
      "Epoch [243], Train Loss : [0.08790] Val Loss : [0.25433] Val F1 Score : [0.77892]\n"
     ]
    },
    {
     "name": "stderr",
     "output_type": "stream",
     "text": [
      "23it [00:03,  6.16it/s]\n",
      "6it [00:00,  6.63it/s]\n"
     ]
    },
    {
     "name": "stdout",
     "output_type": "stream",
     "text": [
      "Epoch [244], Train Loss : [0.05016] Val Loss : [0.25635] Val F1 Score : [0.76944]\n"
     ]
    },
    {
     "name": "stderr",
     "output_type": "stream",
     "text": [
      "23it [00:03,  6.11it/s]\n",
      "6it [00:00,  6.67it/s]\n"
     ]
    },
    {
     "name": "stdout",
     "output_type": "stream",
     "text": [
      "Epoch [245], Train Loss : [0.03775] Val Loss : [0.25993] Val F1 Score : [0.76753]\n"
     ]
    },
    {
     "name": "stderr",
     "output_type": "stream",
     "text": [
      "23it [00:03,  6.01it/s]\n",
      "6it [00:00,  6.64it/s]\n"
     ]
    },
    {
     "name": "stdout",
     "output_type": "stream",
     "text": [
      "Epoch [246], Train Loss : [0.08404] Val Loss : [0.25644] Val F1 Score : [0.77474]\n"
     ]
    },
    {
     "name": "stderr",
     "output_type": "stream",
     "text": [
      "23it [00:03,  6.17it/s]\n",
      "6it [00:00,  6.73it/s]\n"
     ]
    },
    {
     "name": "stdout",
     "output_type": "stream",
     "text": [
      "Epoch [247], Train Loss : [0.04024] Val Loss : [0.26451] Val F1 Score : [0.76822]\n"
     ]
    },
    {
     "name": "stderr",
     "output_type": "stream",
     "text": [
      "23it [00:03,  6.21it/s]\n",
      "6it [00:00,  6.78it/s]\n"
     ]
    },
    {
     "name": "stdout",
     "output_type": "stream",
     "text": [
      "Epoch [248], Train Loss : [0.08591] Val Loss : [0.25500] Val F1 Score : [0.77689]\n"
     ]
    },
    {
     "name": "stderr",
     "output_type": "stream",
     "text": [
      "23it [00:03,  6.20it/s]\n",
      "6it [00:00,  6.72it/s]\n"
     ]
    },
    {
     "name": "stdout",
     "output_type": "stream",
     "text": [
      "Epoch [249], Train Loss : [0.04134] Val Loss : [0.25886] Val F1 Score : [0.77095]\n"
     ]
    },
    {
     "name": "stderr",
     "output_type": "stream",
     "text": [
      "23it [00:03,  6.15it/s]\n",
      "6it [00:00,  6.75it/s]\n"
     ]
    },
    {
     "name": "stdout",
     "output_type": "stream",
     "text": [
      "Epoch [250], Train Loss : [0.04357] Val Loss : [0.26353] Val F1 Score : [0.76731]\n"
     ]
    },
    {
     "name": "stderr",
     "output_type": "stream",
     "text": [
      "23it [00:03,  6.14it/s]\n",
      "6it [00:00,  6.59it/s]\n"
     ]
    },
    {
     "name": "stdout",
     "output_type": "stream",
     "text": [
      "Epoch [251], Train Loss : [0.03983] Val Loss : [0.26455] Val F1 Score : [0.77374]\n"
     ]
    },
    {
     "name": "stderr",
     "output_type": "stream",
     "text": [
      "23it [00:03,  6.12it/s]\n",
      "6it [00:00,  6.69it/s]\n"
     ]
    },
    {
     "name": "stdout",
     "output_type": "stream",
     "text": [
      "Epoch [252], Train Loss : [0.07815] Val Loss : [0.25883] Val F1 Score : [0.77600]\n"
     ]
    },
    {
     "name": "stderr",
     "output_type": "stream",
     "text": [
      "23it [00:03,  6.03it/s]\n",
      "6it [00:00,  6.70it/s]\n"
     ]
    },
    {
     "name": "stdout",
     "output_type": "stream",
     "text": [
      "Epoch [253], Train Loss : [0.05690] Val Loss : [0.26144] Val F1 Score : [0.77003]\n"
     ]
    },
    {
     "name": "stderr",
     "output_type": "stream",
     "text": [
      "23it [00:03,  6.13it/s]\n",
      "6it [00:00,  6.60it/s]\n"
     ]
    },
    {
     "name": "stdout",
     "output_type": "stream",
     "text": [
      "Epoch [254], Train Loss : [0.03937] Val Loss : [0.26499] Val F1 Score : [0.76967]\n"
     ]
    },
    {
     "name": "stderr",
     "output_type": "stream",
     "text": [
      "23it [00:03,  6.12it/s]\n",
      "6it [00:00,  6.61it/s]\n"
     ]
    },
    {
     "name": "stdout",
     "output_type": "stream",
     "text": [
      "Epoch [255], Train Loss : [0.08493] Val Loss : [0.32283] Val F1 Score : [0.71990]\n"
     ]
    },
    {
     "name": "stderr",
     "output_type": "stream",
     "text": [
      "23it [00:03,  6.09it/s]\n",
      "6it [00:00,  6.76it/s]\n"
     ]
    },
    {
     "name": "stdout",
     "output_type": "stream",
     "text": [
      "Epoch [256], Train Loss : [0.04020] Val Loss : [0.27146] Val F1 Score : [0.75705]\n"
     ]
    },
    {
     "name": "stderr",
     "output_type": "stream",
     "text": [
      "23it [00:03,  6.11it/s]\n",
      "6it [00:00,  6.67it/s]\n"
     ]
    },
    {
     "name": "stdout",
     "output_type": "stream",
     "text": [
      "Epoch [257], Train Loss : [0.04620] Val Loss : [0.25885] Val F1 Score : [0.76638]\n"
     ]
    },
    {
     "name": "stderr",
     "output_type": "stream",
     "text": [
      "23it [00:03,  6.10it/s]\n",
      "6it [00:00,  6.77it/s]\n"
     ]
    },
    {
     "name": "stdout",
     "output_type": "stream",
     "text": [
      "Epoch [258], Train Loss : [0.04335] Val Loss : [0.25862] Val F1 Score : [0.77466]\n"
     ]
    },
    {
     "name": "stderr",
     "output_type": "stream",
     "text": [
      "23it [00:03,  6.13it/s]\n",
      "6it [00:00,  6.74it/s]\n"
     ]
    },
    {
     "name": "stdout",
     "output_type": "stream",
     "text": [
      "Epoch [259], Train Loss : [0.04870] Val Loss : [0.25976] Val F1 Score : [0.77391]\n"
     ]
    },
    {
     "name": "stderr",
     "output_type": "stream",
     "text": [
      "23it [00:03,  6.02it/s]\n",
      "6it [00:00,  6.73it/s]\n"
     ]
    },
    {
     "name": "stdout",
     "output_type": "stream",
     "text": [
      "Epoch [260], Train Loss : [0.04067] Val Loss : [0.25735] Val F1 Score : [0.77299]\n"
     ]
    },
    {
     "name": "stderr",
     "output_type": "stream",
     "text": [
      "23it [00:03,  6.08it/s]\n",
      "6it [00:00,  6.60it/s]\n"
     ]
    },
    {
     "name": "stdout",
     "output_type": "stream",
     "text": [
      "Epoch [261], Train Loss : [0.04089] Val Loss : [0.25532] Val F1 Score : [0.77456]\n"
     ]
    },
    {
     "name": "stderr",
     "output_type": "stream",
     "text": [
      "23it [00:03,  6.06it/s]\n",
      "6it [00:00,  6.62it/s]\n"
     ]
    },
    {
     "name": "stdout",
     "output_type": "stream",
     "text": [
      "Epoch [262], Train Loss : [0.04221] Val Loss : [0.26022] Val F1 Score : [0.76618]\n"
     ]
    },
    {
     "name": "stderr",
     "output_type": "stream",
     "text": [
      "23it [00:03,  6.13it/s]\n",
      "6it [00:00,  6.67it/s]\n"
     ]
    },
    {
     "name": "stdout",
     "output_type": "stream",
     "text": [
      "Epoch [263], Train Loss : [0.04095] Val Loss : [0.26010] Val F1 Score : [0.76743]\n"
     ]
    },
    {
     "name": "stderr",
     "output_type": "stream",
     "text": [
      "23it [00:03,  6.11it/s]\n",
      "6it [00:00,  6.69it/s]\n"
     ]
    },
    {
     "name": "stdout",
     "output_type": "stream",
     "text": [
      "Epoch [264], Train Loss : [0.04068] Val Loss : [0.26720] Val F1 Score : [0.76116]\n"
     ]
    },
    {
     "name": "stderr",
     "output_type": "stream",
     "text": [
      "23it [00:03,  6.08it/s]\n",
      "6it [00:00,  6.64it/s]\n"
     ]
    },
    {
     "name": "stdout",
     "output_type": "stream",
     "text": [
      "Epoch [265], Train Loss : [0.04518] Val Loss : [0.25912] Val F1 Score : [0.76618]\n"
     ]
    },
    {
     "name": "stderr",
     "output_type": "stream",
     "text": [
      "23it [00:03,  6.13it/s]\n",
      "6it [00:00,  6.73it/s]\n"
     ]
    },
    {
     "name": "stdout",
     "output_type": "stream",
     "text": [
      "Epoch [266], Train Loss : [0.03990] Val Loss : [0.25481] Val F1 Score : [0.77584]\n"
     ]
    },
    {
     "name": "stderr",
     "output_type": "stream",
     "text": [
      "23it [00:03,  5.98it/s]\n",
      "6it [00:00,  6.75it/s]\n"
     ]
    },
    {
     "name": "stdout",
     "output_type": "stream",
     "text": [
      "Epoch [267], Train Loss : [0.05479] Val Loss : [0.43722] Val F1 Score : [0.66697]\n"
     ]
    },
    {
     "name": "stderr",
     "output_type": "stream",
     "text": [
      "23it [00:03,  6.09it/s]\n",
      "6it [00:00,  6.72it/s]\n"
     ]
    },
    {
     "name": "stdout",
     "output_type": "stream",
     "text": [
      "Epoch [268], Train Loss : [0.04972] Val Loss : [0.27968] Val F1 Score : [0.74993]\n"
     ]
    },
    {
     "name": "stderr",
     "output_type": "stream",
     "text": [
      "23it [00:03,  6.08it/s]\n",
      "6it [00:00,  6.63it/s]\n"
     ]
    },
    {
     "name": "stdout",
     "output_type": "stream",
     "text": [
      "Epoch [269], Train Loss : [0.10342] Val Loss : [0.25808] Val F1 Score : [0.76237]\n"
     ]
    },
    {
     "name": "stderr",
     "output_type": "stream",
     "text": [
      "23it [00:03,  6.10it/s]\n",
      "6it [00:00,  6.66it/s]\n"
     ]
    },
    {
     "name": "stdout",
     "output_type": "stream",
     "text": [
      "Epoch [270], Train Loss : [0.04883] Val Loss : [0.25967] Val F1 Score : [0.76210]\n"
     ]
    },
    {
     "name": "stderr",
     "output_type": "stream",
     "text": [
      "23it [00:03,  6.10it/s]\n",
      "6it [00:00,  6.69it/s]\n"
     ]
    },
    {
     "name": "stdout",
     "output_type": "stream",
     "text": [
      "Epoch [271], Train Loss : [0.04006] Val Loss : [0.25625] Val F1 Score : [0.77432]\n"
     ]
    },
    {
     "name": "stderr",
     "output_type": "stream",
     "text": [
      "23it [00:03,  6.13it/s]\n",
      "6it [00:00,  6.75it/s]\n"
     ]
    },
    {
     "name": "stdout",
     "output_type": "stream",
     "text": [
      "Epoch [272], Train Loss : [0.03950] Val Loss : [0.26501] Val F1 Score : [0.76750]\n"
     ]
    },
    {
     "name": "stderr",
     "output_type": "stream",
     "text": [
      "23it [00:03,  6.11it/s]\n",
      "6it [00:00,  6.71it/s]\n"
     ]
    },
    {
     "name": "stdout",
     "output_type": "stream",
     "text": [
      "Epoch [273], Train Loss : [0.04016] Val Loss : [0.26892] Val F1 Score : [0.76679]\n"
     ]
    },
    {
     "name": "stderr",
     "output_type": "stream",
     "text": [
      "23it [00:03,  5.99it/s]\n",
      "6it [00:00,  6.71it/s]\n"
     ]
    },
    {
     "name": "stdout",
     "output_type": "stream",
     "text": [
      "Epoch [274], Train Loss : [0.05095] Val Loss : [0.26203] Val F1 Score : [0.77449]\n"
     ]
    },
    {
     "name": "stderr",
     "output_type": "stream",
     "text": [
      "23it [00:03,  6.13it/s]\n",
      "6it [00:00,  6.74it/s]\n"
     ]
    },
    {
     "name": "stdout",
     "output_type": "stream",
     "text": [
      "Epoch [275], Train Loss : [0.04050] Val Loss : [0.25770] Val F1 Score : [0.77125]\n"
     ]
    },
    {
     "name": "stderr",
     "output_type": "stream",
     "text": [
      "23it [00:03,  6.12it/s]\n",
      "6it [00:00,  6.67it/s]\n"
     ]
    },
    {
     "name": "stdout",
     "output_type": "stream",
     "text": [
      "Epoch [276], Train Loss : [0.04685] Val Loss : [0.26475] Val F1 Score : [0.77021]\n"
     ]
    },
    {
     "name": "stderr",
     "output_type": "stream",
     "text": [
      "23it [00:03,  6.08it/s]\n",
      "6it [00:00,  6.69it/s]\n"
     ]
    },
    {
     "name": "stdout",
     "output_type": "stream",
     "text": [
      "Epoch [277], Train Loss : [0.04106] Val Loss : [0.25994] Val F1 Score : [0.76948]\n"
     ]
    },
    {
     "name": "stderr",
     "output_type": "stream",
     "text": [
      "23it [00:03,  6.08it/s]\n",
      "6it [00:00,  6.78it/s]\n"
     ]
    },
    {
     "name": "stdout",
     "output_type": "stream",
     "text": [
      "Epoch [278], Train Loss : [0.04024] Val Loss : [0.25411] Val F1 Score : [0.76849]\n"
     ]
    },
    {
     "name": "stderr",
     "output_type": "stream",
     "text": [
      "23it [00:03,  6.16it/s]\n",
      "6it [00:00,  6.77it/s]\n"
     ]
    },
    {
     "name": "stdout",
     "output_type": "stream",
     "text": [
      "Epoch [279], Train Loss : [0.05134] Val Loss : [0.25902] Val F1 Score : [0.77317]\n"
     ]
    },
    {
     "name": "stderr",
     "output_type": "stream",
     "text": [
      "23it [00:03,  6.22it/s]\n",
      "6it [00:00,  6.79it/s]\n"
     ]
    },
    {
     "name": "stdout",
     "output_type": "stream",
     "text": [
      "Epoch [280], Train Loss : [0.04108] Val Loss : [0.26096] Val F1 Score : [0.76803]\n"
     ]
    },
    {
     "name": "stderr",
     "output_type": "stream",
     "text": [
      "23it [00:03,  6.08it/s]\n",
      "6it [00:00,  6.86it/s]\n"
     ]
    },
    {
     "name": "stdout",
     "output_type": "stream",
     "text": [
      "Epoch [281], Train Loss : [0.04775] Val Loss : [0.26401] Val F1 Score : [0.77021]\n"
     ]
    },
    {
     "name": "stderr",
     "output_type": "stream",
     "text": [
      "23it [00:03,  6.23it/s]\n",
      "6it [00:00,  6.74it/s]\n"
     ]
    },
    {
     "name": "stdout",
     "output_type": "stream",
     "text": [
      "Epoch [282], Train Loss : [0.04365] Val Loss : [0.25620] Val F1 Score : [0.77584]\n"
     ]
    },
    {
     "name": "stderr",
     "output_type": "stream",
     "text": [
      "23it [00:03,  6.19it/s]\n",
      "6it [00:00,  6.74it/s]\n"
     ]
    },
    {
     "name": "stdout",
     "output_type": "stream",
     "text": [
      "Epoch [283], Train Loss : [0.04004] Val Loss : [0.26898] Val F1 Score : [0.76045]\n"
     ]
    },
    {
     "name": "stderr",
     "output_type": "stream",
     "text": [
      "23it [00:03,  6.16it/s]\n",
      "6it [00:00,  6.78it/s]\n"
     ]
    },
    {
     "name": "stdout",
     "output_type": "stream",
     "text": [
      "Epoch [284], Train Loss : [0.06841] Val Loss : [0.26414] Val F1 Score : [0.75609]\n"
     ]
    },
    {
     "name": "stderr",
     "output_type": "stream",
     "text": [
      "23it [00:03,  6.16it/s]\n",
      "6it [00:00,  6.80it/s]\n"
     ]
    },
    {
     "name": "stdout",
     "output_type": "stream",
     "text": [
      "Epoch [285], Train Loss : [0.04091] Val Loss : [0.26940] Val F1 Score : [0.77109]\n"
     ]
    },
    {
     "name": "stderr",
     "output_type": "stream",
     "text": [
      "23it [00:03,  6.19it/s]\n",
      "6it [00:00,  6.77it/s]\n"
     ]
    },
    {
     "name": "stdout",
     "output_type": "stream",
     "text": [
      "Epoch [286], Train Loss : [0.05908] Val Loss : [0.26082] Val F1 Score : [0.77432]\n"
     ]
    },
    {
     "name": "stderr",
     "output_type": "stream",
     "text": [
      "23it [00:03,  6.17it/s]\n",
      "6it [00:00,  6.75it/s]\n"
     ]
    },
    {
     "name": "stdout",
     "output_type": "stream",
     "text": [
      "Epoch [287], Train Loss : [0.04104] Val Loss : [0.25638] Val F1 Score : [0.77245]\n"
     ]
    },
    {
     "name": "stderr",
     "output_type": "stream",
     "text": [
      "23it [00:03,  5.95it/s]\n",
      "6it [00:00,  6.70it/s]\n"
     ]
    },
    {
     "name": "stdout",
     "output_type": "stream",
     "text": [
      "Epoch [288], Train Loss : [0.04085] Val Loss : [0.26534] Val F1 Score : [0.76984]\n"
     ]
    },
    {
     "name": "stderr",
     "output_type": "stream",
     "text": [
      "23it [00:03,  6.15it/s]\n",
      "6it [00:00,  6.71it/s]\n"
     ]
    },
    {
     "name": "stdout",
     "output_type": "stream",
     "text": [
      "Epoch [289], Train Loss : [0.03997] Val Loss : [0.25927] Val F1 Score : [0.77644]\n"
     ]
    },
    {
     "name": "stderr",
     "output_type": "stream",
     "text": [
      "23it [00:03,  6.17it/s]\n",
      "6it [00:00,  6.73it/s]\n"
     ]
    },
    {
     "name": "stdout",
     "output_type": "stream",
     "text": [
      "Epoch [290], Train Loss : [0.05445] Val Loss : [0.25722] Val F1 Score : [0.77168]\n"
     ]
    },
    {
     "name": "stderr",
     "output_type": "stream",
     "text": [
      "23it [00:03,  6.18it/s]\n",
      "6it [00:00,  6.75it/s]\n"
     ]
    },
    {
     "name": "stdout",
     "output_type": "stream",
     "text": [
      "Epoch [291], Train Loss : [0.04098] Val Loss : [0.26416] Val F1 Score : [0.76924]\n"
     ]
    },
    {
     "name": "stderr",
     "output_type": "stream",
     "text": [
      "23it [00:03,  6.13it/s]\n",
      "6it [00:00,  6.45it/s]\n"
     ]
    },
    {
     "name": "stdout",
     "output_type": "stream",
     "text": [
      "Epoch [292], Train Loss : [0.05638] Val Loss : [0.25934] Val F1 Score : [0.78216]\n"
     ]
    },
    {
     "name": "stderr",
     "output_type": "stream",
     "text": [
      "23it [00:03,  5.96it/s]\n",
      "6it [00:00,  6.68it/s]\n"
     ]
    },
    {
     "name": "stdout",
     "output_type": "stream",
     "text": [
      "Epoch [293], Train Loss : [0.06145] Val Loss : [0.26377] Val F1 Score : [0.77557]\n"
     ]
    },
    {
     "name": "stderr",
     "output_type": "stream",
     "text": [
      "23it [00:03,  6.17it/s]\n",
      "6it [00:00,  6.81it/s]\n"
     ]
    },
    {
     "name": "stdout",
     "output_type": "stream",
     "text": [
      "Epoch [294], Train Loss : [0.05113] Val Loss : [0.26974] Val F1 Score : [0.76627]\n"
     ]
    },
    {
     "name": "stderr",
     "output_type": "stream",
     "text": [
      "23it [00:03,  6.11it/s]\n",
      "6it [00:00,  6.73it/s]\n"
     ]
    },
    {
     "name": "stdout",
     "output_type": "stream",
     "text": [
      "Epoch [295], Train Loss : [0.06216] Val Loss : [0.26809] Val F1 Score : [0.76444]\n"
     ]
    },
    {
     "name": "stderr",
     "output_type": "stream",
     "text": [
      "23it [00:03,  6.17it/s]\n",
      "6it [00:00,  6.70it/s]\n"
     ]
    },
    {
     "name": "stdout",
     "output_type": "stream",
     "text": [
      "Epoch [296], Train Loss : [0.03922] Val Loss : [0.25930] Val F1 Score : [0.77113]\n"
     ]
    },
    {
     "name": "stderr",
     "output_type": "stream",
     "text": [
      "23it [00:03,  6.16it/s]\n",
      "6it [00:00,  6.79it/s]\n"
     ]
    },
    {
     "name": "stdout",
     "output_type": "stream",
     "text": [
      "Epoch [297], Train Loss : [0.04185] Val Loss : [0.26129] Val F1 Score : [0.76876]\n"
     ]
    },
    {
     "name": "stderr",
     "output_type": "stream",
     "text": [
      "23it [00:03,  6.16it/s]\n",
      "6it [00:00,  6.76it/s]\n"
     ]
    },
    {
     "name": "stdout",
     "output_type": "stream",
     "text": [
      "Epoch [298], Train Loss : [0.04020] Val Loss : [0.26704] Val F1 Score : [0.77095]\n"
     ]
    },
    {
     "name": "stderr",
     "output_type": "stream",
     "text": [
      "23it [00:03,  6.15it/s]\n",
      "6it [00:00,  6.78it/s]"
     ]
    },
    {
     "name": "stdout",
     "output_type": "stream",
     "text": [
      "Epoch [299], Train Loss : [0.04379] Val Loss : [0.25874] Val F1 Score : [0.77616]\n"
     ]
    },
    {
     "name": "stderr",
     "output_type": "stream",
     "text": [
      "\n"
     ]
    }
   ],
   "source": [
    "#--------------------------------------------------------------------------------\n",
    "# Training Process\n",
    "#--------------------------------------------------------------------------------\n",
    "model = Teacher()\n",
    "optimizer = torch.optim.Adam(model.parameters(), lr=CONFIG['LEARNING_RATE'])\n",
    "scheduler = torch.optim.lr_scheduler.ReduceLROnPlateau(optimizer, mode='max', factor=0.5, patience=10, threshold_mode='abs',min_lr=1e-8, verbose=True)\n",
    "\n",
    "teacher_model = teacher_train(model, optimizer, train_loader, val_loader, scheduler)"
   ]
  },
  {
   "cell_type": "markdown",
   "id": "8ee5519f",
   "metadata": {},
   "source": [
    "# Small Model (student)"
   ]
  },
  {
   "cell_type": "code",
   "execution_count": 17,
   "id": "2f1d0920",
   "metadata": {
    "ExecuteTime": {
     "end_time": "2022-11-15T06:40:26.677537Z",
     "start_time": "2022-11-15T06:40:26.669918Z"
    }
   },
   "outputs": [],
   "source": [
    "# ---------------------------\n",
    "# Student Model\n",
    "# ---------------------------\n",
    "class Student(nn.Module):\n",
    "    def __init__(self):\n",
    "        super(Student, self).__init__()\n",
    "        self.classifier = nn.Sequential(\n",
    "            nn.Linear(in_features=18, out_features=128),\n",
    "            nn.BatchNorm1d(128),\n",
    "            nn.LeakyReLU(),\n",
    "            nn.Linear(in_features=128, out_features=256),\n",
    "            nn.BatchNorm1d(256),\n",
    "            nn.LeakyReLU(),\n",
    "            nn.Linear(in_features=256, out_features=256),\n",
    "            nn.BatchNorm1d(256),\n",
    "            nn.LeakyReLU(),\n",
    "            nn.Linear(in_features=256, out_features=128),\n",
    "            nn.BatchNorm1d(128),\n",
    "            nn.LeakyReLU(),\n",
    "            nn.Linear(in_features=128, out_features=1),\n",
    "            nn.Sigmoid()\n",
    "        )\n",
    "        \n",
    "    def forward(self, x):\n",
    "        output = self.classifier(x)\n",
    "        return output"
   ]
  },
  {
   "cell_type": "code",
   "execution_count": 18,
   "id": "fc288a25",
   "metadata": {
    "ExecuteTime": {
     "end_time": "2022-11-15T06:40:26.685977Z",
     "start_time": "2022-11-15T06:40:26.680177Z"
    }
   },
   "outputs": [],
   "source": [
    "# ---------------------------\n",
    "# Distillation Loss\n",
    "# ---------------------------\n",
    "\n",
    "def distillation(student_logits, labels, teacher_logits, alpha):\n",
    "    distillation_loss = nn.BCELoss()(student_logits, teacher_logits)\n",
    "    student_loss = nn.BCELoss()(student_logits, labels.reshape(-1, 1))\n",
    "    return alpha * student_loss + (1-alpha) * distillation_loss\n",
    "\n",
    "def distill_loss(output, target, teacher_output, loss_fn=distillation, opt=optimizer):\n",
    "    loss_b = loss_fn(output, target, teacher_output, alpha=0.1)\n",
    "\n",
    "    if opt is not None:\n",
    "        # BACKWARD\n",
    "        loss_b.backward()\n",
    "        \n",
    "        # UPDATE\n",
    "        opt.step()\n",
    "\n",
    "    return loss_b.item()"
   ]
  },
  {
   "cell_type": "code",
   "execution_count": 19,
   "id": "f7f75bc3",
   "metadata": {
    "ExecuteTime": {
     "end_time": "2022-11-15T06:40:26.699687Z",
     "start_time": "2022-11-15T06:40:26.688386Z"
    }
   },
   "outputs": [],
   "source": [
    "#--------------------------------------------------------------------------------\n",
    "# Training Student\n",
    "#--------------------------------------------------------------------------------\n",
    "\n",
    "def student_train(s_model, t_model, optimizer, train_loader, val_loader, scheduler, device):\n",
    "    \n",
    "    s_model.to(device)\n",
    "    t_model.to(device)\n",
    "    \n",
    "    best_score = 0\n",
    "    best_model = None\n",
    "\n",
    "    for epoch in range(CONFIG[\"EPOCHS\"]):\n",
    "        train_loss = []\n",
    "        s_model.train()\n",
    "        t_model.eval()\n",
    "        \n",
    "        for X_t, X_s, y in tqdm(train_loader):\n",
    "            \n",
    "            # ZERO GRADIENT\n",
    "            optimizer.zero_grad()\n",
    "            \n",
    "            # FORWARD\n",
    "            y_pred_student = s_model(X_s)\n",
    "            with torch.no_grad():\n",
    "                y_pred_teacher = t_model(X_t)\n",
    "                \n",
    "            loss_b = distill_loss(y_pred_student, y, y_pred_teacher, loss_fn=distillation, opt=optimizer)\n",
    "            \n",
    "                \n",
    "            train_loss.append(loss_b)\n",
    "\n",
    "        val_loss, val_score = validation_student(s_model, t_model, val_loader, distill_loss, device)\n",
    "        print(f'Epoch [{epoch}], Train Loss : [{np.mean(train_loss) :.5f}] Val Loss : [{np.mean(val_loss) :.5f}] Val F1 Score : [{val_score:.5f}]')\n",
    "        \n",
    "        if scheduler is not None:\n",
    "            scheduler.step(val_score)\n",
    "            \n",
    "        if best_score < val_score:\n",
    "            best_model = s_model\n",
    "            best_score = val_score\n",
    "        \n",
    "    return best_model\n",
    "\n",
    "\n",
    "#--------------------------------------------------------------------------------\n",
    "# Validation Student\n",
    "#--------------------------------------------------------------------------------\n",
    "\n",
    "def validation_student(s_model, t_model, val_loader, criterion, device):\n",
    "    s_model.eval()\n",
    "    t_model.eval()\n",
    "\n",
    "    val_loss = []\n",
    "    pred_labels = []\n",
    "    true_labels = []\n",
    "    threshold = 0.5\n",
    "    \n",
    "    with torch.no_grad():\n",
    "        for X_t, X_s, y in tqdm(val_loader):\n",
    "            \n",
    "            model_pred     = s_model(X_s)\n",
    "            teacher_output = t_model(X_t)\n",
    "            \n",
    "            loss_b = distill_loss(model_pred, y, teacher_output, loss_fn=distillation, opt=None)\n",
    "            val_loss.append(loss_b)\n",
    "            \n",
    "            model_pred = model_pred.squeeze(1)#.to('cpu')\n",
    "            pred_labels += model_pred.tolist()\n",
    "            true_labels += y.tolist()\n",
    "        \n",
    "        pred_labels = np.where(np.array(pred_labels) > threshold, 1, 0)\n",
    "        val_f1 = competition_metric(true_labels, pred_labels)\n",
    "    return val_loss, val_f1    "
   ]
  },
  {
   "cell_type": "code",
   "execution_count": 20,
   "id": "2cdd5ae4",
   "metadata": {
    "ExecuteTime": {
     "end_time": "2022-11-15T06:40:26.706403Z",
     "start_time": "2022-11-15T06:40:26.701526Z"
    }
   },
   "outputs": [],
   "source": [
    "# ---------------------------\n",
    "# Dataset for Student Model (Distillation True)\n",
    "# ---------------------------\n",
    "train_dataset = CustomDataset(train_X, train_y, True)\n",
    "val_dataset = CustomDataset(val_X, val_y, True)\n",
    "\n",
    "# ---------------------------\n",
    "# Dataloader for Student Model (Distillation True)\n",
    "# ---------------------------\n",
    "train_loader = DataLoader(train_dataset, batch_size = CONFIG['BATCH_SIZE'], shuffle=True)\n",
    "val_loader = DataLoader(val_dataset, batch_size = CONFIG['BATCH_SIZE'], shuffle=False)"
   ]
  },
  {
   "cell_type": "code",
   "execution_count": 21,
   "id": "73e17af0",
   "metadata": {
    "ExecuteTime": {
     "end_time": "2022-11-15T08:11:56.087350Z",
     "start_time": "2022-11-15T06:40:26.708054Z"
    }
   },
   "outputs": [
    {
     "name": "stderr",
     "output_type": "stream",
     "text": [
      "100%|██████████| 23/23 [00:15<00:00,  1.52it/s]\n",
      "100%|██████████| 6/6 [00:03<00:00,  1.75it/s]\n"
     ]
    },
    {
     "name": "stdout",
     "output_type": "stream",
     "text": [
      "Epoch [0], Train Loss : [0.42322] Val Loss : [0.40977] Val F1 Score : [0.48892]\n"
     ]
    },
    {
     "name": "stderr",
     "output_type": "stream",
     "text": [
      "100%|██████████| 23/23 [00:14<00:00,  1.54it/s]\n",
      "100%|██████████| 6/6 [00:03<00:00,  1.76it/s]\n"
     ]
    },
    {
     "name": "stdout",
     "output_type": "stream",
     "text": [
      "Epoch [1], Train Loss : [0.29778] Val Loss : [0.30147] Val F1 Score : [0.47767]\n"
     ]
    },
    {
     "name": "stderr",
     "output_type": "stream",
     "text": [
      "100%|██████████| 23/23 [00:14<00:00,  1.53it/s]\n",
      "100%|██████████| 6/6 [00:03<00:00,  1.77it/s]\n"
     ]
    },
    {
     "name": "stdout",
     "output_type": "stream",
     "text": [
      "Epoch [2], Train Loss : [0.28217] Val Loss : [0.29765] Val F1 Score : [0.47767]\n"
     ]
    },
    {
     "name": "stderr",
     "output_type": "stream",
     "text": [
      "100%|██████████| 23/23 [00:15<00:00,  1.53it/s]\n",
      "100%|██████████| 6/6 [00:03<00:00,  1.78it/s]\n"
     ]
    },
    {
     "name": "stdout",
     "output_type": "stream",
     "text": [
      "Epoch [3], Train Loss : [0.27769] Val Loss : [0.28877] Val F1 Score : [0.48582]\n"
     ]
    },
    {
     "name": "stderr",
     "output_type": "stream",
     "text": [
      "100%|██████████| 23/23 [00:15<00:00,  1.53it/s]\n",
      "100%|██████████| 6/6 [00:03<00:00,  1.76it/s]\n"
     ]
    },
    {
     "name": "stdout",
     "output_type": "stream",
     "text": [
      "Epoch [4], Train Loss : [0.27429] Val Loss : [0.29471] Val F1 Score : [0.48608]\n"
     ]
    },
    {
     "name": "stderr",
     "output_type": "stream",
     "text": [
      "100%|██████████| 23/23 [00:15<00:00,  1.53it/s]\n",
      "100%|██████████| 6/6 [00:03<00:00,  1.79it/s]\n"
     ]
    },
    {
     "name": "stdout",
     "output_type": "stream",
     "text": [
      "Epoch [5], Train Loss : [0.27741] Val Loss : [0.29308] Val F1 Score : [0.48189]\n"
     ]
    },
    {
     "name": "stderr",
     "output_type": "stream",
     "text": [
      "100%|██████████| 23/23 [00:14<00:00,  1.54it/s]\n",
      "100%|██████████| 6/6 [00:03<00:00,  1.80it/s]\n"
     ]
    },
    {
     "name": "stdout",
     "output_type": "stream",
     "text": [
      "Epoch [6], Train Loss : [0.27112] Val Loss : [0.28768] Val F1 Score : [0.48608]\n"
     ]
    },
    {
     "name": "stderr",
     "output_type": "stream",
     "text": [
      "100%|██████████| 23/23 [00:14<00:00,  1.55it/s]\n",
      "100%|██████████| 6/6 [00:03<00:00,  1.80it/s]\n"
     ]
    },
    {
     "name": "stdout",
     "output_type": "stream",
     "text": [
      "Epoch [7], Train Loss : [0.29285] Val Loss : [0.29596] Val F1 Score : [0.48979]\n"
     ]
    },
    {
     "name": "stderr",
     "output_type": "stream",
     "text": [
      "100%|██████████| 23/23 [00:14<00:00,  1.54it/s]\n",
      "100%|██████████| 6/6 [00:03<00:00,  1.74it/s]\n"
     ]
    },
    {
     "name": "stdout",
     "output_type": "stream",
     "text": [
      "Epoch [8], Train Loss : [0.29006] Val Loss : [0.28911] Val F1 Score : [0.47767]\n"
     ]
    },
    {
     "name": "stderr",
     "output_type": "stream",
     "text": [
      "100%|██████████| 23/23 [00:14<00:00,  1.55it/s]\n",
      "100%|██████████| 6/6 [00:03<00:00,  1.79it/s]\n"
     ]
    },
    {
     "name": "stdout",
     "output_type": "stream",
     "text": [
      "Epoch [9], Train Loss : [0.27576] Val Loss : [0.28338] Val F1 Score : [0.48167]\n"
     ]
    },
    {
     "name": "stderr",
     "output_type": "stream",
     "text": [
      "100%|██████████| 23/23 [00:14<00:00,  1.54it/s]\n",
      "100%|██████████| 6/6 [00:03<00:00,  1.78it/s]\n"
     ]
    },
    {
     "name": "stdout",
     "output_type": "stream",
     "text": [
      "Epoch [10], Train Loss : [0.27166] Val Loss : [0.28911] Val F1 Score : [0.48189]\n"
     ]
    },
    {
     "name": "stderr",
     "output_type": "stream",
     "text": [
      "100%|██████████| 23/23 [00:14<00:00,  1.56it/s]\n",
      "100%|██████████| 6/6 [00:03<00:00,  1.80it/s]\n"
     ]
    },
    {
     "name": "stdout",
     "output_type": "stream",
     "text": [
      "Epoch [11], Train Loss : [0.28814] Val Loss : [0.30018] Val F1 Score : [0.47738]\n"
     ]
    },
    {
     "name": "stderr",
     "output_type": "stream",
     "text": [
      "100%|██████████| 23/23 [00:14<00:00,  1.56it/s]\n",
      "100%|██████████| 6/6 [00:03<00:00,  1.81it/s]\n"
     ]
    },
    {
     "name": "stdout",
     "output_type": "stream",
     "text": [
      "Epoch [12], Train Loss : [0.27354] Val Loss : [0.29413] Val F1 Score : [0.48155]\n"
     ]
    },
    {
     "name": "stderr",
     "output_type": "stream",
     "text": [
      "100%|██████████| 23/23 [00:14<00:00,  1.57it/s]\n",
      "100%|██████████| 6/6 [00:03<00:00,  1.81it/s]\n"
     ]
    },
    {
     "name": "stdout",
     "output_type": "stream",
     "text": [
      "Epoch [13], Train Loss : [0.27486] Val Loss : [0.28642] Val F1 Score : [0.48167]\n"
     ]
    },
    {
     "name": "stderr",
     "output_type": "stream",
     "text": [
      "100%|██████████| 23/23 [00:14<00:00,  1.54it/s]\n",
      "100%|██████████| 6/6 [00:03<00:00,  1.78it/s]\n"
     ]
    },
    {
     "name": "stdout",
     "output_type": "stream",
     "text": [
      "Epoch [14], Train Loss : [0.27294] Val Loss : [0.29420] Val F1 Score : [0.47758]\n"
     ]
    },
    {
     "name": "stderr",
     "output_type": "stream",
     "text": [
      "100%|██████████| 23/23 [00:14<00:00,  1.55it/s]\n",
      "100%|██████████| 6/6 [00:03<00:00,  1.79it/s]\n"
     ]
    },
    {
     "name": "stdout",
     "output_type": "stream",
     "text": [
      "Epoch [15], Train Loss : [0.26450] Val Loss : [0.28531] Val F1 Score : [0.48965]\n"
     ]
    },
    {
     "name": "stderr",
     "output_type": "stream",
     "text": [
      "100%|██████████| 23/23 [00:15<00:00,  1.53it/s]\n",
      "100%|██████████| 6/6 [00:03<00:00,  1.80it/s]\n"
     ]
    },
    {
     "name": "stdout",
     "output_type": "stream",
     "text": [
      "Epoch [16], Train Loss : [0.26982] Val Loss : [0.29379] Val F1 Score : [0.49370]\n"
     ]
    },
    {
     "name": "stderr",
     "output_type": "stream",
     "text": [
      "100%|██████████| 23/23 [00:14<00:00,  1.56it/s]\n",
      "100%|██████████| 6/6 [00:03<00:00,  1.79it/s]\n"
     ]
    },
    {
     "name": "stdout",
     "output_type": "stream",
     "text": [
      "Epoch [17], Train Loss : [0.26353] Val Loss : [0.29206] Val F1 Score : [0.48582]\n"
     ]
    },
    {
     "name": "stderr",
     "output_type": "stream",
     "text": [
      "100%|██████████| 23/23 [00:14<00:00,  1.56it/s]\n",
      "100%|██████████| 6/6 [00:03<00:00,  1.78it/s]\n"
     ]
    },
    {
     "name": "stdout",
     "output_type": "stream",
     "text": [
      "Epoch [18], Train Loss : [0.26452] Val Loss : [0.29307] Val F1 Score : [0.48167]\n"
     ]
    },
    {
     "name": "stderr",
     "output_type": "stream",
     "text": [
      "100%|██████████| 23/23 [00:14<00:00,  1.55it/s]\n",
      "100%|██████████| 6/6 [00:03<00:00,  1.80it/s]\n"
     ]
    },
    {
     "name": "stdout",
     "output_type": "stream",
     "text": [
      "Epoch [19], Train Loss : [0.26734] Val Loss : [0.29295] Val F1 Score : [0.48178]\n"
     ]
    },
    {
     "name": "stderr",
     "output_type": "stream",
     "text": [
      "100%|██████████| 23/23 [00:14<00:00,  1.53it/s]\n",
      "100%|██████████| 6/6 [00:03<00:00,  1.79it/s]\n"
     ]
    },
    {
     "name": "stdout",
     "output_type": "stream",
     "text": [
      "Epoch [20], Train Loss : [0.29039] Val Loss : [0.30940] Val F1 Score : [0.48189]\n"
     ]
    },
    {
     "name": "stderr",
     "output_type": "stream",
     "text": [
      "100%|██████████| 23/23 [00:14<00:00,  1.56it/s]\n",
      "100%|██████████| 6/6 [00:03<00:00,  1.81it/s]\n"
     ]
    },
    {
     "name": "stdout",
     "output_type": "stream",
     "text": [
      "Epoch [21], Train Loss : [0.27444] Val Loss : [0.29597] Val F1 Score : [0.48517]\n"
     ]
    },
    {
     "name": "stderr",
     "output_type": "stream",
     "text": [
      "100%|██████████| 23/23 [00:14<00:00,  1.56it/s]\n",
      "100%|██████████| 6/6 [00:03<00:00,  1.79it/s]\n"
     ]
    },
    {
     "name": "stdout",
     "output_type": "stream",
     "text": [
      "Epoch [22], Train Loss : [0.26841] Val Loss : [0.28900] Val F1 Score : [0.49290]\n"
     ]
    },
    {
     "name": "stderr",
     "output_type": "stream",
     "text": [
      "100%|██████████| 23/23 [00:14<00:00,  1.56it/s]\n",
      "100%|██████████| 6/6 [00:03<00:00,  1.76it/s]\n"
     ]
    },
    {
     "name": "stdout",
     "output_type": "stream",
     "text": [
      "Epoch [23], Train Loss : [0.28701] Val Loss : [0.29237] Val F1 Score : [0.48178]\n"
     ]
    },
    {
     "name": "stderr",
     "output_type": "stream",
     "text": [
      "100%|██████████| 23/23 [00:14<00:00,  1.56it/s]\n",
      "100%|██████████| 6/6 [00:03<00:00,  1.80it/s]\n"
     ]
    },
    {
     "name": "stdout",
     "output_type": "stream",
     "text": [
      "Epoch [24], Train Loss : [0.27470] Val Loss : [0.29439] Val F1 Score : [0.48189]\n"
     ]
    },
    {
     "name": "stderr",
     "output_type": "stream",
     "text": [
      "100%|██████████| 23/23 [00:14<00:00,  1.55it/s]\n",
      "100%|██████████| 6/6 [00:03<00:00,  1.80it/s]\n"
     ]
    },
    {
     "name": "stdout",
     "output_type": "stream",
     "text": [
      "Epoch [25], Train Loss : [0.27717] Val Loss : [0.29327] Val F1 Score : [0.48167]\n"
     ]
    },
    {
     "name": "stderr",
     "output_type": "stream",
     "text": [
      "100%|██████████| 23/23 [00:14<00:00,  1.56it/s]\n",
      "100%|██████████| 6/6 [00:03<00:00,  1.81it/s]\n"
     ]
    },
    {
     "name": "stdout",
     "output_type": "stream",
     "text": [
      "Epoch [26], Train Loss : [0.26978] Val Loss : [0.28997] Val F1 Score : [0.49685]\n"
     ]
    },
    {
     "name": "stderr",
     "output_type": "stream",
     "text": [
      "100%|██████████| 23/23 [00:14<00:00,  1.53it/s]\n",
      "100%|██████████| 6/6 [00:03<00:00,  1.79it/s]\n"
     ]
    },
    {
     "name": "stdout",
     "output_type": "stream",
     "text": [
      "Epoch [27], Train Loss : [0.29508] Val Loss : [0.28880] Val F1 Score : [0.48167]\n"
     ]
    },
    {
     "name": "stderr",
     "output_type": "stream",
     "text": [
      "100%|██████████| 23/23 [00:14<00:00,  1.54it/s]\n",
      "100%|██████████| 6/6 [00:03<00:00,  1.79it/s]\n"
     ]
    },
    {
     "name": "stdout",
     "output_type": "stream",
     "text": [
      "Epoch [28], Train Loss : [0.28472] Val Loss : [0.28784] Val F1 Score : [0.49354]\n"
     ]
    },
    {
     "name": "stderr",
     "output_type": "stream",
     "text": [
      "100%|██████████| 23/23 [00:14<00:00,  1.54it/s]\n",
      "100%|██████████| 6/6 [00:03<00:00,  1.79it/s]\n"
     ]
    },
    {
     "name": "stdout",
     "output_type": "stream",
     "text": [
      "Epoch [29], Train Loss : [0.28456] Val Loss : [0.29270] Val F1 Score : [0.47767]\n"
     ]
    },
    {
     "name": "stderr",
     "output_type": "stream",
     "text": [
      "100%|██████████| 23/23 [00:14<00:00,  1.54it/s]\n",
      "100%|██████████| 6/6 [00:03<00:00,  1.79it/s]\n"
     ]
    },
    {
     "name": "stdout",
     "output_type": "stream",
     "text": [
      "Epoch [30], Train Loss : [0.28205] Val Loss : [0.29111] Val F1 Score : [0.48608]\n"
     ]
    },
    {
     "name": "stderr",
     "output_type": "stream",
     "text": [
      "100%|██████████| 23/23 [00:15<00:00,  1.53it/s]\n",
      "100%|██████████| 6/6 [00:03<00:00,  1.76it/s]\n"
     ]
    },
    {
     "name": "stdout",
     "output_type": "stream",
     "text": [
      "Epoch [31], Train Loss : [0.28485] Val Loss : [0.28788] Val F1 Score : [0.49009]\n"
     ]
    },
    {
     "name": "stderr",
     "output_type": "stream",
     "text": [
      "100%|██████████| 23/23 [00:15<00:00,  1.52it/s]\n",
      "100%|██████████| 6/6 [00:03<00:00,  1.75it/s]\n"
     ]
    },
    {
     "name": "stdout",
     "output_type": "stream",
     "text": [
      "Epoch [32], Train Loss : [0.26328] Val Loss : [0.28772] Val F1 Score : [0.48608]\n"
     ]
    },
    {
     "name": "stderr",
     "output_type": "stream",
     "text": [
      "100%|██████████| 23/23 [00:15<00:00,  1.53it/s]\n",
      "100%|██████████| 6/6 [00:03<00:00,  1.77it/s]\n"
     ]
    },
    {
     "name": "stdout",
     "output_type": "stream",
     "text": [
      "Epoch [33], Train Loss : [0.27135] Val Loss : [0.29194] Val F1 Score : [0.48189]\n"
     ]
    },
    {
     "name": "stderr",
     "output_type": "stream",
     "text": [
      "100%|██████████| 23/23 [00:14<00:00,  1.53it/s]\n",
      "100%|██████████| 6/6 [00:03<00:00,  1.78it/s]\n"
     ]
    },
    {
     "name": "stdout",
     "output_type": "stream",
     "text": [
      "Epoch [34], Train Loss : [0.26634] Val Loss : [0.28810] Val F1 Score : [0.48950]\n"
     ]
    },
    {
     "name": "stderr",
     "output_type": "stream",
     "text": [
      "100%|██████████| 23/23 [00:14<00:00,  1.54it/s]\n",
      "100%|██████████| 6/6 [00:03<00:00,  1.75it/s]\n"
     ]
    },
    {
     "name": "stdout",
     "output_type": "stream",
     "text": [
      "Epoch [35], Train Loss : [0.26055] Val Loss : [0.29288] Val F1 Score : [0.48167]\n"
     ]
    },
    {
     "name": "stderr",
     "output_type": "stream",
     "text": [
      "100%|██████████| 23/23 [00:15<00:00,  1.53it/s]\n",
      "100%|██████████| 6/6 [00:03<00:00,  1.77it/s]\n"
     ]
    },
    {
     "name": "stdout",
     "output_type": "stream",
     "text": [
      "Epoch [36], Train Loss : [0.25546] Val Loss : [0.28810] Val F1 Score : [0.48517]\n"
     ]
    },
    {
     "name": "stderr",
     "output_type": "stream",
     "text": [
      "100%|██████████| 23/23 [00:15<00:00,  1.53it/s]\n",
      "100%|██████████| 6/6 [00:03<00:00,  1.78it/s]\n"
     ]
    },
    {
     "name": "stdout",
     "output_type": "stream",
     "text": [
      "Epoch [37], Train Loss : [0.25690] Val Loss : [0.29499] Val F1 Score : [0.48491]\n",
      "Epoch    38: reducing learning rate of group 0 to 5.0000e-04.\n"
     ]
    },
    {
     "name": "stderr",
     "output_type": "stream",
     "text": [
      "100%|██████████| 23/23 [00:14<00:00,  1.54it/s]\n",
      "100%|██████████| 6/6 [00:03<00:00,  1.73it/s]\n"
     ]
    },
    {
     "name": "stdout",
     "output_type": "stream",
     "text": [
      "Epoch [38], Train Loss : [0.26569] Val Loss : [0.29555] Val F1 Score : [0.48517]\n"
     ]
    },
    {
     "name": "stderr",
     "output_type": "stream",
     "text": [
      "100%|██████████| 23/23 [00:14<00:00,  1.57it/s]\n",
      "100%|██████████| 6/6 [00:03<00:00,  1.78it/s]\n"
     ]
    },
    {
     "name": "stdout",
     "output_type": "stream",
     "text": [
      "Epoch [39], Train Loss : [0.25246] Val Loss : [0.29303] Val F1 Score : [0.48950]\n"
     ]
    },
    {
     "name": "stderr",
     "output_type": "stream",
     "text": [
      "100%|██████████| 23/23 [00:15<00:00,  1.53it/s]\n",
      "100%|██████████| 6/6 [00:03<00:00,  1.78it/s]\n"
     ]
    },
    {
     "name": "stdout",
     "output_type": "stream",
     "text": [
      "Epoch [40], Train Loss : [0.25749] Val Loss : [0.29900] Val F1 Score : [0.48144]\n"
     ]
    },
    {
     "name": "stderr",
     "output_type": "stream",
     "text": [
      "100%|██████████| 23/23 [00:15<00:00,  1.52it/s]\n",
      "100%|██████████| 6/6 [00:03<00:00,  1.78it/s]\n"
     ]
    },
    {
     "name": "stdout",
     "output_type": "stream",
     "text": [
      "Epoch [41], Train Loss : [0.25739] Val Loss : [0.29953] Val F1 Score : [0.47719]\n"
     ]
    },
    {
     "name": "stderr",
     "output_type": "stream",
     "text": [
      "100%|██████████| 23/23 [00:15<00:00,  1.51it/s]\n",
      "100%|██████████| 6/6 [00:03<00:00,  1.76it/s]\n"
     ]
    },
    {
     "name": "stdout",
     "output_type": "stream",
     "text": [
      "Epoch [42], Train Loss : [0.25581] Val Loss : [0.29459] Val F1 Score : [0.49633]\n"
     ]
    },
    {
     "name": "stderr",
     "output_type": "stream",
     "text": [
      "100%|██████████| 23/23 [00:15<00:00,  1.53it/s]\n",
      "100%|██████████| 6/6 [00:03<00:00,  1.71it/s]\n"
     ]
    },
    {
     "name": "stdout",
     "output_type": "stream",
     "text": [
      "Epoch [43], Train Loss : [0.26614] Val Loss : [0.30066] Val F1 Score : [0.48556]\n"
     ]
    },
    {
     "name": "stderr",
     "output_type": "stream",
     "text": [
      "100%|██████████| 23/23 [00:14<00:00,  1.53it/s]\n",
      "100%|██████████| 6/6 [00:03<00:00,  1.78it/s]\n"
     ]
    },
    {
     "name": "stdout",
     "output_type": "stream",
     "text": [
      "Epoch [44], Train Loss : [0.25820] Val Loss : [0.29179] Val F1 Score : [0.48110]\n"
     ]
    },
    {
     "name": "stderr",
     "output_type": "stream",
     "text": [
      "100%|██████████| 23/23 [00:14<00:00,  1.54it/s]\n",
      "100%|██████████| 6/6 [00:03<00:00,  1.74it/s]\n"
     ]
    },
    {
     "name": "stdout",
     "output_type": "stream",
     "text": [
      "Epoch [45], Train Loss : [0.25345] Val Loss : [0.30105] Val F1 Score : [0.47709]\n"
     ]
    },
    {
     "name": "stderr",
     "output_type": "stream",
     "text": [
      "100%|██████████| 23/23 [00:15<00:00,  1.51it/s]\n",
      "100%|██████████| 6/6 [00:03<00:00,  1.75it/s]\n"
     ]
    },
    {
     "name": "stdout",
     "output_type": "stream",
     "text": [
      "Epoch [46], Train Loss : [0.25075] Val Loss : [0.29501] Val F1 Score : [0.48099]\n"
     ]
    },
    {
     "name": "stderr",
     "output_type": "stream",
     "text": [
      "100%|██████████| 23/23 [00:15<00:00,  1.53it/s]\n",
      "100%|██████████| 6/6 [00:03<00:00,  1.78it/s]\n"
     ]
    },
    {
     "name": "stdout",
     "output_type": "stream",
     "text": [
      "Epoch [47], Train Loss : [0.25797] Val Loss : [0.29911] Val F1 Score : [0.48543]\n"
     ]
    },
    {
     "name": "stderr",
     "output_type": "stream",
     "text": [
      "100%|██████████| 23/23 [00:14<00:00,  1.56it/s]\n",
      "100%|██████████| 6/6 [00:03<00:00,  1.80it/s]\n"
     ]
    },
    {
     "name": "stdout",
     "output_type": "stream",
     "text": [
      "Epoch [48], Train Loss : [0.25789] Val Loss : [0.29470] Val F1 Score : [0.48864]\n",
      "Epoch    49: reducing learning rate of group 0 to 2.5000e-04.\n"
     ]
    },
    {
     "name": "stderr",
     "output_type": "stream",
     "text": [
      "100%|██████████| 23/23 [00:14<00:00,  1.55it/s]\n",
      "100%|██████████| 6/6 [00:03<00:00,  1.72it/s]\n"
     ]
    },
    {
     "name": "stdout",
     "output_type": "stream",
     "text": [
      "Epoch [49], Train Loss : [0.24903] Val Loss : [0.29634] Val F1 Score : [0.49290]\n"
     ]
    },
    {
     "name": "stderr",
     "output_type": "stream",
     "text": [
      "100%|██████████| 23/23 [00:14<00:00,  1.53it/s]\n",
      "100%|██████████| 6/6 [00:03<00:00,  1.76it/s]\n"
     ]
    },
    {
     "name": "stdout",
     "output_type": "stream",
     "text": [
      "Epoch [50], Train Loss : [0.26905] Val Loss : [0.29726] Val F1 Score : [0.48921]\n"
     ]
    },
    {
     "name": "stderr",
     "output_type": "stream",
     "text": [
      "100%|██████████| 23/23 [00:14<00:00,  1.55it/s]\n",
      "100%|██████████| 6/6 [00:03<00:00,  1.80it/s]\n"
     ]
    },
    {
     "name": "stdout",
     "output_type": "stream",
     "text": [
      "Epoch [51], Train Loss : [0.27283] Val Loss : [0.29896] Val F1 Score : [0.48504]\n"
     ]
    },
    {
     "name": "stderr",
     "output_type": "stream",
     "text": [
      "100%|██████████| 23/23 [00:14<00:00,  1.56it/s]\n",
      "100%|██████████| 6/6 [00:03<00:00,  1.79it/s]\n"
     ]
    },
    {
     "name": "stdout",
     "output_type": "stream",
     "text": [
      "Epoch [52], Train Loss : [0.25344] Val Loss : [0.29349] Val F1 Score : [0.48864]\n"
     ]
    },
    {
     "name": "stderr",
     "output_type": "stream",
     "text": [
      "100%|██████████| 23/23 [00:14<00:00,  1.55it/s]\n",
      "100%|██████████| 6/6 [00:03<00:00,  1.77it/s]\n"
     ]
    },
    {
     "name": "stdout",
     "output_type": "stream",
     "text": [
      "Epoch [53], Train Loss : [0.26850] Val Loss : [0.29658] Val F1 Score : [0.48491]\n"
     ]
    },
    {
     "name": "stderr",
     "output_type": "stream",
     "text": [
      "100%|██████████| 23/23 [00:14<00:00,  1.55it/s]\n",
      "100%|██████████| 6/6 [00:03<00:00,  1.79it/s]\n"
     ]
    },
    {
     "name": "stdout",
     "output_type": "stream",
     "text": [
      "Epoch [54], Train Loss : [0.25794] Val Loss : [0.29553] Val F1 Score : [0.48491]\n"
     ]
    },
    {
     "name": "stderr",
     "output_type": "stream",
     "text": [
      "100%|██████████| 23/23 [00:14<00:00,  1.56it/s]\n",
      "100%|██████████| 6/6 [00:03<00:00,  1.79it/s]\n"
     ]
    },
    {
     "name": "stdout",
     "output_type": "stream",
     "text": [
      "Epoch [55], Train Loss : [0.26679] Val Loss : [0.29577] Val F1 Score : [0.48440]\n"
     ]
    },
    {
     "name": "stderr",
     "output_type": "stream",
     "text": [
      "100%|██████████| 23/23 [00:14<00:00,  1.56it/s]\n",
      "100%|██████████| 6/6 [00:03<00:00,  1.80it/s]\n"
     ]
    },
    {
     "name": "stdout",
     "output_type": "stream",
     "text": [
      "Epoch [56], Train Loss : [0.27034] Val Loss : [0.29694] Val F1 Score : [0.48517]\n"
     ]
    },
    {
     "name": "stderr",
     "output_type": "stream",
     "text": [
      "100%|██████████| 23/23 [00:14<00:00,  1.54it/s]\n",
      "100%|██████████| 6/6 [00:03<00:00,  1.76it/s]\n"
     ]
    },
    {
     "name": "stdout",
     "output_type": "stream",
     "text": [
      "Epoch [57], Train Loss : [0.26466] Val Loss : [0.29787] Val F1 Score : [0.49633]\n"
     ]
    },
    {
     "name": "stderr",
     "output_type": "stream",
     "text": [
      "100%|██████████| 23/23 [00:14<00:00,  1.54it/s]\n",
      "100%|██████████| 6/6 [00:03<00:00,  1.75it/s]\n"
     ]
    },
    {
     "name": "stdout",
     "output_type": "stream",
     "text": [
      "Epoch [58], Train Loss : [0.26114] Val Loss : [0.29807] Val F1 Score : [0.48907]\n"
     ]
    },
    {
     "name": "stderr",
     "output_type": "stream",
     "text": [
      "100%|██████████| 23/23 [00:14<00:00,  1.55it/s]\n",
      "100%|██████████| 6/6 [00:03<00:00,  1.79it/s]\n"
     ]
    },
    {
     "name": "stdout",
     "output_type": "stream",
     "text": [
      "Epoch [59], Train Loss : [0.24613] Val Loss : [0.29861] Val F1 Score : [0.49274]\n",
      "Epoch    60: reducing learning rate of group 0 to 1.2500e-04.\n"
     ]
    },
    {
     "name": "stderr",
     "output_type": "stream",
     "text": [
      "100%|██████████| 23/23 [00:14<00:00,  1.55it/s]\n",
      "100%|██████████| 6/6 [00:03<00:00,  1.80it/s]\n"
     ]
    },
    {
     "name": "stdout",
     "output_type": "stream",
     "text": [
      "Epoch [60], Train Loss : [0.26340] Val Loss : [0.29464] Val F1 Score : [0.48921]\n"
     ]
    },
    {
     "name": "stderr",
     "output_type": "stream",
     "text": [
      "100%|██████████| 23/23 [00:14<00:00,  1.55it/s]\n",
      "100%|██████████| 6/6 [00:03<00:00,  1.80it/s]\n"
     ]
    },
    {
     "name": "stdout",
     "output_type": "stream",
     "text": [
      "Epoch [61], Train Loss : [0.25164] Val Loss : [0.29321] Val F1 Score : [0.48921]\n"
     ]
    },
    {
     "name": "stderr",
     "output_type": "stream",
     "text": [
      "100%|██████████| 23/23 [00:14<00:00,  1.54it/s]\n",
      "100%|██████████| 6/6 [00:03<00:00,  1.77it/s]\n"
     ]
    },
    {
     "name": "stdout",
     "output_type": "stream",
     "text": [
      "Epoch [62], Train Loss : [0.24936] Val Loss : [0.29355] Val F1 Score : [0.48543]\n"
     ]
    },
    {
     "name": "stderr",
     "output_type": "stream",
     "text": [
      "100%|██████████| 23/23 [00:14<00:00,  1.55it/s]\n",
      "100%|██████████| 6/6 [00:03<00:00,  1.80it/s]\n"
     ]
    },
    {
     "name": "stdout",
     "output_type": "stream",
     "text": [
      "Epoch [63], Train Loss : [0.24423] Val Loss : [0.29655] Val F1 Score : [0.49243]\n"
     ]
    },
    {
     "name": "stderr",
     "output_type": "stream",
     "text": [
      "100%|██████████| 23/23 [00:14<00:00,  1.55it/s]\n",
      "100%|██████████| 6/6 [00:03<00:00,  1.74it/s]\n"
     ]
    },
    {
     "name": "stdout",
     "output_type": "stream",
     "text": [
      "Epoch [64], Train Loss : [0.25058] Val Loss : [0.29677] Val F1 Score : [0.49290]\n"
     ]
    },
    {
     "name": "stderr",
     "output_type": "stream",
     "text": [
      "100%|██████████| 23/23 [00:14<00:00,  1.54it/s]\n",
      "100%|██████████| 6/6 [00:03<00:00,  1.78it/s]\n"
     ]
    },
    {
     "name": "stdout",
     "output_type": "stream",
     "text": [
      "Epoch [65], Train Loss : [0.25200] Val Loss : [0.29608] Val F1 Score : [0.49633]\n"
     ]
    },
    {
     "name": "stderr",
     "output_type": "stream",
     "text": [
      "100%|██████████| 23/23 [00:14<00:00,  1.54it/s]\n",
      "100%|██████████| 6/6 [00:03<00:00,  1.79it/s]\n"
     ]
    },
    {
     "name": "stdout",
     "output_type": "stream",
     "text": [
      "Epoch [66], Train Loss : [0.24131] Val Loss : [0.29927] Val F1 Score : [0.49227]\n"
     ]
    },
    {
     "name": "stderr",
     "output_type": "stream",
     "text": [
      "100%|██████████| 23/23 [00:14<00:00,  1.56it/s]\n",
      "100%|██████████| 6/6 [00:03<00:00,  1.80it/s]\n"
     ]
    },
    {
     "name": "stdout",
     "output_type": "stream",
     "text": [
      "Epoch [67], Train Loss : [0.24225] Val Loss : [0.29917] Val F1 Score : [0.49243]\n"
     ]
    },
    {
     "name": "stderr",
     "output_type": "stream",
     "text": [
      "100%|██████████| 23/23 [00:14<00:00,  1.55it/s]\n",
      "100%|██████████| 6/6 [00:03<00:00,  1.77it/s]\n"
     ]
    },
    {
     "name": "stdout",
     "output_type": "stream",
     "text": [
      "Epoch [68], Train Loss : [0.24000] Val Loss : [0.29659] Val F1 Score : [0.49274]\n"
     ]
    },
    {
     "name": "stderr",
     "output_type": "stream",
     "text": [
      "100%|██████████| 23/23 [00:14<00:00,  1.55it/s]\n",
      "100%|██████████| 6/6 [00:03<00:00,  1.78it/s]\n"
     ]
    },
    {
     "name": "stdout",
     "output_type": "stream",
     "text": [
      "Epoch [69], Train Loss : [0.24966] Val Loss : [0.29668] Val F1 Score : [0.49531]\n"
     ]
    },
    {
     "name": "stderr",
     "output_type": "stream",
     "text": [
      "100%|██████████| 23/23 [00:14<00:00,  1.56it/s]\n",
      "100%|██████████| 6/6 [00:03<00:00,  1.78it/s]\n"
     ]
    },
    {
     "name": "stdout",
     "output_type": "stream",
     "text": [
      "Epoch [70], Train Loss : [0.24791] Val Loss : [0.29900] Val F1 Score : [0.48892]\n",
      "Epoch    71: reducing learning rate of group 0 to 6.2500e-05.\n"
     ]
    },
    {
     "name": "stderr",
     "output_type": "stream",
     "text": [
      "100%|██████████| 23/23 [00:14<00:00,  1.55it/s]\n",
      "100%|██████████| 6/6 [00:03<00:00,  1.77it/s]\n"
     ]
    },
    {
     "name": "stdout",
     "output_type": "stream",
     "text": [
      "Epoch [71], Train Loss : [0.25262] Val Loss : [0.29784] Val F1 Score : [0.48835]\n"
     ]
    },
    {
     "name": "stderr",
     "output_type": "stream",
     "text": [
      "100%|██████████| 23/23 [00:14<00:00,  1.53it/s]\n",
      "100%|██████████| 6/6 [00:03<00:00,  1.78it/s]\n"
     ]
    },
    {
     "name": "stdout",
     "output_type": "stream",
     "text": [
      "Epoch [72], Train Loss : [0.25704] Val Loss : [0.29646] Val F1 Score : [0.49243]\n"
     ]
    },
    {
     "name": "stderr",
     "output_type": "stream",
     "text": [
      "100%|██████████| 23/23 [00:14<00:00,  1.54it/s]\n",
      "100%|██████████| 6/6 [00:03<00:00,  1.77it/s]\n"
     ]
    },
    {
     "name": "stdout",
     "output_type": "stream",
     "text": [
      "Epoch [73], Train Loss : [0.24552] Val Loss : [0.29743] Val F1 Score : [0.48950]\n"
     ]
    },
    {
     "name": "stderr",
     "output_type": "stream",
     "text": [
      "100%|██████████| 23/23 [00:14<00:00,  1.54it/s]\n",
      "100%|██████████| 6/6 [00:03<00:00,  1.79it/s]\n"
     ]
    },
    {
     "name": "stdout",
     "output_type": "stream",
     "text": [
      "Epoch [74], Train Loss : [0.24721] Val Loss : [0.29815] Val F1 Score : [0.49180]\n"
     ]
    },
    {
     "name": "stderr",
     "output_type": "stream",
     "text": [
      "100%|██████████| 23/23 [00:14<00:00,  1.56it/s]\n",
      "100%|██████████| 6/6 [00:03<00:00,  1.79it/s]\n"
     ]
    },
    {
     "name": "stdout",
     "output_type": "stream",
     "text": [
      "Epoch [75], Train Loss : [0.24813] Val Loss : [0.29594] Val F1 Score : [0.49259]\n"
     ]
    },
    {
     "name": "stderr",
     "output_type": "stream",
     "text": [
      "100%|██████████| 23/23 [00:14<00:00,  1.55it/s]\n",
      "100%|██████████| 6/6 [00:03<00:00,  1.78it/s]\n"
     ]
    },
    {
     "name": "stdout",
     "output_type": "stream",
     "text": [
      "Epoch [76], Train Loss : [0.23820] Val Loss : [0.29612] Val F1 Score : [0.49599]\n"
     ]
    },
    {
     "name": "stderr",
     "output_type": "stream",
     "text": [
      "100%|██████████| 23/23 [00:14<00:00,  1.54it/s]\n",
      "100%|██████████| 6/6 [00:03<00:00,  1.78it/s]\n"
     ]
    },
    {
     "name": "stdout",
     "output_type": "stream",
     "text": [
      "Epoch [77], Train Loss : [0.23844] Val Loss : [0.29800] Val F1 Score : [0.49616]\n"
     ]
    },
    {
     "name": "stderr",
     "output_type": "stream",
     "text": [
      "100%|██████████| 23/23 [00:14<00:00,  1.55it/s]\n",
      "100%|██████████| 6/6 [00:03<00:00,  1.78it/s]\n"
     ]
    },
    {
     "name": "stdout",
     "output_type": "stream",
     "text": [
      "Epoch [78], Train Loss : [0.23590] Val Loss : [0.29804] Val F1 Score : [0.49211]\n"
     ]
    },
    {
     "name": "stderr",
     "output_type": "stream",
     "text": [
      "100%|██████████| 23/23 [00:14<00:00,  1.54it/s]\n",
      "100%|██████████| 6/6 [00:03<00:00,  1.75it/s]\n"
     ]
    },
    {
     "name": "stdout",
     "output_type": "stream",
     "text": [
      "Epoch [79], Train Loss : [0.24508] Val Loss : [0.29779] Val F1 Score : [0.49582]\n"
     ]
    },
    {
     "name": "stderr",
     "output_type": "stream",
     "text": [
      "100%|██████████| 23/23 [00:14<00:00,  1.53it/s]\n",
      "100%|██████████| 6/6 [00:03<00:00,  1.74it/s]\n"
     ]
    },
    {
     "name": "stdout",
     "output_type": "stream",
     "text": [
      "Epoch [80], Train Loss : [0.24668] Val Loss : [0.29807] Val F1 Score : [0.49227]\n"
     ]
    },
    {
     "name": "stderr",
     "output_type": "stream",
     "text": [
      "100%|██████████| 23/23 [00:14<00:00,  1.53it/s]\n",
      "100%|██████████| 6/6 [00:03<00:00,  1.77it/s]\n"
     ]
    },
    {
     "name": "stdout",
     "output_type": "stream",
     "text": [
      "Epoch [81], Train Loss : [0.23903] Val Loss : [0.29873] Val F1 Score : [0.49196]\n",
      "Epoch    82: reducing learning rate of group 0 to 3.1250e-05.\n"
     ]
    },
    {
     "name": "stderr",
     "output_type": "stream",
     "text": [
      "100%|██████████| 23/23 [00:14<00:00,  1.55it/s]\n",
      "100%|██████████| 6/6 [00:03<00:00,  1.78it/s]\n"
     ]
    },
    {
     "name": "stdout",
     "output_type": "stream",
     "text": [
      "Epoch [82], Train Loss : [0.24835] Val Loss : [0.29905] Val F1 Score : [0.49196]\n"
     ]
    },
    {
     "name": "stderr",
     "output_type": "stream",
     "text": [
      "100%|██████████| 23/23 [00:15<00:00,  1.52it/s]\n",
      "100%|██████████| 6/6 [00:03<00:00,  1.76it/s]\n"
     ]
    },
    {
     "name": "stdout",
     "output_type": "stream",
     "text": [
      "Epoch [83], Train Loss : [0.24668] Val Loss : [0.30023] Val F1 Score : [0.49180]\n"
     ]
    },
    {
     "name": "stderr",
     "output_type": "stream",
     "text": [
      "100%|██████████| 23/23 [00:14<00:00,  1.54it/s]\n",
      "100%|██████████| 6/6 [00:03<00:00,  1.81it/s]\n"
     ]
    },
    {
     "name": "stdout",
     "output_type": "stream",
     "text": [
      "Epoch [84], Train Loss : [0.23598] Val Loss : [0.29914] Val F1 Score : [0.49227]\n"
     ]
    },
    {
     "name": "stderr",
     "output_type": "stream",
     "text": [
      "100%|██████████| 23/23 [00:14<00:00,  1.55it/s]\n",
      "100%|██████████| 6/6 [00:03<00:00,  1.80it/s]\n"
     ]
    },
    {
     "name": "stdout",
     "output_type": "stream",
     "text": [
      "Epoch [85], Train Loss : [0.23662] Val Loss : [0.29878] Val F1 Score : [0.49322]\n"
     ]
    },
    {
     "name": "stderr",
     "output_type": "stream",
     "text": [
      "100%|██████████| 23/23 [00:14<00:00,  1.55it/s]\n",
      "100%|██████████| 6/6 [00:03<00:00,  1.79it/s]\n"
     ]
    },
    {
     "name": "stdout",
     "output_type": "stream",
     "text": [
      "Epoch [86], Train Loss : [0.23495] Val Loss : [0.29791] Val F1 Score : [0.49211]\n"
     ]
    },
    {
     "name": "stderr",
     "output_type": "stream",
     "text": [
      "100%|██████████| 23/23 [00:14<00:00,  1.54it/s]\n",
      "100%|██████████| 6/6 [00:03<00:00,  1.79it/s]\n"
     ]
    },
    {
     "name": "stdout",
     "output_type": "stream",
     "text": [
      "Epoch [87], Train Loss : [0.23705] Val Loss : [0.29865] Val F1 Score : [0.49211]\n"
     ]
    },
    {
     "name": "stderr",
     "output_type": "stream",
     "text": [
      "100%|██████████| 23/23 [00:14<00:00,  1.56it/s]\n",
      "100%|██████████| 6/6 [00:03<00:00,  1.79it/s]\n"
     ]
    },
    {
     "name": "stdout",
     "output_type": "stream",
     "text": [
      "Epoch [88], Train Loss : [0.23721] Val Loss : [0.29495] Val F1 Score : [0.49274]\n"
     ]
    },
    {
     "name": "stderr",
     "output_type": "stream",
     "text": [
      "100%|██████████| 23/23 [00:14<00:00,  1.57it/s]\n",
      "100%|██████████| 6/6 [00:03<00:00,  1.79it/s]\n"
     ]
    },
    {
     "name": "stdout",
     "output_type": "stream",
     "text": [
      "Epoch [89], Train Loss : [0.23694] Val Loss : [0.29867] Val F1 Score : [0.49211]\n"
     ]
    },
    {
     "name": "stderr",
     "output_type": "stream",
     "text": [
      "100%|██████████| 23/23 [00:14<00:00,  1.55it/s]\n",
      "100%|██████████| 6/6 [00:03<00:00,  1.74it/s]\n"
     ]
    },
    {
     "name": "stdout",
     "output_type": "stream",
     "text": [
      "Epoch [90], Train Loss : [0.24513] Val Loss : [0.29963] Val F1 Score : [0.49227]\n"
     ]
    },
    {
     "name": "stderr",
     "output_type": "stream",
     "text": [
      "100%|██████████| 23/23 [00:14<00:00,  1.56it/s]\n",
      "100%|██████████| 6/6 [00:03<00:00,  1.81it/s]\n"
     ]
    },
    {
     "name": "stdout",
     "output_type": "stream",
     "text": [
      "Epoch [91], Train Loss : [0.24206] Val Loss : [0.29958] Val F1 Score : [0.49227]\n"
     ]
    },
    {
     "name": "stderr",
     "output_type": "stream",
     "text": [
      "100%|██████████| 23/23 [00:14<00:00,  1.55it/s]\n",
      "100%|██████████| 6/6 [00:03<00:00,  1.78it/s]\n"
     ]
    },
    {
     "name": "stdout",
     "output_type": "stream",
     "text": [
      "Epoch [92], Train Loss : [0.25254] Val Loss : [0.30120] Val F1 Score : [0.49290]\n",
      "Epoch    93: reducing learning rate of group 0 to 1.5625e-05.\n"
     ]
    },
    {
     "name": "stderr",
     "output_type": "stream",
     "text": [
      "100%|██████████| 23/23 [00:14<00:00,  1.55it/s]\n",
      "100%|██████████| 6/6 [00:03<00:00,  1.79it/s]\n"
     ]
    },
    {
     "name": "stdout",
     "output_type": "stream",
     "text": [
      "Epoch [93], Train Loss : [0.23763] Val Loss : [0.30224] Val F1 Score : [0.49243]\n"
     ]
    },
    {
     "name": "stderr",
     "output_type": "stream",
     "text": [
      "100%|██████████| 23/23 [00:14<00:00,  1.54it/s]\n",
      "100%|██████████| 6/6 [00:03<00:00,  1.78it/s]\n"
     ]
    },
    {
     "name": "stdout",
     "output_type": "stream",
     "text": [
      "Epoch [94], Train Loss : [0.24057] Val Loss : [0.30176] Val F1 Score : [0.49164]\n"
     ]
    },
    {
     "name": "stderr",
     "output_type": "stream",
     "text": [
      "100%|██████████| 23/23 [00:14<00:00,  1.54it/s]\n",
      "100%|██████████| 6/6 [00:03<00:00,  1.78it/s]\n"
     ]
    },
    {
     "name": "stdout",
     "output_type": "stream",
     "text": [
      "Epoch [95], Train Loss : [0.23770] Val Loss : [0.30095] Val F1 Score : [0.49211]\n"
     ]
    },
    {
     "name": "stderr",
     "output_type": "stream",
     "text": [
      "100%|██████████| 23/23 [00:14<00:00,  1.55it/s]\n",
      "100%|██████████| 6/6 [00:03<00:00,  1.80it/s]\n"
     ]
    },
    {
     "name": "stdout",
     "output_type": "stream",
     "text": [
      "Epoch [96], Train Loss : [0.23668] Val Loss : [0.30101] Val F1 Score : [0.49211]\n"
     ]
    },
    {
     "name": "stderr",
     "output_type": "stream",
     "text": [
      "100%|██████████| 23/23 [00:15<00:00,  1.53it/s]\n",
      "100%|██████████| 6/6 [00:03<00:00,  1.77it/s]\n"
     ]
    },
    {
     "name": "stdout",
     "output_type": "stream",
     "text": [
      "Epoch [97], Train Loss : [0.23729] Val Loss : [0.30201] Val F1 Score : [0.49243]\n"
     ]
    },
    {
     "name": "stderr",
     "output_type": "stream",
     "text": [
      "100%|██████████| 23/23 [00:14<00:00,  1.55it/s]\n",
      "100%|██████████| 6/6 [00:03<00:00,  1.81it/s]\n"
     ]
    },
    {
     "name": "stdout",
     "output_type": "stream",
     "text": [
      "Epoch [98], Train Loss : [0.24939] Val Loss : [0.30036] Val F1 Score : [0.49196]\n"
     ]
    },
    {
     "name": "stderr",
     "output_type": "stream",
     "text": [
      "100%|██████████| 23/23 [00:14<00:00,  1.55it/s]\n",
      "100%|██████████| 6/6 [00:03<00:00,  1.78it/s]\n"
     ]
    },
    {
     "name": "stdout",
     "output_type": "stream",
     "text": [
      "Epoch [99], Train Loss : [0.24281] Val Loss : [0.30014] Val F1 Score : [0.49180]\n"
     ]
    },
    {
     "name": "stderr",
     "output_type": "stream",
     "text": [
      "100%|██████████| 23/23 [00:14<00:00,  1.57it/s]\n",
      "100%|██████████| 6/6 [00:03<00:00,  1.81it/s]\n"
     ]
    },
    {
     "name": "stdout",
     "output_type": "stream",
     "text": [
      "Epoch [100], Train Loss : [0.24778] Val Loss : [0.29988] Val F1 Score : [0.49211]\n"
     ]
    },
    {
     "name": "stderr",
     "output_type": "stream",
     "text": [
      "100%|██████████| 23/23 [00:14<00:00,  1.56it/s]\n",
      "100%|██████████| 6/6 [00:03<00:00,  1.81it/s]\n"
     ]
    },
    {
     "name": "stdout",
     "output_type": "stream",
     "text": [
      "Epoch [101], Train Loss : [0.25021] Val Loss : [0.30105] Val F1 Score : [0.49180]\n"
     ]
    },
    {
     "name": "stderr",
     "output_type": "stream",
     "text": [
      "100%|██████████| 23/23 [00:14<00:00,  1.57it/s]\n",
      "100%|██████████| 6/6 [00:03<00:00,  1.81it/s]\n"
     ]
    },
    {
     "name": "stdout",
     "output_type": "stream",
     "text": [
      "Epoch [102], Train Loss : [0.23679] Val Loss : [0.30154] Val F1 Score : [0.48821]\n"
     ]
    },
    {
     "name": "stderr",
     "output_type": "stream",
     "text": [
      "100%|██████████| 23/23 [00:14<00:00,  1.57it/s]\n",
      "100%|██████████| 6/6 [00:03<00:00,  1.80it/s]\n"
     ]
    },
    {
     "name": "stdout",
     "output_type": "stream",
     "text": [
      "Epoch [103], Train Loss : [0.26506] Val Loss : [0.30069] Val F1 Score : [0.49565]\n",
      "Epoch   104: reducing learning rate of group 0 to 7.8125e-06.\n"
     ]
    },
    {
     "name": "stderr",
     "output_type": "stream",
     "text": [
      "100%|██████████| 23/23 [00:14<00:00,  1.55it/s]\n",
      "100%|██████████| 6/6 [00:03<00:00,  1.80it/s]\n"
     ]
    },
    {
     "name": "stdout",
     "output_type": "stream",
     "text": [
      "Epoch [104], Train Loss : [0.24884] Val Loss : [0.30095] Val F1 Score : [0.49180]\n"
     ]
    },
    {
     "name": "stderr",
     "output_type": "stream",
     "text": [
      "100%|██████████| 23/23 [00:14<00:00,  1.56it/s]\n",
      "100%|██████████| 6/6 [00:03<00:00,  1.75it/s]\n"
     ]
    },
    {
     "name": "stdout",
     "output_type": "stream",
     "text": [
      "Epoch [105], Train Loss : [0.25810] Val Loss : [0.30314] Val F1 Score : [0.49180]\n"
     ]
    },
    {
     "name": "stderr",
     "output_type": "stream",
     "text": [
      "100%|██████████| 23/23 [00:14<00:00,  1.55it/s]\n",
      "100%|██████████| 6/6 [00:03<00:00,  1.77it/s]\n"
     ]
    },
    {
     "name": "stdout",
     "output_type": "stream",
     "text": [
      "Epoch [106], Train Loss : [0.23478] Val Loss : [0.30197] Val F1 Score : [0.49164]\n"
     ]
    },
    {
     "name": "stderr",
     "output_type": "stream",
     "text": [
      "100%|██████████| 23/23 [00:14<00:00,  1.54it/s]\n",
      "100%|██████████| 6/6 [00:03<00:00,  1.79it/s]\n"
     ]
    },
    {
     "name": "stdout",
     "output_type": "stream",
     "text": [
      "Epoch [107], Train Loss : [0.24023] Val Loss : [0.30142] Val F1 Score : [0.49180]\n"
     ]
    },
    {
     "name": "stderr",
     "output_type": "stream",
     "text": [
      "100%|██████████| 23/23 [00:14<00:00,  1.55it/s]\n",
      "100%|██████████| 6/6 [00:03<00:00,  1.76it/s]\n"
     ]
    },
    {
     "name": "stdout",
     "output_type": "stream",
     "text": [
      "Epoch [108], Train Loss : [0.24078] Val Loss : [0.30085] Val F1 Score : [0.49243]\n"
     ]
    },
    {
     "name": "stderr",
     "output_type": "stream",
     "text": [
      "100%|██████████| 23/23 [00:15<00:00,  1.53it/s]\n",
      "100%|██████████| 6/6 [00:03<00:00,  1.78it/s]\n"
     ]
    },
    {
     "name": "stdout",
     "output_type": "stream",
     "text": [
      "Epoch [109], Train Loss : [0.24791] Val Loss : [0.30213] Val F1 Score : [0.49548]\n"
     ]
    },
    {
     "name": "stderr",
     "output_type": "stream",
     "text": [
      "100%|██████████| 23/23 [00:14<00:00,  1.55it/s]\n",
      "100%|██████████| 6/6 [00:03<00:00,  1.77it/s]\n"
     ]
    },
    {
     "name": "stdout",
     "output_type": "stream",
     "text": [
      "Epoch [110], Train Loss : [0.23874] Val Loss : [0.30114] Val F1 Score : [0.49211]\n"
     ]
    },
    {
     "name": "stderr",
     "output_type": "stream",
     "text": [
      "100%|██████████| 23/23 [00:14<00:00,  1.56it/s]\n",
      "100%|██████████| 6/6 [00:03<00:00,  1.81it/s]\n"
     ]
    },
    {
     "name": "stdout",
     "output_type": "stream",
     "text": [
      "Epoch [111], Train Loss : [0.25478] Val Loss : [0.30165] Val F1 Score : [0.49514]\n"
     ]
    },
    {
     "name": "stderr",
     "output_type": "stream",
     "text": [
      "100%|██████████| 23/23 [00:14<00:00,  1.56it/s]\n",
      "100%|██████████| 6/6 [00:03<00:00,  1.80it/s]\n"
     ]
    },
    {
     "name": "stdout",
     "output_type": "stream",
     "text": [
      "Epoch [112], Train Loss : [0.24530] Val Loss : [0.30244] Val F1 Score : [0.49196]\n"
     ]
    },
    {
     "name": "stderr",
     "output_type": "stream",
     "text": [
      "100%|██████████| 23/23 [00:14<00:00,  1.56it/s]\n",
      "100%|██████████| 6/6 [00:03<00:00,  1.77it/s]\n"
     ]
    },
    {
     "name": "stdout",
     "output_type": "stream",
     "text": [
      "Epoch [113], Train Loss : [0.23622] Val Loss : [0.30137] Val F1 Score : [0.49164]\n"
     ]
    },
    {
     "name": "stderr",
     "output_type": "stream",
     "text": [
      "100%|██████████| 23/23 [00:14<00:00,  1.56it/s]\n",
      "100%|██████████| 6/6 [00:03<00:00,  1.78it/s]\n"
     ]
    },
    {
     "name": "stdout",
     "output_type": "stream",
     "text": [
      "Epoch [114], Train Loss : [0.23989] Val Loss : [0.30252] Val F1 Score : [0.49565]\n",
      "Epoch   115: reducing learning rate of group 0 to 3.9063e-06.\n"
     ]
    },
    {
     "name": "stderr",
     "output_type": "stream",
     "text": [
      "100%|██████████| 23/23 [00:14<00:00,  1.56it/s]\n",
      "100%|██████████| 6/6 [00:03<00:00,  1.81it/s]\n"
     ]
    },
    {
     "name": "stdout",
     "output_type": "stream",
     "text": [
      "Epoch [115], Train Loss : [0.24783] Val Loss : [0.30453] Val F1 Score : [0.49565]\n"
     ]
    },
    {
     "name": "stderr",
     "output_type": "stream",
     "text": [
      "100%|██████████| 23/23 [00:14<00:00,  1.57it/s]\n",
      "100%|██████████| 6/6 [00:03<00:00,  1.80it/s]\n"
     ]
    },
    {
     "name": "stdout",
     "output_type": "stream",
     "text": [
      "Epoch [116], Train Loss : [0.24515] Val Loss : [0.30311] Val F1 Score : [0.49514]\n"
     ]
    },
    {
     "name": "stderr",
     "output_type": "stream",
     "text": [
      "100%|██████████| 23/23 [00:14<00:00,  1.55it/s]\n",
      "100%|██████████| 6/6 [00:03<00:00,  1.78it/s]\n"
     ]
    },
    {
     "name": "stdout",
     "output_type": "stream",
     "text": [
      "Epoch [117], Train Loss : [0.24207] Val Loss : [0.30196] Val F1 Score : [0.49910]\n"
     ]
    },
    {
     "name": "stderr",
     "output_type": "stream",
     "text": [
      "100%|██████████| 23/23 [00:14<00:00,  1.55it/s]\n",
      "100%|██████████| 6/6 [00:03<00:00,  1.81it/s]\n"
     ]
    },
    {
     "name": "stdout",
     "output_type": "stream",
     "text": [
      "Epoch [118], Train Loss : [0.24663] Val Loss : [0.30138] Val F1 Score : [0.49180]\n"
     ]
    },
    {
     "name": "stderr",
     "output_type": "stream",
     "text": [
      "100%|██████████| 23/23 [00:14<00:00,  1.55it/s]\n",
      "100%|██████████| 6/6 [00:03<00:00,  1.80it/s]\n"
     ]
    },
    {
     "name": "stdout",
     "output_type": "stream",
     "text": [
      "Epoch [119], Train Loss : [0.25047] Val Loss : [0.30240] Val F1 Score : [0.49149]\n"
     ]
    },
    {
     "name": "stderr",
     "output_type": "stream",
     "text": [
      "100%|██████████| 23/23 [00:14<00:00,  1.56it/s]\n",
      "100%|██████████| 6/6 [00:03<00:00,  1.74it/s]\n"
     ]
    },
    {
     "name": "stdout",
     "output_type": "stream",
     "text": [
      "Epoch [120], Train Loss : [0.24419] Val Loss : [0.30259] Val F1 Score : [0.49180]\n"
     ]
    },
    {
     "name": "stderr",
     "output_type": "stream",
     "text": [
      "100%|██████████| 23/23 [00:14<00:00,  1.55it/s]\n",
      "100%|██████████| 6/6 [00:03<00:00,  1.80it/s]\n"
     ]
    },
    {
     "name": "stdout",
     "output_type": "stream",
     "text": [
      "Epoch [121], Train Loss : [0.24321] Val Loss : [0.30137] Val F1 Score : [0.49164]\n"
     ]
    },
    {
     "name": "stderr",
     "output_type": "stream",
     "text": [
      "100%|██████████| 23/23 [00:14<00:00,  1.57it/s]\n",
      "100%|██████████| 6/6 [00:03<00:00,  1.81it/s]\n"
     ]
    },
    {
     "name": "stdout",
     "output_type": "stream",
     "text": [
      "Epoch [122], Train Loss : [0.23921] Val Loss : [0.30312] Val F1 Score : [0.49196]\n"
     ]
    },
    {
     "name": "stderr",
     "output_type": "stream",
     "text": [
      "100%|██████████| 23/23 [00:14<00:00,  1.56it/s]\n",
      "100%|██████████| 6/6 [00:03<00:00,  1.79it/s]\n"
     ]
    },
    {
     "name": "stdout",
     "output_type": "stream",
     "text": [
      "Epoch [123], Train Loss : [0.23352] Val Loss : [0.30098] Val F1 Score : [0.49164]\n"
     ]
    },
    {
     "name": "stderr",
     "output_type": "stream",
     "text": [
      "100%|██████████| 23/23 [00:14<00:00,  1.55it/s]\n",
      "100%|██████████| 6/6 [00:03<00:00,  1.81it/s]\n"
     ]
    },
    {
     "name": "stdout",
     "output_type": "stream",
     "text": [
      "Epoch [124], Train Loss : [0.24803] Val Loss : [0.30049] Val F1 Score : [0.49274]\n"
     ]
    },
    {
     "name": "stderr",
     "output_type": "stream",
     "text": [
      "100%|██████████| 23/23 [00:14<00:00,  1.55it/s]\n",
      "100%|██████████| 6/6 [00:03<00:00,  1.80it/s]\n"
     ]
    },
    {
     "name": "stdout",
     "output_type": "stream",
     "text": [
      "Epoch [125], Train Loss : [0.23677] Val Loss : [0.30250] Val F1 Score : [0.49259]\n"
     ]
    },
    {
     "name": "stderr",
     "output_type": "stream",
     "text": [
      "100%|██████████| 23/23 [00:14<00:00,  1.57it/s]\n",
      "100%|██████████| 6/6 [00:03<00:00,  1.82it/s]\n"
     ]
    },
    {
     "name": "stdout",
     "output_type": "stream",
     "text": [
      "Epoch [126], Train Loss : [0.23558] Val Loss : [0.30489] Val F1 Score : [0.49227]\n"
     ]
    },
    {
     "name": "stderr",
     "output_type": "stream",
     "text": [
      "100%|██████████| 23/23 [00:14<00:00,  1.57it/s]\n",
      "100%|██████████| 6/6 [00:03<00:00,  1.82it/s]\n"
     ]
    },
    {
     "name": "stdout",
     "output_type": "stream",
     "text": [
      "Epoch [127], Train Loss : [0.24145] Val Loss : [0.30354] Val F1 Score : [0.49531]\n"
     ]
    },
    {
     "name": "stderr",
     "output_type": "stream",
     "text": [
      "100%|██████████| 23/23 [00:14<00:00,  1.55it/s]\n",
      "100%|██████████| 6/6 [00:03<00:00,  1.79it/s]\n"
     ]
    },
    {
     "name": "stdout",
     "output_type": "stream",
     "text": [
      "Epoch [128], Train Loss : [0.23723] Val Loss : [0.30311] Val F1 Score : [0.49531]\n",
      "Epoch   129: reducing learning rate of group 0 to 1.9531e-06.\n"
     ]
    },
    {
     "name": "stderr",
     "output_type": "stream",
     "text": [
      "100%|██████████| 23/23 [00:14<00:00,  1.55it/s]\n",
      "100%|██████████| 6/6 [00:03<00:00,  1.77it/s]\n"
     ]
    },
    {
     "name": "stdout",
     "output_type": "stream",
     "text": [
      "Epoch [129], Train Loss : [0.23760] Val Loss : [0.30106] Val F1 Score : [0.49196]\n"
     ]
    },
    {
     "name": "stderr",
     "output_type": "stream",
     "text": [
      "100%|██████████| 23/23 [00:14<00:00,  1.55it/s]\n",
      "100%|██████████| 6/6 [00:03<00:00,  1.77it/s]\n"
     ]
    },
    {
     "name": "stdout",
     "output_type": "stream",
     "text": [
      "Epoch [130], Train Loss : [0.23420] Val Loss : [0.30198] Val F1 Score : [0.49599]\n"
     ]
    },
    {
     "name": "stderr",
     "output_type": "stream",
     "text": [
      "100%|██████████| 23/23 [00:14<00:00,  1.56it/s]\n",
      "100%|██████████| 6/6 [00:03<00:00,  1.77it/s]\n"
     ]
    },
    {
     "name": "stdout",
     "output_type": "stream",
     "text": [
      "Epoch [131], Train Loss : [0.23601] Val Loss : [0.30137] Val F1 Score : [0.49211]\n"
     ]
    },
    {
     "name": "stderr",
     "output_type": "stream",
     "text": [
      "100%|██████████| 23/23 [00:14<00:00,  1.56it/s]\n",
      "100%|██████████| 6/6 [00:03<00:00,  1.79it/s]\n"
     ]
    },
    {
     "name": "stdout",
     "output_type": "stream",
     "text": [
      "Epoch [132], Train Loss : [0.23946] Val Loss : [0.30124] Val F1 Score : [0.49196]\n"
     ]
    },
    {
     "name": "stderr",
     "output_type": "stream",
     "text": [
      "100%|██████████| 23/23 [00:14<00:00,  1.56it/s]\n",
      "100%|██████████| 6/6 [00:03<00:00,  1.81it/s]\n"
     ]
    },
    {
     "name": "stdout",
     "output_type": "stream",
     "text": [
      "Epoch [133], Train Loss : [0.23265] Val Loss : [0.30208] Val F1 Score : [0.49227]\n"
     ]
    },
    {
     "name": "stderr",
     "output_type": "stream",
     "text": [
      "100%|██████████| 23/23 [00:14<00:00,  1.55it/s]\n",
      "100%|██████████| 6/6 [00:03<00:00,  1.78it/s]\n"
     ]
    },
    {
     "name": "stdout",
     "output_type": "stream",
     "text": [
      "Epoch [134], Train Loss : [0.26463] Val Loss : [0.30232] Val F1 Score : [0.49565]\n"
     ]
    },
    {
     "name": "stderr",
     "output_type": "stream",
     "text": [
      "100%|██████████| 23/23 [00:14<00:00,  1.54it/s]\n",
      "100%|██████████| 6/6 [00:03<00:00,  1.79it/s]\n"
     ]
    },
    {
     "name": "stdout",
     "output_type": "stream",
     "text": [
      "Epoch [135], Train Loss : [0.23605] Val Loss : [0.30216] Val F1 Score : [0.49211]\n"
     ]
    },
    {
     "name": "stderr",
     "output_type": "stream",
     "text": [
      "100%|██████████| 23/23 [00:14<00:00,  1.56it/s]\n",
      "100%|██████████| 6/6 [00:03<00:00,  1.80it/s]\n"
     ]
    },
    {
     "name": "stdout",
     "output_type": "stream",
     "text": [
      "Epoch [136], Train Loss : [0.23495] Val Loss : [0.30294] Val F1 Score : [0.49211]\n"
     ]
    },
    {
     "name": "stderr",
     "output_type": "stream",
     "text": [
      "100%|██████████| 23/23 [00:14<00:00,  1.57it/s]\n",
      "100%|██████████| 6/6 [00:03<00:00,  1.77it/s]\n"
     ]
    },
    {
     "name": "stdout",
     "output_type": "stream",
     "text": [
      "Epoch [137], Train Loss : [0.24617] Val Loss : [0.30435] Val F1 Score : [0.49514]\n"
     ]
    },
    {
     "name": "stderr",
     "output_type": "stream",
     "text": [
      "100%|██████████| 23/23 [00:14<00:00,  1.57it/s]\n",
      "100%|██████████| 6/6 [00:03<00:00,  1.77it/s]\n"
     ]
    },
    {
     "name": "stdout",
     "output_type": "stream",
     "text": [
      "Epoch [138], Train Loss : [0.24190] Val Loss : [0.30109] Val F1 Score : [0.49180]\n"
     ]
    },
    {
     "name": "stderr",
     "output_type": "stream",
     "text": [
      "100%|██████████| 23/23 [00:14<00:00,  1.55it/s]\n",
      "100%|██████████| 6/6 [00:03<00:00,  1.78it/s]\n"
     ]
    },
    {
     "name": "stdout",
     "output_type": "stream",
     "text": [
      "Epoch [139], Train Loss : [0.23428] Val Loss : [0.30153] Val F1 Score : [0.49548]\n",
      "Epoch   140: reducing learning rate of group 0 to 9.7656e-07.\n"
     ]
    },
    {
     "name": "stderr",
     "output_type": "stream",
     "text": [
      "100%|██████████| 23/23 [00:14<00:00,  1.55it/s]\n",
      "100%|██████████| 6/6 [00:03<00:00,  1.79it/s]\n"
     ]
    },
    {
     "name": "stdout",
     "output_type": "stream",
     "text": [
      "Epoch [140], Train Loss : [0.23670] Val Loss : [0.30262] Val F1 Score : [0.49180]\n"
     ]
    },
    {
     "name": "stderr",
     "output_type": "stream",
     "text": [
      "100%|██████████| 23/23 [00:15<00:00,  1.53it/s]\n",
      "100%|██████████| 6/6 [00:03<00:00,  1.75it/s]\n"
     ]
    },
    {
     "name": "stdout",
     "output_type": "stream",
     "text": [
      "Epoch [141], Train Loss : [0.25868] Val Loss : [0.30142] Val F1 Score : [0.49565]\n"
     ]
    },
    {
     "name": "stderr",
     "output_type": "stream",
     "text": [
      "100%|██████████| 23/23 [00:15<00:00,  1.52it/s]\n",
      "100%|██████████| 6/6 [00:03<00:00,  1.78it/s]\n"
     ]
    },
    {
     "name": "stdout",
     "output_type": "stream",
     "text": [
      "Epoch [142], Train Loss : [0.23530] Val Loss : [0.30144] Val F1 Score : [0.49196]\n"
     ]
    },
    {
     "name": "stderr",
     "output_type": "stream",
     "text": [
      "100%|██████████| 23/23 [00:15<00:00,  1.53it/s]\n",
      "100%|██████████| 6/6 [00:03<00:00,  1.77it/s]\n"
     ]
    },
    {
     "name": "stdout",
     "output_type": "stream",
     "text": [
      "Epoch [143], Train Loss : [0.23386] Val Loss : [0.30282] Val F1 Score : [0.49211]\n"
     ]
    },
    {
     "name": "stderr",
     "output_type": "stream",
     "text": [
      "100%|██████████| 23/23 [00:14<00:00,  1.55it/s]\n",
      "100%|██████████| 6/6 [00:03<00:00,  1.77it/s]\n"
     ]
    },
    {
     "name": "stdout",
     "output_type": "stream",
     "text": [
      "Epoch [144], Train Loss : [0.23597] Val Loss : [0.30186] Val F1 Score : [0.49227]\n"
     ]
    },
    {
     "name": "stderr",
     "output_type": "stream",
     "text": [
      "100%|██████████| 23/23 [00:14<00:00,  1.55it/s]\n",
      "100%|██████████| 6/6 [00:03<00:00,  1.80it/s]\n"
     ]
    },
    {
     "name": "stdout",
     "output_type": "stream",
     "text": [
      "Epoch [145], Train Loss : [0.24226] Val Loss : [0.30287] Val F1 Score : [0.49180]\n"
     ]
    },
    {
     "name": "stderr",
     "output_type": "stream",
     "text": [
      "100%|██████████| 23/23 [00:14<00:00,  1.56it/s]\n",
      "100%|██████████| 6/6 [00:03<00:00,  1.74it/s]\n"
     ]
    },
    {
     "name": "stdout",
     "output_type": "stream",
     "text": [
      "Epoch [146], Train Loss : [0.23541] Val Loss : [0.30163] Val F1 Score : [0.49565]\n"
     ]
    },
    {
     "name": "stderr",
     "output_type": "stream",
     "text": [
      "100%|██████████| 23/23 [00:14<00:00,  1.56it/s]\n",
      "100%|██████████| 6/6 [00:03<00:00,  1.78it/s]\n"
     ]
    },
    {
     "name": "stdout",
     "output_type": "stream",
     "text": [
      "Epoch [147], Train Loss : [0.23954] Val Loss : [0.30230] Val F1 Score : [0.49180]\n"
     ]
    },
    {
     "name": "stderr",
     "output_type": "stream",
     "text": [
      "100%|██████████| 23/23 [00:14<00:00,  1.55it/s]\n",
      "100%|██████████| 6/6 [00:03<00:00,  1.78it/s]\n"
     ]
    },
    {
     "name": "stdout",
     "output_type": "stream",
     "text": [
      "Epoch [148], Train Loss : [0.23868] Val Loss : [0.30178] Val F1 Score : [0.49565]\n"
     ]
    },
    {
     "name": "stderr",
     "output_type": "stream",
     "text": [
      "100%|██████████| 23/23 [00:15<00:00,  1.52it/s]\n",
      "100%|██████████| 6/6 [00:03<00:00,  1.76it/s]\n"
     ]
    },
    {
     "name": "stdout",
     "output_type": "stream",
     "text": [
      "Epoch [149], Train Loss : [0.24317] Val Loss : [0.30145] Val F1 Score : [0.49565]\n"
     ]
    },
    {
     "name": "stderr",
     "output_type": "stream",
     "text": [
      "100%|██████████| 23/23 [00:14<00:00,  1.55it/s]\n",
      "100%|██████████| 6/6 [00:03<00:00,  1.80it/s]\n"
     ]
    },
    {
     "name": "stdout",
     "output_type": "stream",
     "text": [
      "Epoch [150], Train Loss : [0.24011] Val Loss : [0.30219] Val F1 Score : [0.49599]\n",
      "Epoch   151: reducing learning rate of group 0 to 4.8828e-07.\n"
     ]
    },
    {
     "name": "stderr",
     "output_type": "stream",
     "text": [
      "100%|██████████| 23/23 [00:14<00:00,  1.55it/s]\n",
      "100%|██████████| 6/6 [00:03<00:00,  1.76it/s]\n"
     ]
    },
    {
     "name": "stdout",
     "output_type": "stream",
     "text": [
      "Epoch [151], Train Loss : [0.24181] Val Loss : [0.30299] Val F1 Score : [0.49180]\n"
     ]
    },
    {
     "name": "stderr",
     "output_type": "stream",
     "text": [
      "100%|██████████| 23/23 [00:14<00:00,  1.55it/s]\n",
      "100%|██████████| 6/6 [00:03<00:00,  1.80it/s]\n"
     ]
    },
    {
     "name": "stdout",
     "output_type": "stream",
     "text": [
      "Epoch [152], Train Loss : [0.24134] Val Loss : [0.30250] Val F1 Score : [0.49227]\n"
     ]
    },
    {
     "name": "stderr",
     "output_type": "stream",
     "text": [
      "100%|██████████| 23/23 [00:14<00:00,  1.54it/s]\n",
      "100%|██████████| 6/6 [00:03<00:00,  1.77it/s]\n"
     ]
    },
    {
     "name": "stdout",
     "output_type": "stream",
     "text": [
      "Epoch [153], Train Loss : [0.23482] Val Loss : [0.30138] Val F1 Score : [0.49227]\n"
     ]
    },
    {
     "name": "stderr",
     "output_type": "stream",
     "text": [
      "100%|██████████| 23/23 [00:14<00:00,  1.54it/s]\n",
      "100%|██████████| 6/6 [00:03<00:00,  1.80it/s]\n"
     ]
    },
    {
     "name": "stdout",
     "output_type": "stream",
     "text": [
      "Epoch [154], Train Loss : [0.23944] Val Loss : [0.30247] Val F1 Score : [0.49599]\n"
     ]
    },
    {
     "name": "stderr",
     "output_type": "stream",
     "text": [
      "100%|██████████| 23/23 [00:15<00:00,  1.52it/s]\n",
      "100%|██████████| 6/6 [00:03<00:00,  1.78it/s]\n"
     ]
    },
    {
     "name": "stdout",
     "output_type": "stream",
     "text": [
      "Epoch [155], Train Loss : [0.24518] Val Loss : [0.30438] Val F1 Score : [0.49599]\n"
     ]
    },
    {
     "name": "stderr",
     "output_type": "stream",
     "text": [
      "100%|██████████| 23/23 [00:14<00:00,  1.55it/s]\n",
      "100%|██████████| 6/6 [00:03<00:00,  1.80it/s]\n"
     ]
    },
    {
     "name": "stdout",
     "output_type": "stream",
     "text": [
      "Epoch [156], Train Loss : [0.23173] Val Loss : [0.30273] Val F1 Score : [0.49548]\n"
     ]
    },
    {
     "name": "stderr",
     "output_type": "stream",
     "text": [
      "100%|██████████| 23/23 [00:14<00:00,  1.57it/s]\n",
      "100%|██████████| 6/6 [00:03<00:00,  1.79it/s]\n"
     ]
    },
    {
     "name": "stdout",
     "output_type": "stream",
     "text": [
      "Epoch [157], Train Loss : [0.24511] Val Loss : [0.30221] Val F1 Score : [0.49565]\n"
     ]
    },
    {
     "name": "stderr",
     "output_type": "stream",
     "text": [
      "100%|██████████| 23/23 [00:14<00:00,  1.54it/s]\n",
      "100%|██████████| 6/6 [00:03<00:00,  1.80it/s]\n"
     ]
    },
    {
     "name": "stdout",
     "output_type": "stream",
     "text": [
      "Epoch [158], Train Loss : [0.24397] Val Loss : [0.30238] Val F1 Score : [0.49180]\n"
     ]
    },
    {
     "name": "stderr",
     "output_type": "stream",
     "text": [
      "100%|██████████| 23/23 [00:14<00:00,  1.55it/s]\n",
      "100%|██████████| 6/6 [00:03<00:00,  1.79it/s]\n"
     ]
    },
    {
     "name": "stdout",
     "output_type": "stream",
     "text": [
      "Epoch [159], Train Loss : [0.24176] Val Loss : [0.29947] Val F1 Score : [0.49965]\n"
     ]
    },
    {
     "name": "stderr",
     "output_type": "stream",
     "text": [
      "100%|██████████| 23/23 [00:14<00:00,  1.54it/s]\n",
      "100%|██████████| 6/6 [00:03<00:00,  1.78it/s]\n"
     ]
    },
    {
     "name": "stdout",
     "output_type": "stream",
     "text": [
      "Epoch [160], Train Loss : [0.24497] Val Loss : [0.30278] Val F1 Score : [0.49565]\n"
     ]
    },
    {
     "name": "stderr",
     "output_type": "stream",
     "text": [
      "100%|██████████| 23/23 [00:15<00:00,  1.52it/s]\n",
      "100%|██████████| 6/6 [00:03<00:00,  1.73it/s]\n"
     ]
    },
    {
     "name": "stdout",
     "output_type": "stream",
     "text": [
      "Epoch [161], Train Loss : [0.23619] Val Loss : [0.30229] Val F1 Score : [0.49227]\n"
     ]
    },
    {
     "name": "stderr",
     "output_type": "stream",
     "text": [
      "100%|██████████| 23/23 [00:14<00:00,  1.56it/s]\n",
      "100%|██████████| 6/6 [00:03<00:00,  1.81it/s]\n"
     ]
    },
    {
     "name": "stdout",
     "output_type": "stream",
     "text": [
      "Epoch [162], Train Loss : [0.23541] Val Loss : [0.30314] Val F1 Score : [0.49211]\n"
     ]
    },
    {
     "name": "stderr",
     "output_type": "stream",
     "text": [
      "100%|██████████| 23/23 [00:14<00:00,  1.57it/s]\n",
      "100%|██████████| 6/6 [00:03<00:00,  1.81it/s]\n"
     ]
    },
    {
     "name": "stdout",
     "output_type": "stream",
     "text": [
      "Epoch [163], Train Loss : [0.24525] Val Loss : [0.30207] Val F1 Score : [0.49196]\n"
     ]
    },
    {
     "name": "stderr",
     "output_type": "stream",
     "text": [
      "100%|██████████| 23/23 [00:14<00:00,  1.56it/s]\n",
      "100%|██████████| 6/6 [00:03<00:00,  1.79it/s]\n"
     ]
    },
    {
     "name": "stdout",
     "output_type": "stream",
     "text": [
      "Epoch [164], Train Loss : [0.23502] Val Loss : [0.30212] Val F1 Score : [0.49211]\n"
     ]
    },
    {
     "name": "stderr",
     "output_type": "stream",
     "text": [
      "100%|██████████| 23/23 [00:14<00:00,  1.55it/s]\n",
      "100%|██████████| 6/6 [00:03<00:00,  1.77it/s]\n"
     ]
    },
    {
     "name": "stdout",
     "output_type": "stream",
     "text": [
      "Epoch [165], Train Loss : [0.24001] Val Loss : [0.30265] Val F1 Score : [0.49243]\n"
     ]
    },
    {
     "name": "stderr",
     "output_type": "stream",
     "text": [
      "100%|██████████| 23/23 [00:14<00:00,  1.55it/s]\n",
      "100%|██████████| 6/6 [00:03<00:00,  1.81it/s]\n"
     ]
    },
    {
     "name": "stdout",
     "output_type": "stream",
     "text": [
      "Epoch [166], Train Loss : [0.26207] Val Loss : [0.30063] Val F1 Score : [0.50618]\n"
     ]
    },
    {
     "name": "stderr",
     "output_type": "stream",
     "text": [
      "100%|██████████| 23/23 [00:14<00:00,  1.57it/s]\n",
      "100%|██████████| 6/6 [00:03<00:00,  1.78it/s]\n"
     ]
    },
    {
     "name": "stdout",
     "output_type": "stream",
     "text": [
      "Epoch [167], Train Loss : [0.23363] Val Loss : [0.30077] Val F1 Score : [0.49599]\n"
     ]
    },
    {
     "name": "stderr",
     "output_type": "stream",
     "text": [
      "100%|██████████| 23/23 [00:14<00:00,  1.55it/s]\n",
      "100%|██████████| 6/6 [00:03<00:00,  1.76it/s]\n"
     ]
    },
    {
     "name": "stdout",
     "output_type": "stream",
     "text": [
      "Epoch [168], Train Loss : [0.24992] Val Loss : [0.30271] Val F1 Score : [0.49211]\n"
     ]
    },
    {
     "name": "stderr",
     "output_type": "stream",
     "text": [
      "100%|██████████| 23/23 [00:14<00:00,  1.54it/s]\n",
      "100%|██████████| 6/6 [00:03<00:00,  1.79it/s]\n"
     ]
    },
    {
     "name": "stdout",
     "output_type": "stream",
     "text": [
      "Epoch [169], Train Loss : [0.23382] Val Loss : [0.30324] Val F1 Score : [0.49180]\n"
     ]
    },
    {
     "name": "stderr",
     "output_type": "stream",
     "text": [
      "100%|██████████| 23/23 [00:14<00:00,  1.57it/s]\n",
      "100%|██████████| 6/6 [00:03<00:00,  1.79it/s]\n"
     ]
    },
    {
     "name": "stdout",
     "output_type": "stream",
     "text": [
      "Epoch [170], Train Loss : [0.23601] Val Loss : [0.30457] Val F1 Score : [0.49180]\n"
     ]
    },
    {
     "name": "stderr",
     "output_type": "stream",
     "text": [
      "100%|██████████| 23/23 [00:14<00:00,  1.57it/s]\n",
      "100%|██████████| 6/6 [00:03<00:00,  1.78it/s]\n"
     ]
    },
    {
     "name": "stdout",
     "output_type": "stream",
     "text": [
      "Epoch [171], Train Loss : [0.24150] Val Loss : [0.30388] Val F1 Score : [0.49910]\n"
     ]
    },
    {
     "name": "stderr",
     "output_type": "stream",
     "text": [
      "100%|██████████| 23/23 [00:14<00:00,  1.53it/s]\n",
      "100%|██████████| 6/6 [00:03<00:00,  1.76it/s]\n"
     ]
    },
    {
     "name": "stdout",
     "output_type": "stream",
     "text": [
      "Epoch [172], Train Loss : [0.23770] Val Loss : [0.30401] Val F1 Score : [0.49599]\n"
     ]
    },
    {
     "name": "stderr",
     "output_type": "stream",
     "text": [
      "100%|██████████| 23/23 [00:14<00:00,  1.57it/s]\n",
      "100%|██████████| 6/6 [00:03<00:00,  1.81it/s]\n"
     ]
    },
    {
     "name": "stdout",
     "output_type": "stream",
     "text": [
      "Epoch [173], Train Loss : [0.23398] Val Loss : [0.30195] Val F1 Score : [0.49164]\n"
     ]
    },
    {
     "name": "stderr",
     "output_type": "stream",
     "text": [
      "100%|██████████| 23/23 [00:14<00:00,  1.57it/s]\n",
      "100%|██████████| 6/6 [00:03<00:00,  1.79it/s]\n"
     ]
    },
    {
     "name": "stdout",
     "output_type": "stream",
     "text": [
      "Epoch [174], Train Loss : [0.23448] Val Loss : [0.30247] Val F1 Score : [0.49227]\n"
     ]
    },
    {
     "name": "stderr",
     "output_type": "stream",
     "text": [
      "100%|██████████| 23/23 [00:14<00:00,  1.56it/s]\n",
      "100%|██████████| 6/6 [00:03<00:00,  1.80it/s]\n"
     ]
    },
    {
     "name": "stdout",
     "output_type": "stream",
     "text": [
      "Epoch [175], Train Loss : [0.25723] Val Loss : [0.30366] Val F1 Score : [0.49164]\n"
     ]
    },
    {
     "name": "stderr",
     "output_type": "stream",
     "text": [
      "100%|██████████| 23/23 [00:14<00:00,  1.54it/s]\n",
      "100%|██████████| 6/6 [00:03<00:00,  1.77it/s]\n"
     ]
    },
    {
     "name": "stdout",
     "output_type": "stream",
     "text": [
      "Epoch [176], Train Loss : [0.24804] Val Loss : [0.30265] Val F1 Score : [0.49514]\n"
     ]
    },
    {
     "name": "stderr",
     "output_type": "stream",
     "text": [
      "100%|██████████| 23/23 [00:14<00:00,  1.55it/s]\n",
      "100%|██████████| 6/6 [00:03<00:00,  1.77it/s]\n"
     ]
    },
    {
     "name": "stdout",
     "output_type": "stream",
     "text": [
      "Epoch [177], Train Loss : [0.23937] Val Loss : [0.30419] Val F1 Score : [0.49180]\n",
      "Epoch   178: reducing learning rate of group 0 to 2.4414e-07.\n"
     ]
    },
    {
     "name": "stderr",
     "output_type": "stream",
     "text": [
      "100%|██████████| 23/23 [00:14<00:00,  1.54it/s]\n",
      "100%|██████████| 6/6 [00:03<00:00,  1.76it/s]\n"
     ]
    },
    {
     "name": "stdout",
     "output_type": "stream",
     "text": [
      "Epoch [178], Train Loss : [0.24268] Val Loss : [0.30344] Val F1 Score : [0.49243]\n"
     ]
    },
    {
     "name": "stderr",
     "output_type": "stream",
     "text": [
      "100%|██████████| 23/23 [00:14<00:00,  1.54it/s]\n",
      "100%|██████████| 6/6 [00:03<00:00,  1.77it/s]\n"
     ]
    },
    {
     "name": "stdout",
     "output_type": "stream",
     "text": [
      "Epoch [179], Train Loss : [0.23893] Val Loss : [0.30335] Val F1 Score : [0.49582]\n"
     ]
    },
    {
     "name": "stderr",
     "output_type": "stream",
     "text": [
      "100%|██████████| 23/23 [00:15<00:00,  1.52it/s]\n",
      "100%|██████████| 6/6 [00:03<00:00,  1.74it/s]\n"
     ]
    },
    {
     "name": "stdout",
     "output_type": "stream",
     "text": [
      "Epoch [180], Train Loss : [0.23407] Val Loss : [0.30250] Val F1 Score : [0.49196]\n"
     ]
    },
    {
     "name": "stderr",
     "output_type": "stream",
     "text": [
      "100%|██████████| 23/23 [00:14<00:00,  1.53it/s]\n",
      "100%|██████████| 6/6 [00:03<00:00,  1.74it/s]\n"
     ]
    },
    {
     "name": "stdout",
     "output_type": "stream",
     "text": [
      "Epoch [181], Train Loss : [0.24468] Val Loss : [0.30164] Val F1 Score : [0.49946]\n"
     ]
    },
    {
     "name": "stderr",
     "output_type": "stream",
     "text": [
      "100%|██████████| 23/23 [00:15<00:00,  1.52it/s]\n",
      "100%|██████████| 6/6 [00:03<00:00,  1.75it/s]\n"
     ]
    },
    {
     "name": "stdout",
     "output_type": "stream",
     "text": [
      "Epoch [182], Train Loss : [0.23579] Val Loss : [0.29984] Val F1 Score : [0.49180]\n"
     ]
    },
    {
     "name": "stderr",
     "output_type": "stream",
     "text": [
      "100%|██████████| 23/23 [00:15<00:00,  1.53it/s]\n",
      "100%|██████████| 6/6 [00:03<00:00,  1.76it/s]\n"
     ]
    },
    {
     "name": "stdout",
     "output_type": "stream",
     "text": [
      "Epoch [183], Train Loss : [0.23912] Val Loss : [0.30149] Val F1 Score : [0.49196]\n"
     ]
    },
    {
     "name": "stderr",
     "output_type": "stream",
     "text": [
      "100%|██████████| 23/23 [00:15<00:00,  1.52it/s]\n",
      "100%|██████████| 6/6 [00:03<00:00,  1.76it/s]\n"
     ]
    },
    {
     "name": "stdout",
     "output_type": "stream",
     "text": [
      "Epoch [184], Train Loss : [0.23446] Val Loss : [0.30412] Val F1 Score : [0.49497]\n"
     ]
    },
    {
     "name": "stderr",
     "output_type": "stream",
     "text": [
      "100%|██████████| 23/23 [00:15<00:00,  1.52it/s]\n",
      "100%|██████████| 6/6 [00:03<00:00,  1.76it/s]\n"
     ]
    },
    {
     "name": "stdout",
     "output_type": "stream",
     "text": [
      "Epoch [185], Train Loss : [0.23530] Val Loss : [0.30222] Val F1 Score : [0.49196]\n"
     ]
    },
    {
     "name": "stderr",
     "output_type": "stream",
     "text": [
      "100%|██████████| 23/23 [00:15<00:00,  1.52it/s]\n",
      "100%|██████████| 6/6 [00:03<00:00,  1.73it/s]\n"
     ]
    },
    {
     "name": "stdout",
     "output_type": "stream",
     "text": [
      "Epoch [186], Train Loss : [0.25202] Val Loss : [0.30389] Val F1 Score : [0.49548]\n"
     ]
    },
    {
     "name": "stderr",
     "output_type": "stream",
     "text": [
      "100%|██████████| 23/23 [00:15<00:00,  1.52it/s]\n",
      "100%|██████████| 6/6 [00:03<00:00,  1.71it/s]\n"
     ]
    },
    {
     "name": "stdout",
     "output_type": "stream",
     "text": [
      "Epoch [187], Train Loss : [0.25907] Val Loss : [0.30172] Val F1 Score : [0.49599]\n"
     ]
    },
    {
     "name": "stderr",
     "output_type": "stream",
     "text": [
      "100%|██████████| 23/23 [00:15<00:00,  1.52it/s]\n",
      "100%|██████████| 6/6 [00:03<00:00,  1.74it/s]\n"
     ]
    },
    {
     "name": "stdout",
     "output_type": "stream",
     "text": [
      "Epoch [188], Train Loss : [0.24211] Val Loss : [0.30324] Val F1 Score : [0.49259]\n",
      "Epoch   189: reducing learning rate of group 0 to 1.2207e-07.\n"
     ]
    },
    {
     "name": "stderr",
     "output_type": "stream",
     "text": [
      "100%|██████████| 23/23 [00:15<00:00,  1.51it/s]\n",
      "100%|██████████| 6/6 [00:03<00:00,  1.74it/s]\n"
     ]
    },
    {
     "name": "stdout",
     "output_type": "stream",
     "text": [
      "Epoch [189], Train Loss : [0.23378] Val Loss : [0.30270] Val F1 Score : [0.49227]\n"
     ]
    },
    {
     "name": "stderr",
     "output_type": "stream",
     "text": [
      "100%|██████████| 23/23 [00:15<00:00,  1.52it/s]\n",
      "100%|██████████| 6/6 [00:03<00:00,  1.79it/s]\n"
     ]
    },
    {
     "name": "stdout",
     "output_type": "stream",
     "text": [
      "Epoch [190], Train Loss : [0.24426] Val Loss : [0.30166] Val F1 Score : [0.49227]\n"
     ]
    },
    {
     "name": "stderr",
     "output_type": "stream",
     "text": [
      "100%|██████████| 23/23 [00:15<00:00,  1.53it/s]\n",
      "100%|██████████| 6/6 [00:03<00:00,  1.76it/s]\n"
     ]
    },
    {
     "name": "stdout",
     "output_type": "stream",
     "text": [
      "Epoch [191], Train Loss : [0.24128] Val Loss : [0.30478] Val F1 Score : [0.49227]\n"
     ]
    },
    {
     "name": "stderr",
     "output_type": "stream",
     "text": [
      "100%|██████████| 23/23 [00:14<00:00,  1.53it/s]\n",
      "100%|██████████| 6/6 [00:03<00:00,  1.78it/s]\n"
     ]
    },
    {
     "name": "stdout",
     "output_type": "stream",
     "text": [
      "Epoch [192], Train Loss : [0.26127] Val Loss : [0.30380] Val F1 Score : [0.49548]\n"
     ]
    },
    {
     "name": "stderr",
     "output_type": "stream",
     "text": [
      "100%|██████████| 23/23 [00:15<00:00,  1.53it/s]\n",
      "100%|██████████| 6/6 [00:03<00:00,  1.75it/s]\n"
     ]
    },
    {
     "name": "stdout",
     "output_type": "stream",
     "text": [
      "Epoch [193], Train Loss : [0.24607] Val Loss : [0.30295] Val F1 Score : [0.48821]\n"
     ]
    },
    {
     "name": "stderr",
     "output_type": "stream",
     "text": [
      "100%|██████████| 23/23 [00:14<00:00,  1.54it/s]\n",
      "100%|██████████| 6/6 [00:03<00:00,  1.77it/s]\n"
     ]
    },
    {
     "name": "stdout",
     "output_type": "stream",
     "text": [
      "Epoch [194], Train Loss : [0.23318] Val Loss : [0.30172] Val F1 Score : [0.49227]\n"
     ]
    },
    {
     "name": "stderr",
     "output_type": "stream",
     "text": [
      "100%|██████████| 23/23 [00:14<00:00,  1.54it/s]\n",
      "100%|██████████| 6/6 [00:03<00:00,  1.78it/s]\n"
     ]
    },
    {
     "name": "stdout",
     "output_type": "stream",
     "text": [
      "Epoch [195], Train Loss : [0.23761] Val Loss : [0.30248] Val F1 Score : [0.49548]\n"
     ]
    },
    {
     "name": "stderr",
     "output_type": "stream",
     "text": [
      "100%|██████████| 23/23 [00:14<00:00,  1.54it/s]\n",
      "100%|██████████| 6/6 [00:03<00:00,  1.78it/s]\n"
     ]
    },
    {
     "name": "stdout",
     "output_type": "stream",
     "text": [
      "Epoch [196], Train Loss : [0.24365] Val Loss : [0.30232] Val F1 Score : [0.49565]\n"
     ]
    },
    {
     "name": "stderr",
     "output_type": "stream",
     "text": [
      "100%|██████████| 23/23 [00:14<00:00,  1.55it/s]\n",
      "100%|██████████| 6/6 [00:03<00:00,  1.75it/s]\n"
     ]
    },
    {
     "name": "stdout",
     "output_type": "stream",
     "text": [
      "Epoch [197], Train Loss : [0.24083] Val Loss : [0.30081] Val F1 Score : [0.49259]\n"
     ]
    },
    {
     "name": "stderr",
     "output_type": "stream",
     "text": [
      "100%|██████████| 23/23 [00:15<00:00,  1.52it/s]\n",
      "100%|██████████| 6/6 [00:03<00:00,  1.77it/s]\n"
     ]
    },
    {
     "name": "stdout",
     "output_type": "stream",
     "text": [
      "Epoch [198], Train Loss : [0.23995] Val Loss : [0.30179] Val F1 Score : [0.49582]\n"
     ]
    },
    {
     "name": "stderr",
     "output_type": "stream",
     "text": [
      "100%|██████████| 23/23 [00:15<00:00,  1.53it/s]\n",
      "100%|██████████| 6/6 [00:03<00:00,  1.76it/s]\n"
     ]
    },
    {
     "name": "stdout",
     "output_type": "stream",
     "text": [
      "Epoch [199], Train Loss : [0.25012] Val Loss : [0.30422] Val F1 Score : [0.49180]\n",
      "Epoch   200: reducing learning rate of group 0 to 6.1035e-08.\n"
     ]
    },
    {
     "name": "stderr",
     "output_type": "stream",
     "text": [
      "100%|██████████| 23/23 [00:14<00:00,  1.54it/s]\n",
      "100%|██████████| 6/6 [00:03<00:00,  1.78it/s]\n"
     ]
    },
    {
     "name": "stdout",
     "output_type": "stream",
     "text": [
      "Epoch [200], Train Loss : [0.23442] Val Loss : [0.30430] Val F1 Score : [0.49196]\n"
     ]
    },
    {
     "name": "stderr",
     "output_type": "stream",
     "text": [
      "100%|██████████| 23/23 [00:14<00:00,  1.54it/s]\n",
      "100%|██████████| 6/6 [00:03<00:00,  1.75it/s]\n"
     ]
    },
    {
     "name": "stdout",
     "output_type": "stream",
     "text": [
      "Epoch [201], Train Loss : [0.25023] Val Loss : [0.30217] Val F1 Score : [0.49548]\n"
     ]
    },
    {
     "name": "stderr",
     "output_type": "stream",
     "text": [
      "100%|██████████| 23/23 [00:15<00:00,  1.53it/s]\n",
      "100%|██████████| 6/6 [00:03<00:00,  1.74it/s]\n"
     ]
    },
    {
     "name": "stdout",
     "output_type": "stream",
     "text": [
      "Epoch [202], Train Loss : [0.23508] Val Loss : [0.30188] Val F1 Score : [0.49548]\n"
     ]
    },
    {
     "name": "stderr",
     "output_type": "stream",
     "text": [
      "100%|██████████| 23/23 [00:14<00:00,  1.54it/s]\n",
      "100%|██████████| 6/6 [00:03<00:00,  1.78it/s]\n"
     ]
    },
    {
     "name": "stdout",
     "output_type": "stream",
     "text": [
      "Epoch [203], Train Loss : [0.25683] Val Loss : [0.33371] Val F1 Score : [0.50474]\n"
     ]
    },
    {
     "name": "stderr",
     "output_type": "stream",
     "text": [
      "100%|██████████| 23/23 [00:14<00:00,  1.55it/s]\n",
      "100%|██████████| 6/6 [00:03<00:00,  1.79it/s]\n"
     ]
    },
    {
     "name": "stdout",
     "output_type": "stream",
     "text": [
      "Epoch [204], Train Loss : [0.23583] Val Loss : [0.30394] Val F1 Score : [0.49211]\n"
     ]
    },
    {
     "name": "stderr",
     "output_type": "stream",
     "text": [
      "100%|██████████| 23/23 [00:14<00:00,  1.54it/s]\n",
      "100%|██████████| 6/6 [00:03<00:00,  1.74it/s]\n"
     ]
    },
    {
     "name": "stdout",
     "output_type": "stream",
     "text": [
      "Epoch [205], Train Loss : [0.23552] Val Loss : [0.29995] Val F1 Score : [0.49965]\n"
     ]
    },
    {
     "name": "stderr",
     "output_type": "stream",
     "text": [
      "100%|██████████| 23/23 [00:15<00:00,  1.49it/s]\n",
      "100%|██████████| 6/6 [00:03<00:00,  1.74it/s]\n"
     ]
    },
    {
     "name": "stdout",
     "output_type": "stream",
     "text": [
      "Epoch [206], Train Loss : [0.24523] Val Loss : [0.30052] Val F1 Score : [0.49599]\n"
     ]
    },
    {
     "name": "stderr",
     "output_type": "stream",
     "text": [
      "100%|██████████| 23/23 [00:15<00:00,  1.53it/s]\n",
      "100%|██████████| 6/6 [00:03<00:00,  1.80it/s]\n"
     ]
    },
    {
     "name": "stdout",
     "output_type": "stream",
     "text": [
      "Epoch [207], Train Loss : [0.26245] Val Loss : [0.30282] Val F1 Score : [0.49531]\n"
     ]
    },
    {
     "name": "stderr",
     "output_type": "stream",
     "text": [
      "100%|██████████| 23/23 [00:14<00:00,  1.55it/s]\n",
      "100%|██████████| 6/6 [00:03<00:00,  1.78it/s]\n"
     ]
    },
    {
     "name": "stdout",
     "output_type": "stream",
     "text": [
      "Epoch [208], Train Loss : [0.24480] Val Loss : [0.29976] Val F1 Score : [0.49582]\n"
     ]
    },
    {
     "name": "stderr",
     "output_type": "stream",
     "text": [
      "100%|██████████| 23/23 [00:14<00:00,  1.55it/s]\n",
      "100%|██████████| 6/6 [00:03<00:00,  1.80it/s]\n"
     ]
    },
    {
     "name": "stdout",
     "output_type": "stream",
     "text": [
      "Epoch [209], Train Loss : [0.23821] Val Loss : [0.30300] Val F1 Score : [0.49164]\n"
     ]
    },
    {
     "name": "stderr",
     "output_type": "stream",
     "text": [
      "100%|██████████| 23/23 [00:14<00:00,  1.55it/s]\n",
      "100%|██████████| 6/6 [00:03<00:00,  1.79it/s]\n"
     ]
    },
    {
     "name": "stdout",
     "output_type": "stream",
     "text": [
      "Epoch [210], Train Loss : [0.24819] Val Loss : [0.30265] Val F1 Score : [0.49582]\n",
      "Epoch   211: reducing learning rate of group 0 to 3.0518e-08.\n"
     ]
    },
    {
     "name": "stderr",
     "output_type": "stream",
     "text": [
      "100%|██████████| 23/23 [00:14<00:00,  1.56it/s]\n",
      "100%|██████████| 6/6 [00:03<00:00,  1.77it/s]\n"
     ]
    },
    {
     "name": "stdout",
     "output_type": "stream",
     "text": [
      "Epoch [211], Train Loss : [0.23632] Val Loss : [0.30359] Val F1 Score : [0.49531]\n"
     ]
    },
    {
     "name": "stderr",
     "output_type": "stream",
     "text": [
      "100%|██████████| 23/23 [00:15<00:00,  1.50it/s]\n",
      "100%|██████████| 6/6 [00:03<00:00,  1.76it/s]\n"
     ]
    },
    {
     "name": "stdout",
     "output_type": "stream",
     "text": [
      "Epoch [212], Train Loss : [0.23805] Val Loss : [0.30244] Val F1 Score : [0.49227]\n"
     ]
    },
    {
     "name": "stderr",
     "output_type": "stream",
     "text": [
      "100%|██████████| 23/23 [00:15<00:00,  1.52it/s]\n",
      "100%|██████████| 6/6 [00:03<00:00,  1.72it/s]\n"
     ]
    },
    {
     "name": "stdout",
     "output_type": "stream",
     "text": [
      "Epoch [213], Train Loss : [0.23666] Val Loss : [0.30376] Val F1 Score : [0.49582]\n"
     ]
    },
    {
     "name": "stderr",
     "output_type": "stream",
     "text": [
      "100%|██████████| 23/23 [00:15<00:00,  1.50it/s]\n",
      "100%|██████████| 6/6 [00:03<00:00,  1.71it/s]\n"
     ]
    },
    {
     "name": "stdout",
     "output_type": "stream",
     "text": [
      "Epoch [214], Train Loss : [0.24721] Val Loss : [0.30286] Val F1 Score : [0.49892]\n"
     ]
    },
    {
     "name": "stderr",
     "output_type": "stream",
     "text": [
      "100%|██████████| 23/23 [00:15<00:00,  1.51it/s]\n",
      "100%|██████████| 6/6 [00:03<00:00,  1.75it/s]\n"
     ]
    },
    {
     "name": "stdout",
     "output_type": "stream",
     "text": [
      "Epoch [215], Train Loss : [0.23667] Val Loss : [0.30281] Val F1 Score : [0.49211]\n"
     ]
    },
    {
     "name": "stderr",
     "output_type": "stream",
     "text": [
      "100%|██████████| 23/23 [00:15<00:00,  1.52it/s]\n",
      "100%|██████████| 6/6 [00:03<00:00,  1.76it/s]\n"
     ]
    },
    {
     "name": "stdout",
     "output_type": "stream",
     "text": [
      "Epoch [216], Train Loss : [0.24011] Val Loss : [0.30274] Val F1 Score : [0.49196]\n"
     ]
    },
    {
     "name": "stderr",
     "output_type": "stream",
     "text": [
      "100%|██████████| 23/23 [00:15<00:00,  1.53it/s]\n",
      "100%|██████████| 6/6 [00:03<00:00,  1.78it/s]\n"
     ]
    },
    {
     "name": "stdout",
     "output_type": "stream",
     "text": [
      "Epoch [217], Train Loss : [0.24377] Val Loss : [0.30212] Val F1 Score : [0.49227]\n"
     ]
    },
    {
     "name": "stderr",
     "output_type": "stream",
     "text": [
      "100%|██████████| 23/23 [00:14<00:00,  1.56it/s]\n",
      "100%|██████████| 6/6 [00:03<00:00,  1.77it/s]\n"
     ]
    },
    {
     "name": "stdout",
     "output_type": "stream",
     "text": [
      "Epoch [218], Train Loss : [0.24103] Val Loss : [0.30129] Val F1 Score : [0.49910]\n"
     ]
    },
    {
     "name": "stderr",
     "output_type": "stream",
     "text": [
      "100%|██████████| 23/23 [00:14<00:00,  1.55it/s]\n",
      "100%|██████████| 6/6 [00:03<00:00,  1.78it/s]\n"
     ]
    },
    {
     "name": "stdout",
     "output_type": "stream",
     "text": [
      "Epoch [219], Train Loss : [0.24697] Val Loss : [0.30172] Val F1 Score : [0.49196]\n"
     ]
    },
    {
     "name": "stderr",
     "output_type": "stream",
     "text": [
      "100%|██████████| 23/23 [00:14<00:00,  1.55it/s]\n",
      "100%|██████████| 6/6 [00:03<00:00,  1.80it/s]\n"
     ]
    },
    {
     "name": "stdout",
     "output_type": "stream",
     "text": [
      "Epoch [220], Train Loss : [0.23649] Val Loss : [0.30360] Val F1 Score : [0.49227]\n"
     ]
    },
    {
     "name": "stderr",
     "output_type": "stream",
     "text": [
      "100%|██████████| 23/23 [00:14<00:00,  1.55it/s]\n",
      "100%|██████████| 6/6 [00:03<00:00,  1.81it/s]\n"
     ]
    },
    {
     "name": "stdout",
     "output_type": "stream",
     "text": [
      "Epoch [221], Train Loss : [0.23565] Val Loss : [0.30151] Val F1 Score : [0.49514]\n",
      "Epoch   222: reducing learning rate of group 0 to 1.5259e-08.\n"
     ]
    },
    {
     "name": "stderr",
     "output_type": "stream",
     "text": [
      "100%|██████████| 23/23 [00:14<00:00,  1.55it/s]\n",
      "100%|██████████| 6/6 [00:03<00:00,  1.78it/s]\n"
     ]
    },
    {
     "name": "stdout",
     "output_type": "stream",
     "text": [
      "Epoch [222], Train Loss : [0.23321] Val Loss : [0.30192] Val F1 Score : [0.49582]\n"
     ]
    },
    {
     "name": "stderr",
     "output_type": "stream",
     "text": [
      "100%|██████████| 23/23 [00:14<00:00,  1.55it/s]\n",
      "100%|██████████| 6/6 [00:03<00:00,  1.77it/s]\n"
     ]
    },
    {
     "name": "stdout",
     "output_type": "stream",
     "text": [
      "Epoch [223], Train Loss : [0.23493] Val Loss : [0.30253] Val F1 Score : [0.49531]\n"
     ]
    },
    {
     "name": "stderr",
     "output_type": "stream",
     "text": [
      "100%|██████████| 23/23 [00:15<00:00,  1.51it/s]\n",
      "100%|██████████| 6/6 [00:03<00:00,  1.76it/s]\n"
     ]
    },
    {
     "name": "stdout",
     "output_type": "stream",
     "text": [
      "Epoch [224], Train Loss : [0.23598] Val Loss : [0.30216] Val F1 Score : [0.49243]\n"
     ]
    },
    {
     "name": "stderr",
     "output_type": "stream",
     "text": [
      "100%|██████████| 23/23 [00:14<00:00,  1.55it/s]\n",
      "100%|██████████| 6/6 [00:03<00:00,  1.79it/s]\n"
     ]
    },
    {
     "name": "stdout",
     "output_type": "stream",
     "text": [
      "Epoch [225], Train Loss : [0.23747] Val Loss : [0.30251] Val F1 Score : [0.49196]\n"
     ]
    },
    {
     "name": "stderr",
     "output_type": "stream",
     "text": [
      "100%|██████████| 23/23 [00:14<00:00,  1.56it/s]\n",
      "100%|██████████| 6/6 [00:03<00:00,  1.80it/s]\n"
     ]
    },
    {
     "name": "stdout",
     "output_type": "stream",
     "text": [
      "Epoch [226], Train Loss : [0.23323] Val Loss : [0.30319] Val F1 Score : [0.49164]\n"
     ]
    },
    {
     "name": "stderr",
     "output_type": "stream",
     "text": [
      "100%|██████████| 23/23 [00:14<00:00,  1.56it/s]\n",
      "100%|██████████| 6/6 [00:03<00:00,  1.78it/s]\n"
     ]
    },
    {
     "name": "stdout",
     "output_type": "stream",
     "text": [
      "Epoch [227], Train Loss : [0.23662] Val Loss : [0.30154] Val F1 Score : [0.49211]\n"
     ]
    },
    {
     "name": "stderr",
     "output_type": "stream",
     "text": [
      "100%|██████████| 23/23 [00:14<00:00,  1.53it/s]\n",
      "100%|██████████| 6/6 [00:03<00:00,  1.71it/s]\n"
     ]
    },
    {
     "name": "stdout",
     "output_type": "stream",
     "text": [
      "Epoch [228], Train Loss : [0.24544] Val Loss : [0.30317] Val F1 Score : [0.49910]\n"
     ]
    },
    {
     "name": "stderr",
     "output_type": "stream",
     "text": [
      "100%|██████████| 23/23 [00:14<00:00,  1.54it/s]\n",
      "100%|██████████| 6/6 [00:03<00:00,  1.77it/s]\n"
     ]
    },
    {
     "name": "stdout",
     "output_type": "stream",
     "text": [
      "Epoch [229], Train Loss : [0.24162] Val Loss : [0.30387] Val F1 Score : [0.49548]\n"
     ]
    },
    {
     "name": "stderr",
     "output_type": "stream",
     "text": [
      "100%|██████████| 23/23 [00:14<00:00,  1.56it/s]\n",
      "100%|██████████| 6/6 [00:03<00:00,  1.80it/s]\n"
     ]
    },
    {
     "name": "stdout",
     "output_type": "stream",
     "text": [
      "Epoch [230], Train Loss : [0.23349] Val Loss : [0.30292] Val F1 Score : [0.49180]\n"
     ]
    },
    {
     "name": "stderr",
     "output_type": "stream",
     "text": [
      "100%|██████████| 23/23 [00:14<00:00,  1.55it/s]\n",
      "100%|██████████| 6/6 [00:03<00:00,  1.77it/s]\n"
     ]
    },
    {
     "name": "stdout",
     "output_type": "stream",
     "text": [
      "Epoch [231], Train Loss : [0.24464] Val Loss : [0.30249] Val F1 Score : [0.49164]\n"
     ]
    },
    {
     "name": "stderr",
     "output_type": "stream",
     "text": [
      "100%|██████████| 23/23 [00:14<00:00,  1.54it/s]\n",
      "100%|██████████| 6/6 [00:03<00:00,  1.80it/s]\n"
     ]
    },
    {
     "name": "stdout",
     "output_type": "stream",
     "text": [
      "Epoch [232], Train Loss : [0.24261] Val Loss : [0.30295] Val F1 Score : [0.50986]\n"
     ]
    },
    {
     "name": "stderr",
     "output_type": "stream",
     "text": [
      "100%|██████████| 23/23 [00:14<00:00,  1.56it/s]\n",
      "100%|██████████| 6/6 [00:03<00:00,  1.76it/s]\n"
     ]
    },
    {
     "name": "stdout",
     "output_type": "stream",
     "text": [
      "Epoch [233], Train Loss : [0.23760] Val Loss : [0.29999] Val F1 Score : [0.49616]\n"
     ]
    },
    {
     "name": "stderr",
     "output_type": "stream",
     "text": [
      "100%|██████████| 23/23 [00:14<00:00,  1.56it/s]\n",
      "100%|██████████| 6/6 [00:03<00:00,  1.79it/s]\n"
     ]
    },
    {
     "name": "stdout",
     "output_type": "stream",
     "text": [
      "Epoch [234], Train Loss : [0.23944] Val Loss : [0.30293] Val F1 Score : [0.49497]\n"
     ]
    },
    {
     "name": "stderr",
     "output_type": "stream",
     "text": [
      "100%|██████████| 23/23 [00:14<00:00,  1.56it/s]\n",
      "100%|██████████| 6/6 [00:03<00:00,  1.81it/s]\n"
     ]
    },
    {
     "name": "stdout",
     "output_type": "stream",
     "text": [
      "Epoch [235], Train Loss : [0.23980] Val Loss : [0.30401] Val F1 Score : [0.49650]\n"
     ]
    },
    {
     "name": "stderr",
     "output_type": "stream",
     "text": [
      "100%|██████████| 23/23 [00:14<00:00,  1.55it/s]\n",
      "100%|██████████| 6/6 [00:03<00:00,  1.78it/s]\n"
     ]
    },
    {
     "name": "stdout",
     "output_type": "stream",
     "text": [
      "Epoch [236], Train Loss : [0.24745] Val Loss : [0.30175] Val F1 Score : [0.49274]\n"
     ]
    },
    {
     "name": "stderr",
     "output_type": "stream",
     "text": [
      "100%|██████████| 23/23 [00:14<00:00,  1.56it/s]\n",
      "100%|██████████| 6/6 [00:03<00:00,  1.79it/s]\n"
     ]
    },
    {
     "name": "stdout",
     "output_type": "stream",
     "text": [
      "Epoch [237], Train Loss : [0.23891] Val Loss : [0.30279] Val F1 Score : [0.49531]\n"
     ]
    },
    {
     "name": "stderr",
     "output_type": "stream",
     "text": [
      "100%|██████████| 23/23 [00:14<00:00,  1.54it/s]\n",
      "100%|██████████| 6/6 [00:03<00:00,  1.76it/s]\n"
     ]
    },
    {
     "name": "stdout",
     "output_type": "stream",
     "text": [
      "Epoch [238], Train Loss : [0.25167] Val Loss : [0.30181] Val F1 Score : [0.49227]\n"
     ]
    },
    {
     "name": "stderr",
     "output_type": "stream",
     "text": [
      "100%|██████████| 23/23 [00:14<00:00,  1.54it/s]\n",
      "100%|██████████| 6/6 [00:03<00:00,  1.76it/s]\n"
     ]
    },
    {
     "name": "stdout",
     "output_type": "stream",
     "text": [
      "Epoch [239], Train Loss : [0.23622] Val Loss : [0.30374] Val F1 Score : [0.49582]\n"
     ]
    },
    {
     "name": "stderr",
     "output_type": "stream",
     "text": [
      "100%|██████████| 23/23 [00:15<00:00,  1.53it/s]\n",
      "100%|██████████| 6/6 [00:03<00:00,  1.77it/s]\n"
     ]
    },
    {
     "name": "stdout",
     "output_type": "stream",
     "text": [
      "Epoch [240], Train Loss : [0.25495] Val Loss : [0.30499] Val F1 Score : [0.49211]\n"
     ]
    },
    {
     "name": "stderr",
     "output_type": "stream",
     "text": [
      "100%|██████████| 23/23 [00:14<00:00,  1.55it/s]\n",
      "100%|██████████| 6/6 [00:03<00:00,  1.78it/s]\n"
     ]
    },
    {
     "name": "stdout",
     "output_type": "stream",
     "text": [
      "Epoch [241], Train Loss : [0.23473] Val Loss : [0.30248] Val F1 Score : [0.49196]\n"
     ]
    },
    {
     "name": "stderr",
     "output_type": "stream",
     "text": [
      "100%|██████████| 23/23 [00:15<00:00,  1.53it/s]\n",
      "100%|██████████| 6/6 [00:03<00:00,  1.75it/s]\n"
     ]
    },
    {
     "name": "stdout",
     "output_type": "stream",
     "text": [
      "Epoch [242], Train Loss : [0.23536] Val Loss : [0.30071] Val F1 Score : [0.49211]\n"
     ]
    },
    {
     "name": "stderr",
     "output_type": "stream",
     "text": [
      "100%|██████████| 23/23 [00:15<00:00,  1.53it/s]\n",
      "100%|██████████| 6/6 [00:03<00:00,  1.71it/s]\n"
     ]
    },
    {
     "name": "stdout",
     "output_type": "stream",
     "text": [
      "Epoch [243], Train Loss : [0.24471] Val Loss : [0.30061] Val F1 Score : [0.49582]\n"
     ]
    },
    {
     "name": "stderr",
     "output_type": "stream",
     "text": [
      "100%|██████████| 23/23 [00:15<00:00,  1.51it/s]\n",
      "100%|██████████| 6/6 [00:03<00:00,  1.76it/s]\n"
     ]
    },
    {
     "name": "stdout",
     "output_type": "stream",
     "text": [
      "Epoch [244], Train Loss : [0.23856] Val Loss : [0.30193] Val F1 Score : [0.49531]\n"
     ]
    },
    {
     "name": "stderr",
     "output_type": "stream",
     "text": [
      "100%|██████████| 23/23 [00:15<00:00,  1.52it/s]\n",
      "100%|██████████| 6/6 [00:03<00:00,  1.78it/s]\n"
     ]
    },
    {
     "name": "stdout",
     "output_type": "stream",
     "text": [
      "Epoch [245], Train Loss : [0.24446] Val Loss : [0.30239] Val F1 Score : [0.49243]\n"
     ]
    },
    {
     "name": "stderr",
     "output_type": "stream",
     "text": [
      "100%|██████████| 23/23 [00:14<00:00,  1.55it/s]\n",
      "100%|██████████| 6/6 [00:03<00:00,  1.78it/s]\n"
     ]
    },
    {
     "name": "stdout",
     "output_type": "stream",
     "text": [
      "Epoch [246], Train Loss : [0.23461] Val Loss : [0.30222] Val F1 Score : [0.49582]\n"
     ]
    },
    {
     "name": "stderr",
     "output_type": "stream",
     "text": [
      "100%|██████████| 23/23 [00:14<00:00,  1.54it/s]\n",
      "100%|██████████| 6/6 [00:03<00:00,  1.78it/s]\n"
     ]
    },
    {
     "name": "stdout",
     "output_type": "stream",
     "text": [
      "Epoch [247], Train Loss : [0.24114] Val Loss : [0.30184] Val F1 Score : [0.49196]\n"
     ]
    },
    {
     "name": "stderr",
     "output_type": "stream",
     "text": [
      "100%|██████████| 23/23 [00:14<00:00,  1.54it/s]\n",
      "100%|██████████| 6/6 [00:03<00:00,  1.79it/s]\n"
     ]
    },
    {
     "name": "stdout",
     "output_type": "stream",
     "text": [
      "Epoch [248], Train Loss : [0.24413] Val Loss : [0.30273] Val F1 Score : [0.49548]\n"
     ]
    },
    {
     "name": "stderr",
     "output_type": "stream",
     "text": [
      "100%|██████████| 23/23 [00:14<00:00,  1.56it/s]\n",
      "100%|██████████| 6/6 [00:03<00:00,  1.77it/s]\n"
     ]
    },
    {
     "name": "stdout",
     "output_type": "stream",
     "text": [
      "Epoch [249], Train Loss : [0.24234] Val Loss : [0.30181] Val F1 Score : [0.49180]\n"
     ]
    },
    {
     "name": "stderr",
     "output_type": "stream",
     "text": [
      "100%|██████████| 23/23 [00:15<00:00,  1.53it/s]\n",
      "100%|██████████| 6/6 [00:03<00:00,  1.76it/s]\n"
     ]
    },
    {
     "name": "stdout",
     "output_type": "stream",
     "text": [
      "Epoch [250], Train Loss : [0.23485] Val Loss : [0.30074] Val F1 Score : [0.49685]\n"
     ]
    },
    {
     "name": "stderr",
     "output_type": "stream",
     "text": [
      "100%|██████████| 23/23 [00:15<00:00,  1.52it/s]\n",
      "100%|██████████| 6/6 [00:03<00:00,  1.76it/s]\n"
     ]
    },
    {
     "name": "stdout",
     "output_type": "stream",
     "text": [
      "Epoch [251], Train Loss : [0.23399] Val Loss : [0.30089] Val F1 Score : [0.49599]\n"
     ]
    },
    {
     "name": "stderr",
     "output_type": "stream",
     "text": [
      "100%|██████████| 23/23 [00:14<00:00,  1.54it/s]\n",
      "100%|██████████| 6/6 [00:03<00:00,  1.75it/s]\n"
     ]
    },
    {
     "name": "stdout",
     "output_type": "stream",
     "text": [
      "Epoch [252], Train Loss : [0.24280] Val Loss : [0.30340] Val F1 Score : [0.49196]\n"
     ]
    },
    {
     "name": "stderr",
     "output_type": "stream",
     "text": [
      "100%|██████████| 23/23 [00:15<00:00,  1.52it/s]\n",
      "100%|██████████| 6/6 [00:03<00:00,  1.75it/s]\n"
     ]
    },
    {
     "name": "stdout",
     "output_type": "stream",
     "text": [
      "Epoch [253], Train Loss : [0.25471] Val Loss : [0.30361] Val F1 Score : [0.49196]\n"
     ]
    },
    {
     "name": "stderr",
     "output_type": "stream",
     "text": [
      "100%|██████████| 23/23 [00:15<00:00,  1.53it/s]\n",
      "100%|██████████| 6/6 [00:03<00:00,  1.73it/s]\n"
     ]
    },
    {
     "name": "stdout",
     "output_type": "stream",
     "text": [
      "Epoch [254], Train Loss : [0.23335] Val Loss : [0.30396] Val F1 Score : [0.49196]\n"
     ]
    },
    {
     "name": "stderr",
     "output_type": "stream",
     "text": [
      "100%|██████████| 23/23 [00:15<00:00,  1.53it/s]\n",
      "100%|██████████| 6/6 [00:03<00:00,  1.77it/s]\n"
     ]
    },
    {
     "name": "stdout",
     "output_type": "stream",
     "text": [
      "Epoch [255], Train Loss : [0.24028] Val Loss : [0.30373] Val F1 Score : [0.49227]\n"
     ]
    },
    {
     "name": "stderr",
     "output_type": "stream",
     "text": [
      "100%|██████████| 23/23 [00:14<00:00,  1.53it/s]\n",
      "100%|██████████| 6/6 [00:03<00:00,  1.75it/s]\n"
     ]
    },
    {
     "name": "stdout",
     "output_type": "stream",
     "text": [
      "Epoch [256], Train Loss : [0.24015] Val Loss : [0.30210] Val F1 Score : [0.49633]\n"
     ]
    },
    {
     "name": "stderr",
     "output_type": "stream",
     "text": [
      "100%|██████████| 23/23 [00:15<00:00,  1.53it/s]\n",
      "100%|██████████| 6/6 [00:03<00:00,  1.73it/s]\n"
     ]
    },
    {
     "name": "stdout",
     "output_type": "stream",
     "text": [
      "Epoch [257], Train Loss : [0.27025] Val Loss : [0.30256] Val F1 Score : [0.49946]\n"
     ]
    },
    {
     "name": "stderr",
     "output_type": "stream",
     "text": [
      "100%|██████████| 23/23 [00:15<00:00,  1.51it/s]\n",
      "100%|██████████| 6/6 [00:03<00:00,  1.76it/s]\n"
     ]
    },
    {
     "name": "stdout",
     "output_type": "stream",
     "text": [
      "Epoch [258], Train Loss : [0.24019] Val Loss : [0.30274] Val F1 Score : [0.49565]\n"
     ]
    },
    {
     "name": "stderr",
     "output_type": "stream",
     "text": [
      "100%|██████████| 23/23 [00:15<00:00,  1.53it/s]\n",
      "100%|██████████| 6/6 [00:03<00:00,  1.79it/s]\n"
     ]
    },
    {
     "name": "stdout",
     "output_type": "stream",
     "text": [
      "Epoch [259], Train Loss : [0.23438] Val Loss : [0.30330] Val F1 Score : [0.49211]\n"
     ]
    },
    {
     "name": "stderr",
     "output_type": "stream",
     "text": [
      "100%|██████████| 23/23 [00:14<00:00,  1.55it/s]\n",
      "100%|██████████| 6/6 [00:03<00:00,  1.77it/s]\n"
     ]
    },
    {
     "name": "stdout",
     "output_type": "stream",
     "text": [
      "Epoch [260], Train Loss : [0.23361] Val Loss : [0.30457] Val F1 Score : [0.49514]\n"
     ]
    },
    {
     "name": "stderr",
     "output_type": "stream",
     "text": [
      "100%|██████████| 23/23 [00:15<00:00,  1.53it/s]\n",
      "100%|██████████| 6/6 [00:03<00:00,  1.77it/s]\n"
     ]
    },
    {
     "name": "stdout",
     "output_type": "stream",
     "text": [
      "Epoch [261], Train Loss : [0.23647] Val Loss : [0.30379] Val F1 Score : [0.49910]\n"
     ]
    },
    {
     "name": "stderr",
     "output_type": "stream",
     "text": [
      "100%|██████████| 23/23 [00:14<00:00,  1.54it/s]\n",
      "100%|██████████| 6/6 [00:03<00:00,  1.79it/s]\n"
     ]
    },
    {
     "name": "stdout",
     "output_type": "stream",
     "text": [
      "Epoch [262], Train Loss : [0.23665] Val Loss : [0.30406] Val F1 Score : [0.49910]\n"
     ]
    },
    {
     "name": "stderr",
     "output_type": "stream",
     "text": [
      "100%|██████████| 23/23 [00:14<00:00,  1.57it/s]\n",
      "100%|██████████| 6/6 [00:03<00:00,  1.81it/s]\n"
     ]
    },
    {
     "name": "stdout",
     "output_type": "stream",
     "text": [
      "Epoch [263], Train Loss : [0.25642] Val Loss : [0.30206] Val F1 Score : [0.49227]\n"
     ]
    },
    {
     "name": "stderr",
     "output_type": "stream",
     "text": [
      "100%|██████████| 23/23 [00:14<00:00,  1.57it/s]\n",
      "100%|██████████| 6/6 [00:03<00:00,  1.79it/s]\n"
     ]
    },
    {
     "name": "stdout",
     "output_type": "stream",
     "text": [
      "Epoch [264], Train Loss : [0.23628] Val Loss : [0.30147] Val F1 Score : [0.49196]\n"
     ]
    },
    {
     "name": "stderr",
     "output_type": "stream",
     "text": [
      "100%|██████████| 23/23 [00:14<00:00,  1.56it/s]\n",
      "100%|██████████| 6/6 [00:03<00:00,  1.77it/s]\n"
     ]
    },
    {
     "name": "stdout",
     "output_type": "stream",
     "text": [
      "Epoch [265], Train Loss : [0.25792] Val Loss : [0.30208] Val F1 Score : [0.49548]\n"
     ]
    },
    {
     "name": "stderr",
     "output_type": "stream",
     "text": [
      "100%|██████████| 23/23 [00:15<00:00,  1.48it/s]\n",
      "100%|██████████| 6/6 [00:03<00:00,  1.76it/s]\n"
     ]
    },
    {
     "name": "stdout",
     "output_type": "stream",
     "text": [
      "Epoch [266], Train Loss : [0.25083] Val Loss : [0.30229] Val F1 Score : [0.49196]\n"
     ]
    },
    {
     "name": "stderr",
     "output_type": "stream",
     "text": [
      "100%|██████████| 23/23 [00:15<00:00,  1.52it/s]\n",
      "100%|██████████| 6/6 [00:03<00:00,  1.77it/s]\n"
     ]
    },
    {
     "name": "stdout",
     "output_type": "stream",
     "text": [
      "Epoch [267], Train Loss : [0.23336] Val Loss : [0.30337] Val F1 Score : [0.49565]\n"
     ]
    },
    {
     "name": "stderr",
     "output_type": "stream",
     "text": [
      "100%|██████████| 23/23 [00:15<00:00,  1.53it/s]\n",
      "100%|██████████| 6/6 [00:03<00:00,  1.78it/s]\n"
     ]
    },
    {
     "name": "stdout",
     "output_type": "stream",
     "text": [
      "Epoch [268], Train Loss : [0.23302] Val Loss : [0.30213] Val F1 Score : [0.49514]\n"
     ]
    },
    {
     "name": "stderr",
     "output_type": "stream",
     "text": [
      "100%|██████████| 23/23 [00:15<00:00,  1.53it/s]\n",
      "100%|██████████| 6/6 [00:03<00:00,  1.73it/s]\n"
     ]
    },
    {
     "name": "stdout",
     "output_type": "stream",
     "text": [
      "Epoch [269], Train Loss : [0.23331] Val Loss : [0.30225] Val F1 Score : [0.49548]\n"
     ]
    },
    {
     "name": "stderr",
     "output_type": "stream",
     "text": [
      "100%|██████████| 23/23 [00:14<00:00,  1.54it/s]\n",
      "100%|██████████| 6/6 [00:03<00:00,  1.77it/s]\n"
     ]
    },
    {
     "name": "stdout",
     "output_type": "stream",
     "text": [
      "Epoch [270], Train Loss : [0.23409] Val Loss : [0.30192] Val F1 Score : [0.49211]\n"
     ]
    },
    {
     "name": "stderr",
     "output_type": "stream",
     "text": [
      "100%|██████████| 23/23 [00:14<00:00,  1.54it/s]\n",
      "100%|██████████| 6/6 [00:03<00:00,  1.75it/s]\n"
     ]
    },
    {
     "name": "stdout",
     "output_type": "stream",
     "text": [
      "Epoch [271], Train Loss : [0.23793] Val Loss : [0.30227] Val F1 Score : [0.49227]\n"
     ]
    },
    {
     "name": "stderr",
     "output_type": "stream",
     "text": [
      "100%|██████████| 23/23 [00:15<00:00,  1.52it/s]\n",
      "100%|██████████| 6/6 [00:03<00:00,  1.78it/s]\n"
     ]
    },
    {
     "name": "stdout",
     "output_type": "stream",
     "text": [
      "Epoch [272], Train Loss : [0.25073] Val Loss : [0.30199] Val F1 Score : [0.49565]\n"
     ]
    },
    {
     "name": "stderr",
     "output_type": "stream",
     "text": [
      "100%|██████████| 23/23 [00:15<00:00,  1.52it/s]\n",
      "100%|██████████| 6/6 [00:03<00:00,  1.78it/s]\n"
     ]
    },
    {
     "name": "stdout",
     "output_type": "stream",
     "text": [
      "Epoch [273], Train Loss : [0.23622] Val Loss : [0.30127] Val F1 Score : [0.49180]\n"
     ]
    },
    {
     "name": "stderr",
     "output_type": "stream",
     "text": [
      "100%|██████████| 23/23 [00:14<00:00,  1.54it/s]\n",
      "100%|██████████| 6/6 [00:03<00:00,  1.77it/s]\n"
     ]
    },
    {
     "name": "stdout",
     "output_type": "stream",
     "text": [
      "Epoch [274], Train Loss : [0.24212] Val Loss : [0.29891] Val F1 Score : [0.49180]\n"
     ]
    },
    {
     "name": "stderr",
     "output_type": "stream",
     "text": [
      "100%|██████████| 23/23 [00:14<00:00,  1.54it/s]\n",
      "100%|██████████| 6/6 [00:03<00:00,  1.77it/s]\n"
     ]
    },
    {
     "name": "stdout",
     "output_type": "stream",
     "text": [
      "Epoch [275], Train Loss : [0.23557] Val Loss : [0.30094] Val F1 Score : [0.49164]\n"
     ]
    },
    {
     "name": "stderr",
     "output_type": "stream",
     "text": [
      "100%|██████████| 23/23 [00:14<00:00,  1.54it/s]\n",
      "100%|██████████| 6/6 [00:03<00:00,  1.79it/s]\n"
     ]
    },
    {
     "name": "stdout",
     "output_type": "stream",
     "text": [
      "Epoch [276], Train Loss : [0.24214] Val Loss : [0.30284] Val F1 Score : [0.49633]\n"
     ]
    },
    {
     "name": "stderr",
     "output_type": "stream",
     "text": [
      "100%|██████████| 23/23 [00:14<00:00,  1.54it/s]\n",
      "100%|██████████| 6/6 [00:03<00:00,  1.78it/s]\n"
     ]
    },
    {
     "name": "stdout",
     "output_type": "stream",
     "text": [
      "Epoch [277], Train Loss : [0.23455] Val Loss : [0.30246] Val F1 Score : [0.49910]\n"
     ]
    },
    {
     "name": "stderr",
     "output_type": "stream",
     "text": [
      "100%|██████████| 23/23 [00:14<00:00,  1.55it/s]\n",
      "100%|██████████| 6/6 [00:03<00:00,  1.77it/s]\n"
     ]
    },
    {
     "name": "stdout",
     "output_type": "stream",
     "text": [
      "Epoch [278], Train Loss : [0.23612] Val Loss : [0.30192] Val F1 Score : [0.49133]\n"
     ]
    },
    {
     "name": "stderr",
     "output_type": "stream",
     "text": [
      "100%|██████████| 23/23 [00:14<00:00,  1.55it/s]\n",
      "100%|██████████| 6/6 [00:03<00:00,  1.80it/s]\n"
     ]
    },
    {
     "name": "stdout",
     "output_type": "stream",
     "text": [
      "Epoch [279], Train Loss : [0.23352] Val Loss : [0.30415] Val F1 Score : [0.49582]\n"
     ]
    },
    {
     "name": "stderr",
     "output_type": "stream",
     "text": [
      "100%|██████████| 23/23 [00:14<00:00,  1.55it/s]\n",
      "100%|██████████| 6/6 [00:03<00:00,  1.78it/s]\n"
     ]
    },
    {
     "name": "stdout",
     "output_type": "stream",
     "text": [
      "Epoch [280], Train Loss : [0.23542] Val Loss : [0.30452] Val F1 Score : [0.49928]\n"
     ]
    },
    {
     "name": "stderr",
     "output_type": "stream",
     "text": [
      "100%|██████████| 23/23 [00:15<00:00,  1.53it/s]\n",
      "100%|██████████| 6/6 [00:03<00:00,  1.77it/s]\n"
     ]
    },
    {
     "name": "stdout",
     "output_type": "stream",
     "text": [
      "Epoch [281], Train Loss : [0.26447] Val Loss : [0.30166] Val F1 Score : [0.49565]\n"
     ]
    },
    {
     "name": "stderr",
     "output_type": "stream",
     "text": [
      "100%|██████████| 23/23 [00:15<00:00,  1.53it/s]\n",
      "100%|██████████| 6/6 [00:03<00:00,  1.74it/s]\n"
     ]
    },
    {
     "name": "stdout",
     "output_type": "stream",
     "text": [
      "Epoch [282], Train Loss : [0.24140] Val Loss : [0.30170] Val F1 Score : [0.49928]\n"
     ]
    },
    {
     "name": "stderr",
     "output_type": "stream",
     "text": [
      "100%|██████████| 23/23 [00:15<00:00,  1.52it/s]\n",
      "100%|██████████| 6/6 [00:03<00:00,  1.76it/s]\n"
     ]
    },
    {
     "name": "stdout",
     "output_type": "stream",
     "text": [
      "Epoch [283], Train Loss : [0.24798] Val Loss : [0.30135] Val F1 Score : [0.49180]\n"
     ]
    },
    {
     "name": "stderr",
     "output_type": "stream",
     "text": [
      "100%|██████████| 23/23 [00:14<00:00,  1.54it/s]\n",
      "100%|██████████| 6/6 [00:03<00:00,  1.73it/s]\n"
     ]
    },
    {
     "name": "stdout",
     "output_type": "stream",
     "text": [
      "Epoch [284], Train Loss : [0.24302] Val Loss : [0.30336] Val F1 Score : [0.49582]\n"
     ]
    },
    {
     "name": "stderr",
     "output_type": "stream",
     "text": [
      "100%|██████████| 23/23 [00:15<00:00,  1.52it/s]\n",
      "100%|██████████| 6/6 [00:03<00:00,  1.74it/s]\n"
     ]
    },
    {
     "name": "stdout",
     "output_type": "stream",
     "text": [
      "Epoch [285], Train Loss : [0.24632] Val Loss : [0.30011] Val F1 Score : [0.49227]\n"
     ]
    },
    {
     "name": "stderr",
     "output_type": "stream",
     "text": [
      "100%|██████████| 23/23 [00:15<00:00,  1.53it/s]\n",
      "100%|██████████| 6/6 [00:03<00:00,  1.75it/s]\n"
     ]
    },
    {
     "name": "stdout",
     "output_type": "stream",
     "text": [
      "Epoch [286], Train Loss : [0.24059] Val Loss : [0.30228] Val F1 Score : [0.49531]\n"
     ]
    },
    {
     "name": "stderr",
     "output_type": "stream",
     "text": [
      "100%|██████████| 23/23 [00:14<00:00,  1.54it/s]\n",
      "100%|██████████| 6/6 [00:03<00:00,  1.80it/s]\n"
     ]
    },
    {
     "name": "stdout",
     "output_type": "stream",
     "text": [
      "Epoch [287], Train Loss : [0.23248] Val Loss : [0.30214] Val F1 Score : [0.49227]\n"
     ]
    },
    {
     "name": "stderr",
     "output_type": "stream",
     "text": [
      "100%|██████████| 23/23 [00:14<00:00,  1.55it/s]\n",
      "100%|██████████| 6/6 [00:03<00:00,  1.80it/s]\n"
     ]
    },
    {
     "name": "stdout",
     "output_type": "stream",
     "text": [
      "Epoch [288], Train Loss : [0.23979] Val Loss : [0.30179] Val F1 Score : [0.49180]\n"
     ]
    },
    {
     "name": "stderr",
     "output_type": "stream",
     "text": [
      "100%|██████████| 23/23 [00:14<00:00,  1.56it/s]\n",
      "100%|██████████| 6/6 [00:03<00:00,  1.78it/s]\n"
     ]
    },
    {
     "name": "stdout",
     "output_type": "stream",
     "text": [
      "Epoch [289], Train Loss : [0.23406] Val Loss : [0.30051] Val F1 Score : [0.49196]\n"
     ]
    },
    {
     "name": "stderr",
     "output_type": "stream",
     "text": [
      "100%|██████████| 23/23 [00:14<00:00,  1.55it/s]\n",
      "100%|██████████| 6/6 [00:03<00:00,  1.78it/s]\n"
     ]
    },
    {
     "name": "stdout",
     "output_type": "stream",
     "text": [
      "Epoch [290], Train Loss : [0.23776] Val Loss : [0.30202] Val F1 Score : [0.49164]\n"
     ]
    },
    {
     "name": "stderr",
     "output_type": "stream",
     "text": [
      "100%|██████████| 23/23 [00:14<00:00,  1.54it/s]\n",
      "100%|██████████| 6/6 [00:03<00:00,  1.75it/s]\n"
     ]
    },
    {
     "name": "stdout",
     "output_type": "stream",
     "text": [
      "Epoch [291], Train Loss : [0.23755] Val Loss : [0.30297] Val F1 Score : [0.49565]\n"
     ]
    },
    {
     "name": "stderr",
     "output_type": "stream",
     "text": [
      "100%|██████████| 23/23 [00:14<00:00,  1.54it/s]\n",
      "100%|██████████| 6/6 [00:03<00:00,  1.79it/s]\n"
     ]
    },
    {
     "name": "stdout",
     "output_type": "stream",
     "text": [
      "Epoch [292], Train Loss : [0.23493] Val Loss : [0.30364] Val F1 Score : [0.49514]\n"
     ]
    },
    {
     "name": "stderr",
     "output_type": "stream",
     "text": [
      "100%|██████████| 23/23 [00:14<00:00,  1.55it/s]\n",
      "100%|██████████| 6/6 [00:03<00:00,  1.77it/s]\n"
     ]
    },
    {
     "name": "stdout",
     "output_type": "stream",
     "text": [
      "Epoch [293], Train Loss : [0.23526] Val Loss : [0.30487] Val F1 Score : [0.49259]\n"
     ]
    },
    {
     "name": "stderr",
     "output_type": "stream",
     "text": [
      "100%|██████████| 23/23 [00:14<00:00,  1.56it/s]\n",
      "100%|██████████| 6/6 [00:03<00:00,  1.79it/s]\n"
     ]
    },
    {
     "name": "stdout",
     "output_type": "stream",
     "text": [
      "Epoch [294], Train Loss : [0.23641] Val Loss : [0.30109] Val F1 Score : [0.49946]\n"
     ]
    },
    {
     "name": "stderr",
     "output_type": "stream",
     "text": [
      "100%|██████████| 23/23 [00:14<00:00,  1.56it/s]\n",
      "100%|██████████| 6/6 [00:03<00:00,  1.74it/s]\n"
     ]
    },
    {
     "name": "stdout",
     "output_type": "stream",
     "text": [
      "Epoch [295], Train Loss : [0.23873] Val Loss : [0.30626] Val F1 Score : [0.49565]\n"
     ]
    },
    {
     "name": "stderr",
     "output_type": "stream",
     "text": [
      "100%|██████████| 23/23 [00:14<00:00,  1.56it/s]\n",
      "100%|██████████| 6/6 [00:03<00:00,  1.80it/s]\n"
     ]
    },
    {
     "name": "stdout",
     "output_type": "stream",
     "text": [
      "Epoch [296], Train Loss : [0.23881] Val Loss : [0.30246] Val F1 Score : [0.49180]\n"
     ]
    },
    {
     "name": "stderr",
     "output_type": "stream",
     "text": [
      "100%|██████████| 23/23 [00:14<00:00,  1.56it/s]\n",
      "100%|██████████| 6/6 [00:03<00:00,  1.79it/s]\n"
     ]
    },
    {
     "name": "stdout",
     "output_type": "stream",
     "text": [
      "Epoch [297], Train Loss : [0.27799] Val Loss : [0.30333] Val F1 Score : [0.49565]\n"
     ]
    },
    {
     "name": "stderr",
     "output_type": "stream",
     "text": [
      "100%|██████████| 23/23 [00:14<00:00,  1.55it/s]\n",
      "100%|██████████| 6/6 [00:03<00:00,  1.80it/s]\n"
     ]
    },
    {
     "name": "stdout",
     "output_type": "stream",
     "text": [
      "Epoch [298], Train Loss : [0.25408] Val Loss : [0.30568] Val F1 Score : [0.49531]\n"
     ]
    },
    {
     "name": "stderr",
     "output_type": "stream",
     "text": [
      "100%|██████████| 23/23 [00:14<00:00,  1.55it/s]\n",
      "100%|██████████| 6/6 [00:03<00:00,  1.80it/s]"
     ]
    },
    {
     "name": "stdout",
     "output_type": "stream",
     "text": [
      "Epoch [299], Train Loss : [0.26206] Val Loss : [0.30393] Val F1 Score : [0.49910]\n"
     ]
    },
    {
     "name": "stderr",
     "output_type": "stream",
     "text": [
      "\n"
     ]
    }
   ],
   "source": [
    "#--------------------------------------------------------------------------------\n",
    "# Training Process\n",
    "#--------------------------------------------------------------------------------\n",
    "\n",
    "student_model = Student()\n",
    "# student_model.eval()\n",
    "optimizer = torch.optim.Adam(student_model.parameters(), lr=CONFIG['LEARNING_RATE'])\n",
    "scheduler = torch.optim.lr_scheduler.ReduceLROnPlateau(optimizer, mode='max', factor=0.5, patience=10, threshold_mode='abs',min_lr=1e-8, verbose=True)\n",
    "\n",
    "best_student_model = student_train(student_model, teacher_model, optimizer, train_loader, val_loader, scheduler, device)"
   ]
  },
  {
   "cell_type": "code",
   "execution_count": null,
   "id": "47405594",
   "metadata": {},
   "outputs": [],
   "source": [
    "def choose_threshold(model, val_loader, device):\n",
    "    model.to(device)\n",
    "    model.eval()\n",
    "    \n",
    "    thresholds = [0.1, 0.2, 0.25, 0.3, 0.35, 0.4, 0.45, 0.5]\n",
    "    pred_labels = []\n",
    "    true_labels = []\n",
    "    \n",
    "    best_score = 0\n",
    "    best_thr = None\n",
    "    with torch.no_grad():\n",
    "        for _, x_s, y in tqdm(iter(val_loader)):\n",
    "            \n",
    "            model_pred = model(x_s)\n",
    "            \n",
    "            model_pred = model_pred.squeeze(1).to('cpu')\n",
    "            pred_labels += model_pred.tolist()\n",
    "            true_labels += y.tolist()\n",
    "        \n",
    "        for threshold in thresholds:\n",
    "            pred_labels_thr = np.where(np.array(pred_labels) > threshold, 1, 0)\n",
    "            score_thr = competition_metric(true_labels, pred_labels_thr)\n",
    "            if best_score < score_thr:\n",
    "                best_score = score_thr\n",
    "                best_thr = threshold\n",
    "    return best_thr, best_score"
   ]
  },
  {
   "cell_type": "code",
   "execution_count": null,
   "id": "e120f8a9",
   "metadata": {},
   "outputs": [],
   "source": [
    "best_threshold, best_score = choose_threshold(best_student_model, val_loader, device)\n",
    "print(f'Best Threshold : [{best_threshold}], Score : [{best_score:.5f}]')"
   ]
  },
  {
   "cell_type": "code",
   "execution_count": null,
   "id": "37a36b12",
   "metadata": {},
   "outputs": [],
   "source": [
    "test_datasets = CustomDataset(test, None, False)\n",
    "test_loaders = DataLoader(test_datasets, batch_size = CFG['BATCH_SIZE'], shuffle=False)"
   ]
  },
  {
   "cell_type": "code",
   "execution_count": null,
   "id": "a775d786",
   "metadata": {},
   "outputs": [],
   "source": [
    "def inference(model, test_loader, threshold, device):\n",
    "    model.to(device)\n",
    "    model.eval()\n",
    "    \n",
    "    test_predict = []\n",
    "    with torch.no_grad():\n",
    "        for x in tqdm(test_loader):\n",
    "            x = x.float().to(device)\n",
    "            model_pred = model(x)\n",
    "\n",
    "            model_pred = model_pred.squeeze(1).to('cpu')\n",
    "            test_predict += model_pred\n",
    "        \n",
    "    test_predict = np.where(np.array(test_predict) > threshold, 1, 0)\n",
    "    print('Done.')\n",
    "    return test_predict"
   ]
  },
  {
   "cell_type": "code",
   "execution_count": null,
   "id": "a6b786a2",
   "metadata": {},
   "outputs": [],
   "source": [
    "preds = inference(best_student_model, test_loaders, best_threshold, device)"
   ]
  },
  {
   "cell_type": "code",
   "execution_count": null,
   "id": "ae565c67",
   "metadata": {},
   "outputs": [],
   "source": [
    "submit = pd.read_csv('./sample_submission.csv')\n",
    "submit['Y_LABEL'] = preds\n",
    "submit.head()"
   ]
  },
  {
   "cell_type": "code",
   "execution_count": null,
   "id": "e1f6a1df",
   "metadata": {},
   "outputs": [],
   "source": [
    "submit.to_csv('./submit.csv', index=False)"
   ]
  }
 ],
 "metadata": {
  "kernelspec": {
   "display_name": "Python 3",
   "language": "python",
   "name": "python3"
  },
  "language_info": {
   "codemirror_mode": {
    "name": "ipython",
    "version": 3
   },
   "file_extension": ".py",
   "mimetype": "text/x-python",
   "name": "python",
   "nbconvert_exporter": "python",
   "pygments_lexer": "ipython3",
   "version": "3.8.10"
  },
  "toc": {
   "base_numbering": 1,
   "nav_menu": {},
   "number_sections": false,
   "sideBar": true,
   "skip_h1_title": false,
   "title_cell": "Table of Contents",
   "title_sidebar": "Contents",
   "toc_cell": false,
   "toc_position": {},
   "toc_section_display": true,
   "toc_window_display": true
  }
 },
 "nbformat": 4,
 "nbformat_minor": 5
}
